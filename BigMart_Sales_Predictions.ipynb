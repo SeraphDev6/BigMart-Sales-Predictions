{
  "nbformat": 4,
  "nbformat_minor": 0,
  "metadata": {
    "colab": {
      "name": "BigMart Sales Predictions.ipynb",
      "provenance": [],
      "collapsed_sections": [],
      "mount_file_id": "13JhrGt9QQBEJp2uz4eT-TPPCYXxq1gfJ",
      "authorship_tag": "ABX9TyNmKmrgstQNnDnA5CtYnl7A",
      "include_colab_link": true
    },
    "kernelspec": {
      "name": "python3",
      "display_name": "Python 3"
    },
    "language_info": {
      "name": "python"
    }
  },
  "cells": [
    {
      "cell_type": "markdown",
      "metadata": {
        "id": "view-in-github",
        "colab_type": "text"
      },
      "source": [
        "<a href=\"https://colab.research.google.com/github/SeraphDev6/BigMart-Sales-Predictions/blob/main/BigMart_Sales_Predictions.ipynb\" target=\"_parent\"><img src=\"https://colab.research.google.com/assets/colab-badge.svg\" alt=\"Open In Colab\"/></a>"
      ]
    },
    {
      "cell_type": "markdown",
      "source": [
        "# BigMart Sales Predictions by Wesley Giles"
      ],
      "metadata": {
        "id": "uiylSm3uH50c"
      }
    },
    {
      "cell_type": "markdown",
      "source": [
        "## Import necessary modules and data"
      ],
      "metadata": {
        "id": "SGaWLrbgH-au"
      }
    },
    {
      "cell_type": "code",
      "execution_count": 1,
      "metadata": {
        "colab": {
          "base_uri": "https://localhost:8080/",
          "height": 206
        },
        "id": "MuNRU-rfzF9l",
        "outputId": "c460f5b8-89de-4360-9b54-ea0457f79a1d"
      },
      "outputs": [
        {
          "output_type": "execute_result",
          "data": {
            "text/plain": [
              "  Item_Identifier  Item_Weight Item_Fat_Content  Item_Visibility  \\\n",
              "0           FDA15         9.30          Low Fat         0.016047   \n",
              "1           DRC01         5.92          Regular         0.019278   \n",
              "2           FDN15        17.50          Low Fat         0.016760   \n",
              "3           FDX07        19.20          Regular         0.000000   \n",
              "4           NCD19         8.93          Low Fat         0.000000   \n",
              "\n",
              "               Item_Type  Item_MRP Outlet_Identifier  \\\n",
              "0                  Dairy  249.8092            OUT049   \n",
              "1            Soft Drinks   48.2692            OUT018   \n",
              "2                   Meat  141.6180            OUT049   \n",
              "3  Fruits and Vegetables  182.0950            OUT010   \n",
              "4              Household   53.8614            OUT013   \n",
              "\n",
              "   Outlet_Establishment_Year Outlet_Size Outlet_Location_Type  \\\n",
              "0                       1999      Medium               Tier 1   \n",
              "1                       2009      Medium               Tier 3   \n",
              "2                       1999      Medium               Tier 1   \n",
              "3                       1998         NaN               Tier 3   \n",
              "4                       1987        High               Tier 3   \n",
              "\n",
              "         Outlet_Type  Item_Outlet_Sales  \n",
              "0  Supermarket Type1          3735.1380  \n",
              "1  Supermarket Type2           443.4228  \n",
              "2  Supermarket Type1          2097.2700  \n",
              "3      Grocery Store           732.3800  \n",
              "4  Supermarket Type1           994.7052  "
            ],
            "text/html": [
              "\n",
              "  <div id=\"df-2c5790bf-0b8b-41bf-b293-ae4402bafa9f\">\n",
              "    <div class=\"colab-df-container\">\n",
              "      <div>\n",
              "<style scoped>\n",
              "    .dataframe tbody tr th:only-of-type {\n",
              "        vertical-align: middle;\n",
              "    }\n",
              "\n",
              "    .dataframe tbody tr th {\n",
              "        vertical-align: top;\n",
              "    }\n",
              "\n",
              "    .dataframe thead th {\n",
              "        text-align: right;\n",
              "    }\n",
              "</style>\n",
              "<table border=\"1\" class=\"dataframe\">\n",
              "  <thead>\n",
              "    <tr style=\"text-align: right;\">\n",
              "      <th></th>\n",
              "      <th>Item_Identifier</th>\n",
              "      <th>Item_Weight</th>\n",
              "      <th>Item_Fat_Content</th>\n",
              "      <th>Item_Visibility</th>\n",
              "      <th>Item_Type</th>\n",
              "      <th>Item_MRP</th>\n",
              "      <th>Outlet_Identifier</th>\n",
              "      <th>Outlet_Establishment_Year</th>\n",
              "      <th>Outlet_Size</th>\n",
              "      <th>Outlet_Location_Type</th>\n",
              "      <th>Outlet_Type</th>\n",
              "      <th>Item_Outlet_Sales</th>\n",
              "    </tr>\n",
              "  </thead>\n",
              "  <tbody>\n",
              "    <tr>\n",
              "      <th>0</th>\n",
              "      <td>FDA15</td>\n",
              "      <td>9.30</td>\n",
              "      <td>Low Fat</td>\n",
              "      <td>0.016047</td>\n",
              "      <td>Dairy</td>\n",
              "      <td>249.8092</td>\n",
              "      <td>OUT049</td>\n",
              "      <td>1999</td>\n",
              "      <td>Medium</td>\n",
              "      <td>Tier 1</td>\n",
              "      <td>Supermarket Type1</td>\n",
              "      <td>3735.1380</td>\n",
              "    </tr>\n",
              "    <tr>\n",
              "      <th>1</th>\n",
              "      <td>DRC01</td>\n",
              "      <td>5.92</td>\n",
              "      <td>Regular</td>\n",
              "      <td>0.019278</td>\n",
              "      <td>Soft Drinks</td>\n",
              "      <td>48.2692</td>\n",
              "      <td>OUT018</td>\n",
              "      <td>2009</td>\n",
              "      <td>Medium</td>\n",
              "      <td>Tier 3</td>\n",
              "      <td>Supermarket Type2</td>\n",
              "      <td>443.4228</td>\n",
              "    </tr>\n",
              "    <tr>\n",
              "      <th>2</th>\n",
              "      <td>FDN15</td>\n",
              "      <td>17.50</td>\n",
              "      <td>Low Fat</td>\n",
              "      <td>0.016760</td>\n",
              "      <td>Meat</td>\n",
              "      <td>141.6180</td>\n",
              "      <td>OUT049</td>\n",
              "      <td>1999</td>\n",
              "      <td>Medium</td>\n",
              "      <td>Tier 1</td>\n",
              "      <td>Supermarket Type1</td>\n",
              "      <td>2097.2700</td>\n",
              "    </tr>\n",
              "    <tr>\n",
              "      <th>3</th>\n",
              "      <td>FDX07</td>\n",
              "      <td>19.20</td>\n",
              "      <td>Regular</td>\n",
              "      <td>0.000000</td>\n",
              "      <td>Fruits and Vegetables</td>\n",
              "      <td>182.0950</td>\n",
              "      <td>OUT010</td>\n",
              "      <td>1998</td>\n",
              "      <td>NaN</td>\n",
              "      <td>Tier 3</td>\n",
              "      <td>Grocery Store</td>\n",
              "      <td>732.3800</td>\n",
              "    </tr>\n",
              "    <tr>\n",
              "      <th>4</th>\n",
              "      <td>NCD19</td>\n",
              "      <td>8.93</td>\n",
              "      <td>Low Fat</td>\n",
              "      <td>0.000000</td>\n",
              "      <td>Household</td>\n",
              "      <td>53.8614</td>\n",
              "      <td>OUT013</td>\n",
              "      <td>1987</td>\n",
              "      <td>High</td>\n",
              "      <td>Tier 3</td>\n",
              "      <td>Supermarket Type1</td>\n",
              "      <td>994.7052</td>\n",
              "    </tr>\n",
              "  </tbody>\n",
              "</table>\n",
              "</div>\n",
              "      <button class=\"colab-df-convert\" onclick=\"convertToInteractive('df-2c5790bf-0b8b-41bf-b293-ae4402bafa9f')\"\n",
              "              title=\"Convert this dataframe to an interactive table.\"\n",
              "              style=\"display:none;\">\n",
              "        \n",
              "  <svg xmlns=\"http://www.w3.org/2000/svg\" height=\"24px\"viewBox=\"0 0 24 24\"\n",
              "       width=\"24px\">\n",
              "    <path d=\"M0 0h24v24H0V0z\" fill=\"none\"/>\n",
              "    <path d=\"M18.56 5.44l.94 2.06.94-2.06 2.06-.94-2.06-.94-.94-2.06-.94 2.06-2.06.94zm-11 1L8.5 8.5l.94-2.06 2.06-.94-2.06-.94L8.5 2.5l-.94 2.06-2.06.94zm10 10l.94 2.06.94-2.06 2.06-.94-2.06-.94-.94-2.06-.94 2.06-2.06.94z\"/><path d=\"M17.41 7.96l-1.37-1.37c-.4-.4-.92-.59-1.43-.59-.52 0-1.04.2-1.43.59L10.3 9.45l-7.72 7.72c-.78.78-.78 2.05 0 2.83L4 21.41c.39.39.9.59 1.41.59.51 0 1.02-.2 1.41-.59l7.78-7.78 2.81-2.81c.8-.78.8-2.07 0-2.86zM5.41 20L4 18.59l7.72-7.72 1.47 1.35L5.41 20z\"/>\n",
              "  </svg>\n",
              "      </button>\n",
              "      \n",
              "  <style>\n",
              "    .colab-df-container {\n",
              "      display:flex;\n",
              "      flex-wrap:wrap;\n",
              "      gap: 12px;\n",
              "    }\n",
              "\n",
              "    .colab-df-convert {\n",
              "      background-color: #E8F0FE;\n",
              "      border: none;\n",
              "      border-radius: 50%;\n",
              "      cursor: pointer;\n",
              "      display: none;\n",
              "      fill: #1967D2;\n",
              "      height: 32px;\n",
              "      padding: 0 0 0 0;\n",
              "      width: 32px;\n",
              "    }\n",
              "\n",
              "    .colab-df-convert:hover {\n",
              "      background-color: #E2EBFA;\n",
              "      box-shadow: 0px 1px 2px rgba(60, 64, 67, 0.3), 0px 1px 3px 1px rgba(60, 64, 67, 0.15);\n",
              "      fill: #174EA6;\n",
              "    }\n",
              "\n",
              "    [theme=dark] .colab-df-convert {\n",
              "      background-color: #3B4455;\n",
              "      fill: #D2E3FC;\n",
              "    }\n",
              "\n",
              "    [theme=dark] .colab-df-convert:hover {\n",
              "      background-color: #434B5C;\n",
              "      box-shadow: 0px 1px 3px 1px rgba(0, 0, 0, 0.15);\n",
              "      filter: drop-shadow(0px 1px 2px rgba(0, 0, 0, 0.3));\n",
              "      fill: #FFFFFF;\n",
              "    }\n",
              "  </style>\n",
              "\n",
              "      <script>\n",
              "        const buttonEl =\n",
              "          document.querySelector('#df-2c5790bf-0b8b-41bf-b293-ae4402bafa9f button.colab-df-convert');\n",
              "        buttonEl.style.display =\n",
              "          google.colab.kernel.accessAllowed ? 'block' : 'none';\n",
              "\n",
              "        async function convertToInteractive(key) {\n",
              "          const element = document.querySelector('#df-2c5790bf-0b8b-41bf-b293-ae4402bafa9f');\n",
              "          const dataTable =\n",
              "            await google.colab.kernel.invokeFunction('convertToInteractive',\n",
              "                                                     [key], {});\n",
              "          if (!dataTable) return;\n",
              "\n",
              "          const docLinkHtml = 'Like what you see? Visit the ' +\n",
              "            '<a target=\"_blank\" href=https://colab.research.google.com/notebooks/data_table.ipynb>data table notebook</a>'\n",
              "            + ' to learn more about interactive tables.';\n",
              "          element.innerHTML = '';\n",
              "          dataTable['output_type'] = 'display_data';\n",
              "          await google.colab.output.renderOutput(dataTable, element);\n",
              "          const docLink = document.createElement('div');\n",
              "          docLink.innerHTML = docLinkHtml;\n",
              "          element.appendChild(docLink);\n",
              "        }\n",
              "      </script>\n",
              "    </div>\n",
              "  </div>\n",
              "  "
            ]
          },
          "metadata": {},
          "execution_count": 1
        }
      ],
      "source": [
        "import numpy as np\n",
        "import pandas as pd\n",
        "import matplotlib.pyplot as plt\n",
        "import seaborn as sns\n",
        "import plotly.express as px\n",
        "\n",
        "\n",
        "df = pd.read_csv(\"https://docs.google.com/spreadsheets/d/17_svn8lKuMPh4sl01a8Fca656yLRwbkYD2osTgmrvi8/export?format=csv\")\n",
        "df.head()"
      ]
    },
    {
      "cell_type": "markdown",
      "source": [
        "## Data Cleaning"
      ],
      "metadata": {
        "id": "1woZrldLJDJb"
      }
    },
    {
      "cell_type": "markdown",
      "source": [
        "### Understand the shape of the data"
      ],
      "metadata": {
        "id": "kBCCz5ZiJFWR"
      }
    },
    {
      "cell_type": "code",
      "source": [
        "df.info()"
      ],
      "metadata": {
        "colab": {
          "base_uri": "https://localhost:8080/"
        },
        "id": "Daw3rFkjJMe3",
        "outputId": "0b2c9364-3cb9-4219-9216-12edd9931a5c"
      },
      "execution_count": 2,
      "outputs": [
        {
          "output_type": "stream",
          "name": "stdout",
          "text": [
            "<class 'pandas.core.frame.DataFrame'>\n",
            "RangeIndex: 8523 entries, 0 to 8522\n",
            "Data columns (total 12 columns):\n",
            " #   Column                     Non-Null Count  Dtype  \n",
            "---  ------                     --------------  -----  \n",
            " 0   Item_Identifier            8523 non-null   object \n",
            " 1   Item_Weight                7060 non-null   float64\n",
            " 2   Item_Fat_Content           8523 non-null   object \n",
            " 3   Item_Visibility            8523 non-null   float64\n",
            " 4   Item_Type                  8523 non-null   object \n",
            " 5   Item_MRP                   8523 non-null   float64\n",
            " 6   Outlet_Identifier          8523 non-null   object \n",
            " 7   Outlet_Establishment_Year  8523 non-null   int64  \n",
            " 8   Outlet_Size                6113 non-null   object \n",
            " 9   Outlet_Location_Type       8523 non-null   object \n",
            " 10  Outlet_Type                8523 non-null   object \n",
            " 11  Item_Outlet_Sales          8523 non-null   float64\n",
            "dtypes: float64(4), int64(1), object(7)\n",
            "memory usage: 799.2+ KB\n"
          ]
        }
      ]
    },
    {
      "cell_type": "markdown",
      "source": [
        "### Deal with duplicated data (if any)"
      ],
      "metadata": {
        "id": "GL3kl3CyNKsG"
      }
    },
    {
      "cell_type": "code",
      "source": [
        "df.duplicated().sum()"
      ],
      "metadata": {
        "colab": {
          "base_uri": "https://localhost:8080/"
        },
        "id": "SpoeqQyzNTVt",
        "outputId": "c25cbe5f-323c-45d7-9b37-86c97550c694"
      },
      "execution_count": 3,
      "outputs": [
        {
          "output_type": "execute_result",
          "data": {
            "text/plain": [
              "0"
            ]
          },
          "metadata": {},
          "execution_count": 3
        }
      ]
    },
    {
      "cell_type": "markdown",
      "source": [
        "### Look for missing data"
      ],
      "metadata": {
        "id": "oiN_qeqpN5I7"
      }
    },
    {
      "cell_type": "code",
      "source": [
        "df.isna().sum()"
      ],
      "metadata": {
        "colab": {
          "base_uri": "https://localhost:8080/"
        },
        "id": "AVgvx_8ZOAgk",
        "outputId": "363530cd-9477-4ee9-a786-742104dc39eb"
      },
      "execution_count": 4,
      "outputs": [
        {
          "output_type": "execute_result",
          "data": {
            "text/plain": [
              "Item_Identifier                 0\n",
              "Item_Weight                  1463\n",
              "Item_Fat_Content                0\n",
              "Item_Visibility                 0\n",
              "Item_Type                       0\n",
              "Item_MRP                        0\n",
              "Outlet_Identifier               0\n",
              "Outlet_Establishment_Year       0\n",
              "Outlet_Size                  2410\n",
              "Outlet_Location_Type            0\n",
              "Outlet_Type                     0\n",
              "Item_Outlet_Sales               0\n",
              "dtype: int64"
            ]
          },
          "metadata": {},
          "execution_count": 4
        }
      ]
    },
    {
      "cell_type": "markdown",
      "source": [
        "#### Item weight seems to be miissing quite a few values, so lets try to intercate the values"
      ],
      "metadata": {
        "id": "E3thjuOeON2n"
      }
    },
    {
      "cell_type": "markdown",
      "source": [
        "##### Here we based the intercated values on the mean of the rest if the items that share a type with"
      ],
      "metadata": {
        "id": "NSQVyYJ6mGt4"
      }
    },
    {
      "cell_type": "code",
      "source": [
        "avg_weights_by_type = df.groupby(\"Item_Type\")[\"Item_Weight\"].mean()\n",
        "for item_type in df[\"Item_Type\"].unique():\n",
        "  df.loc[df[\"Item_Type\"] == item_type,[\"Item_Weight\"]] = \\\n",
        "  df.loc[df[\"Item_Type\"] == item_type,[\"Item_Weight\"]].fillna(avg_weights_by_type[item_type])\n",
        "df.isna().sum()"
      ],
      "metadata": {
        "colab": {
          "base_uri": "https://localhost:8080/"
        },
        "id": "QOQWxAGPOvCg",
        "outputId": "d1306131-f341-4730-d166-e203f5839e1d"
      },
      "execution_count": 5,
      "outputs": [
        {
          "output_type": "execute_result",
          "data": {
            "text/plain": [
              "Item_Identifier                 0\n",
              "Item_Weight                     0\n",
              "Item_Fat_Content                0\n",
              "Item_Visibility                 0\n",
              "Item_Type                       0\n",
              "Item_MRP                        0\n",
              "Outlet_Identifier               0\n",
              "Outlet_Establishment_Year       0\n",
              "Outlet_Size                  2410\n",
              "Outlet_Location_Type            0\n",
              "Outlet_Type                     0\n",
              "Item_Outlet_Sales               0\n",
              "dtype: int64"
            ]
          },
          "metadata": {},
          "execution_count": 5
        }
      ]
    },
    {
      "cell_type": "markdown",
      "source": [
        "#### Lets see what values Outlet_Size has"
      ],
      "metadata": {
        "id": "lB4E15fw2X6Z"
      }
    },
    {
      "cell_type": "code",
      "source": [
        "df[\"Outlet_Size\"].unique()"
      ],
      "metadata": {
        "colab": {
          "base_uri": "https://localhost:8080/"
        },
        "id": "9fMaxcKn2eqB",
        "outputId": "3b15dcb1-f312-4614-ac74-e864bcb37fb2"
      },
      "execution_count": 6,
      "outputs": [
        {
          "output_type": "execute_result",
          "data": {
            "text/plain": [
              "array(['Medium', nan, 'High', 'Small'], dtype=object)"
            ]
          },
          "metadata": {},
          "execution_count": 6
        }
      ]
    },
    {
      "cell_type": "markdown",
      "source": [
        "#### Attempting to crossmatch Outlet_Identifier to fill in Outlet Size"
      ],
      "metadata": {
        "id": "CwE0ONLoPI7Q"
      }
    },
    {
      "cell_type": "code",
      "source": [
        "df.groupby(\"Outlet_Identifier\")[[\"Outlet_Size\",\"Outlet_Location_Type\"]].count()"
      ],
      "metadata": {
        "colab": {
          "base_uri": "https://localhost:8080/",
          "height": 394
        },
        "id": "yVbfoxh9PXTP",
        "outputId": "1e803256-975e-4b75-ccf0-84a43b292916"
      },
      "execution_count": 7,
      "outputs": [
        {
          "output_type": "execute_result",
          "data": {
            "text/plain": [
              "                   Outlet_Size  Outlet_Location_Type\n",
              "Outlet_Identifier                                   \n",
              "OUT010                       0                   555\n",
              "OUT013                     932                   932\n",
              "OUT017                       0                   926\n",
              "OUT018                     928                   928\n",
              "OUT019                     528                   528\n",
              "OUT027                     935                   935\n",
              "OUT035                     930                   930\n",
              "OUT045                       0                   929\n",
              "OUT046                     930                   930\n",
              "OUT049                     930                   930"
            ],
            "text/html": [
              "\n",
              "  <div id=\"df-0c4cd7c7-9384-439d-bd38-31e88eb0af97\">\n",
              "    <div class=\"colab-df-container\">\n",
              "      <div>\n",
              "<style scoped>\n",
              "    .dataframe tbody tr th:only-of-type {\n",
              "        vertical-align: middle;\n",
              "    }\n",
              "\n",
              "    .dataframe tbody tr th {\n",
              "        vertical-align: top;\n",
              "    }\n",
              "\n",
              "    .dataframe thead th {\n",
              "        text-align: right;\n",
              "    }\n",
              "</style>\n",
              "<table border=\"1\" class=\"dataframe\">\n",
              "  <thead>\n",
              "    <tr style=\"text-align: right;\">\n",
              "      <th></th>\n",
              "      <th>Outlet_Size</th>\n",
              "      <th>Outlet_Location_Type</th>\n",
              "    </tr>\n",
              "    <tr>\n",
              "      <th>Outlet_Identifier</th>\n",
              "      <th></th>\n",
              "      <th></th>\n",
              "    </tr>\n",
              "  </thead>\n",
              "  <tbody>\n",
              "    <tr>\n",
              "      <th>OUT010</th>\n",
              "      <td>0</td>\n",
              "      <td>555</td>\n",
              "    </tr>\n",
              "    <tr>\n",
              "      <th>OUT013</th>\n",
              "      <td>932</td>\n",
              "      <td>932</td>\n",
              "    </tr>\n",
              "    <tr>\n",
              "      <th>OUT017</th>\n",
              "      <td>0</td>\n",
              "      <td>926</td>\n",
              "    </tr>\n",
              "    <tr>\n",
              "      <th>OUT018</th>\n",
              "      <td>928</td>\n",
              "      <td>928</td>\n",
              "    </tr>\n",
              "    <tr>\n",
              "      <th>OUT019</th>\n",
              "      <td>528</td>\n",
              "      <td>528</td>\n",
              "    </tr>\n",
              "    <tr>\n",
              "      <th>OUT027</th>\n",
              "      <td>935</td>\n",
              "      <td>935</td>\n",
              "    </tr>\n",
              "    <tr>\n",
              "      <th>OUT035</th>\n",
              "      <td>930</td>\n",
              "      <td>930</td>\n",
              "    </tr>\n",
              "    <tr>\n",
              "      <th>OUT045</th>\n",
              "      <td>0</td>\n",
              "      <td>929</td>\n",
              "    </tr>\n",
              "    <tr>\n",
              "      <th>OUT046</th>\n",
              "      <td>930</td>\n",
              "      <td>930</td>\n",
              "    </tr>\n",
              "    <tr>\n",
              "      <th>OUT049</th>\n",
              "      <td>930</td>\n",
              "      <td>930</td>\n",
              "    </tr>\n",
              "  </tbody>\n",
              "</table>\n",
              "</div>\n",
              "      <button class=\"colab-df-convert\" onclick=\"convertToInteractive('df-0c4cd7c7-9384-439d-bd38-31e88eb0af97')\"\n",
              "              title=\"Convert this dataframe to an interactive table.\"\n",
              "              style=\"display:none;\">\n",
              "        \n",
              "  <svg xmlns=\"http://www.w3.org/2000/svg\" height=\"24px\"viewBox=\"0 0 24 24\"\n",
              "       width=\"24px\">\n",
              "    <path d=\"M0 0h24v24H0V0z\" fill=\"none\"/>\n",
              "    <path d=\"M18.56 5.44l.94 2.06.94-2.06 2.06-.94-2.06-.94-.94-2.06-.94 2.06-2.06.94zm-11 1L8.5 8.5l.94-2.06 2.06-.94-2.06-.94L8.5 2.5l-.94 2.06-2.06.94zm10 10l.94 2.06.94-2.06 2.06-.94-2.06-.94-.94-2.06-.94 2.06-2.06.94z\"/><path d=\"M17.41 7.96l-1.37-1.37c-.4-.4-.92-.59-1.43-.59-.52 0-1.04.2-1.43.59L10.3 9.45l-7.72 7.72c-.78.78-.78 2.05 0 2.83L4 21.41c.39.39.9.59 1.41.59.51 0 1.02-.2 1.41-.59l7.78-7.78 2.81-2.81c.8-.78.8-2.07 0-2.86zM5.41 20L4 18.59l7.72-7.72 1.47 1.35L5.41 20z\"/>\n",
              "  </svg>\n",
              "      </button>\n",
              "      \n",
              "  <style>\n",
              "    .colab-df-container {\n",
              "      display:flex;\n",
              "      flex-wrap:wrap;\n",
              "      gap: 12px;\n",
              "    }\n",
              "\n",
              "    .colab-df-convert {\n",
              "      background-color: #E8F0FE;\n",
              "      border: none;\n",
              "      border-radius: 50%;\n",
              "      cursor: pointer;\n",
              "      display: none;\n",
              "      fill: #1967D2;\n",
              "      height: 32px;\n",
              "      padding: 0 0 0 0;\n",
              "      width: 32px;\n",
              "    }\n",
              "\n",
              "    .colab-df-convert:hover {\n",
              "      background-color: #E2EBFA;\n",
              "      box-shadow: 0px 1px 2px rgba(60, 64, 67, 0.3), 0px 1px 3px 1px rgba(60, 64, 67, 0.15);\n",
              "      fill: #174EA6;\n",
              "    }\n",
              "\n",
              "    [theme=dark] .colab-df-convert {\n",
              "      background-color: #3B4455;\n",
              "      fill: #D2E3FC;\n",
              "    }\n",
              "\n",
              "    [theme=dark] .colab-df-convert:hover {\n",
              "      background-color: #434B5C;\n",
              "      box-shadow: 0px 1px 3px 1px rgba(0, 0, 0, 0.15);\n",
              "      filter: drop-shadow(0px 1px 2px rgba(0, 0, 0, 0.3));\n",
              "      fill: #FFFFFF;\n",
              "    }\n",
              "  </style>\n",
              "\n",
              "      <script>\n",
              "        const buttonEl =\n",
              "          document.querySelector('#df-0c4cd7c7-9384-439d-bd38-31e88eb0af97 button.colab-df-convert');\n",
              "        buttonEl.style.display =\n",
              "          google.colab.kernel.accessAllowed ? 'block' : 'none';\n",
              "\n",
              "        async function convertToInteractive(key) {\n",
              "          const element = document.querySelector('#df-0c4cd7c7-9384-439d-bd38-31e88eb0af97');\n",
              "          const dataTable =\n",
              "            await google.colab.kernel.invokeFunction('convertToInteractive',\n",
              "                                                     [key], {});\n",
              "          if (!dataTable) return;\n",
              "\n",
              "          const docLinkHtml = 'Like what you see? Visit the ' +\n",
              "            '<a target=\"_blank\" href=https://colab.research.google.com/notebooks/data_table.ipynb>data table notebook</a>'\n",
              "            + ' to learn more about interactive tables.';\n",
              "          element.innerHTML = '';\n",
              "          dataTable['output_type'] = 'display_data';\n",
              "          await google.colab.output.renderOutput(dataTable, element);\n",
              "          const docLink = document.createElement('div');\n",
              "          docLink.innerHTML = docLinkHtml;\n",
              "          element.appendChild(docLink);\n",
              "        }\n",
              "      </script>\n",
              "    </div>\n",
              "  </div>\n",
              "  "
            ]
          },
          "metadata": {},
          "execution_count": 7
        }
      ]
    },
    {
      "cell_type": "markdown",
      "source": [
        "#### No such luck so we will put \"Unknown\" as the size, as the remaining data may hold some insight"
      ],
      "metadata": {
        "id": "Uci9N-x-VBIf"
      }
    },
    {
      "cell_type": "code",
      "source": [
        "df[\"Outlet_Size\"].fillna(\"Unknown\", inplace=True)\n",
        "df.isna().sum()"
      ],
      "metadata": {
        "colab": {
          "base_uri": "https://localhost:8080/"
        },
        "id": "XF3X6OhWVO80",
        "outputId": "6870255d-b32b-4004-bdd6-9b5af242099c"
      },
      "execution_count": 8,
      "outputs": [
        {
          "output_type": "execute_result",
          "data": {
            "text/plain": [
              "Item_Identifier              0\n",
              "Item_Weight                  0\n",
              "Item_Fat_Content             0\n",
              "Item_Visibility              0\n",
              "Item_Type                    0\n",
              "Item_MRP                     0\n",
              "Outlet_Identifier            0\n",
              "Outlet_Establishment_Year    0\n",
              "Outlet_Size                  0\n",
              "Outlet_Location_Type         0\n",
              "Outlet_Type                  0\n",
              "Item_Outlet_Sales            0\n",
              "dtype: int64"
            ]
          },
          "metadata": {},
          "execution_count": 8
        }
      ]
    },
    {
      "cell_type": "markdown",
      "source": [
        "#### \"High also doesn't quite fit the them so we will change it to \"Large\""
      ],
      "metadata": {
        "id": "q4voY6xZ2nlp"
      }
    },
    {
      "cell_type": "code",
      "source": [
        "df.loc[df[\"Outlet_Size\"]==\"High\",[\"Outlet_Size\"]] =\"Large\"\n",
        "df[\"Outlet_Size\"].unique()"
      ],
      "metadata": {
        "colab": {
          "base_uri": "https://localhost:8080/"
        },
        "id": "ZAbXPiqV2wvN",
        "outputId": "b28fc26c-8805-4f99-8660-5391f5ce07bb"
      },
      "execution_count": 9,
      "outputs": [
        {
          "output_type": "execute_result",
          "data": {
            "text/plain": [
              "array(['Medium', 'Unknown', 'Large', 'Small'], dtype=object)"
            ]
          },
          "metadata": {},
          "execution_count": 9
        }
      ]
    },
    {
      "cell_type": "markdown",
      "source": [
        "### Look for inconsistant data\n"
      ],
      "metadata": {
        "id": "vc3ka31JV031"
      }
    },
    {
      "cell_type": "code",
      "source": [
        "df.nunique()"
      ],
      "metadata": {
        "colab": {
          "base_uri": "https://localhost:8080/"
        },
        "id": "B1OEganCWJ8M",
        "outputId": "da5bf97c-ac49-47d3-bbc3-9fd1f0822791"
      },
      "execution_count": 10,
      "outputs": [
        {
          "output_type": "execute_result",
          "data": {
            "text/plain": [
              "Item_Identifier              1559\n",
              "Item_Weight                   431\n",
              "Item_Fat_Content                5\n",
              "Item_Visibility              7880\n",
              "Item_Type                      16\n",
              "Item_MRP                     5938\n",
              "Outlet_Identifier              10\n",
              "Outlet_Establishment_Year       9\n",
              "Outlet_Size                     4\n",
              "Outlet_Location_Type            3\n",
              "Outlet_Type                     4\n",
              "Item_Outlet_Sales            3493\n",
              "dtype: int64"
            ]
          },
          "metadata": {},
          "execution_count": 10
        }
      ]
    },
    {
      "cell_type": "markdown",
      "source": [
        "#### Item Fat Content looks a bit high so lets take a closer look"
      ],
      "metadata": {
        "id": "PHckEavZWqYd"
      }
    },
    {
      "cell_type": "code",
      "source": [
        "df[\"Item_Fat_Content\"].unique()"
      ],
      "metadata": {
        "colab": {
          "base_uri": "https://localhost:8080/"
        },
        "id": "gUr8LfP9Wf0W",
        "outputId": "127533b4-85fb-4def-8a08-94be22dc2ac4"
      },
      "execution_count": 11,
      "outputs": [
        {
          "output_type": "execute_result",
          "data": {
            "text/plain": [
              "array(['Low Fat', 'Regular', 'low fat', 'LF', 'reg'], dtype=object)"
            ]
          },
          "metadata": {},
          "execution_count": 11
        }
      ]
    },
    {
      "cell_type": "markdown",
      "source": [
        "#### Normalizing Item Fat Content"
      ],
      "metadata": {
        "id": "mhjMr19tWyO4"
      }
    },
    {
      "cell_type": "code",
      "source": [
        "df[\"Item_Fat_Content\"].replace([\"low fat\",\"LF\"],\"Low Fat\", inplace=True)\n",
        "df[\"Item_Fat_Content\"].replace(\"reg\",\"Regular\", inplace=True)\n",
        "df.nunique()"
      ],
      "metadata": {
        "colab": {
          "base_uri": "https://localhost:8080/"
        },
        "id": "3eaZUc9HXJhu",
        "outputId": "d75e1323-fb11-4fea-bd9e-9003c98810c1"
      },
      "execution_count": 12,
      "outputs": [
        {
          "output_type": "execute_result",
          "data": {
            "text/plain": [
              "Item_Identifier              1559\n",
              "Item_Weight                   431\n",
              "Item_Fat_Content                2\n",
              "Item_Visibility              7880\n",
              "Item_Type                      16\n",
              "Item_MRP                     5938\n",
              "Outlet_Identifier              10\n",
              "Outlet_Establishment_Year       9\n",
              "Outlet_Size                     4\n",
              "Outlet_Location_Type            3\n",
              "Outlet_Type                     4\n",
              "Item_Outlet_Sales            3493\n",
              "dtype: int64"
            ]
          },
          "metadata": {},
          "execution_count": 12
        }
      ]
    },
    {
      "cell_type": "markdown",
      "source": [
        "#### Checking Item Type just to be sure"
      ],
      "metadata": {
        "id": "uKdQduQ7X9Lw"
      }
    },
    {
      "cell_type": "code",
      "source": [
        "df[\"Item_Type\"].unique()"
      ],
      "metadata": {
        "colab": {
          "base_uri": "https://localhost:8080/"
        },
        "id": "vQkQnA5fYEj6",
        "outputId": "c79aadb9-85c0-4912-a1e0-3b53aa300ce9"
      },
      "execution_count": 13,
      "outputs": [
        {
          "output_type": "execute_result",
          "data": {
            "text/plain": [
              "array(['Dairy', 'Soft Drinks', 'Meat', 'Fruits and Vegetables',\n",
              "       'Household', 'Baking Goods', 'Snack Foods', 'Frozen Foods',\n",
              "       'Breakfast', 'Health and Hygiene', 'Hard Drinks', 'Canned',\n",
              "       'Breads', 'Starchy Foods', 'Others', 'Seafood'], dtype=object)"
            ]
          },
          "metadata": {},
          "execution_count": 13
        }
      ]
    },
    {
      "cell_type": "markdown",
      "source": [
        "### Finally checking numerical data for outliers"
      ],
      "metadata": {
        "id": "eJlDBtUqZfqB"
      }
    },
    {
      "cell_type": "code",
      "source": [
        "df.describe()"
      ],
      "metadata": {
        "colab": {
          "base_uri": "https://localhost:8080/",
          "height": 300
        },
        "id": "ejM57pDrZokh",
        "outputId": "72c8880e-f1fa-443f-bc26-77e67771f858"
      },
      "execution_count": 14,
      "outputs": [
        {
          "output_type": "execute_result",
          "data": {
            "text/plain": [
              "       Item_Weight  Item_Visibility     Item_MRP  Outlet_Establishment_Year  \\\n",
              "count  8523.000000      8523.000000  8523.000000                8523.000000   \n",
              "mean     12.857890         0.066132   140.992782                1997.831867   \n",
              "std       4.232804         0.051598    62.275067                   8.371760   \n",
              "min       4.555000         0.000000    31.290000                1985.000000   \n",
              "25%       9.310000         0.026989    93.826500                1987.000000   \n",
              "50%      12.867061         0.053931   143.012800                1999.000000   \n",
              "75%      16.000000         0.094585   185.643700                2004.000000   \n",
              "max      21.350000         0.328391   266.888400                2009.000000   \n",
              "\n",
              "       Item_Outlet_Sales  \n",
              "count        8523.000000  \n",
              "mean         2181.288914  \n",
              "std          1706.499616  \n",
              "min            33.290000  \n",
              "25%           834.247400  \n",
              "50%          1794.331000  \n",
              "75%          3101.296400  \n",
              "max         13086.964800  "
            ],
            "text/html": [
              "\n",
              "  <div id=\"df-c40fd2a3-eb93-4af4-a19a-39c7f4670bc9\">\n",
              "    <div class=\"colab-df-container\">\n",
              "      <div>\n",
              "<style scoped>\n",
              "    .dataframe tbody tr th:only-of-type {\n",
              "        vertical-align: middle;\n",
              "    }\n",
              "\n",
              "    .dataframe tbody tr th {\n",
              "        vertical-align: top;\n",
              "    }\n",
              "\n",
              "    .dataframe thead th {\n",
              "        text-align: right;\n",
              "    }\n",
              "</style>\n",
              "<table border=\"1\" class=\"dataframe\">\n",
              "  <thead>\n",
              "    <tr style=\"text-align: right;\">\n",
              "      <th></th>\n",
              "      <th>Item_Weight</th>\n",
              "      <th>Item_Visibility</th>\n",
              "      <th>Item_MRP</th>\n",
              "      <th>Outlet_Establishment_Year</th>\n",
              "      <th>Item_Outlet_Sales</th>\n",
              "    </tr>\n",
              "  </thead>\n",
              "  <tbody>\n",
              "    <tr>\n",
              "      <th>count</th>\n",
              "      <td>8523.000000</td>\n",
              "      <td>8523.000000</td>\n",
              "      <td>8523.000000</td>\n",
              "      <td>8523.000000</td>\n",
              "      <td>8523.000000</td>\n",
              "    </tr>\n",
              "    <tr>\n",
              "      <th>mean</th>\n",
              "      <td>12.857890</td>\n",
              "      <td>0.066132</td>\n",
              "      <td>140.992782</td>\n",
              "      <td>1997.831867</td>\n",
              "      <td>2181.288914</td>\n",
              "    </tr>\n",
              "    <tr>\n",
              "      <th>std</th>\n",
              "      <td>4.232804</td>\n",
              "      <td>0.051598</td>\n",
              "      <td>62.275067</td>\n",
              "      <td>8.371760</td>\n",
              "      <td>1706.499616</td>\n",
              "    </tr>\n",
              "    <tr>\n",
              "      <th>min</th>\n",
              "      <td>4.555000</td>\n",
              "      <td>0.000000</td>\n",
              "      <td>31.290000</td>\n",
              "      <td>1985.000000</td>\n",
              "      <td>33.290000</td>\n",
              "    </tr>\n",
              "    <tr>\n",
              "      <th>25%</th>\n",
              "      <td>9.310000</td>\n",
              "      <td>0.026989</td>\n",
              "      <td>93.826500</td>\n",
              "      <td>1987.000000</td>\n",
              "      <td>834.247400</td>\n",
              "    </tr>\n",
              "    <tr>\n",
              "      <th>50%</th>\n",
              "      <td>12.867061</td>\n",
              "      <td>0.053931</td>\n",
              "      <td>143.012800</td>\n",
              "      <td>1999.000000</td>\n",
              "      <td>1794.331000</td>\n",
              "    </tr>\n",
              "    <tr>\n",
              "      <th>75%</th>\n",
              "      <td>16.000000</td>\n",
              "      <td>0.094585</td>\n",
              "      <td>185.643700</td>\n",
              "      <td>2004.000000</td>\n",
              "      <td>3101.296400</td>\n",
              "    </tr>\n",
              "    <tr>\n",
              "      <th>max</th>\n",
              "      <td>21.350000</td>\n",
              "      <td>0.328391</td>\n",
              "      <td>266.888400</td>\n",
              "      <td>2009.000000</td>\n",
              "      <td>13086.964800</td>\n",
              "    </tr>\n",
              "  </tbody>\n",
              "</table>\n",
              "</div>\n",
              "      <button class=\"colab-df-convert\" onclick=\"convertToInteractive('df-c40fd2a3-eb93-4af4-a19a-39c7f4670bc9')\"\n",
              "              title=\"Convert this dataframe to an interactive table.\"\n",
              "              style=\"display:none;\">\n",
              "        \n",
              "  <svg xmlns=\"http://www.w3.org/2000/svg\" height=\"24px\"viewBox=\"0 0 24 24\"\n",
              "       width=\"24px\">\n",
              "    <path d=\"M0 0h24v24H0V0z\" fill=\"none\"/>\n",
              "    <path d=\"M18.56 5.44l.94 2.06.94-2.06 2.06-.94-2.06-.94-.94-2.06-.94 2.06-2.06.94zm-11 1L8.5 8.5l.94-2.06 2.06-.94-2.06-.94L8.5 2.5l-.94 2.06-2.06.94zm10 10l.94 2.06.94-2.06 2.06-.94-2.06-.94-.94-2.06-.94 2.06-2.06.94z\"/><path d=\"M17.41 7.96l-1.37-1.37c-.4-.4-.92-.59-1.43-.59-.52 0-1.04.2-1.43.59L10.3 9.45l-7.72 7.72c-.78.78-.78 2.05 0 2.83L4 21.41c.39.39.9.59 1.41.59.51 0 1.02-.2 1.41-.59l7.78-7.78 2.81-2.81c.8-.78.8-2.07 0-2.86zM5.41 20L4 18.59l7.72-7.72 1.47 1.35L5.41 20z\"/>\n",
              "  </svg>\n",
              "      </button>\n",
              "      \n",
              "  <style>\n",
              "    .colab-df-container {\n",
              "      display:flex;\n",
              "      flex-wrap:wrap;\n",
              "      gap: 12px;\n",
              "    }\n",
              "\n",
              "    .colab-df-convert {\n",
              "      background-color: #E8F0FE;\n",
              "      border: none;\n",
              "      border-radius: 50%;\n",
              "      cursor: pointer;\n",
              "      display: none;\n",
              "      fill: #1967D2;\n",
              "      height: 32px;\n",
              "      padding: 0 0 0 0;\n",
              "      width: 32px;\n",
              "    }\n",
              "\n",
              "    .colab-df-convert:hover {\n",
              "      background-color: #E2EBFA;\n",
              "      box-shadow: 0px 1px 2px rgba(60, 64, 67, 0.3), 0px 1px 3px 1px rgba(60, 64, 67, 0.15);\n",
              "      fill: #174EA6;\n",
              "    }\n",
              "\n",
              "    [theme=dark] .colab-df-convert {\n",
              "      background-color: #3B4455;\n",
              "      fill: #D2E3FC;\n",
              "    }\n",
              "\n",
              "    [theme=dark] .colab-df-convert:hover {\n",
              "      background-color: #434B5C;\n",
              "      box-shadow: 0px 1px 3px 1px rgba(0, 0, 0, 0.15);\n",
              "      filter: drop-shadow(0px 1px 2px rgba(0, 0, 0, 0.3));\n",
              "      fill: #FFFFFF;\n",
              "    }\n",
              "  </style>\n",
              "\n",
              "      <script>\n",
              "        const buttonEl =\n",
              "          document.querySelector('#df-c40fd2a3-eb93-4af4-a19a-39c7f4670bc9 button.colab-df-convert');\n",
              "        buttonEl.style.display =\n",
              "          google.colab.kernel.accessAllowed ? 'block' : 'none';\n",
              "\n",
              "        async function convertToInteractive(key) {\n",
              "          const element = document.querySelector('#df-c40fd2a3-eb93-4af4-a19a-39c7f4670bc9');\n",
              "          const dataTable =\n",
              "            await google.colab.kernel.invokeFunction('convertToInteractive',\n",
              "                                                     [key], {});\n",
              "          if (!dataTable) return;\n",
              "\n",
              "          const docLinkHtml = 'Like what you see? Visit the ' +\n",
              "            '<a target=\"_blank\" href=https://colab.research.google.com/notebooks/data_table.ipynb>data table notebook</a>'\n",
              "            + ' to learn more about interactive tables.';\n",
              "          element.innerHTML = '';\n",
              "          dataTable['output_type'] = 'display_data';\n",
              "          await google.colab.output.renderOutput(dataTable, element);\n",
              "          const docLink = document.createElement('div');\n",
              "          docLink.innerHTML = docLinkHtml;\n",
              "          element.appendChild(docLink);\n",
              "        }\n",
              "      </script>\n",
              "    </div>\n",
              "  </div>\n",
              "  "
            ]
          },
          "metadata": {},
          "execution_count": 14
        }
      ]
    },
    {
      "cell_type": "markdown",
      "source": [
        "### There is a massive difference between Item_Outlet_Sales 75% mark and the max, likely indicating a lot of outliers. Lets check this out using a boxplot."
      ],
      "metadata": {
        "id": "kQhadn0odO0W"
      }
    },
    {
      "cell_type": "code",
      "source": [
        "fig, ax = plt.subplots()\n",
        "ax.boxplot([df[\"Item_Outlet_Sales\"]],labels = [\"Item Sales\"],\n",
        "           notch=True,\n",
        "           patch_artist=True)\n",
        "plt.show()"
      ],
      "metadata": {
        "colab": {
          "base_uri": "https://localhost:8080/",
          "height": 265
        },
        "id": "m_WEYsmgZeEv",
        "outputId": "15958928-856a-4738-eba0-8e4ff615ca35"
      },
      "execution_count": 15,
      "outputs": [
        {
          "output_type": "display_data",
          "data": {
            "text/plain": [
              "<Figure size 432x288 with 1 Axes>"
            ],
            "image/png": "[encoded data removed]"
          },
          "metadata": {
            "needs_background": "light"
          }
        }
      ]
    },
    {
      "cell_type": "markdown",
      "source": [
        "### Yea, this definitley looks odd, lets get a count of the number of outliers."
      ],
      "metadata": {
        "id": "GPnxi-7Va663"
      }
    },
    {
      "cell_type": "code",
      "source": [
        "sales = df['Item_Outlet_Sales']\n",
        "q1 = sales.quantile(0.25)\n",
        "q3 = sales.quantile(0.75)\n",
        "iqr = q3 - q1\n",
        "\n",
        "outliers = df[sales > q3 + iqr * 1.5]\n",
        "outliers"
      ],
      "metadata": {
        "colab": {
          "base_uri": "https://localhost:8080/",
          "height": 423
        },
        "id": "QY0Ch3HIeA_V",
        "outputId": "2faa60f5-2d02-4f13-8efb-e781c232ed48"
      },
      "execution_count": 16,
      "outputs": [
        {
          "output_type": "execute_result",
          "data": {
            "text/plain": [
              "     Item_Identifier  Item_Weight Item_Fat_Content  Item_Visibility  \\\n",
              "43             FDC02    21.350000          Low Fat         0.069103   \n",
              "130            FDY25    12.305705          Low Fat         0.033810   \n",
              "132            NCR53    13.142314          Low Fat         0.144338   \n",
              "145            FDP16    18.600000          Low Fat         0.039356   \n",
              "203            FDI24    12.277108          Low Fat         0.078362   \n",
              "...              ...          ...              ...              ...   \n",
              "8245           FDU55    16.200000          Low Fat         0.035967   \n",
              "8329           NCQ06    13.384736          Low Fat         0.041622   \n",
              "8350           NCE18    10.000000          Low Fat         0.021421   \n",
              "8447           FDS26    20.350000          Low Fat         0.089975   \n",
              "8510           FDN58    13.800000          Regular         0.056862   \n",
              "\n",
              "                  Item_Type  Item_MRP Outlet_Identifier  \\\n",
              "43                   Canned  259.9278            OUT018   \n",
              "130                  Canned  180.5976            OUT027   \n",
              "132      Health and Hygiene  224.4404            OUT027   \n",
              "145            Frozen Foods  246.3802            OUT049   \n",
              "203            Baking Goods  177.9370            OUT027   \n",
              "...                     ...       ...               ...   \n",
              "8245  Fruits and Vegetables  260.3278            OUT049   \n",
              "8329              Household  253.6014            OUT027   \n",
              "8350              Household  248.3750            OUT035   \n",
              "8447                  Dairy  261.6594            OUT017   \n",
              "8510            Snack Foods  231.5984            OUT035   \n",
              "\n",
              "      Outlet_Establishment_Year Outlet_Size Outlet_Location_Type  \\\n",
              "43                         2009      Medium               Tier 3   \n",
              "130                        1985      Medium               Tier 3   \n",
              "132                        1985      Medium               Tier 3   \n",
              "145                        1999      Medium               Tier 1   \n",
              "203                        1985      Medium               Tier 3   \n",
              "...                         ...         ...                  ...   \n",
              "8245                       1999      Medium               Tier 1   \n",
              "8329                       1985      Medium               Tier 3   \n",
              "8350                       2004       Small               Tier 2   \n",
              "8447                       2007     Unknown               Tier 2   \n",
              "8510                       2004       Small               Tier 2   \n",
              "\n",
              "            Outlet_Type  Item_Outlet_Sales  \n",
              "43    Supermarket Type2          6768.5228  \n",
              "130   Supermarket Type3          7968.2944  \n",
              "132   Supermarket Type3          6976.2524  \n",
              "145   Supermarket Type1          7370.4060  \n",
              "203   Supermarket Type3          6704.6060  \n",
              "...                 ...                ...  \n",
              "8245  Supermarket Type1          7549.5062  \n",
              "8329  Supermarket Type3          6630.0364  \n",
              "8350  Supermarket Type1          7240.5750  \n",
              "8447  Supermarket Type1          7588.1226  \n",
              "8510  Supermarket Type1          7182.6504  \n",
              "\n",
              "[186 rows x 12 columns]"
            ],
            "text/html": [
              "\n",
              "  <div id=\"df-e79905e4-8c7c-4627-8bf9-fb82c384ae10\">\n",
              "    <div class=\"colab-df-container\">\n",
              "      <div>\n",
              "<style scoped>\n",
              "    .dataframe tbody tr th:only-of-type {\n",
              "        vertical-align: middle;\n",
              "    }\n",
              "\n",
              "    .dataframe tbody tr th {\n",
              "        vertical-align: top;\n",
              "    }\n",
              "\n",
              "    .dataframe thead th {\n",
              "        text-align: right;\n",
              "    }\n",
              "</style>\n",
              "<table border=\"1\" class=\"dataframe\">\n",
              "  <thead>\n",
              "    <tr style=\"text-align: right;\">\n",
              "      <th></th>\n",
              "      <th>Item_Identifier</th>\n",
              "      <th>Item_Weight</th>\n",
              "      <th>Item_Fat_Content</th>\n",
              "      <th>Item_Visibility</th>\n",
              "      <th>Item_Type</th>\n",
              "      <th>Item_MRP</th>\n",
              "      <th>Outlet_Identifier</th>\n",
              "      <th>Outlet_Establishment_Year</th>\n",
              "      <th>Outlet_Size</th>\n",
              "      <th>Outlet_Location_Type</th>\n",
              "      <th>Outlet_Type</th>\n",
              "      <th>Item_Outlet_Sales</th>\n",
              "    </tr>\n",
              "  </thead>\n",
              "  <tbody>\n",
              "    <tr>\n",
              "      <th>43</th>\n",
              "      <td>FDC02</td>\n",
              "      <td>21.350000</td>\n",
              "      <td>Low Fat</td>\n",
              "      <td>0.069103</td>\n",
              "      <td>Canned</td>\n",
              "      <td>259.9278</td>\n",
              "      <td>OUT018</td>\n",
              "      <td>2009</td>\n",
              "      <td>Medium</td>\n",
              "      <td>Tier 3</td>\n",
              "      <td>Supermarket Type2</td>\n",
              "      <td>6768.5228</td>\n",
              "    </tr>\n",
              "    <tr>\n",
              "      <th>130</th>\n",
              "      <td>FDY25</td>\n",
              "      <td>12.305705</td>\n",
              "      <td>Low Fat</td>\n",
              "      <td>0.033810</td>\n",
              "      <td>Canned</td>\n",
              "      <td>180.5976</td>\n",
              "      <td>OUT027</td>\n",
              "      <td>1985</td>\n",
              "      <td>Medium</td>\n",
              "      <td>Tier 3</td>\n",
              "      <td>Supermarket Type3</td>\n",
              "      <td>7968.2944</td>\n",
              "    </tr>\n",
              "    <tr>\n",
              "      <th>132</th>\n",
              "      <td>NCR53</td>\n",
              "      <td>13.142314</td>\n",
              "      <td>Low Fat</td>\n",
              "      <td>0.144338</td>\n",
              "      <td>Health and Hygiene</td>\n",
              "      <td>224.4404</td>\n",
              "      <td>OUT027</td>\n",
              "      <td>1985</td>\n",
              "      <td>Medium</td>\n",
              "      <td>Tier 3</td>\n",
              "      <td>Supermarket Type3</td>\n",
              "      <td>6976.2524</td>\n",
              "    </tr>\n",
              "    <tr>\n",
              "      <th>145</th>\n",
              "      <td>FDP16</td>\n",
              "      <td>18.600000</td>\n",
              "      <td>Low Fat</td>\n",
              "      <td>0.039356</td>\n",
              "      <td>Frozen Foods</td>\n",
              "      <td>246.3802</td>\n",
              "      <td>OUT049</td>\n",
              "      <td>1999</td>\n",
              "      <td>Medium</td>\n",
              "      <td>Tier 1</td>\n",
              "      <td>Supermarket Type1</td>\n",
              "      <td>7370.4060</td>\n",
              "    </tr>\n",
              "    <tr>\n",
              "      <th>203</th>\n",
              "      <td>FDI24</td>\n",
              "      <td>12.277108</td>\n",
              "      <td>Low Fat</td>\n",
              "      <td>0.078362</td>\n",
              "      <td>Baking Goods</td>\n",
              "      <td>177.9370</td>\n",
              "      <td>OUT027</td>\n",
              "      <td>1985</td>\n",
              "      <td>Medium</td>\n",
              "      <td>Tier 3</td>\n",
              "      <td>Supermarket Type3</td>\n",
              "      <td>6704.6060</td>\n",
              "    </tr>\n",
              "    <tr>\n",
              "      <th>...</th>\n",
              "      <td>...</td>\n",
              "      <td>...</td>\n",
              "      <td>...</td>\n",
              "      <td>...</td>\n",
              "      <td>...</td>\n",
              "      <td>...</td>\n",
              "      <td>...</td>\n",
              "      <td>...</td>\n",
              "      <td>...</td>\n",
              "      <td>...</td>\n",
              "      <td>...</td>\n",
              "      <td>...</td>\n",
              "    </tr>\n",
              "    <tr>\n",
              "      <th>8245</th>\n",
              "      <td>FDU55</td>\n",
              "      <td>16.200000</td>\n",
              "      <td>Low Fat</td>\n",
              "      <td>0.035967</td>\n",
              "      <td>Fruits and Vegetables</td>\n",
              "      <td>260.3278</td>\n",
              "      <td>OUT049</td>\n",
              "      <td>1999</td>\n",
              "      <td>Medium</td>\n",
              "      <td>Tier 1</td>\n",
              "      <td>Supermarket Type1</td>\n",
              "      <td>7549.5062</td>\n",
              "    </tr>\n",
              "    <tr>\n",
              "      <th>8329</th>\n",
              "      <td>NCQ06</td>\n",
              "      <td>13.384736</td>\n",
              "      <td>Low Fat</td>\n",
              "      <td>0.041622</td>\n",
              "      <td>Household</td>\n",
              "      <td>253.6014</td>\n",
              "      <td>OUT027</td>\n",
              "      <td>1985</td>\n",
              "      <td>Medium</td>\n",
              "      <td>Tier 3</td>\n",
              "      <td>Supermarket Type3</td>\n",
              "      <td>6630.0364</td>\n",
              "    </tr>\n",
              "    <tr>\n",
              "      <th>8350</th>\n",
              "      <td>NCE18</td>\n",
              "      <td>10.000000</td>\n",
              "      <td>Low Fat</td>\n",
              "      <td>0.021421</td>\n",
              "      <td>Household</td>\n",
              "      <td>248.3750</td>\n",
              "      <td>OUT035</td>\n",
              "      <td>2004</td>\n",
              "      <td>Small</td>\n",
              "      <td>Tier 2</td>\n",
              "      <td>Supermarket Type1</td>\n",
              "      <td>7240.5750</td>\n",
              "    </tr>\n",
              "    <tr>\n",
              "      <th>8447</th>\n",
              "      <td>FDS26</td>\n",
              "      <td>20.350000</td>\n",
              "      <td>Low Fat</td>\n",
              "      <td>0.089975</td>\n",
              "      <td>Dairy</td>\n",
              "      <td>261.6594</td>\n",
              "      <td>OUT017</td>\n",
              "      <td>2007</td>\n",
              "      <td>Unknown</td>\n",
              "      <td>Tier 2</td>\n",
              "      <td>Supermarket Type1</td>\n",
              "      <td>7588.1226</td>\n",
              "    </tr>\n",
              "    <tr>\n",
              "      <th>8510</th>\n",
              "      <td>FDN58</td>\n",
              "      <td>13.800000</td>\n",
              "      <td>Regular</td>\n",
              "      <td>0.056862</td>\n",
              "      <td>Snack Foods</td>\n",
              "      <td>231.5984</td>\n",
              "      <td>OUT035</td>\n",
              "      <td>2004</td>\n",
              "      <td>Small</td>\n",
              "      <td>Tier 2</td>\n",
              "      <td>Supermarket Type1</td>\n",
              "      <td>7182.6504</td>\n",
              "    </tr>\n",
              "  </tbody>\n",
              "</table>\n",
              "<p>186 rows × 12 columns</p>\n",
              "</div>\n",
              "      <button class=\"colab-df-convert\" onclick=\"convertToInteractive('df-e79905e4-8c7c-4627-8bf9-fb82c384ae10')\"\n",
              "              title=\"Convert this dataframe to an interactive table.\"\n",
              "              style=\"display:none;\">\n",
              "        \n",
              "  <svg xmlns=\"http://www.w3.org/2000/svg\" height=\"24px\"viewBox=\"0 0 24 24\"\n",
              "       width=\"24px\">\n",
              "    <path d=\"M0 0h24v24H0V0z\" fill=\"none\"/>\n",
              "    <path d=\"M18.56 5.44l.94 2.06.94-2.06 2.06-.94-2.06-.94-.94-2.06-.94 2.06-2.06.94zm-11 1L8.5 8.5l.94-2.06 2.06-.94-2.06-.94L8.5 2.5l-.94 2.06-2.06.94zm10 10l.94 2.06.94-2.06 2.06-.94-2.06-.94-.94-2.06-.94 2.06-2.06.94z\"/><path d=\"M17.41 7.96l-1.37-1.37c-.4-.4-.92-.59-1.43-.59-.52 0-1.04.2-1.43.59L10.3 9.45l-7.72 7.72c-.78.78-.78 2.05 0 2.83L4 21.41c.39.39.9.59 1.41.59.51 0 1.02-.2 1.41-.59l7.78-7.78 2.81-2.81c.8-.78.8-2.07 0-2.86zM5.41 20L4 18.59l7.72-7.72 1.47 1.35L5.41 20z\"/>\n",
              "  </svg>\n",
              "      </button>\n",
              "      \n",
              "  <style>\n",
              "    .colab-df-container {\n",
              "      display:flex;\n",
              "      flex-wrap:wrap;\n",
              "      gap: 12px;\n",
              "    }\n",
              "\n",
              "    .colab-df-convert {\n",
              "      background-color: #E8F0FE;\n",
              "      border: none;\n",
              "      border-radius: 50%;\n",
              "      cursor: pointer;\n",
              "      display: none;\n",
              "      fill: #1967D2;\n",
              "      height: 32px;\n",
              "      padding: 0 0 0 0;\n",
              "      width: 32px;\n",
              "    }\n",
              "\n",
              "    .colab-df-convert:hover {\n",
              "      background-color: #E2EBFA;\n",
              "      box-shadow: 0px 1px 2px rgba(60, 64, 67, 0.3), 0px 1px 3px 1px rgba(60, 64, 67, 0.15);\n",
              "      fill: #174EA6;\n",
              "    }\n",
              "\n",
              "    [theme=dark] .colab-df-convert {\n",
              "      background-color: #3B4455;\n",
              "      fill: #D2E3FC;\n",
              "    }\n",
              "\n",
              "    [theme=dark] .colab-df-convert:hover {\n",
              "      background-color: #434B5C;\n",
              "      box-shadow: 0px 1px 3px 1px rgba(0, 0, 0, 0.15);\n",
              "      filter: drop-shadow(0px 1px 2px rgba(0, 0, 0, 0.3));\n",
              "      fill: #FFFFFF;\n",
              "    }\n",
              "  </style>\n",
              "\n",
              "      <script>\n",
              "        const buttonEl =\n",
              "          document.querySelector('#df-e79905e4-8c7c-4627-8bf9-fb82c384ae10 button.colab-df-convert');\n",
              "        buttonEl.style.display =\n",
              "          google.colab.kernel.accessAllowed ? 'block' : 'none';\n",
              "\n",
              "        async function convertToInteractive(key) {\n",
              "          const element = document.querySelector('#df-e79905e4-8c7c-4627-8bf9-fb82c384ae10');\n",
              "          const dataTable =\n",
              "            await google.colab.kernel.invokeFunction('convertToInteractive',\n",
              "                                                     [key], {});\n",
              "          if (!dataTable) return;\n",
              "\n",
              "          const docLinkHtml = 'Like what you see? Visit the ' +\n",
              "            '<a target=\"_blank\" href=https://colab.research.google.com/notebooks/data_table.ipynb>data table notebook</a>'\n",
              "            + ' to learn more about interactive tables.';\n",
              "          element.innerHTML = '';\n",
              "          dataTable['output_type'] = 'display_data';\n",
              "          await google.colab.output.renderOutput(dataTable, element);\n",
              "          const docLink = document.createElement('div');\n",
              "          docLink.innerHTML = docLinkHtml;\n",
              "          element.appendChild(docLink);\n",
              "        }\n",
              "      </script>\n",
              "    </div>\n",
              "  </div>\n",
              "  "
            ]
          },
          "metadata": {},
          "execution_count": 16
        }
      ]
    },
    {
      "cell_type": "markdown",
      "source": [
        "### 186 outliers. Lets drop this data for now"
      ],
      "metadata": {
        "id": "Rwqnz_18fsRy"
      }
    },
    {
      "cell_type": "code",
      "source": [
        "df.drop(outliers.index,axis=0 ,inplace=True)\n",
        "df.describe()"
      ],
      "metadata": {
        "colab": {
          "base_uri": "https://localhost:8080/",
          "height": 300
        },
        "id": "aFh2N55Lf5f4",
        "outputId": "e11c8c3d-d077-49cb-e919-398dc3074e7d"
      },
      "execution_count": 17,
      "outputs": [
        {
          "output_type": "execute_result",
          "data": {
            "text/plain": [
              "       Item_Weight  Item_Visibility     Item_MRP  Outlet_Establishment_Year  \\\n",
              "count  8337.000000      8337.000000  8337.000000                8337.000000   \n",
              "mean     12.856296         0.066358   139.161087                1997.968094   \n",
              "std       4.256788         0.051838    61.553351                   8.309941   \n",
              "min       4.555000         0.000000    31.290000                1985.000000   \n",
              "25%       9.300000         0.027028    93.046200                1987.000000   \n",
              "50%      12.867061         0.053939   141.215400                1999.000000   \n",
              "75%      16.100000         0.095299   183.695000                2004.000000   \n",
              "max      21.350000         0.328391   266.888400                2009.000000   \n",
              "\n",
              "       Item_Outlet_Sales  \n",
              "count        8337.000000  \n",
              "mean         2059.362844  \n",
              "std          1506.099754  \n",
              "min            33.290000  \n",
              "25%           810.944400  \n",
              "50%          1747.059200  \n",
              "75%          2998.097400  \n",
              "max          6478.234000  "
            ],
            "text/html": [
              "\n",
              "  <div id=\"df-f3067b18-51b5-41de-bfa6-8d642c96167d\">\n",
              "    <div class=\"colab-df-container\">\n",
              "      <div>\n",
              "<style scoped>\n",
              "    .dataframe tbody tr th:only-of-type {\n",
              "        vertical-align: middle;\n",
              "    }\n",
              "\n",
              "    .dataframe tbody tr th {\n",
              "        vertical-align: top;\n",
              "    }\n",
              "\n",
              "    .dataframe thead th {\n",
              "        text-align: right;\n",
              "    }\n",
              "</style>\n",
              "<table border=\"1\" class=\"dataframe\">\n",
              "  <thead>\n",
              "    <tr style=\"text-align: right;\">\n",
              "      <th></th>\n",
              "      <th>Item_Weight</th>\n",
              "      <th>Item_Visibility</th>\n",
              "      <th>Item_MRP</th>\n",
              "      <th>Outlet_Establishment_Year</th>\n",
              "      <th>Item_Outlet_Sales</th>\n",
              "    </tr>\n",
              "  </thead>\n",
              "  <tbody>\n",
              "    <tr>\n",
              "      <th>count</th>\n",
              "      <td>8337.000000</td>\n",
              "      <td>8337.000000</td>\n",
              "      <td>8337.000000</td>\n",
              "      <td>8337.000000</td>\n",
              "      <td>8337.000000</td>\n",
              "    </tr>\n",
              "    <tr>\n",
              "      <th>mean</th>\n",
              "      <td>12.856296</td>\n",
              "      <td>0.066358</td>\n",
              "      <td>139.161087</td>\n",
              "      <td>1997.968094</td>\n",
              "      <td>2059.362844</td>\n",
              "    </tr>\n",
              "    <tr>\n",
              "      <th>std</th>\n",
              "      <td>4.256788</td>\n",
              "      <td>0.051838</td>\n",
              "      <td>61.553351</td>\n",
              "      <td>8.309941</td>\n",
              "      <td>1506.099754</td>\n",
              "    </tr>\n",
              "    <tr>\n",
              "      <th>min</th>\n",
              "      <td>4.555000</td>\n",
              "      <td>0.000000</td>\n",
              "      <td>31.290000</td>\n",
              "      <td>1985.000000</td>\n",
              "      <td>33.290000</td>\n",
              "    </tr>\n",
              "    <tr>\n",
              "      <th>25%</th>\n",
              "      <td>9.300000</td>\n",
              "      <td>0.027028</td>\n",
              "      <td>93.046200</td>\n",
              "      <td>1987.000000</td>\n",
              "      <td>810.944400</td>\n",
              "    </tr>\n",
              "    <tr>\n",
              "      <th>50%</th>\n",
              "      <td>12.867061</td>\n",
              "      <td>0.053939</td>\n",
              "      <td>141.215400</td>\n",
              "      <td>1999.000000</td>\n",
              "      <td>1747.059200</td>\n",
              "    </tr>\n",
              "    <tr>\n",
              "      <th>75%</th>\n",
              "      <td>16.100000</td>\n",
              "      <td>0.095299</td>\n",
              "      <td>183.695000</td>\n",
              "      <td>2004.000000</td>\n",
              "      <td>2998.097400</td>\n",
              "    </tr>\n",
              "    <tr>\n",
              "      <th>max</th>\n",
              "      <td>21.350000</td>\n",
              "      <td>0.328391</td>\n",
              "      <td>266.888400</td>\n",
              "      <td>2009.000000</td>\n",
              "      <td>6478.234000</td>\n",
              "    </tr>\n",
              "  </tbody>\n",
              "</table>\n",
              "</div>\n",
              "      <button class=\"colab-df-convert\" onclick=\"convertToInteractive('df-f3067b18-51b5-41de-bfa6-8d642c96167d')\"\n",
              "              title=\"Convert this dataframe to an interactive table.\"\n",
              "              style=\"display:none;\">\n",
              "        \n",
              "  <svg xmlns=\"http://www.w3.org/2000/svg\" height=\"24px\"viewBox=\"0 0 24 24\"\n",
              "       width=\"24px\">\n",
              "    <path d=\"M0 0h24v24H0V0z\" fill=\"none\"/>\n",
              "    <path d=\"M18.56 5.44l.94 2.06.94-2.06 2.06-.94-2.06-.94-.94-2.06-.94 2.06-2.06.94zm-11 1L8.5 8.5l.94-2.06 2.06-.94-2.06-.94L8.5 2.5l-.94 2.06-2.06.94zm10 10l.94 2.06.94-2.06 2.06-.94-2.06-.94-.94-2.06-.94 2.06-2.06.94z\"/><path d=\"M17.41 7.96l-1.37-1.37c-.4-.4-.92-.59-1.43-.59-.52 0-1.04.2-1.43.59L10.3 9.45l-7.72 7.72c-.78.78-.78 2.05 0 2.83L4 21.41c.39.39.9.59 1.41.59.51 0 1.02-.2 1.41-.59l7.78-7.78 2.81-2.81c.8-.78.8-2.07 0-2.86zM5.41 20L4 18.59l7.72-7.72 1.47 1.35L5.41 20z\"/>\n",
              "  </svg>\n",
              "      </button>\n",
              "      \n",
              "  <style>\n",
              "    .colab-df-container {\n",
              "      display:flex;\n",
              "      flex-wrap:wrap;\n",
              "      gap: 12px;\n",
              "    }\n",
              "\n",
              "    .colab-df-convert {\n",
              "      background-color: #E8F0FE;\n",
              "      border: none;\n",
              "      border-radius: 50%;\n",
              "      cursor: pointer;\n",
              "      display: none;\n",
              "      fill: #1967D2;\n",
              "      height: 32px;\n",
              "      padding: 0 0 0 0;\n",
              "      width: 32px;\n",
              "    }\n",
              "\n",
              "    .colab-df-convert:hover {\n",
              "      background-color: #E2EBFA;\n",
              "      box-shadow: 0px 1px 2px rgba(60, 64, 67, 0.3), 0px 1px 3px 1px rgba(60, 64, 67, 0.15);\n",
              "      fill: #174EA6;\n",
              "    }\n",
              "\n",
              "    [theme=dark] .colab-df-convert {\n",
              "      background-color: #3B4455;\n",
              "      fill: #D2E3FC;\n",
              "    }\n",
              "\n",
              "    [theme=dark] .colab-df-convert:hover {\n",
              "      background-color: #434B5C;\n",
              "      box-shadow: 0px 1px 3px 1px rgba(0, 0, 0, 0.15);\n",
              "      filter: drop-shadow(0px 1px 2px rgba(0, 0, 0, 0.3));\n",
              "      fill: #FFFFFF;\n",
              "    }\n",
              "  </style>\n",
              "\n",
              "      <script>\n",
              "        const buttonEl =\n",
              "          document.querySelector('#df-f3067b18-51b5-41de-bfa6-8d642c96167d button.colab-df-convert');\n",
              "        buttonEl.style.display =\n",
              "          google.colab.kernel.accessAllowed ? 'block' : 'none';\n",
              "\n",
              "        async function convertToInteractive(key) {\n",
              "          const element = document.querySelector('#df-f3067b18-51b5-41de-bfa6-8d642c96167d');\n",
              "          const dataTable =\n",
              "            await google.colab.kernel.invokeFunction('convertToInteractive',\n",
              "                                                     [key], {});\n",
              "          if (!dataTable) return;\n",
              "\n",
              "          const docLinkHtml = 'Like what you see? Visit the ' +\n",
              "            '<a target=\"_blank\" href=https://colab.research.google.com/notebooks/data_table.ipynb>data table notebook</a>'\n",
              "            + ' to learn more about interactive tables.';\n",
              "          element.innerHTML = '';\n",
              "          dataTable['output_type'] = 'display_data';\n",
              "          await google.colab.output.renderOutput(dataTable, element);\n",
              "          const docLink = document.createElement('div');\n",
              "          docLink.innerHTML = docLinkHtml;\n",
              "          element.appendChild(docLink);\n",
              "        }\n",
              "      </script>\n",
              "    </div>\n",
              "  </div>\n",
              "  "
            ]
          },
          "metadata": {},
          "execution_count": 17
        }
      ]
    },
    {
      "cell_type": "markdown",
      "source": [
        "## Exploratory Plots"
      ],
      "metadata": {
        "id": "z9sPYoN_R1ZU"
      }
    },
    {
      "cell_type": "markdown",
      "source": [
        "### There are many factors which can contribute to the sales of an object, so lets start by looking into any corellation between numerical values"
      ],
      "metadata": {
        "id": "-W9QMtWSR-6Z"
      }
    },
    {
      "cell_type": "code",
      "source": [
        "sns.heatmap(df.corr(),cmap=\"Blues\",annot= True)"
      ],
      "metadata": {
        "colab": {
          "base_uri": "https://localhost:8080/",
          "height": 409
        },
        "id": "AQ4gpG6FSLDO",
        "outputId": "37d0b85b-6bac-453c-dabe-2709bbe52a03"
      },
      "execution_count": 18,
      "outputs": [
        {
          "output_type": "execute_result",
          "data": {
            "text/plain": [
              "<matplotlib.axes._subplots.AxesSubplot at 0x7f3aab724510>"
            ]
          },
          "metadata": {},
          "execution_count": 18
        },
        {
          "output_type": "display_data",
          "data": {
            "text/plain": [
              "<Figure size 432x288 with 2 Axes>"
            ],
            "image/png": "[encoded data removed]"
          },
          "metadata": {
            "needs_background": "light"
          }
        }
      ]
    },
    {
      "cell_type": "markdown",
      "source": [
        "### This heatmap tells us there is a correlation between the Maximum Retail Price of an Item and the total revenue produced from sale of the item at an outlet, which makes logical sense, as a more expensive product provides more revenue per item sold."
      ],
      "metadata": {
        "id": "A5QegysDTxKq"
      }
    },
    {
      "cell_type": "markdown",
      "source": [
        "### More importantly it tells us that item visibilty has a negative correlation with total revenue generated, meaning that this may be a way to predict future sales. We will explore this more with a scatter plot"
      ],
      "metadata": {
        "id": "Qe6zO-QVUvHi"
      }
    },
    {
      "cell_type": "code",
      "source": [
        "x = df['Item_Visibility']\n",
        "y = df['Item_Outlet_Sales']\n",
        "\n",
        "a,b = np.polyfit(x,y,1)\n",
        "\n",
        "fig, ax = plt.subplots()\n",
        "\n",
        "ax.scatter(x,y, label = \"datapoint\")\n",
        "ax.plot(x,a*x+b, \"r-\", label=\"Best Fit Line\")\n",
        "ax.legend()\n",
        "ax.set_title(\"Total Sales Revenue by Visibility\")\n",
        "ax.set_xlabel(\"Visiblity\")\n",
        "ax.set_ylabel(\"Sales Revenue\")\n",
        "plt.show()"
      ],
      "metadata": {
        "colab": {
          "base_uri": "https://localhost:8080/",
          "height": 295
        },
        "id": "CwgqGpjPWoDl",
        "outputId": "b8b3572a-91aa-4be2-bf7e-0354f8e4301e"
      },
      "execution_count": 19,
      "outputs": [
        {
          "output_type": "display_data",
          "data": {
            "text/plain": [
              "<Figure size 432x288 with 1 Axes>"
            ],
            "image/png": "[encoded data removed]"
          },
          "metadata": {
            "needs_background": "light"
          }
        }
      ]
    },
    {
      "cell_type": "markdown",
      "source": [
        "### From the previous scatter plot we can see that there is a negative correlation between visibility and sales, with a large drop off at approximately 0.19 visibility"
      ],
      "metadata": {
        "id": "1aY3Eb77hyhE"
      }
    },
    {
      "cell_type": "markdown",
      "source": [
        "### Now lets look at some catgorical data. We will start with Outlet Size"
      ],
      "metadata": {
        "id": "Yugvdh9wil_q"
      }
    },
    {
      "cell_type": "code",
      "source": [
        "histogram = df.groupby(\"Outlet_Size\")[\"Item_Outlet_Sales\"].hist(alpha=0.35,legend=True)"
      ],
      "metadata": {
        "colab": {
          "base_uri": "https://localhost:8080/",
          "height": 265
        },
        "id": "8zhcjQUDikJS",
        "outputId": "03f02a9e-7b0e-49c8-eb57-90a77fe10f16"
      },
      "execution_count": 20,
      "outputs": [
        {
          "output_type": "display_data",
          "data": {
            "text/plain": [
              "<Figure size 432x288 with 1 Axes>"
            ],
            "image/png": "[encoded data removed]"
          },
          "metadata": {
            "needs_background": "light"
          }
        }
      ]
    },
    {
      "cell_type": "markdown",
      "source": [
        "### While most of the different sizes seem to fall into similar patterns, the Medium sized outlets seem to have a larger percentage of high sales items in comparison to the other sizes, We will visualize this in a different way using a boxplot"
      ],
      "metadata": {
        "id": "mEBq-nIYk3wy"
      }
    },
    {
      "cell_type": "code",
      "source": [
        "large = df[df[\"Outlet_Size\"]==\"Large\"][\"Item_Outlet_Sales\"]\n",
        "med = df[df[\"Outlet_Size\"]==\"Medium\"][\"Item_Outlet_Sales\"]\n",
        "small = df[df[\"Outlet_Size\"]==\"Small\"][\"Item_Outlet_Sales\"]\n",
        "uk = df[df[\"Outlet_Size\"]==\"Unknown\"][\"Item_Outlet_Sales\"]\n",
        "\n",
        "\n",
        "fig, ax = plt.subplots()\n",
        "bps = ax.boxplot([small, med, large, uk],labels=[\"Small\",\"Medium\",\"Large\",\"Unknown\"], notch=True,\n",
        "                 patch_artist=True)\n",
        "plt.show()"
      ],
      "metadata": {
        "colab": {
          "base_uri": "https://localhost:8080/",
          "height": 320
        },
        "id": "wR-1xbpyoeUF",
        "outputId": "20c64677-61f6-4781-cdb5-b947ffa10888"
      },
      "execution_count": 21,
      "outputs": [
        {
          "output_type": "stream",
          "name": "stderr",
          "text": [
            "/usr/local/lib/python3.7/dist-packages/matplotlib/cbook/__init__.py:1376: VisibleDeprecationWarning: Creating an ndarray from ragged nested sequences (which is a list-or-tuple of lists-or-tuples-or ndarrays with different lengths or shapes) is deprecated. If you meant to do this, you must specify 'dtype=object' when creating the ndarray.\n",
            "  X = np.atleast_1d(X.T if isinstance(X, np.ndarray) else np.asarray(X))\n"
          ]
        },
        {
          "output_type": "display_data",
          "data": {
            "text/plain": [
              "<Figure size 432x288 with 1 Axes>"
            ],
            "image/png": "[encoded data removed]"
          },
          "metadata": {
            "needs_background": "light"
          }
        }
      ]
    },
    {
      "cell_type": "code",
      "source": [
        "df.groupby(\"Outlet_Size\")[\"Item_Outlet_Sales\"].describe()"
      ],
      "metadata": {
        "colab": {
          "base_uri": "https://localhost:8080/",
          "height": 206
        },
        "id": "RBWZ6zwKtxsS",
        "outputId": "7e903935-664d-492b-87de-2185f6001ebe"
      },
      "execution_count": 22,
      "outputs": [
        {
          "output_type": "execute_result",
          "data": {
            "text/plain": [
              "              count         mean          std      min         25%        50%  \\\n",
              "Outlet_Size                                                                     \n",
              "Large         917.0  2217.100205  1398.677744  73.2380  1057.95620  2014.7108   \n",
              "Medium       2676.0  2458.690424  1530.464302  69.2432  1238.22155  2135.8864   \n",
              "Small        2362.0  1852.606258  1483.026265  33.9558   593.22780  1517.3582   \n",
              "Unknown      2382.0  1755.044328  1432.707736  33.2900   549.28500  1417.4882   \n",
              "\n",
              "                    75%        max  \n",
              "Outlet_Size                         \n",
              "Large        3103.95960  6474.2392  \n",
              "Medium       3448.84400  6478.2340  \n",
              "Small        2775.55375  6474.2392  \n",
              "Unknown      2631.24160  6471.5760  "
            ],
            "text/html": [
              "\n",
              "  <div id=\"df-bd4612c6-8a2e-4e17-9142-b1e92d6dcd56\">\n",
              "    <div class=\"colab-df-container\">\n",
              "      <div>\n",
              "<style scoped>\n",
              "    .dataframe tbody tr th:only-of-type {\n",
              "        vertical-align: middle;\n",
              "    }\n",
              "\n",
              "    .dataframe tbody tr th {\n",
              "        vertical-align: top;\n",
              "    }\n",
              "\n",
              "    .dataframe thead th {\n",
              "        text-align: right;\n",
              "    }\n",
              "</style>\n",
              "<table border=\"1\" class=\"dataframe\">\n",
              "  <thead>\n",
              "    <tr style=\"text-align: right;\">\n",
              "      <th></th>\n",
              "      <th>count</th>\n",
              "      <th>mean</th>\n",
              "      <th>std</th>\n",
              "      <th>min</th>\n",
              "      <th>25%</th>\n",
              "      <th>50%</th>\n",
              "      <th>75%</th>\n",
              "      <th>max</th>\n",
              "    </tr>\n",
              "    <tr>\n",
              "      <th>Outlet_Size</th>\n",
              "      <th></th>\n",
              "      <th></th>\n",
              "      <th></th>\n",
              "      <th></th>\n",
              "      <th></th>\n",
              "      <th></th>\n",
              "      <th></th>\n",
              "      <th></th>\n",
              "    </tr>\n",
              "  </thead>\n",
              "  <tbody>\n",
              "    <tr>\n",
              "      <th>Large</th>\n",
              "      <td>917.0</td>\n",
              "      <td>2217.100205</td>\n",
              "      <td>1398.677744</td>\n",
              "      <td>73.2380</td>\n",
              "      <td>1057.95620</td>\n",
              "      <td>2014.7108</td>\n",
              "      <td>3103.95960</td>\n",
              "      <td>6474.2392</td>\n",
              "    </tr>\n",
              "    <tr>\n",
              "      <th>Medium</th>\n",
              "      <td>2676.0</td>\n",
              "      <td>2458.690424</td>\n",
              "      <td>1530.464302</td>\n",
              "      <td>69.2432</td>\n",
              "      <td>1238.22155</td>\n",
              "      <td>2135.8864</td>\n",
              "      <td>3448.84400</td>\n",
              "      <td>6478.2340</td>\n",
              "    </tr>\n",
              "    <tr>\n",
              "      <th>Small</th>\n",
              "      <td>2362.0</td>\n",
              "      <td>1852.606258</td>\n",
              "      <td>1483.026265</td>\n",
              "      <td>33.9558</td>\n",
              "      <td>593.22780</td>\n",
              "      <td>1517.3582</td>\n",
              "      <td>2775.55375</td>\n",
              "      <td>6474.2392</td>\n",
              "    </tr>\n",
              "    <tr>\n",
              "      <th>Unknown</th>\n",
              "      <td>2382.0</td>\n",
              "      <td>1755.044328</td>\n",
              "      <td>1432.707736</td>\n",
              "      <td>33.2900</td>\n",
              "      <td>549.28500</td>\n",
              "      <td>1417.4882</td>\n",
              "      <td>2631.24160</td>\n",
              "      <td>6471.5760</td>\n",
              "    </tr>\n",
              "  </tbody>\n",
              "</table>\n",
              "</div>\n",
              "      <button class=\"colab-df-convert\" onclick=\"convertToInteractive('df-bd4612c6-8a2e-4e17-9142-b1e92d6dcd56')\"\n",
              "              title=\"Convert this dataframe to an interactive table.\"\n",
              "              style=\"display:none;\">\n",
              "        \n",
              "  <svg xmlns=\"http://www.w3.org/2000/svg\" height=\"24px\"viewBox=\"0 0 24 24\"\n",
              "       width=\"24px\">\n",
              "    <path d=\"M0 0h24v24H0V0z\" fill=\"none\"/>\n",
              "    <path d=\"M18.56 5.44l.94 2.06.94-2.06 2.06-.94-2.06-.94-.94-2.06-.94 2.06-2.06.94zm-11 1L8.5 8.5l.94-2.06 2.06-.94-2.06-.94L8.5 2.5l-.94 2.06-2.06.94zm10 10l.94 2.06.94-2.06 2.06-.94-2.06-.94-.94-2.06-.94 2.06-2.06.94z\"/><path d=\"M17.41 7.96l-1.37-1.37c-.4-.4-.92-.59-1.43-.59-.52 0-1.04.2-1.43.59L10.3 9.45l-7.72 7.72c-.78.78-.78 2.05 0 2.83L4 21.41c.39.39.9.59 1.41.59.51 0 1.02-.2 1.41-.59l7.78-7.78 2.81-2.81c.8-.78.8-2.07 0-2.86zM5.41 20L4 18.59l7.72-7.72 1.47 1.35L5.41 20z\"/>\n",
              "  </svg>\n",
              "      </button>\n",
              "      \n",
              "  <style>\n",
              "    .colab-df-container {\n",
              "      display:flex;\n",
              "      flex-wrap:wrap;\n",
              "      gap: 12px;\n",
              "    }\n",
              "\n",
              "    .colab-df-convert {\n",
              "      background-color: #E8F0FE;\n",
              "      border: none;\n",
              "      border-radius: 50%;\n",
              "      cursor: pointer;\n",
              "      display: none;\n",
              "      fill: #1967D2;\n",
              "      height: 32px;\n",
              "      padding: 0 0 0 0;\n",
              "      width: 32px;\n",
              "    }\n",
              "\n",
              "    .colab-df-convert:hover {\n",
              "      background-color: #E2EBFA;\n",
              "      box-shadow: 0px 1px 2px rgba(60, 64, 67, 0.3), 0px 1px 3px 1px rgba(60, 64, 67, 0.15);\n",
              "      fill: #174EA6;\n",
              "    }\n",
              "\n",
              "    [theme=dark] .colab-df-convert {\n",
              "      background-color: #3B4455;\n",
              "      fill: #D2E3FC;\n",
              "    }\n",
              "\n",
              "    [theme=dark] .colab-df-convert:hover {\n",
              "      background-color: #434B5C;\n",
              "      box-shadow: 0px 1px 3px 1px rgba(0, 0, 0, 0.15);\n",
              "      filter: drop-shadow(0px 1px 2px rgba(0, 0, 0, 0.3));\n",
              "      fill: #FFFFFF;\n",
              "    }\n",
              "  </style>\n",
              "\n",
              "      <script>\n",
              "        const buttonEl =\n",
              "          document.querySelector('#df-bd4612c6-8a2e-4e17-9142-b1e92d6dcd56 button.colab-df-convert');\n",
              "        buttonEl.style.display =\n",
              "          google.colab.kernel.accessAllowed ? 'block' : 'none';\n",
              "\n",
              "        async function convertToInteractive(key) {\n",
              "          const element = document.querySelector('#df-bd4612c6-8a2e-4e17-9142-b1e92d6dcd56');\n",
              "          const dataTable =\n",
              "            await google.colab.kernel.invokeFunction('convertToInteractive',\n",
              "                                                     [key], {});\n",
              "          if (!dataTable) return;\n",
              "\n",
              "          const docLinkHtml = 'Like what you see? Visit the ' +\n",
              "            '<a target=\"_blank\" href=https://colab.research.google.com/notebooks/data_table.ipynb>data table notebook</a>'\n",
              "            + ' to learn more about interactive tables.';\n",
              "          element.innerHTML = '';\n",
              "          dataTable['output_type'] = 'display_data';\n",
              "          await google.colab.output.renderOutput(dataTable, element);\n",
              "          const docLink = document.createElement('div');\n",
              "          docLink.innerHTML = docLinkHtml;\n",
              "          element.appendChild(docLink);\n",
              "        }\n",
              "      </script>\n",
              "    </div>\n",
              "  </div>\n",
              "  "
            ]
          },
          "metadata": {},
          "execution_count": 22
        }
      ]
    },
    {
      "cell_type": "markdown",
      "source": [
        "### Here we are confirming our assessment that Medium sized outlets have higher average sales per item, based on the higher mean, median, and range"
      ],
      "metadata": {
        "id": "OxqZuFDgtOF2"
      }
    },
    {
      "cell_type": "markdown",
      "source": [
        "## Explanatory diagrams"
      ],
      "metadata": {
        "id": "vKUIwHqztu3U"
      }
    },
    {
      "cell_type": "markdown",
      "source": [
        "### In order for the Client to have a better idea of the data we are working with we will organize the Total sales based on a few criteria"
      ],
      "metadata": {
        "id": "CyBE3SRi1EgY"
      }
    },
    {
      "cell_type": "markdown",
      "source": [
        "#### First we will explore Sales Per Outlet, grouped by size"
      ],
      "metadata": {
        "id": "CemGVV-Y1ZYK"
      }
    },
    {
      "cell_type": "code",
      "source": [
        "fig = px.histogram(df,x=\"Outlet_Identifier\", y=\"Item_Outlet_Sales\",\n",
        "                   title=\"Total Sales Per Outlet\",\n",
        "                   hover_data=['Outlet_Size'],\n",
        "                   color =\"Outlet_Size\",\n",
        "                   labels = {\"Outlet_Size\": \"Outlet Size\",\n",
        "                             \"Outlet_Identifier\": \"Outlet ID\",\n",
        "                             \"Item_Outlet_Sales\": \"Total Sales\"},\n",
        "                   category_orders = {\"Outlet_Size\":[\"Small\",\n",
        "                                                     \"Medium\",\n",
        "                                                     \"Large\",\n",
        "                                                     \"Unknown\"]})\n",
        "\n",
        "fig.show()"
      ],
      "metadata": {
        "colab": {
          "base_uri": "https://localhost:8080/",
          "height": 542
        },
        "id": "KrY4BzBst07Y",
        "outputId": "eb292342-178c-4e1b-d41f-803cfcf1bc1b"
      },
      "execution_count": 23,
      "outputs": [
        {
          "output_type": "display_data",
          "data": {
            "text/html": [
              "<html>\n",
              "<head><meta charset=\"utf-8\" /></head>\n",
              "<body>\n",
              "    <div>            <script src=\"https://cdnjs.cloudflare.com/ajax/libs/mathjax/2.7.5/MathJax.js?config=TeX-AMS-MML_SVG\"></script><script type=\"text/javascript\">if (window.MathJax) {MathJax.Hub.Config({SVG: {font: \"STIX-Web\"}});}</script>                <script type=\"text/javascript\">window.PlotlyConfig = {MathJaxConfig: 'local'};</script>\n",
              "        <script src=\"https://cdn.plot.ly/plotly-2.8.3.min.js\"></script>                <div id=\"2225bb07-dc68-4573-9330-2c89929b5a5a\" class=\"plotly-graph-div\" style=\"height:525px; width:100%;\"></div>            <script type=\"text/javascript\">                                    window.PLOTLYENV=window.PLOTLYENV || {};                                    if (document.getElementById(\"2225bb07-dc68-4573-9330-2c89929b5a5a\")) {                    Plotly.newPlot(                        \"2225bb07-dc68-4573-9330-2c89929b5a5a\",                        [{\"alignmentgroup\":\"True\",\"bingroup\":\"x\",\"histfunc\":\"sum\",\"hovertemplate\":\"Outlet Size=Small<br>Outlet ID=%{x}<br>sum of Total Sales=%{y}<extra></extra>\",\"legendgroup\":\"Small\",\"marker\":{\"color\":\"#636efa\",\"pattern\":{\"shape\":\"\"}},\"name\":\"Small\",\"offsetgroup\":\"Small\",\"orientation\":\"v\",\"showlegend\":true,\"x\":[\"OUT046\",\"OUT046\",\"OUT046\",\"OUT035\",\"OUT035\",\"OUT019\",\"OUT046\",\"OUT035\",\"OUT019\",\"OUT046\",\"OUT046\",\"OUT046\",\"OUT019\",\"OUT046\",\"OUT046\",\"OUT019\",\"OUT019\",\"OUT035\",\"OUT046\",\"OUT046\",\"OUT046\",\"OUT019\",\"OUT046\",\"OUT046\",\"OUT019\",\"OUT035\",\"OUT046\",\"OUT035\",\"OUT035\",\"OUT019\",\"OUT035\",\"OUT046\",\"OUT019\",\"OUT046\",\"OUT019\",\"OUT035\",\"OUT035\",\"OUT035\",\"OUT046\",\"OUT046\",\"OUT046\",\"OUT035\",\"OUT035\",\"OUT035\",\"OUT035\",\"OUT035\",\"OUT035\",\"OUT046\",\"OUT046\",\"OUT046\",\"OUT035\",\"OUT019\",\"OUT019\",\"OUT019\",\"OUT046\",\"OUT046\",\"OUT035\",\"OUT046\",\"OUT019\",\"OUT035\",\"OUT035\",\"OUT035\",\"OUT046\",\"OUT019\",\"OUT019\",\"OUT035\",\"OUT035\",\"OUT046\",\"OUT019\",\"OUT035\",\"OUT035\",\"OUT035\",\"OUT035\",\"OUT019\",\"OUT019\",\"OUT035\",\"OUT046\",\"OUT035\",\"OUT046\",\"OUT035\",\"OUT019\",\"OUT035\",\"OUT035\",\"OUT035\",\"OUT046\",\"OUT046\",\"OUT019\",\"OUT035\",\"OUT046\",\"OUT035\",\"OUT035\",\"OUT046\",\"OUT046\",\"OUT019\",\"OUT046\",\"OUT019\",\"OUT046\",\"OUT046\",\"OUT046\",\"OUT046\",\"OUT046\",\"OUT019\",\"OUT035\",\"OUT019\",\"OUT046\",\"OUT035\",\"OUT046\",\"OUT035\",\"OUT035\",\"OUT046\",\"OUT046\",\"OUT046\",\"OUT019\",\"OUT046\",\"OUT046\",\"OUT019\",\"OUT046\",\"OUT046\",\"OUT046\",\"OUT046\",\"OUT035\",\"OUT019\",\"OUT019\",\"OUT046\",\"OUT019\",\"OUT019\",\"OUT046\",\"OUT046\",\"OUT046\",\"OUT035\",\"OUT019\",\"OUT035\",\"OUT046\",\"OUT035\",\"OUT046\",\"OUT046\",\"OUT035\",\"OUT046\",\"OUT046\",\"OUT035\",\"OUT035\",\"OUT046\",\"OUT035\",\"OUT019\",\"OUT046\",\"OUT019\",\"OUT019\",\"OUT035\",\"OUT035\",\"OUT035\",\"OUT019\",\"OUT046\",\"OUT019\",\"OUT046\",\"OUT035\",\"OUT046\",\"OUT035\",\"OUT035\",\"OUT019\",\"OUT035\",\"OUT046\",\"OUT019\",\"OUT046\",\"OUT019\",\"OUT035\",\"OUT019\",\"OUT046\",\"OUT035\",\"OUT046\",\"OUT035\",\"OUT046\",\"OUT035\",\"OUT046\",\"OUT046\",\"OUT046\",\"OUT046\",\"OUT046\",\"OUT035\",\"OUT035\",\"OUT046\",\"OUT035\",\"OUT035\",\"OUT035\",\"OUT019\",\"OUT046\",\"OUT046\",\"OUT035\",\"OUT046\",\"OUT046\",\"OUT035\",\"OUT046\",\"OUT035\",\"OUT035\",\"OUT019\",\"OUT035\",\"OUT035\",\"OUT035\",\"OUT046\",\"OUT046\",\"OUT046\",\"OUT046\",\"OUT046\",\"OUT019\",\"OUT046\",\"OUT046\",\"OUT046\",\"OUT046\",\"OUT035\",\"OUT035\",\"OUT019\",\"OUT046\",\"OUT035\",\"OUT035\",\"OUT046\",\"OUT035\",\"OUT035\",\"OUT046\",\"OUT046\",\"OUT046\",\"OUT035\",\"OUT035\",\"OUT046\",\"OUT035\",\"OUT046\",\"OUT035\",\"OUT035\",\"OUT035\",\"OUT035\",\"OUT035\",\"OUT046\",\"OUT035\",\"OUT035\",\"OUT019\",\"OUT019\",\"OUT035\",\"OUT035\",\"OUT019\",\"OUT046\",\"OUT019\",\"OUT019\",\"OUT019\",\"OUT046\",\"OUT035\",\"OUT019\",\"OUT046\",\"OUT035\",\"OUT046\",\"OUT046\",\"OUT035\",\"OUT046\",\"OUT035\",\"OUT046\",\"OUT046\",\"OUT019\",\"OUT046\",\"OUT046\",\"OUT019\",\"OUT019\",\"OUT046\",\"OUT019\",\"OUT019\",\"OUT046\",\"OUT019\",\"OUT035\",\"OUT046\",\"OUT035\",\"OUT019\",\"OUT019\",\"OUT035\",\"OUT046\",\"OUT035\",\"OUT035\",\"OUT035\",\"OUT035\",\"OUT019\",\"OUT035\",\"OUT035\",\"OUT046\",\"OUT046\",\"OUT035\",\"OUT035\",\"OUT035\",\"OUT035\",\"OUT035\",\"OUT046\",\"OUT035\",\"OUT046\",\"OUT019\",\"OUT035\",\"OUT019\",\"OUT046\",\"OUT046\",\"OUT019\",\"OUT046\",\"OUT035\",\"OUT035\",\"OUT035\",\"OUT035\",\"OUT035\",\"OUT035\",\"OUT035\",\"OUT046\",\"OUT046\",\"OUT035\",\"OUT035\",\"OUT046\",\"OUT046\",\"OUT035\",\"OUT019\",\"OUT019\",\"OUT035\",\"OUT035\",\"OUT046\",\"OUT035\",\"OUT046\",\"OUT046\",\"OUT035\",\"OUT019\",\"OUT019\",\"OUT019\",\"OUT035\",\"OUT019\",\"OUT035\",\"OUT046\",\"OUT035\",\"OUT035\",\"OUT046\",\"OUT019\",\"OUT035\",\"OUT035\",\"OUT046\",\"OUT046\",\"OUT046\",\"OUT019\",\"OUT019\",\"OUT046\",\"OUT035\",\"OUT035\",\"OUT046\",\"OUT019\",\"OUT046\",\"OUT019\",\"OUT046\",\"OUT035\",\"OUT035\",\"OUT035\",\"OUT035\",\"OUT046\",\"OUT019\",\"OUT035\",\"OUT046\",\"OUT035\",\"OUT035\",\"OUT035\",\"OUT046\",\"OUT019\",\"OUT035\",\"OUT019\",\"OUT035\",\"OUT046\",\"OUT019\",\"OUT046\",\"OUT035\",\"OUT035\",\"OUT035\",\"OUT046\",\"OUT046\",\"OUT019\",\"OUT046\",\"OUT035\",\"OUT035\",\"OUT046\",\"OUT046\",\"OUT019\",\"OUT035\",\"OUT046\",\"OUT046\",\"OUT046\",\"OUT035\",\"OUT035\",\"OUT019\",\"OUT046\",\"OUT035\",\"OUT046\",\"OUT046\",\"OUT019\",\"OUT046\",\"OUT035\",\"OUT046\",\"OUT035\",\"OUT046\",\"OUT046\",\"OUT046\",\"OUT035\",\"OUT035\",\"OUT046\",\"OUT019\",\"OUT035\",\"OUT019\",\"OUT035\",\"OUT019\",\"OUT035\",\"OUT035\",\"OUT019\",\"OUT046\",\"OUT019\",\"OUT046\",\"OUT019\",\"OUT035\",\"OUT035\",\"OUT019\",\"OUT046\",\"OUT046\",\"OUT035\",\"OUT046\",\"OUT035\",\"OUT035\",\"OUT046\",\"OUT046\",\"OUT019\",\"OUT019\",\"OUT035\",\"OUT046\",\"OUT035\",\"OUT019\",\"OUT046\",\"OUT046\",\"OUT046\",\"OUT046\",\"OUT046\",\"OUT035\",\"OUT019\",\"OUT046\",\"OUT046\",\"OUT019\",\"OUT019\",\"OUT046\",\"OUT035\",\"OUT035\",\"OUT035\",\"OUT019\",\"OUT046\",\"OUT046\",\"OUT046\",\"OUT046\",\"OUT035\",\"OUT019\",\"OUT046\",\"OUT035\",\"OUT046\",\"OUT035\",\"OUT046\",\"OUT046\",\"OUT046\",\"OUT035\",\"OUT035\",\"OUT046\",\"OUT035\",\"OUT046\",\"OUT046\",\"OUT035\",\"OUT035\",\"OUT046\",\"OUT019\",\"OUT019\",\"OUT035\",\"OUT035\",\"OUT046\",\"OUT019\",\"OUT035\",\"OUT035\",\"OUT035\",\"OUT019\",\"OUT019\",\"OUT035\",\"OUT019\",\"OUT035\",\"OUT046\",\"OUT046\",\"OUT046\",\"OUT035\",\"OUT046\",\"OUT035\",\"OUT046\",\"OUT046\",\"OUT019\",\"OUT035\",\"OUT035\",\"OUT019\",\"OUT046\",\"OUT019\",\"OUT046\",\"OUT046\",\"OUT046\",\"OUT046\",\"OUT019\",\"OUT035\",\"OUT035\",\"OUT035\",\"OUT019\",\"OUT035\",\"OUT019\",\"OUT046\",\"OUT035\",\"OUT035\",\"OUT035\",\"OUT019\",\"OUT019\",\"OUT035\",\"OUT035\",\"OUT046\",\"OUT019\",\"OUT035\",\"OUT035\",\"OUT046\",\"OUT046\",\"OUT019\",\"OUT019\",\"OUT035\",\"OUT035\",\"OUT046\",\"OUT035\",\"OUT035\",\"OUT046\",\"OUT035\",\"OUT019\",\"OUT046\",\"OUT035\",\"OUT035\",\"OUT035\",\"OUT046\",\"OUT046\",\"OUT046\",\"OUT046\",\"OUT019\",\"OUT046\",\"OUT035\",\"OUT019\",\"OUT046\",\"OUT035\",\"OUT046\",\"OUT046\",\"OUT035\",\"OUT019\",\"OUT019\",\"OUT035\",\"OUT035\",\"OUT035\",\"OUT019\",\"OUT035\",\"OUT035\",\"OUT019\",\"OUT046\",\"OUT046\",\"OUT019\",\"OUT019\",\"OUT046\",\"OUT019\",\"OUT046\",\"OUT046\",\"OUT046\",\"OUT035\",\"OUT035\",\"OUT046\",\"OUT035\",\"OUT046\",\"OUT019\",\"OUT019\",\"OUT019\",\"OUT046\",\"OUT019\",\"OUT046\",\"OUT046\",\"OUT035\",\"OUT035\",\"OUT019\",\"OUT035\",\"OUT046\",\"OUT035\",\"OUT019\",\"OUT035\",\"OUT035\",\"OUT046\",\"OUT019\",\"OUT035\",\"OUT046\",\"OUT035\",\"OUT035\",\"OUT046\",\"OUT046\",\"OUT019\",\"OUT046\",\"OUT035\",\"OUT035\",\"OUT046\",\"OUT046\",\"OUT035\",\"OUT046\",\"OUT035\",\"OUT019\",\"OUT035\",\"OUT046\",\"OUT019\",\"OUT046\",\"OUT046\",\"OUT046\",\"OUT046\",\"OUT035\",\"OUT019\",\"OUT046\",\"OUT035\",\"OUT046\",\"OUT035\",\"OUT046\",\"OUT035\",\"OUT046\",\"OUT035\",\"OUT035\",\"OUT019\",\"OUT019\",\"OUT035\",\"OUT035\",\"OUT035\",\"OUT035\",\"OUT035\",\"OUT046\",\"OUT035\",\"OUT019\",\"OUT046\",\"OUT046\",\"OUT046\",\"OUT019\",\"OUT046\",\"OUT035\",\"OUT019\",\"OUT035\",\"OUT019\",\"OUT046\",\"OUT035\",\"OUT046\",\"OUT046\",\"OUT035\",\"OUT046\",\"OUT035\",\"OUT035\",\"OUT046\",\"OUT035\",\"OUT035\",\"OUT019\",\"OUT019\",\"OUT046\",\"OUT046\",\"OUT019\",\"OUT046\",\"OUT035\",\"OUT035\",\"OUT035\",\"OUT046\",\"OUT046\",\"OUT035\",\"OUT035\",\"OUT035\",\"OUT046\",\"OUT035\",\"OUT035\",\"OUT046\",\"OUT046\",\"OUT046\",\"OUT035\",\"OUT046\",\"OUT019\",\"OUT019\",\"OUT046\",\"OUT035\",\"OUT035\",\"OUT046\",\"OUT035\",\"OUT046\",\"OUT019\",\"OUT019\",\"OUT019\",\"OUT046\",\"OUT035\",\"OUT046\",\"OUT035\",\"OUT035\",\"OUT035\",\"OUT046\",\"OUT046\",\"OUT035\",\"OUT046\",\"OUT046\",\"OUT035\",\"OUT046\",\"OUT019\",\"OUT046\",\"OUT019\",\"OUT035\",\"OUT046\",\"OUT046\",\"OUT035\",\"OUT046\",\"OUT035\",\"OUT046\",\"OUT046\",\"OUT046\",\"OUT035\",\"OUT046\",\"OUT035\",\"OUT035\",\"OUT035\",\"OUT046\",\"OUT046\",\"OUT035\",\"OUT035\",\"OUT046\",\"OUT035\",\"OUT046\",\"OUT035\",\"OUT035\",\"OUT035\",\"OUT046\",\"OUT035\",\"OUT019\",\"OUT035\",\"OUT035\",\"OUT046\",\"OUT035\",\"OUT035\",\"OUT019\",\"OUT046\",\"OUT019\",\"OUT035\",\"OUT035\",\"OUT035\",\"OUT035\",\"OUT019\",\"OUT046\",\"OUT035\",\"OUT046\",\"OUT035\",\"OUT046\",\"OUT035\",\"OUT035\",\"OUT046\",\"OUT035\",\"OUT046\",\"OUT046\",\"OUT046\",\"OUT046\",\"OUT046\",\"OUT019\",\"OUT035\",\"OUT035\",\"OUT035\",\"OUT035\",\"OUT046\",\"OUT046\",\"OUT046\",\"OUT046\",\"OUT046\",\"OUT035\",\"OUT019\",\"OUT035\",\"OUT035\",\"OUT046\",\"OUT046\",\"OUT046\",\"OUT019\",\"OUT046\",\"OUT019\",\"OUT046\",\"OUT035\",\"OUT046\",\"OUT046\",\"OUT046\",\"OUT046\",\"OUT046\",\"OUT035\",\"OUT035\",\"OUT046\",\"OUT035\",\"OUT019\",\"OUT035\",\"OUT035\",\"OUT035\",\"OUT035\",\"OUT019\",\"OUT019\",\"OUT046\",\"OUT046\",\"OUT046\",\"OUT019\",\"OUT035\",\"OUT035\",\"OUT035\",\"OUT035\",\"OUT046\",\"OUT019\",\"OUT035\",\"OUT019\",\"OUT035\",\"OUT035\",\"OUT046\",\"OUT046\",\"OUT035\",\"OUT035\",\"OUT046\",\"OUT035\",\"OUT035\",\"OUT046\",\"OUT035\",\"OUT019\",\"OUT046\",\"OUT046\",\"OUT019\",\"OUT046\",\"OUT046\",\"OUT046\",\"OUT046\",\"OUT019\",\"OUT019\",\"OUT046\",\"OUT046\",\"OUT046\",\"OUT019\",\"OUT035\",\"OUT046\",\"OUT019\",\"OUT046\",\"OUT035\",\"OUT035\",\"OUT035\",\"OUT035\",\"OUT035\",\"OUT019\",\"OUT035\",\"OUT035\",\"OUT035\",\"OUT019\",\"OUT035\",\"OUT035\",\"OUT046\",\"OUT035\",\"OUT019\",\"OUT019\",\"OUT046\",\"OUT046\",\"OUT046\",\"OUT035\",\"OUT019\",\"OUT046\",\"OUT035\",\"OUT035\",\"OUT046\",\"OUT035\",\"OUT046\",\"OUT046\",\"OUT035\",\"OUT046\",\"OUT019\",\"OUT019\",\"OUT035\",\"OUT046\",\"OUT019\",\"OUT035\",\"OUT019\",\"OUT046\",\"OUT046\",\"OUT035\",\"OUT019\",\"OUT035\",\"OUT035\",\"OUT046\",\"OUT019\",\"OUT019\",\"OUT035\",\"OUT035\",\"OUT035\",\"OUT046\",\"OUT035\",\"OUT046\",\"OUT035\",\"OUT035\",\"OUT046\",\"OUT019\",\"OUT035\",\"OUT046\",\"OUT035\",\"OUT046\",\"OUT019\",\"OUT046\",\"OUT035\",\"OUT035\",\"OUT046\",\"OUT046\",\"OUT035\",\"OUT035\",\"OUT046\",\"OUT035\",\"OUT035\",\"OUT019\",\"OUT046\",\"OUT046\",\"OUT019\",\"OUT035\",\"OUT046\",\"OUT046\",\"OUT035\",\"OUT035\",\"OUT035\",\"OUT019\",\"OUT046\",\"OUT035\",\"OUT046\",\"OUT019\",\"OUT019\",\"OUT019\",\"OUT035\",\"OUT046\",\"OUT035\",\"OUT035\",\"OUT035\",\"OUT035\",\"OUT046\",\"OUT046\",\"OUT019\",\"OUT046\",\"OUT035\",\"OUT046\",\"OUT046\",\"OUT035\",\"OUT035\",\"OUT019\",\"OUT035\",\"OUT035\",\"OUT046\",\"OUT035\",\"OUT035\",\"OUT035\",\"OUT046\",\"OUT046\",\"OUT035\",\"OUT019\",\"OUT046\",\"OUT035\",\"OUT046\",\"OUT046\",\"OUT035\",\"OUT035\",\"OUT019\",\"OUT035\",\"OUT019\",\"OUT019\",\"OUT046\",\"OUT046\",\"OUT019\",\"OUT035\",\"OUT035\",\"OUT046\",\"OUT046\",\"OUT046\",\"OUT019\",\"OUT046\",\"OUT046\",\"OUT046\",\"OUT019\",\"OUT035\",\"OUT046\",\"OUT046\",\"OUT046\",\"OUT035\",\"OUT046\",\"OUT046\",\"OUT019\",\"OUT035\",\"OUT035\",\"OUT046\",\"OUT019\",\"OUT035\",\"OUT035\",\"OUT019\",\"OUT046\",\"OUT046\",\"OUT019\",\"OUT019\",\"OUT046\",\"OUT035\",\"OUT046\",\"OUT035\",\"OUT035\",\"OUT046\",\"OUT046\",\"OUT019\",\"OUT019\",\"OUT046\",\"OUT035\",\"OUT035\",\"OUT035\",\"OUT035\",\"OUT046\",\"OUT035\",\"OUT035\",\"OUT035\",\"OUT046\",\"OUT019\",\"OUT019\",\"OUT046\",\"OUT046\",\"OUT046\",\"OUT035\",\"OUT046\",\"OUT046\",\"OUT046\",\"OUT046\",\"OUT046\",\"OUT019\",\"OUT046\",\"OUT035\",\"OUT046\",\"OUT046\",\"OUT046\",\"OUT046\",\"OUT035\",\"OUT035\",\"OUT019\",\"OUT035\",\"OUT035\",\"OUT035\",\"OUT019\",\"OUT035\",\"OUT035\",\"OUT035\",\"OUT035\",\"OUT046\",\"OUT046\",\"OUT019\",\"OUT046\",\"OUT035\",\"OUT035\",\"OUT035\",\"OUT046\",\"OUT035\",\"OUT035\",\"OUT035\",\"OUT046\",\"OUT046\",\"OUT046\",\"OUT035\",\"OUT035\",\"OUT019\",\"OUT035\",\"OUT035\",\"OUT019\",\"OUT019\",\"OUT019\",\"OUT046\",\"OUT035\",\"OUT035\",\"OUT046\",\"OUT046\",\"OUT046\",\"OUT035\",\"OUT035\",\"OUT046\",\"OUT019\",\"OUT019\",\"OUT035\",\"OUT035\",\"OUT019\",\"OUT035\",\"OUT035\",\"OUT035\",\"OUT046\",\"OUT035\",\"OUT035\",\"OUT046\",\"OUT046\",\"OUT046\",\"OUT046\",\"OUT046\",\"OUT035\",\"OUT019\",\"OUT035\",\"OUT046\",\"OUT019\",\"OUT046\",\"OUT046\",\"OUT046\",\"OUT046\",\"OUT035\",\"OUT019\",\"OUT035\",\"OUT035\",\"OUT035\",\"OUT046\",\"OUT046\",\"OUT019\",\"OUT046\",\"OUT019\",\"OUT046\",\"OUT019\",\"OUT046\",\"OUT035\",\"OUT046\",\"OUT046\",\"OUT035\",\"OUT046\",\"OUT046\",\"OUT046\",\"OUT046\",\"OUT046\",\"OUT019\",\"OUT046\",\"OUT019\",\"OUT046\",\"OUT019\",\"OUT046\",\"OUT046\",\"OUT019\",\"OUT019\",\"OUT019\",\"OUT046\",\"OUT035\",\"OUT019\",\"OUT035\",\"OUT046\",\"OUT046\",\"OUT035\",\"OUT046\",\"OUT035\",\"OUT046\",\"OUT035\",\"OUT035\",\"OUT019\",\"OUT046\",\"OUT019\",\"OUT035\",\"OUT035\",\"OUT046\",\"OUT035\",\"OUT019\",\"OUT035\",\"OUT035\",\"OUT035\",\"OUT046\",\"OUT019\",\"OUT046\",\"OUT035\",\"OUT035\",\"OUT046\",\"OUT035\",\"OUT019\",\"OUT046\",\"OUT019\",\"OUT035\",\"OUT035\",\"OUT019\",\"OUT035\",\"OUT046\",\"OUT046\",\"OUT046\",\"OUT046\",\"OUT035\",\"OUT035\",\"OUT035\",\"OUT046\",\"OUT035\",\"OUT035\",\"OUT035\",\"OUT046\",\"OUT046\",\"OUT046\",\"OUT046\",\"OUT035\",\"OUT046\",\"OUT046\",\"OUT046\",\"OUT046\",\"OUT019\",\"OUT046\",\"OUT046\",\"OUT035\",\"OUT035\",\"OUT035\",\"OUT035\",\"OUT046\",\"OUT035\",\"OUT019\",\"OUT046\",\"OUT019\",\"OUT046\",\"OUT019\",\"OUT046\",\"OUT035\",\"OUT046\",\"OUT046\",\"OUT046\",\"OUT046\",\"OUT035\",\"OUT046\",\"OUT046\",\"OUT046\",\"OUT035\",\"OUT035\",\"OUT035\",\"OUT046\",\"OUT035\",\"OUT046\",\"OUT046\",\"OUT019\",\"OUT035\",\"OUT019\",\"OUT035\",\"OUT046\",\"OUT019\",\"OUT046\",\"OUT019\",\"OUT046\",\"OUT046\",\"OUT035\",\"OUT035\",\"OUT046\",\"OUT035\",\"OUT046\",\"OUT035\",\"OUT046\",\"OUT035\",\"OUT035\",\"OUT046\",\"OUT035\",\"OUT035\",\"OUT035\",\"OUT019\",\"OUT035\",\"OUT019\",\"OUT046\",\"OUT035\",\"OUT035\",\"OUT046\",\"OUT046\",\"OUT035\",\"OUT035\",\"OUT035\",\"OUT046\",\"OUT046\",\"OUT046\",\"OUT046\",\"OUT046\",\"OUT019\",\"OUT046\",\"OUT046\",\"OUT035\",\"OUT035\",\"OUT035\",\"OUT019\",\"OUT035\",\"OUT019\",\"OUT019\",\"OUT019\",\"OUT019\",\"OUT046\",\"OUT019\",\"OUT035\",\"OUT035\",\"OUT019\",\"OUT046\",\"OUT035\",\"OUT035\",\"OUT019\",\"OUT046\",\"OUT019\",\"OUT046\",\"OUT046\",\"OUT035\",\"OUT019\",\"OUT046\",\"OUT046\",\"OUT019\",\"OUT019\",\"OUT035\",\"OUT046\",\"OUT046\",\"OUT035\",\"OUT035\",\"OUT046\",\"OUT046\",\"OUT046\",\"OUT035\",\"OUT019\",\"OUT035\",\"OUT019\",\"OUT035\",\"OUT046\",\"OUT046\",\"OUT019\",\"OUT046\",\"OUT035\",\"OUT035\",\"OUT035\",\"OUT019\",\"OUT035\",\"OUT035\",\"OUT035\",\"OUT019\",\"OUT019\",\"OUT035\",\"OUT035\",\"OUT046\",\"OUT035\",\"OUT019\",\"OUT035\",\"OUT046\",\"OUT046\",\"OUT019\",\"OUT035\",\"OUT035\",\"OUT035\",\"OUT035\",\"OUT046\",\"OUT035\",\"OUT035\",\"OUT046\",\"OUT046\",\"OUT046\",\"OUT035\",\"OUT035\",\"OUT035\",\"OUT046\",\"OUT019\",\"OUT035\",\"OUT046\",\"OUT019\",\"OUT046\",\"OUT046\",\"OUT035\",\"OUT035\",\"OUT035\",\"OUT046\",\"OUT035\",\"OUT046\",\"OUT046\",\"OUT035\",\"OUT046\",\"OUT046\",\"OUT035\",\"OUT019\",\"OUT035\",\"OUT035\",\"OUT046\",\"OUT035\",\"OUT046\",\"OUT035\",\"OUT046\",\"OUT019\",\"OUT035\",\"OUT046\",\"OUT046\",\"OUT046\",\"OUT046\",\"OUT035\",\"OUT019\",\"OUT019\",\"OUT035\",\"OUT035\",\"OUT035\",\"OUT019\",\"OUT035\",\"OUT046\",\"OUT035\",\"OUT019\",\"OUT046\",\"OUT046\",\"OUT046\",\"OUT035\",\"OUT046\",\"OUT035\",\"OUT035\",\"OUT046\",\"OUT046\",\"OUT046\",\"OUT046\",\"OUT035\",\"OUT046\",\"OUT035\",\"OUT046\",\"OUT035\",\"OUT046\",\"OUT046\",\"OUT019\",\"OUT046\",\"OUT046\",\"OUT046\",\"OUT035\",\"OUT046\",\"OUT035\",\"OUT046\",\"OUT046\",\"OUT046\",\"OUT046\",\"OUT035\",\"OUT035\",\"OUT035\",\"OUT019\",\"OUT046\",\"OUT019\",\"OUT046\",\"OUT019\",\"OUT046\",\"OUT035\",\"OUT035\",\"OUT046\",\"OUT035\",\"OUT035\",\"OUT046\",\"OUT019\",\"OUT046\",\"OUT035\",\"OUT035\",\"OUT046\",\"OUT046\",\"OUT035\",\"OUT019\",\"OUT019\",\"OUT046\",\"OUT035\",\"OUT046\",\"OUT035\",\"OUT035\",\"OUT019\",\"OUT035\",\"OUT035\",\"OUT035\",\"OUT046\",\"OUT035\",\"OUT035\",\"OUT035\",\"OUT046\",\"OUT046\",\"OUT035\",\"OUT035\",\"OUT046\",\"OUT046\",\"OUT035\",\"OUT019\",\"OUT035\",\"OUT035\",\"OUT046\",\"OUT046\",\"OUT035\",\"OUT046\",\"OUT035\",\"OUT019\",\"OUT046\",\"OUT019\",\"OUT046\",\"OUT046\",\"OUT046\",\"OUT035\",\"OUT035\",\"OUT035\",\"OUT046\",\"OUT035\",\"OUT035\",\"OUT046\",\"OUT035\",\"OUT046\",\"OUT046\",\"OUT035\",\"OUT019\",\"OUT019\",\"OUT035\",\"OUT019\",\"OUT035\",\"OUT035\",\"OUT035\",\"OUT019\",\"OUT035\",\"OUT046\",\"OUT046\",\"OUT035\",\"OUT046\",\"OUT035\",\"OUT019\",\"OUT019\",\"OUT046\",\"OUT019\",\"OUT046\",\"OUT019\",\"OUT035\",\"OUT019\",\"OUT035\",\"OUT046\",\"OUT035\",\"OUT046\",\"OUT019\",\"OUT035\",\"OUT035\",\"OUT046\",\"OUT035\",\"OUT019\",\"OUT035\",\"OUT019\",\"OUT019\",\"OUT019\",\"OUT019\",\"OUT019\",\"OUT019\",\"OUT046\",\"OUT046\",\"OUT046\",\"OUT035\",\"OUT035\",\"OUT035\",\"OUT046\",\"OUT046\",\"OUT046\",\"OUT035\",\"OUT046\",\"OUT035\",\"OUT019\",\"OUT035\",\"OUT035\",\"OUT046\",\"OUT046\",\"OUT046\",\"OUT035\",\"OUT046\",\"OUT046\",\"OUT035\",\"OUT046\",\"OUT046\",\"OUT035\",\"OUT019\",\"OUT035\",\"OUT019\",\"OUT046\",\"OUT035\",\"OUT019\",\"OUT046\",\"OUT019\",\"OUT019\",\"OUT019\",\"OUT046\",\"OUT046\",\"OUT046\",\"OUT019\",\"OUT035\",\"OUT035\",\"OUT019\",\"OUT019\",\"OUT035\",\"OUT046\",\"OUT046\",\"OUT046\",\"OUT035\",\"OUT046\",\"OUT046\",\"OUT035\",\"OUT035\",\"OUT046\",\"OUT035\",\"OUT019\",\"OUT019\",\"OUT035\",\"OUT046\",\"OUT046\",\"OUT035\",\"OUT035\",\"OUT035\",\"OUT019\",\"OUT035\",\"OUT046\",\"OUT046\",\"OUT035\",\"OUT019\",\"OUT019\",\"OUT019\",\"OUT035\",\"OUT046\",\"OUT019\",\"OUT019\",\"OUT019\",\"OUT019\",\"OUT035\",\"OUT035\",\"OUT035\",\"OUT046\",\"OUT046\",\"OUT035\",\"OUT019\",\"OUT035\",\"OUT035\",\"OUT046\",\"OUT035\",\"OUT035\",\"OUT035\",\"OUT046\",\"OUT046\",\"OUT046\",\"OUT019\",\"OUT046\",\"OUT035\",\"OUT019\",\"OUT035\",\"OUT035\",\"OUT035\",\"OUT035\",\"OUT046\",\"OUT019\",\"OUT035\",\"OUT019\",\"OUT019\",\"OUT019\",\"OUT035\",\"OUT019\",\"OUT035\",\"OUT019\",\"OUT035\",\"OUT019\",\"OUT035\",\"OUT035\",\"OUT019\",\"OUT046\",\"OUT046\",\"OUT046\",\"OUT035\",\"OUT035\",\"OUT046\",\"OUT019\",\"OUT046\",\"OUT035\",\"OUT046\",\"OUT046\",\"OUT046\",\"OUT035\",\"OUT046\",\"OUT046\",\"OUT046\",\"OUT046\",\"OUT019\",\"OUT019\",\"OUT019\",\"OUT046\",\"OUT046\",\"OUT046\",\"OUT019\",\"OUT046\",\"OUT035\",\"OUT035\",\"OUT035\",\"OUT019\",\"OUT035\",\"OUT019\",\"OUT035\",\"OUT046\",\"OUT035\",\"OUT046\",\"OUT019\",\"OUT035\",\"OUT046\",\"OUT019\",\"OUT035\",\"OUT019\",\"OUT046\",\"OUT019\",\"OUT046\",\"OUT035\",\"OUT035\",\"OUT035\",\"OUT046\",\"OUT046\",\"OUT019\",\"OUT035\",\"OUT019\",\"OUT046\",\"OUT035\",\"OUT035\",\"OUT046\",\"OUT046\",\"OUT035\",\"OUT035\",\"OUT035\",\"OUT035\",\"OUT019\",\"OUT019\",\"OUT046\",\"OUT019\",\"OUT035\",\"OUT046\",\"OUT035\",\"OUT035\",\"OUT035\",\"OUT046\",\"OUT035\",\"OUT046\",\"OUT019\",\"OUT035\",\"OUT035\",\"OUT046\",\"OUT046\",\"OUT046\",\"OUT035\",\"OUT046\",\"OUT046\",\"OUT035\",\"OUT046\",\"OUT019\",\"OUT046\",\"OUT035\",\"OUT035\",\"OUT035\",\"OUT046\",\"OUT046\",\"OUT019\",\"OUT019\",\"OUT035\",\"OUT046\",\"OUT035\",\"OUT019\",\"OUT046\",\"OUT046\",\"OUT019\",\"OUT035\",\"OUT019\",\"OUT046\",\"OUT046\",\"OUT035\",\"OUT035\",\"OUT046\",\"OUT035\",\"OUT019\",\"OUT046\",\"OUT046\",\"OUT046\",\"OUT046\",\"OUT035\",\"OUT035\",\"OUT046\",\"OUT019\",\"OUT046\",\"OUT046\",\"OUT046\",\"OUT046\",\"OUT035\",\"OUT019\",\"OUT035\",\"OUT046\",\"OUT046\",\"OUT019\",\"OUT046\",\"OUT019\",\"OUT046\",\"OUT046\",\"OUT035\",\"OUT019\",\"OUT019\",\"OUT046\",\"OUT046\",\"OUT046\",\"OUT035\",\"OUT046\",\"OUT035\",\"OUT019\",\"OUT019\",\"OUT035\",\"OUT035\",\"OUT035\",\"OUT035\",\"OUT046\",\"OUT035\",\"OUT046\",\"OUT046\",\"OUT035\",\"OUT046\",\"OUT035\",\"OUT046\",\"OUT035\",\"OUT046\",\"OUT046\",\"OUT035\",\"OUT046\",\"OUT035\",\"OUT035\",\"OUT046\",\"OUT019\",\"OUT035\",\"OUT035\",\"OUT035\",\"OUT019\",\"OUT035\",\"OUT019\",\"OUT035\",\"OUT046\",\"OUT035\",\"OUT035\",\"OUT035\",\"OUT035\",\"OUT046\",\"OUT035\",\"OUT046\",\"OUT019\",\"OUT046\",\"OUT046\",\"OUT046\",\"OUT035\",\"OUT019\",\"OUT019\",\"OUT046\",\"OUT019\",\"OUT046\",\"OUT035\",\"OUT035\",\"OUT019\",\"OUT035\",\"OUT046\",\"OUT019\",\"OUT035\",\"OUT046\",\"OUT046\",\"OUT035\",\"OUT019\",\"OUT035\",\"OUT019\",\"OUT035\",\"OUT035\",\"OUT019\",\"OUT019\",\"OUT046\",\"OUT019\",\"OUT046\",\"OUT035\",\"OUT035\",\"OUT019\",\"OUT046\",\"OUT046\",\"OUT035\",\"OUT019\",\"OUT046\",\"OUT046\",\"OUT035\",\"OUT046\",\"OUT019\",\"OUT035\",\"OUT035\",\"OUT046\",\"OUT035\",\"OUT019\",\"OUT046\",\"OUT035\",\"OUT046\",\"OUT035\",\"OUT046\",\"OUT046\",\"OUT035\",\"OUT035\",\"OUT019\",\"OUT035\",\"OUT046\",\"OUT046\",\"OUT035\",\"OUT019\",\"OUT035\",\"OUT046\",\"OUT035\",\"OUT046\",\"OUT035\",\"OUT035\",\"OUT019\",\"OUT019\",\"OUT035\",\"OUT035\",\"OUT046\",\"OUT019\",\"OUT046\",\"OUT035\",\"OUT035\",\"OUT035\",\"OUT019\",\"OUT046\",\"OUT019\",\"OUT046\",\"OUT035\",\"OUT046\",\"OUT035\",\"OUT019\",\"OUT019\",\"OUT019\",\"OUT019\",\"OUT035\",\"OUT046\",\"OUT019\",\"OUT019\",\"OUT019\",\"OUT035\",\"OUT035\",\"OUT019\",\"OUT035\",\"OUT019\",\"OUT035\",\"OUT046\",\"OUT035\",\"OUT035\",\"OUT019\",\"OUT035\",\"OUT046\",\"OUT046\",\"OUT046\",\"OUT019\",\"OUT035\",\"OUT019\",\"OUT019\",\"OUT046\",\"OUT035\",\"OUT019\",\"OUT019\",\"OUT019\",\"OUT035\",\"OUT046\",\"OUT035\",\"OUT035\",\"OUT019\",\"OUT046\",\"OUT019\",\"OUT035\",\"OUT019\",\"OUT019\",\"OUT035\",\"OUT046\",\"OUT019\",\"OUT046\",\"OUT019\",\"OUT046\",\"OUT035\",\"OUT046\",\"OUT035\",\"OUT046\",\"OUT046\",\"OUT046\",\"OUT019\",\"OUT046\",\"OUT035\",\"OUT046\",\"OUT035\",\"OUT035\",\"OUT046\",\"OUT046\",\"OUT035\",\"OUT046\",\"OUT019\",\"OUT019\",\"OUT035\",\"OUT019\",\"OUT019\",\"OUT035\",\"OUT019\",\"OUT035\",\"OUT046\",\"OUT019\",\"OUT035\",\"OUT046\",\"OUT035\",\"OUT019\",\"OUT019\",\"OUT019\",\"OUT046\",\"OUT046\",\"OUT035\",\"OUT019\",\"OUT046\",\"OUT019\",\"OUT019\",\"OUT035\",\"OUT046\",\"OUT035\",\"OUT046\",\"OUT046\",\"OUT046\",\"OUT019\",\"OUT019\",\"OUT046\",\"OUT046\",\"OUT046\",\"OUT046\",\"OUT035\",\"OUT046\",\"OUT046\",\"OUT019\",\"OUT019\",\"OUT046\",\"OUT019\",\"OUT046\",\"OUT035\",\"OUT046\",\"OUT035\",\"OUT035\",\"OUT046\",\"OUT046\",\"OUT035\",\"OUT046\",\"OUT035\",\"OUT046\",\"OUT046\",\"OUT035\",\"OUT019\",\"OUT035\",\"OUT019\",\"OUT035\",\"OUT046\",\"OUT035\",\"OUT035\",\"OUT046\",\"OUT035\",\"OUT046\",\"OUT035\",\"OUT035\",\"OUT035\",\"OUT046\",\"OUT046\",\"OUT046\",\"OUT019\",\"OUT046\",\"OUT046\",\"OUT035\",\"OUT019\",\"OUT046\",\"OUT019\",\"OUT035\",\"OUT046\",\"OUT019\",\"OUT046\",\"OUT046\",\"OUT035\",\"OUT019\",\"OUT019\",\"OUT019\",\"OUT046\",\"OUT035\",\"OUT046\",\"OUT019\",\"OUT046\",\"OUT035\",\"OUT019\",\"OUT046\",\"OUT046\",\"OUT019\",\"OUT046\",\"OUT035\",\"OUT035\",\"OUT035\",\"OUT046\",\"OUT035\",\"OUT035\",\"OUT019\",\"OUT046\",\"OUT019\",\"OUT035\",\"OUT046\",\"OUT019\",\"OUT035\",\"OUT035\",\"OUT019\",\"OUT019\",\"OUT035\",\"OUT019\",\"OUT046\",\"OUT046\",\"OUT035\",\"OUT035\",\"OUT046\",\"OUT019\",\"OUT035\",\"OUT046\",\"OUT046\",\"OUT019\",\"OUT019\",\"OUT035\",\"OUT019\",\"OUT046\",\"OUT046\",\"OUT035\",\"OUT019\",\"OUT019\",\"OUT035\",\"OUT019\",\"OUT035\",\"OUT046\",\"OUT019\",\"OUT046\",\"OUT035\",\"OUT019\",\"OUT019\",\"OUT046\",\"OUT019\",\"OUT035\",\"OUT035\",\"OUT035\",\"OUT035\",\"OUT046\",\"OUT019\",\"OUT046\",\"OUT046\",\"OUT046\",\"OUT035\",\"OUT046\",\"OUT019\",\"OUT046\",\"OUT035\",\"OUT035\",\"OUT019\",\"OUT035\",\"OUT046\",\"OUT035\",\"OUT046\",\"OUT046\",\"OUT035\",\"OUT046\",\"OUT019\",\"OUT046\",\"OUT035\",\"OUT046\",\"OUT046\",\"OUT046\",\"OUT035\",\"OUT035\",\"OUT046\",\"OUT046\",\"OUT019\",\"OUT046\",\"OUT019\",\"OUT046\",\"OUT019\",\"OUT035\",\"OUT046\",\"OUT035\",\"OUT035\",\"OUT035\",\"OUT019\",\"OUT046\",\"OUT035\",\"OUT035\",\"OUT019\",\"OUT019\",\"OUT046\",\"OUT019\",\"OUT019\",\"OUT035\",\"OUT019\",\"OUT019\",\"OUT046\",\"OUT035\",\"OUT046\",\"OUT046\",\"OUT035\",\"OUT046\",\"OUT046\",\"OUT019\",\"OUT035\",\"OUT046\",\"OUT046\",\"OUT035\",\"OUT035\",\"OUT019\",\"OUT019\",\"OUT019\",\"OUT035\",\"OUT035\",\"OUT035\",\"OUT035\",\"OUT035\",\"OUT046\",\"OUT046\",\"OUT035\",\"OUT046\",\"OUT019\",\"OUT019\",\"OUT035\",\"OUT046\",\"OUT046\",\"OUT019\",\"OUT019\",\"OUT035\",\"OUT035\",\"OUT019\",\"OUT035\",\"OUT046\",\"OUT046\",\"OUT046\",\"OUT046\",\"OUT035\",\"OUT046\",\"OUT046\",\"OUT019\",\"OUT019\",\"OUT035\",\"OUT019\",\"OUT046\",\"OUT046\",\"OUT046\",\"OUT019\",\"OUT046\",\"OUT019\",\"OUT035\",\"OUT019\",\"OUT046\",\"OUT035\",\"OUT046\",\"OUT046\",\"OUT046\",\"OUT046\",\"OUT046\",\"OUT046\",\"OUT046\",\"OUT019\",\"OUT019\",\"OUT035\",\"OUT046\",\"OUT046\",\"OUT046\",\"OUT035\",\"OUT019\",\"OUT046\",\"OUT046\",\"OUT035\",\"OUT019\",\"OUT046\",\"OUT019\",\"OUT019\",\"OUT046\",\"OUT035\",\"OUT046\",\"OUT035\",\"OUT046\",\"OUT046\",\"OUT035\",\"OUT035\",\"OUT046\",\"OUT046\",\"OUT019\",\"OUT046\",\"OUT046\",\"OUT046\",\"OUT035\",\"OUT035\",\"OUT046\",\"OUT035\",\"OUT046\",\"OUT019\",\"OUT035\",\"OUT035\",\"OUT035\",\"OUT046\",\"OUT046\",\"OUT035\",\"OUT019\",\"OUT046\",\"OUT046\",\"OUT035\",\"OUT046\",\"OUT046\",\"OUT046\",\"OUT046\",\"OUT046\",\"OUT035\",\"OUT046\",\"OUT046\",\"OUT035\",\"OUT035\",\"OUT046\",\"OUT019\",\"OUT035\",\"OUT035\",\"OUT019\",\"OUT035\",\"OUT019\",\"OUT046\",\"OUT046\",\"OUT046\",\"OUT019\",\"OUT035\",\"OUT035\",\"OUT035\",\"OUT019\",\"OUT035\",\"OUT035\",\"OUT035\",\"OUT019\",\"OUT035\",\"OUT046\",\"OUT046\",\"OUT046\",\"OUT035\",\"OUT019\",\"OUT019\",\"OUT035\",\"OUT035\",\"OUT035\",\"OUT046\",\"OUT035\",\"OUT046\",\"OUT035\",\"OUT046\",\"OUT046\",\"OUT019\",\"OUT046\",\"OUT019\",\"OUT035\",\"OUT019\",\"OUT046\",\"OUT019\",\"OUT019\",\"OUT046\",\"OUT035\",\"OUT019\",\"OUT035\",\"OUT035\",\"OUT019\",\"OUT035\",\"OUT046\",\"OUT046\",\"OUT046\",\"OUT019\",\"OUT046\",\"OUT019\",\"OUT019\",\"OUT046\",\"OUT035\",\"OUT046\",\"OUT035\",\"OUT046\",\"OUT035\",\"OUT035\",\"OUT035\",\"OUT035\",\"OUT035\",\"OUT035\",\"OUT035\",\"OUT046\",\"OUT035\",\"OUT019\",\"OUT019\",\"OUT046\",\"OUT019\",\"OUT035\",\"OUT019\",\"OUT035\",\"OUT035\",\"OUT046\",\"OUT019\",\"OUT035\",\"OUT019\",\"OUT019\",\"OUT046\",\"OUT035\",\"OUT035\",\"OUT035\",\"OUT035\",\"OUT035\",\"OUT035\",\"OUT046\",\"OUT035\",\"OUT046\"],\"xaxis\":\"x\",\"y\":[2187.153,2145.2076,1547.3192,2748.4224,1587.2672,214.3876,4078.025,1065.28,125.8362,2085.2856,3435.528,2576.646,780.3176,3134.5864,4910.275,892.172,147.8076,4865.6664,2027.361,3435.528,2290.352,643.1628,1697.79,1427.4752,583.2408,2716.464,661.8052,622.523,1274.3412,487.3656,3755.112,1314.2892,679.116,699.09,176.437,2542.0244,3036.048,868.869,1137.1864,1438.128,1969.4364,1402.1748,905.488,6301.1312,1597.92,529.311,1969.4364,3169.208,2618.5914,2769.728,2120.573,42.6112,239.688,657.8104,540.6296,992.7078,3275.736,4119.9704,317.5866,133.16,5650.6446,1139.1838,265.6542,213.056,153.134,1649.8524,2603.278,605.878,119.1782,3248.4382,3225.1352,3755.112,974.7312,306.268,41.2796,1418.154,1428.141,5829.7448,2082.6224,6088.0752,573.2538,2267.049,5559.43,583.2408,1418.154,2364.9216,254.3356,5895.659,1039.9796,3038.0454,3848.324,527.3136,2390.8878,229.701,3339.6528,383.5008,2586.633,4093.3384,3163.8816,1137.1864,2756.412,182.4292,5153.292,384.8324,5715.2272,4274.436,3523.4136,610.5386,1237.7222,2580.6408,2552.6772,796.9626,916.1408,2954.1546,3811.0392,48.6034,690.4346,1504.708,521.3214,829.5868,2403.538,83.8908,38.6164,4997.4948,372.848,155.1314,1587.2672,2181.1608,3428.2042,1289.6546,50.6008,1139.8496,1816.3024,2897.5616,1957.452,1787.673,2048.6666,810.9444,1193.1136,856.8846,3046.7008,3327.6684,2999.429,75.2354,1581.9408,37.9506,151.8024,1398.8458,1054.6272,2013.3792,95.8752,5416.9488,323.5788,2085.2856,2210.456,1049.9666,2719.793,1531.34,319.584,780.9834,1693.7952,334.2316,1342.2528,319.584,4418.2488,37.9506,353.5398,1118.544,3817.0314,1905.5196,2101.9306,2942.836,2886.243,5502.837,2181.8266,1565.9616,2812.3392,489.363,1665.8316,1555.9746,949.4308,1691.7978,1640.5312,437.4306,4697.8848,5736.5328,3067.3406,868.869,1230.3984,113.8518,3896.2616,798.96,4318.3788,761.0094,593.2278,1150.5024,3259.7568,2930.1858,1544.656,1619.2256,387.4956,1593.9252,585.904,2358.2636,1780.3492,716.4008,5113.344,2665.8632,2626.581,258.3304,3174.5344,2041.3428,996.0368,1757.712,3435.528,1221.0772,669.129,2874.9244,1125.202,857.5504,4287.752,966.7416,365.5242,5141.3076,2665.8632,2848.2924,5243.8408,2109.2544,721.0614,3942.8676,3338.3212,1267.0174,147.1418,181.7634,2857.6136,1406.1696,178.4344,948.0992,87.2198,565.2642,588.5672,978.726,2356.932,461.3994,2014.7108,4643.955,1547.985,2808.3444,1929.4884,2620.5888,1414.1592,527.3136,1725.7536,143.147,2247.075,727.0536,218.3824,895.501,4655.2736,198.4084,50.6008,2454.1388,251.6724,2696.49,1611.9018,1215.7508,367.5216,89.2172,735.709,1323.6104,1737.738,1917.504,1017.3424,1222.4088,474.0496,3547.3824,1478.076,2888.2404,741.0354,1857.582,1150.5024,5038.1086,713.0718,1334.2632,692.432,3139.9128,2061.3168,146.476,4207.856,145.8102,1960.781,2929.52,759.012,1451.444,1808.3128,2311.6576,1418.154,2874.9244,5390.3168,5510.8266,2633.9048,2702.4822,4843.695,1985.4156,2061.3168,3013.4108,809.6128,1088.583,217.0508,932.12,2684.5056,3383.5956,1957.452,2220.443,705.748,3700.5164,2141.2128,174.4396,122.5072,211.7244,2684.5056,294.2836,1350.2424,1593.9252,1438.128,3048.6982,1443.4544,153.7998,4819.0604,659.142,2519.3872,2265.0516,990.7104,339.558,347.5476,796.2968,303.6048,2190.482,366.19,822.263,2336.958,165.1184,571.2564,1358.232,1238.388,2982.784,1303.6364,2897.5616,202.4032,426.112,2647.2208,3235.788,841.5712,1379.5376,1186.4556,189.0872,2956.152,147.8076,1228.401,874.8612,790.9704,4264.449,3014.7424,5382.993,1571.288,2960.1468,1158.492,253.004,1151.1682,739.038,2864.2716,3149.234,3374.2744,567.2616,288.9572,1744.396,2380.9008,2021.3688,5345.7082,2931.5174,369.519,2356.932,2428.8384,476.047,2450.144,345.5502,1985.4156,2432.8332,1989.4104,1964.11,1808.9786,1597.92,3078.6592,1304.968,2768.3964,958.752,145.8102,270.3148,711.0744,843.5686,146.476,1347.5792,2246.4092,833.5816,2181.1608,436.7648,773.6596,107.8596,351.5424,4247.804,115.8492,1923.4962,4074.696,2817.6656,540.6296,1188.453,3848.324,2241.0828,671.1264,177.7686,486.034,2380.235,201.0716,4187.2162,222.3772,1245.046,1342.2528,3749.7856,236.359,4923.591,808.947,716.4008,2727.7826,2330.3,483.3708,167.7816,446.7518,1898.8616,1342.2528,3095.97,171.7764,1603.2464,4221.172,1031.99,1808.3128,1235.059,74.5696,4950.8888,972.068,1904.188,419.454,4809.7392,1787.0072,1537.998,3755.112,1581.9408,628.5152,1975.4286,1537.998,4257.1252,3455.502,918.804,6201.927,255.0014,1078.596,1322.2788,577.9144,2203.798,495.3552,1294.3152,1869.5664,992.7078,665.8,127.8336,1845.5976,85.8882,3129.26,2055.9904,1193.1136,834.9132,3779.0808,2396.88,1999.3974,468.7232,1342.2528,218.3824,614.5334,5626.01,216.385,3131.9232,108.5254,4448.2098,3125.931,3078.6592,1018.674,109.1912,4516.7872,2364.9216,724.3904,175.1054,4111.9808,492.692,194.4136,828.921,2360.9268,3677.2134,199.74,120.5098,2946.165,1789.6704,3681.874,317.5866,1977.426,4410.2592,1012.016,1404.838,245.0144,122.5072,1468.089,1733.7432,4175.8976,569.259,2631.2416,1037.3164,1468.089,314.2576,2988.1104,2874.9244,1017.3424,2530.7058,1244.3802,3078.6592,2866.269,4442.2176,316.9208,1025.332,473.3838,687.1056,3002.0922,1198.44,4566.0564,6033.4796,801.6232,40.6138,515.3292,746.3618,6114.7072,2167.8448,123.8388,2372.9112,796.2968,525.982,3105.957,1078.596,425.4462,165.7842,5033.448,254.3356,447.4176,1764.37,4357.661,3207.8244,732.38,193.082,1209.7586,3878.285,689.103,559.272,179.766,3083.9856,113.186,4687.232,3101.2964,2556.672,782.9808,480.7076,1911.5118,642.497,849.5608,37.2848,5406.296,930.1226,1826.9552,253.6698,1662.5026,5556.7668,1022.6688,3033.3848,780.9834,1808.9786,992.042,5768.4912,970.7364,1970.768,2388.2246,1605.9096,1830.95,939.4438,1856.2504,498.0184,1208.427,2580.6408,262.991,4701.8796,1768.3648,659.142,3062.0142,755.0172,479.376,1922.8304,1677.1502,2406.2012,4578.0408,2579.975,5126.66,2616.594,1223.0746,755.0172,410.1328,387.4956,3635.268,4379.6324,600.5516,2428.8384,2769.728,4527.44,3123.9336,593.8936,856.8846,986.7156,458.0704,589.233,1935.4806,1922.8304,579.246,4514.124,206.398,2490.092,1151.1682,1845.5976,5159.2842,2025.3636,5660.6316,607.2096,2740.4328,1960.1152,2067.309,231.6984,113.8518,555.2772,2059.9852,3089.312,61.2536,2607.2728,3455.502,3086.6488,4653.942,897.4984,1404.838,1069.2748,5206.556,173.7738,5141.3076,4374.306,1179.1318,419.454,3845.6608,2024.032,1168.479,1364.89,370.1848,175.7712,2109.2544,312.2602,4845.0266,2705.1454,998.7,2797.6916,445.4202,352.874,171.1106,1491.392,1186.4556,3621.952,1761.041,1325.6078,3942.8676,3506.7686,5099.3622,2348.9424,1682.4766,1800.3232,2125.2336,601.2174,361.5294,1701.7848,213.056,2372.9112,663.1368,1904.188,605.878,3611.2992,3119.9388,2013.3792,1303.6364,1641.8628,3339.6528,2535.3664,1018.674,1382.2008,5259.82,2090.612,1211.756,1657.842,2619.2572,2721.7904,1869.5664,1411.496,4301.068,2223.1062,4060.7142,1832.2816,3643.2576,33.9558,4247.804,2607.2728,3629.2758,1611.236,2402.2064,139.818,1277.0044,503.3448,6474.2392,1853.5872,467.3916,1949.4624,211.7244,433.4358,4920.9278,1629.8784,4447.544,3339.6528,502.0132,3038.7112,1288.9888,3006.087,2693.8268,1438.128,1263.6884,3672.5528,1258.362,102.5332,291.6204,1540.6612,1724.422,645.1602,1116.5466,1486.7314,3531.4032,3440.8544,1422.1488,3704.5112,347.5476,4460.1942,2816.334,101.8674,2553.343,365.5242,169.1132,4224.501,293.6178,511.3344,2812.3392,3504.1054,743.0328,4848.3556,2840.9686,2956.152,2530.7058,1686.4714,2996.1,2712.4692,592.562,2163.85,1540.6612,3020.0688,2858.9452,452.744,291.6204,1494.0552,2603.278,2117.244,256.333,3487.4604,1288.9888,3688.532,1644.526,1837.608,934.7832,3928.8858,161.7894,2636.568,2316.984,3302.368,2127.231,1022.6688,3075.996,2067.309,4769.1254,945.436,1318.284,1874.8928,289.623,503.3448,4711.2008,152.4682,2463.46,1095.241,2258.3936,4863.0032,250.3408,180.4318,1407.5012,796.9626,3165.879,491.3604,6114.7072,1384.1982,473.3838,892.172,1997.4,2566.659,596.5568,3731.809,1411.496,399.48,2390.222,4604.6728,2820.9946,196.411,2471.4496,2125.2336,1990.742,3103.9596,196.411,697.0926,1537.998,2063.98,356.8688,3350.3056,774.9912,4902.9512,3101.2964,1707.777,843.5686,1693.7952,639.168,1090.5804,735.709,2223.1062,675.1212,155.1314,1697.79,4920.9278,351.5424,5920.2936,135.8232,651.8182,1655.1788,894.8352,105.8622,1987.413,2137.218,1569.9564,295.6152,34.6216,2736.438,1552.6456,3110.6176,1608.5728,3103.9596,1736.4064,378.1744,279.636,6093.4016,187.7556,792.302,607.2096,1618.5598,3103.9596,459.402,479.376,1171.808,3415.554,1437.4622,1577.946,3292.381,5496.8448,3858.9768,2306.997,256.333,420.7856,5800.4496,3448.844,455.4072,3430.2016,2885.5772,3861.64,353.5398,4756.4752,4414.254,387.4956,2024.032,2040.0112,3901.588,311.5944,189.753,219.0482,2530.7058,1813.6392,1388.8588,818.934,4950.8888,4349.0056,6291.81,2745.0934,519.324,2931.5174,1105.228,942.7728,960.7494,5752.512,4586.0304,471.3864,1150.5024,2091.2778,3219.8088,3532.7348,3440.8544,801.6232,1416.8224,715.0692,1780.3492,234.3616,308.9312,5396.9748,4647.284,1917.504,2614.5966,998.7,299.61,1890.2062,103.199,223.7088,1315.6208,2460.7968,352.874,2684.5056,1354.2372,1757.712,1312.2918,834.9132,120.5098,1458.102,3403.5696,1001.3632,141.8154,2679.845,2878.2534,4207.856,1947.465,2466.789,2684.5056,1757.712,127.1678,802.9548,2153.1972,2561.9984,460.7336,4492.8184,1523.3504,755.0172,1964.11,3150.5656,223.7088,303.6048,666.4658,1789.6704,3894.93,6458.26,1042.6428,5145.3024,948.765,288.9572,85.8882,3983.4814,1208.427,1707.777,2388.8904,410.1328,932.12,755.0172,2220.443,1090.5804,5452.902,110.5228,1106.5596,1054.6272,731.0484,801.6232,1667.1632,540.6296,758.3462,1006.6896,1926.1594,5331.7264,218.3824,2527.3768,1488.7288,2812.3392,1165.15,711.0744,1323.6104,2197.14,2956.152,759.012,6338.416,4595.3516,2544.6876,852.8898,2749.754,3621.2862,1318.284,2036.6822,3135.918,1058.622,146.476,3529.4058,439.428,2529.3742,1235.059,2451.4756,423.4488,1984.7498,1837.608,4781.7756,173.108,2277.036,2570.6538,1569.9564,761.0094,2010.716,2642.5602,402.1432,207.0638,177.1028,3109.9518,2109.2544,968.739,483.3708,2805.0154,1060.6194,4502.1396,2476.776,2182.4924,916.1408,215.7192,2807.0128,2776.386,316.255,1086.5856,3568.688,1158.492,2692.4952,1435.4648,2101.2648,1464.76,2014.045,2556.672,2028.6926,3307.6944,1779.0176,311.5944,4250.4672,2821.6604,622.523,569.259,4794.4258,1304.968,2184.4898,1545.9876,210.3928,4613.994,3415.554,1896.1984,2603.278,1901.5248,551.2824,3705.177,40.6138,3485.463,131.8284,1895.5326,3994.8,1182.4608,747.0276,3483.4656,1886.8772,1201.769,585.904,4602.0096,3020.0688,529.9768,1810.976,480.7076,1640.5312,89.883,1749.7224,2269.0464,238.3564,322.2472,221.7114,4623.3152,4068.038,347.5476,2090.612,3094.6384,5089.3752,1310.9602,2871.5954,4207.856,1686.4714,1038.648,1445.4518,575.2512,2912.2092,256.9988,2976.126,4082.6856,1159.8236,3215.814,262.991,383.5008,534.6374,2087.9488,2157.192,374.1796,1725.7536,2141.2128,796.9626,2992.771,3271.0754,228.3694,355.5372,1001.3632,1411.496,1240.3854,265.6542,639.168,2649.884,1263.0226,1874.8928,1747.0592,1850.924,491.3604,2348.9424,2002.0606,3379.6008,494.0236,1404.1722,1518.024,857.5504,2016.7082,1031.99,774.9912,1267.6832,323.5788,1837.608,1596.5884,310.2628,1022.6688,718.3982,4266.4464,2360.9268,1895.5326,3560.6984,878.856,2098.6016,203.7348,1947.465,591.2304,1166.4816,111.1886,1090.5804,2992.771,1480.0734,5580.0698,2856.282,3962.8416,6040.1376,1006.6896,1038.648,1208.427,4327.7,2693.8268,5438.9202,1201.769,5201.2296,1078.596,1846.9292,111.8544,2976.7918,889.5088,1110.5544,2586.633,89.883,1348.245,111.8544,492.692,5219.872,3171.8712,1105.8938,2684.5056,2712.4692,2456.802,2120.573,1286.3256,2189.1504,2246.4092,2947.4966,1284.994,785.644,4427.57,493.3578,980.0576,365.5242,1091.2462,3395.58,1901.5248,4621.9836,782.9808,1406.1696,402.809,1697.79,340.2238,508.6712,1617.894,5773.1518,1283.6624,331.5684,2302.3364,1384.1982,479.376,3877.6192,624.5204,1324.942,815.605,400.8116,96.541,351.5424,181.0976,1665.8316,143.147,1777.686,1965.4416,743.0328,1376.2086,2053.3272,3159.8868,191.7504,5273.136,161.1236,1787.0072,2285.0256,679.116,307.5996,2406.867,3685.8688,215.7192,372.848,540.6296,2221.1088,1438.128,890.8404,4530.1032,1225.072,1378.206,543.2928,2586.633,97.2068,1599.9174,351.5424,3225.801,3355.632,2463.46,687.1056,3815.034,4262.4516,782.9808,2220.443,41.9454,4306.3944,3486.1288,1905.5196,264.9884,37.9506,4326.3684,2093.941,1725.7536,3044.7034,303.6048,1917.504,968.739,1713.7692,945.436,2759.0752,1006.6896,3361.6242,908.1512,1198.44,1557.972,1765.7016,4206.5244,3057.3536,3375.606,1669.8264,2061.3168,3467.4864,4333.6922,663.1368,3237.1196,3523.4136,91.8804,4434.228,1965.4416,2109.2544,2290.352,2376.906,1528.6768,279.636,902.8248,2078.6276,3266.4148,3146.5708,4380.2982,1438.128,113.8518,1640.5312,3924.891,2059.9852,2792.3652,1032.6558,1829.6184,2828.3184,398.1484,3439.5228,4673.916,735.0432,3175.866,3515.424,2569.3222,210.3928,352.874,2175.8344,1403.5064,2143.876,298.2784,5834.4054,2285.0256,1508.037,432.77,2446.815,1784.344,1569.9564,1464.76,667.1316,2306.997,615.1992,1569.9564,914.8092,1810.976,1438.128,950.7624,1621.8888,2302.3364,3095.97,4146.6024,1589.2646,1491.392,120.5098,519.324,703.0848,1550.6482,4094.67,593.2278,1471.418,3338.987,1030.6584,2386.2272,492.692,2796.36,1342.2528,3022.732,229.701,894.8352,219.0482,1230.3984,159.1262,1829.6184,4211.185,2916.204,351.5424,631.8442,1752.3856,656.4788,229.0352,732.38,3427.5384,4837.7028,3745.125,337.5606,809.6128,123.8388,107.8596,1800.3232,1534.0032,3263.7516,1701.7848,607.2096,359.532,4242.4776,2127.231,3652.5788,1298.31,2153.1972,1228.401,133.8258,578.5802,2759.0752,1257.0304,531.3084,1245.046,3709.8376,3599.3148,1126.5336,2900.2248,810.9444,183.095,2055.3246,1332.9316,2514.0608,1537.998,392.822,768.999,316.9208,3962.8416,701.7532,3520.0846,3162.55,1054.6272,1840.937,750.3566,1024.6662,205.0664,6096.0648,1331.6,3062.0142,4294.41,739.038,101.2016,109.857,1018.674,135.8232,703.0848,2527.3768,282.2992,272.978,1091.912,4685.9004,1999.3974,5275.7992,1065.28,4012.7766,191.0846,790.9704,1821.6288,61.9194,2802.3522,447.4176,3904.917,150.4708,4729.8432,866.8716,2149.2024,2484.7656,44.6086,1118.544,2852.2872,1038.648,545.2902,1304.968,447.4176,858.882,179.766,218.3824,316.9208,193.7478,120.5098,1366.2216,1090.5804,1221.0772,2950.8256,3961.51,3901.588,1597.92,3880.2824,2024.032,4146.6024,3301.7022,663.1368,190.4188,830.9184,2237.088,690.4346,857.5504,1557.972,2237.088,2731.1116,1657.1762,751.0224,4165.2448,2566.659,2759.0752,506.008,3831.0132,371.5164,3520.0846,1882.2166,429.441,1565.9616,213.056,447.4176,331.5684,3942.8676,2097.9358,1165.15,53.264,2852.2872,1225.7378,469.389,444.7544,1860.2452,1612.5676,5193.24,1235.059,1340.2554,516.6608,1272.3438,1062.6168,1174.4712,2966.139,2530.04,37.9506,822.263,4027.4242,3243.7776,1288.9888,856.8846,2773.057,4869.6612,61.2536,1435.4648,1334.2632,1128.531,1282.3308,435.4332,430.1068,683.1108,1488.063,830.9184,170.4448,474.0496,311.5944,122.5072,5321.0736,3419.5488,4807.076,3920.2304,2241.0828,1944.136,243.6828,2708.4744,2516.724,2559.3352,3355.632,3866.9664,553.9456,2524.0478,1022.6688,3588.662,93.212,3179.8608,1388.193,150.4708,1561.9668,1039.9796,3471.4812,4740.496,3595.32,104.5306,3112.615,543.2928,165.7842,115.8492,1369.5506,477.3786,3364.9532,1061.951,2696.49,129.831,2059.9852,2422.1804,171.7764,1214.4192,5034.7796,1086.5856,1965.4416,1587.933,4210.5192,198.4084,4082.6856,1470.0864,517.9924,5608.6992,647.1576,1264.3542,2586.633,418.1224,1488.063,2490.092,221.0456,234.3616,312.926,4040.7402,1034.6532,1607.907,45.9402,1091.912,3383.5956,679.116,4836.3712,549.285,1348.245,229.701,3970.8312,1252.3698,1627.881,2572.6512,152.4682,4893.63,1416.8224,385.4982,1264.3542,213.056,1438.128,400.8116,798.96,615.1992,3325.0052,2390.8878,1511.366,1100.5674,88.5514,3749.7856,110.5228,3504.1054,4266.4464,1565.9616,1267.6832,2326.971,5960.2416,341.5554,401.4774,2804.3496,567.2616,379.506,1510.0344,296.9468,555.2772,2818.3314,5452.902,2093.941,4566.0564,4287.752,2162.5184,3635.268,39.948,2619.2572,4460.86,787.6414,709.077,5890.9984,4165.2448,3874.956,4996.829,1981.4208,679.116,555.2772,4844.3608,3340.9844,6371.706,3475.476,3422.212,2022.7004,677.1186,183.7608,4807.7418,1030.6584,2482.7682,451.4124,1282.3308,551.2824,197.0768,2021.3688,160.4578,1303.6364,1944.136,2246.4092,873.5296,1771.028,2631.2416,141.8154,2808.3444,1584.604,1091.2462,2902.888,2314.9866,1162.4868,2013.3792,691.1004,623.1888,2988.1104,940.7754,1351.574,2616.594,256.9988,1800.3232,3579.3408,1737.738,376.8428,1651.184,143.8128,2669.1922,2651.2156,5005.4844,223.7088,1001.3632,2871.5954,2766.399,649.8208,447.4176,1162.4868,2858.2794,185.0924,1041.3112,4138.6128,2354.2688,3563.3616,3506.7686,1653.8472,3994.8,1182.4608,3795.06,1098.57,910.8144,6024.1584,2423.512,2195.8084,2603.278,3202.498,1547.985,1216.4166,3570.6854,3263.0858,3558.0352,555.2772,2664.5316,1724.422,1308.297,449.415,4459.5284,153.134,1860.2452,2433.499,3251.1014,2841.6344,6385.022,2376.906,2259.0594,2069.3064,1701.7848,412.796,1165.15,243.6828,5742.525,2237.088,466.06,202.4032,5841.0634,296.9468,1596.5884,1384.864,3803.0496,365.5242,767.0016,1922.8304,575.917,820.2656,1304.968,1338.258,758.3462,223.7088,1350.2424,460.7336,1138.518,3880.2824,604.5464,50.6008,4653.2762,386.164,3243.7776,715.0692,5383.6588,862.211,3004.0896,4695.2216,1670.4922,708.4112,4119.9704,2283.0282,2057.9878,5890.9984,753.6856,4681.9056,2266.3832,1268.349,4984.1788,473.3838,3338.987,2045.3376,437.4306,539.298,1744.396,871.5322,1171.808,4572.0486,123.8388,1797.66,1926.1594,882.8508,4229.1616,1148.505,1366.2216,1393.5194,2213.1192,3942.8676,2290.352,892.8378,564.5984,123.8388,4649.9472,610.5386,862.8768,312.926,4625.9784,1704.448,2884.2456,459.402,75.9012,3516.7556,185.7582,2395.5484,1258.362,458.7362,1624.552,254.3356,111.8544,675.1212,135.8232,4293.0784,647.8234,47.2718,42.6112,311.5944,3277.0676,1315.6208,150.4708,5816.4288,149.805,4011.445,2759.0752,2450.144,4005.4528,354.2056,2209.1244,3149.234,5634.6654,6308.455,344.8844,2864.2716,256.9988,145.8102,1116.5466,1470.0864,139.818,90.5488,379.506,2356.932,1416.8224,597.2226,2332.9632,339.558,2199.8032,79.896,2005.3896,357.5346,173.108,5007.4818,1556.6404,312.926,3799.0548,399.48,1927.491,5591.3884,286.294,2073.3012,5020.132,4048.064,2024.032,249.0092,539.298,992.7078,3523.4136,3715.164,503.3448,3219.8088,1967.439,2475.4444,2380.9008,335.5632,418.1224,2936.178,392.822,198.4084,4482.1656,185.0924,2885.5772,1037.3164,975.397,948.0992,910.8144,1982.0866,253.6698,209.0612,131.8284,247.0118,2908.2144,1454.773,151.1366,852.224,424.7804,280.9676,885.514,4407.596,2466.789,5779.144,878.856,4781.7756,815.605,162.4552,3155.892,1662.5026,1225.072,1462.0968,5287.7836,3004.0896,1274.3412,517.3266,319.584,1720.4272,255.6672,589.233,4194.54,848.895,259.662,1125.8678,2416.1882,1205.098,1258.362,5536.7928,1829.6184,3325.671,965.41,423.4488,326.242,3848.324,217.7166,1354.903,5492.85,1930.82,3728.48,1540.6612,588.5672,1494.0552,1788.3388,3316.3498,1188.453,2684.5056,423.4488,2285.0256,585.904,271.6464,767.0016,485.3682,593.2278,1644.526,80.5618,2856.282,3900.9222,251.6724,950.7624,2693.8268,1254.3672,555.2772,369.519,657.8104,1398.18,2026.0294,4390.2852,185.0924,5015.4714,2444.8176,884.1824,3896.2616,3056.022,788.973,2816.334,1808.9786,509.337,2496.75,777.6544,6311.784,759.6778,277.6386,2302.3364,659.142,1838.2738,1494.0552,788.973,4303.0654,695.0952,433.4358,247.6776,1318.284,214.3876,1797.66,2451.4756,2082.6224,3570.0196,4097.3332,160.4578,2572.6512,5097.3648,832.9158,83.225,79.896,539.298,395.4852,4364.319,2163.1842,5937.6044,495.3552,167.7816,1867.569,49.935,1731.7458,1845.5976,422.1172,937.4464,1086.5856,198.4084,291.6204,2257.062,36.619,904.1564,974.7312,3137.2496,1772.3596,605.878,144.4786,1120.5414,772.328,495.3552,2848.9582,1366.2216,123.8388,790.9704,2741.7644,1717.764,288.9572,2051.9956,788.3072,1693.7952,5410.9566,1278.336,1078.596,1724.422,338.2264,3185.853,1438.128,419.454,575.2512,942.7728,2069.3064,4687.232,778.3202,1188.453,617.8624,2143.876,328.9052,1151.1682,316.9208,2676.516,4942.8992,1593.9252,4637.9628,2189.1504,79.896,826.9236,3765.099,2078.6276,450.0808,1470.0864,2972.797,196.411,457.4046,1414.1592,176.437,73.238,1869.5664,2366.919,2463.46,2345.6134,2681.8424,2652.5472,2906.217,516.6608,1947.465,383.5008,3197.1716,335.5632,5543.4508,65.2484,109.1912,175.7712,1174.4712,649.8208,703.0848,1133.8574,1844.266,5073.396,428.7752,3209.156,567.2616,41.2796,385.4982,461.3994,2542.0244,988.713,103.199,469.389,2218.4456,1857.582,179.766,2554.0088,3066.6748,1211.756,3169.208,2407.5328,1958.1178,677.1186,1544.656,888.843,1010.6844,276.9728,647.1576,985.384,3237.1196,961.4152,185.7582,1556.6404,336.8948,4218.5088,271.6464,639.168,565.2642,2006.7212,3103.9596,1471.418,1830.95,798.96,2833.6448,3593.3226,379.506,109.857,4233.1564,5033.448,2167.8448,4229.1616,3146.5708,117.1808,765.67,1214.4192,1772.3596,207.7296,4921.5936,364.8584,246.346,1194.4452,1831.6158,416.125,1977.426,326.242,392.822,1890.872,4175.8976,3006.087,2852.2872,143.8128,4136.6154,4171.9028,2261.0568,1989.4104,3592.6568,2376.906,4379.6324,6199.9296,161.7894,1163.8184,1235.7248,3775.086,2189.1504,1789.6704,2648.5524,246.346,6008.1792,2964.1416,659.142,2111.2518,1235.059,2006.7212,202.4032,2396.88,687.1056,2396.88,809.6128,1869.5664,4731.1748,2423.512,469.389,973.3996,3209.156,360.8636,2741.0986,387.4956,3016.7398,1813.6392,1025.332,510.0028,882.185,2362.9242,4673.916,228.3694,2336.958,3271.7412,3705.177,368.8532,772.328,958.752,3430.2016,2366.919,1604.578,361.5294,543.2928,850.8924,2889.572,5313.7498,2117.244,5849.7188,3271.7412,771.6622,3099.9648,2223.772,193.7478,3914.904,467.3916,2822.992,641.1654,822.263,1482.0708,121.1756,645.1602,459.402,215.7192,871.5322,1789.6704,528.6452,3717.8272,2372.9112,4739.8302,813.6076,451.4124,3219.8088,153.134,124.5046,999.3658,575.2512,788.973,1691.132,942.107,3739.1328,2756.412,4512.1266,2094.6068,2876.256,1813.6392,4332.3606,527.3136,2596.62,38.6164,571.2564,1844.9318,159.792,1516.6924,452.744,741.0354,2852.2872,4165.2448,367.5216,4820.392,459.402,487.3656,2419.5172,4314.384,2247.075,2976.126,3392.9168,515.995,595.2252,3608.636,1193.1136,765.67],\"yaxis\":\"y\",\"type\":\"histogram\"},{\"alignmentgroup\":\"True\",\"bingroup\":\"x\",\"histfunc\":\"sum\",\"hovertemplate\":\"Outlet Size=Medium<br>Outlet ID=%{x}<br>sum of Total Sales=%{y}<extra></extra>\",\"legendgroup\":\"Medium\",\"marker\":{\"color\":\"#EF553B\",\"pattern\":{\"shape\":\"\"}},\"name\":\"Medium\",\"offsetgroup\":\"Medium\",\"orientation\":\"v\",\"showlegend\":true,\"x\":[\"OUT049\",\"OUT018\",\"OUT049\",\"OUT018\",\"OUT027\",\"OUT049\",\"OUT049\",\"OUT018\",\"OUT049\",\"OUT027\",\"OUT027\",\"OUT018\",\"OUT018\",\"OUT049\",\"OUT027\",\"OUT018\",\"OUT027\",\"OUT027\",\"OUT049\",\"OUT018\",\"OUT049\",\"OUT018\",\"OUT027\",\"OUT027\",\"OUT049\",\"OUT049\",\"OUT018\",\"OUT027\",\"OUT027\",\"OUT049\",\"OUT049\",\"OUT049\",\"OUT027\",\"OUT027\",\"OUT049\",\"OUT018\",\"OUT027\",\"OUT049\",\"OUT018\",\"OUT018\",\"OUT027\",\"OUT049\",\"OUT018\",\"OUT018\",\"OUT027\",\"OUT018\",\"OUT018\",\"OUT027\",\"OUT018\",\"OUT018\",\"OUT027\",\"OUT018\",\"OUT027\",\"OUT027\",\"OUT018\",\"OUT049\",\"OUT049\",\"OUT049\",\"OUT049\",\"OUT018\",\"OUT027\",\"OUT049\",\"OUT027\",\"OUT027\",\"OUT049\",\"OUT049\",\"OUT027\",\"OUT027\",\"OUT027\",\"OUT027\",\"OUT027\",\"OUT027\",\"OUT049\",\"OUT018\",\"OUT049\",\"OUT027\",\"OUT018\",\"OUT027\",\"OUT018\",\"OUT049\",\"OUT027\",\"OUT018\",\"OUT027\",\"OUT049\",\"OUT027\",\"OUT018\",\"OUT018\",\"OUT027\",\"OUT027\",\"OUT027\",\"OUT049\",\"OUT049\",\"OUT027\",\"OUT027\",\"OUT027\",\"OUT027\",\"OUT049\",\"OUT049\",\"OUT049\",\"OUT049\",\"OUT018\",\"OUT018\",\"OUT049\",\"OUT027\",\"OUT027\",\"OUT018\",\"OUT049\",\"OUT018\",\"OUT027\",\"OUT018\",\"OUT027\",\"OUT027\",\"OUT018\",\"OUT027\",\"OUT049\",\"OUT049\",\"OUT018\",\"OUT027\",\"OUT027\",\"OUT049\",\"OUT027\",\"OUT018\",\"OUT049\",\"OUT018\",\"OUT049\",\"OUT018\",\"OUT018\",\"OUT049\",\"OUT049\",\"OUT049\",\"OUT018\",\"OUT027\",\"OUT018\",\"OUT027\",\"OUT018\",\"OUT018\",\"OUT049\",\"OUT027\",\"OUT027\",\"OUT049\",\"OUT049\",\"OUT027\",\"OUT018\",\"OUT018\",\"OUT018\",\"OUT018\",\"OUT027\",\"OUT027\",\"OUT018\",\"OUT049\",\"OUT027\",\"OUT027\",\"OUT049\",\"OUT049\",\"OUT027\",\"OUT027\",\"OUT018\",\"OUT049\",\"OUT049\",\"OUT049\",\"OUT018\",\"OUT018\",\"OUT018\",\"OUT049\",\"OUT049\",\"OUT018\",\"OUT027\",\"OUT018\",\"OUT027\",\"OUT018\",\"OUT049\",\"OUT027\",\"OUT049\",\"OUT049\",\"OUT018\",\"OUT018\",\"OUT018\",\"OUT049\",\"OUT027\",\"OUT027\",\"OUT018\",\"OUT027\",\"OUT018\",\"OUT018\",\"OUT049\",\"OUT018\",\"OUT018\",\"OUT018\",\"OUT049\",\"OUT018\",\"OUT049\",\"OUT027\",\"OUT018\",\"OUT018\",\"OUT049\",\"OUT018\",\"OUT018\",\"OUT018\",\"OUT049\",\"OUT049\",\"OUT027\",\"OUT049\",\"OUT027\",\"OUT027\",\"OUT049\",\"OUT027\",\"OUT049\",\"OUT049\",\"OUT018\",\"OUT018\",\"OUT018\",\"OUT027\",\"OUT027\",\"OUT027\",\"OUT027\",\"OUT049\",\"OUT049\",\"OUT049\",\"OUT027\",\"OUT049\",\"OUT049\",\"OUT027\",\"OUT027\",\"OUT018\",\"OUT049\",\"OUT049\",\"OUT027\",\"OUT027\",\"OUT027\",\"OUT027\",\"OUT018\",\"OUT027\",\"OUT049\",\"OUT027\",\"OUT027\",\"OUT018\",\"OUT027\",\"OUT027\",\"OUT018\",\"OUT049\",\"OUT027\",\"OUT027\",\"OUT049\",\"OUT049\",\"OUT018\",\"OUT027\",\"OUT018\",\"OUT027\",\"OUT027\",\"OUT027\",\"OUT049\",\"OUT049\",\"OUT018\",\"OUT018\",\"OUT027\",\"OUT027\",\"OUT049\",\"OUT027\",\"OUT049\",\"OUT018\",\"OUT027\",\"OUT049\",\"OUT018\",\"OUT027\",\"OUT049\",\"OUT018\",\"OUT049\",\"OUT018\",\"OUT027\",\"OUT027\",\"OUT018\",\"OUT018\",\"OUT049\",\"OUT018\",\"OUT049\",\"OUT018\",\"OUT027\",\"OUT049\",\"OUT018\",\"OUT049\",\"OUT018\",\"OUT027\",\"OUT027\",\"OUT027\",\"OUT018\",\"OUT027\",\"OUT027\",\"OUT027\",\"OUT049\",\"OUT049\",\"OUT018\",\"OUT027\",\"OUT018\",\"OUT018\",\"OUT027\",\"OUT027\",\"OUT027\",\"OUT049\",\"OUT018\",\"OUT018\",\"OUT027\",\"OUT027\",\"OUT018\",\"OUT018\",\"OUT018\",\"OUT027\",\"OUT049\",\"OUT027\",\"OUT027\",\"OUT027\",\"OUT018\",\"OUT027\",\"OUT018\",\"OUT049\",\"OUT018\",\"OUT018\",\"OUT049\",\"OUT049\",\"OUT027\",\"OUT049\",\"OUT049\",\"OUT027\",\"OUT027\",\"OUT018\",\"OUT049\",\"OUT027\",\"OUT027\",\"OUT027\",\"OUT018\",\"OUT027\",\"OUT049\",\"OUT049\",\"OUT049\",\"OUT018\",\"OUT018\",\"OUT027\",\"OUT027\",\"OUT049\",\"OUT027\",\"OUT049\",\"OUT027\",\"OUT018\",\"OUT027\",\"OUT018\",\"OUT018\",\"OUT018\",\"OUT018\",\"OUT018\",\"OUT027\",\"OUT049\",\"OUT027\",\"OUT049\",\"OUT049\",\"OUT049\",\"OUT018\",\"OUT018\",\"OUT027\",\"OUT049\",\"OUT049\",\"OUT049\",\"OUT049\",\"OUT049\",\"OUT049\",\"OUT018\",\"OUT027\",\"OUT018\",\"OUT027\",\"OUT049\",\"OUT049\",\"OUT018\",\"OUT018\",\"OUT027\",\"OUT049\",\"OUT049\",\"OUT049\",\"OUT027\",\"OUT027\",\"OUT018\",\"OUT049\",\"OUT018\",\"OUT049\",\"OUT027\",\"OUT049\",\"OUT027\",\"OUT049\",\"OUT018\",\"OUT049\",\"OUT049\",\"OUT027\",\"OUT027\",\"OUT018\",\"OUT049\",\"OUT049\",\"OUT049\",\"OUT027\",\"OUT018\",\"OUT049\",\"OUT018\",\"OUT018\",\"OUT027\",\"OUT018\",\"OUT049\",\"OUT049\",\"OUT049\",\"OUT049\",\"OUT018\",\"OUT027\",\"OUT018\",\"OUT027\",\"OUT049\",\"OUT027\",\"OUT049\",\"OUT018\",\"OUT018\",\"OUT027\",\"OUT018\",\"OUT018\",\"OUT027\",\"OUT049\",\"OUT049\",\"OUT049\",\"OUT027\",\"OUT027\",\"OUT027\",\"OUT027\",\"OUT049\",\"OUT018\",\"OUT018\",\"OUT027\",\"OUT049\",\"OUT027\",\"OUT027\",\"OUT049\",\"OUT018\",\"OUT027\",\"OUT018\",\"OUT049\",\"OUT027\",\"OUT049\",\"OUT018\",\"OUT018\",\"OUT049\",\"OUT018\",\"OUT027\",\"OUT018\",\"OUT018\",\"OUT018\",\"OUT049\",\"OUT027\",\"OUT049\",\"OUT027\",\"OUT027\",\"OUT018\",\"OUT027\",\"OUT018\",\"OUT018\",\"OUT018\",\"OUT018\",\"OUT049\",\"OUT018\",\"OUT049\",\"OUT018\",\"OUT027\",\"OUT018\",\"OUT049\",\"OUT049\",\"OUT027\",\"OUT049\",\"OUT027\",\"OUT018\",\"OUT018\",\"OUT027\",\"OUT018\",\"OUT049\",\"OUT027\",\"OUT049\",\"OUT027\",\"OUT049\",\"OUT018\",\"OUT049\",\"OUT027\",\"OUT018\",\"OUT018\",\"OUT049\",\"OUT018\",\"OUT027\",\"OUT018\",\"OUT018\",\"OUT049\",\"OUT049\",\"OUT018\",\"OUT049\",\"OUT049\",\"OUT018\",\"OUT018\",\"OUT018\",\"OUT018\",\"OUT049\",\"OUT049\",\"OUT018\",\"OUT018\",\"OUT027\",\"OUT018\",\"OUT027\",\"OUT018\",\"OUT018\",\"OUT027\",\"OUT027\",\"OUT018\",\"OUT018\",\"OUT027\",\"OUT049\",\"OUT027\",\"OUT049\",\"OUT018\",\"OUT049\",\"OUT018\",\"OUT049\",\"OUT018\",\"OUT049\",\"OUT049\",\"OUT049\",\"OUT049\",\"OUT018\",\"OUT049\",\"OUT049\",\"OUT018\",\"OUT018\",\"OUT027\",\"OUT018\",\"OUT018\",\"OUT027\",\"OUT018\",\"OUT027\",\"OUT018\",\"OUT018\",\"OUT018\",\"OUT049\",\"OUT049\",\"OUT027\",\"OUT049\",\"OUT049\",\"OUT049\",\"OUT018\",\"OUT018\",\"OUT049\",\"OUT049\",\"OUT018\",\"OUT018\",\"OUT049\",\"OUT049\",\"OUT018\",\"OUT018\",\"OUT027\",\"OUT049\",\"OUT049\",\"OUT049\",\"OUT027\",\"OUT049\",\"OUT018\",\"OUT049\",\"OUT027\",\"OUT049\",\"OUT027\",\"OUT018\",\"OUT027\",\"OUT049\",\"OUT049\",\"OUT018\",\"OUT018\",\"OUT027\",\"OUT027\",\"OUT027\",\"OUT018\",\"OUT018\",\"OUT049\",\"OUT049\",\"OUT018\",\"OUT027\",\"OUT018\",\"OUT049\",\"OUT049\",\"OUT049\",\"OUT027\",\"OUT018\",\"OUT027\",\"OUT027\",\"OUT049\",\"OUT049\",\"OUT027\",\"OUT018\",\"OUT049\",\"OUT049\",\"OUT018\",\"OUT027\",\"OUT018\",\"OUT027\",\"OUT018\",\"OUT027\",\"OUT049\",\"OUT049\",\"OUT049\",\"OUT049\",\"OUT049\",\"OUT018\",\"OUT018\",\"OUT027\",\"OUT027\",\"OUT018\",\"OUT018\",\"OUT027\",\"OUT049\",\"OUT049\",\"OUT049\",\"OUT027\",\"OUT027\",\"OUT049\",\"OUT049\",\"OUT018\",\"OUT018\",\"OUT027\",\"OUT018\",\"OUT049\",\"OUT049\",\"OUT018\",\"OUT018\",\"OUT049\",\"OUT049\",\"OUT027\",\"OUT049\",\"OUT049\",\"OUT018\",\"OUT027\",\"OUT049\",\"OUT018\",\"OUT018\",\"OUT049\",\"OUT018\",\"OUT018\",\"OUT049\",\"OUT027\",\"OUT018\",\"OUT027\",\"OUT018\",\"OUT049\",\"OUT018\",\"OUT027\",\"OUT018\",\"OUT018\",\"OUT018\",\"OUT027\",\"OUT049\",\"OUT018\",\"OUT018\",\"OUT049\",\"OUT049\",\"OUT049\",\"OUT018\",\"OUT027\",\"OUT018\",\"OUT049\",\"OUT027\",\"OUT049\",\"OUT049\",\"OUT049\",\"OUT049\",\"OUT049\",\"OUT049\",\"OUT027\",\"OUT027\",\"OUT049\",\"OUT049\",\"OUT018\",\"OUT018\",\"OUT049\",\"OUT049\",\"OUT018\",\"OUT018\",\"OUT018\",\"OUT018\",\"OUT018\",\"OUT049\",\"OUT027\",\"OUT049\",\"OUT027\",\"OUT049\",\"OUT027\",\"OUT027\",\"OUT049\",\"OUT027\",\"OUT049\",\"OUT049\",\"OUT018\",\"OUT027\",\"OUT049\",\"OUT049\",\"OUT027\",\"OUT018\",\"OUT049\",\"OUT049\",\"OUT018\",\"OUT049\",\"OUT027\",\"OUT049\",\"OUT049\",\"OUT018\",\"OUT018\",\"OUT027\",\"OUT049\",\"OUT027\",\"OUT049\",\"OUT049\",\"OUT027\",\"OUT027\",\"OUT049\",\"OUT027\",\"OUT027\",\"OUT027\",\"OUT049\",\"OUT027\",\"OUT018\",\"OUT018\",\"OUT027\",\"OUT018\",\"OUT018\",\"OUT018\",\"OUT049\",\"OUT049\",\"OUT027\",\"OUT049\",\"OUT018\",\"OUT027\",\"OUT049\",\"OUT027\",\"OUT049\",\"OUT049\",\"OUT049\",\"OUT027\",\"OUT049\",\"OUT049\",\"OUT049\",\"OUT049\",\"OUT027\",\"OUT018\",\"OUT018\",\"OUT027\",\"OUT049\",\"OUT049\",\"OUT027\",\"OUT027\",\"OUT027\",\"OUT018\",\"OUT049\",\"OUT027\",\"OUT018\",\"OUT027\",\"OUT049\",\"OUT027\",\"OUT027\",\"OUT018\",\"OUT049\",\"OUT027\",\"OUT027\",\"OUT018\",\"OUT018\",\"OUT018\",\"OUT018\",\"OUT049\",\"OUT027\",\"OUT049\",\"OUT018\",\"OUT018\",\"OUT018\",\"OUT049\",\"OUT018\",\"OUT049\",\"OUT049\",\"OUT049\",\"OUT027\",\"OUT049\",\"OUT027\",\"OUT027\",\"OUT018\",\"OUT027\",\"OUT049\",\"OUT049\",\"OUT027\",\"OUT027\",\"OUT027\",\"OUT027\",\"OUT049\",\"OUT049\",\"OUT027\",\"OUT049\",\"OUT049\",\"OUT018\",\"OUT049\",\"OUT027\",\"OUT049\",\"OUT049\",\"OUT049\",\"OUT049\",\"OUT018\",\"OUT049\",\"OUT018\",\"OUT027\",\"OUT018\",\"OUT018\",\"OUT049\",\"OUT049\",\"OUT049\",\"OUT027\",\"OUT049\",\"OUT018\",\"OUT027\",\"OUT049\",\"OUT018\",\"OUT027\",\"OUT018\",\"OUT027\",\"OUT049\",\"OUT049\",\"OUT018\",\"OUT049\",\"OUT018\",\"OUT018\",\"OUT018\",\"OUT027\",\"OUT049\",\"OUT027\",\"OUT018\",\"OUT027\",\"OUT049\",\"OUT049\",\"OUT018\",\"OUT027\",\"OUT018\",\"OUT027\",\"OUT049\",\"OUT018\",\"OUT049\",\"OUT027\",\"OUT049\",\"OUT049\",\"OUT049\",\"OUT027\",\"OUT027\",\"OUT018\",\"OUT049\",\"OUT049\",\"OUT018\",\"OUT027\",\"OUT018\",\"OUT027\",\"OUT018\",\"OUT049\",\"OUT049\",\"OUT027\",\"OUT027\",\"OUT018\",\"OUT018\",\"OUT018\",\"OUT018\",\"OUT018\",\"OUT027\",\"OUT049\",\"OUT018\",\"OUT049\",\"OUT027\",\"OUT027\",\"OUT049\",\"OUT027\",\"OUT018\",\"OUT049\",\"OUT049\",\"OUT027\",\"OUT027\",\"OUT018\",\"OUT027\",\"OUT049\",\"OUT027\",\"OUT049\",\"OUT018\",\"OUT027\",\"OUT027\",\"OUT049\",\"OUT018\",\"OUT027\",\"OUT018\",\"OUT049\",\"OUT049\",\"OUT018\",\"OUT049\",\"OUT027\",\"OUT049\",\"OUT018\",\"OUT027\",\"OUT027\",\"OUT027\",\"OUT018\",\"OUT027\",\"OUT049\",\"OUT018\",\"OUT049\",\"OUT049\",\"OUT018\",\"OUT018\",\"OUT049\",\"OUT027\",\"OUT049\",\"OUT049\",\"OUT018\",\"OUT027\",\"OUT027\",\"OUT018\",\"OUT049\",\"OUT018\",\"OUT018\",\"OUT018\",\"OUT018\",\"OUT027\",\"OUT049\",\"OUT049\",\"OUT018\",\"OUT027\",\"OUT027\",\"OUT049\",\"OUT018\",\"OUT049\",\"OUT049\",\"OUT027\",\"OUT049\",\"OUT027\",\"OUT049\",\"OUT049\",\"OUT049\",\"OUT018\",\"OUT018\",\"OUT049\",\"OUT018\",\"OUT049\",\"OUT049\",\"OUT027\",\"OUT018\",\"OUT027\",\"OUT049\",\"OUT018\",\"OUT018\",\"OUT049\",\"OUT018\",\"OUT018\",\"OUT049\",\"OUT018\",\"OUT018\",\"OUT049\",\"OUT027\",\"OUT027\",\"OUT018\",\"OUT049\",\"OUT018\",\"OUT049\",\"OUT027\",\"OUT018\",\"OUT018\",\"OUT018\",\"OUT018\",\"OUT049\",\"OUT027\",\"OUT049\",\"OUT018\",\"OUT027\",\"OUT049\",\"OUT027\",\"OUT027\",\"OUT018\",\"OUT018\",\"OUT049\",\"OUT018\",\"OUT027\",\"OUT027\",\"OUT018\",\"OUT018\",\"OUT018\",\"OUT027\",\"OUT049\",\"OUT049\",\"OUT027\",\"OUT049\",\"OUT027\",\"OUT027\",\"OUT049\",\"OUT027\",\"OUT018\",\"OUT018\",\"OUT027\",\"OUT049\",\"OUT018\",\"OUT018\",\"OUT018\",\"OUT049\",\"OUT018\",\"OUT049\",\"OUT018\",\"OUT018\",\"OUT018\",\"OUT027\",\"OUT018\",\"OUT027\",\"OUT027\",\"OUT018\",\"OUT049\",\"OUT018\",\"OUT027\",\"OUT049\",\"OUT049\",\"OUT049\",\"OUT018\",\"OUT018\",\"OUT027\",\"OUT018\",\"OUT027\",\"OUT018\",\"OUT018\",\"OUT049\",\"OUT027\",\"OUT049\",\"OUT049\",\"OUT049\",\"OUT027\",\"OUT018\",\"OUT027\",\"OUT049\",\"OUT049\",\"OUT049\",\"OUT027\",\"OUT018\",\"OUT018\",\"OUT049\",\"OUT049\",\"OUT049\",\"OUT049\",\"OUT018\",\"OUT018\",\"OUT018\",\"OUT027\",\"OUT027\",\"OUT018\",\"OUT018\",\"OUT027\",\"OUT049\",\"OUT018\",\"OUT018\",\"OUT018\",\"OUT027\",\"OUT027\",\"OUT049\",\"OUT027\",\"OUT049\",\"OUT049\",\"OUT018\",\"OUT049\",\"OUT027\",\"OUT018\",\"OUT018\",\"OUT049\",\"OUT027\",\"OUT018\",\"OUT018\",\"OUT027\",\"OUT027\",\"OUT049\",\"OUT018\",\"OUT018\",\"OUT018\",\"OUT049\",\"OUT049\",\"OUT027\",\"OUT018\",\"OUT018\",\"OUT018\",\"OUT027\",\"OUT049\",\"OUT018\",\"OUT018\",\"OUT049\",\"OUT018\",\"OUT018\",\"OUT049\",\"OUT027\",\"OUT027\",\"OUT018\",\"OUT049\",\"OUT018\",\"OUT049\",\"OUT049\",\"OUT018\",\"OUT018\",\"OUT027\",\"OUT018\",\"OUT027\",\"OUT018\",\"OUT027\",\"OUT049\",\"OUT027\",\"OUT027\",\"OUT027\",\"OUT018\",\"OUT049\",\"OUT049\",\"OUT027\",\"OUT049\",\"OUT018\",\"OUT018\",\"OUT027\",\"OUT049\",\"OUT027\",\"OUT049\",\"OUT049\",\"OUT027\",\"OUT027\",\"OUT027\",\"OUT049\",\"OUT049\",\"OUT018\",\"OUT049\",\"OUT027\",\"OUT018\",\"OUT049\",\"OUT049\",\"OUT049\",\"OUT018\",\"OUT027\",\"OUT049\",\"OUT018\",\"OUT027\",\"OUT018\",\"OUT027\",\"OUT027\",\"OUT018\",\"OUT027\",\"OUT018\",\"OUT018\",\"OUT027\",\"OUT049\",\"OUT049\",\"OUT018\",\"OUT049\",\"OUT027\",\"OUT049\",\"OUT027\",\"OUT049\",\"OUT018\",\"OUT027\",\"OUT027\",\"OUT049\",\"OUT049\",\"OUT027\",\"OUT027\",\"OUT049\",\"OUT018\",\"OUT018\",\"OUT018\",\"OUT018\",\"OUT027\",\"OUT049\",\"OUT027\",\"OUT027\",\"OUT049\",\"OUT018\",\"OUT018\",\"OUT018\",\"OUT049\",\"OUT018\",\"OUT049\",\"OUT018\",\"OUT018\",\"OUT018\",\"OUT049\",\"OUT049\",\"OUT027\",\"OUT049\",\"OUT018\",\"OUT018\",\"OUT049\",\"OUT027\",\"OUT049\",\"OUT049\",\"OUT027\",\"OUT018\",\"OUT049\",\"OUT049\",\"OUT049\",\"OUT018\",\"OUT027\",\"OUT018\",\"OUT018\",\"OUT027\",\"OUT049\",\"OUT049\",\"OUT049\",\"OUT018\",\"OUT049\",\"OUT027\",\"OUT049\",\"OUT018\",\"OUT027\",\"OUT018\",\"OUT049\",\"OUT018\",\"OUT018\",\"OUT018\",\"OUT018\",\"OUT018\",\"OUT027\",\"OUT018\",\"OUT049\",\"OUT018\",\"OUT027\",\"OUT049\",\"OUT027\",\"OUT018\",\"OUT027\",\"OUT027\",\"OUT018\",\"OUT018\",\"OUT018\",\"OUT049\",\"OUT049\",\"OUT018\",\"OUT049\",\"OUT018\",\"OUT027\",\"OUT027\",\"OUT018\",\"OUT027\",\"OUT049\",\"OUT027\",\"OUT018\",\"OUT049\",\"OUT027\",\"OUT027\",\"OUT049\",\"OUT018\",\"OUT018\",\"OUT049\",\"OUT027\",\"OUT027\",\"OUT027\",\"OUT027\",\"OUT027\",\"OUT049\",\"OUT049\",\"OUT018\",\"OUT018\",\"OUT018\",\"OUT018\",\"OUT049\",\"OUT018\",\"OUT027\",\"OUT049\",\"OUT018\",\"OUT018\",\"OUT018\",\"OUT027\",\"OUT018\",\"OUT049\",\"OUT027\",\"OUT018\",\"OUT049\",\"OUT018\",\"OUT027\",\"OUT018\",\"OUT049\",\"OUT027\",\"OUT049\",\"OUT018\",\"OUT049\",\"OUT049\",\"OUT049\",\"OUT027\",\"OUT049\",\"OUT018\",\"OUT018\",\"OUT027\",\"OUT049\",\"OUT049\",\"OUT027\",\"OUT049\",\"OUT027\",\"OUT049\",\"OUT049\",\"OUT027\",\"OUT027\",\"OUT049\",\"OUT027\",\"OUT027\",\"OUT018\",\"OUT018\",\"OUT049\",\"OUT027\",\"OUT049\",\"OUT027\",\"OUT018\",\"OUT018\",\"OUT049\",\"OUT027\",\"OUT049\",\"OUT027\",\"OUT027\",\"OUT049\",\"OUT049\",\"OUT018\",\"OUT049\",\"OUT018\",\"OUT049\",\"OUT018\",\"OUT049\",\"OUT018\",\"OUT049\",\"OUT018\",\"OUT027\",\"OUT027\",\"OUT018\",\"OUT027\",\"OUT049\",\"OUT049\",\"OUT049\",\"OUT027\",\"OUT049\",\"OUT027\",\"OUT027\",\"OUT027\",\"OUT027\",\"OUT018\",\"OUT049\",\"OUT018\",\"OUT049\",\"OUT018\",\"OUT027\",\"OUT049\",\"OUT027\",\"OUT049\",\"OUT018\",\"OUT049\",\"OUT049\",\"OUT027\",\"OUT049\",\"OUT018\",\"OUT049\",\"OUT027\",\"OUT018\",\"OUT027\",\"OUT049\",\"OUT027\",\"OUT049\",\"OUT018\",\"OUT027\",\"OUT018\",\"OUT018\",\"OUT049\",\"OUT027\",\"OUT018\",\"OUT027\",\"OUT018\",\"OUT049\",\"OUT018\",\"OUT049\",\"OUT049\",\"OUT027\",\"OUT027\",\"OUT027\",\"OUT049\",\"OUT027\",\"OUT027\",\"OUT018\",\"OUT018\",\"OUT027\",\"OUT027\",\"OUT049\",\"OUT027\",\"OUT018\",\"OUT049\",\"OUT027\",\"OUT049\",\"OUT027\",\"OUT049\",\"OUT049\",\"OUT018\",\"OUT027\",\"OUT018\",\"OUT027\",\"OUT049\",\"OUT049\",\"OUT049\",\"OUT049\",\"OUT018\",\"OUT027\",\"OUT049\",\"OUT027\",\"OUT027\",\"OUT027\",\"OUT018\",\"OUT027\",\"OUT027\",\"OUT018\",\"OUT018\",\"OUT018\",\"OUT049\",\"OUT018\",\"OUT027\",\"OUT027\",\"OUT049\",\"OUT049\",\"OUT049\",\"OUT018\",\"OUT018\",\"OUT027\",\"OUT018\",\"OUT018\",\"OUT018\",\"OUT018\",\"OUT018\",\"OUT027\",\"OUT027\",\"OUT049\",\"OUT018\",\"OUT049\",\"OUT049\",\"OUT027\",\"OUT049\",\"OUT018\",\"OUT018\",\"OUT027\",\"OUT018\",\"OUT018\",\"OUT018\",\"OUT049\",\"OUT018\",\"OUT027\",\"OUT018\",\"OUT027\",\"OUT018\",\"OUT049\",\"OUT049\",\"OUT049\",\"OUT027\",\"OUT018\",\"OUT049\",\"OUT027\",\"OUT027\",\"OUT049\",\"OUT027\",\"OUT027\",\"OUT027\",\"OUT018\",\"OUT027\",\"OUT018\",\"OUT027\",\"OUT018\",\"OUT049\",\"OUT027\",\"OUT049\",\"OUT027\",\"OUT018\",\"OUT018\",\"OUT018\",\"OUT027\",\"OUT018\",\"OUT027\",\"OUT049\",\"OUT049\",\"OUT027\",\"OUT018\",\"OUT027\",\"OUT027\",\"OUT027\",\"OUT027\",\"OUT018\",\"OUT018\",\"OUT049\",\"OUT018\",\"OUT049\",\"OUT018\",\"OUT049\",\"OUT018\",\"OUT018\",\"OUT018\",\"OUT027\",\"OUT027\",\"OUT027\",\"OUT018\",\"OUT049\",\"OUT018\",\"OUT018\",\"OUT049\",\"OUT049\",\"OUT018\",\"OUT018\",\"OUT018\",\"OUT018\",\"OUT049\",\"OUT027\",\"OUT049\",\"OUT018\",\"OUT018\",\"OUT049\",\"OUT049\",\"OUT049\",\"OUT018\",\"OUT049\",\"OUT049\",\"OUT027\",\"OUT027\",\"OUT018\",\"OUT049\",\"OUT027\",\"OUT027\",\"OUT049\",\"OUT027\",\"OUT049\",\"OUT018\",\"OUT049\",\"OUT027\",\"OUT049\",\"OUT049\",\"OUT018\",\"OUT049\",\"OUT018\",\"OUT049\",\"OUT027\",\"OUT018\",\"OUT049\",\"OUT049\",\"OUT018\",\"OUT018\",\"OUT049\",\"OUT049\",\"OUT027\",\"OUT049\",\"OUT018\",\"OUT018\",\"OUT049\",\"OUT027\",\"OUT049\",\"OUT049\",\"OUT018\",\"OUT049\",\"OUT049\",\"OUT027\",\"OUT018\",\"OUT027\",\"OUT049\",\"OUT049\",\"OUT018\",\"OUT049\",\"OUT027\",\"OUT027\",\"OUT018\",\"OUT049\",\"OUT027\",\"OUT049\",\"OUT018\",\"OUT027\",\"OUT049\",\"OUT049\",\"OUT027\",\"OUT018\",\"OUT027\",\"OUT018\",\"OUT049\",\"OUT018\",\"OUT027\",\"OUT049\",\"OUT027\",\"OUT049\",\"OUT027\",\"OUT018\",\"OUT018\",\"OUT027\",\"OUT049\",\"OUT027\",\"OUT049\",\"OUT018\",\"OUT049\",\"OUT018\",\"OUT018\",\"OUT027\",\"OUT018\",\"OUT027\",\"OUT027\",\"OUT018\",\"OUT049\",\"OUT027\",\"OUT027\",\"OUT049\",\"OUT027\",\"OUT018\",\"OUT027\",\"OUT027\",\"OUT049\",\"OUT049\",\"OUT049\",\"OUT018\",\"OUT018\",\"OUT018\",\"OUT049\",\"OUT027\",\"OUT018\",\"OUT018\",\"OUT027\",\"OUT027\",\"OUT027\",\"OUT049\",\"OUT018\",\"OUT018\",\"OUT018\",\"OUT027\",\"OUT027\",\"OUT049\",\"OUT027\",\"OUT027\",\"OUT049\",\"OUT018\",\"OUT049\",\"OUT049\",\"OUT018\",\"OUT018\",\"OUT018\",\"OUT027\",\"OUT027\",\"OUT049\",\"OUT027\",\"OUT027\",\"OUT027\",\"OUT027\",\"OUT018\",\"OUT027\",\"OUT018\",\"OUT027\",\"OUT018\",\"OUT027\",\"OUT027\",\"OUT027\",\"OUT027\",\"OUT049\",\"OUT027\",\"OUT027\",\"OUT027\",\"OUT049\",\"OUT018\",\"OUT049\",\"OUT049\",\"OUT027\",\"OUT018\",\"OUT027\",\"OUT018\",\"OUT049\",\"OUT018\",\"OUT049\",\"OUT049\",\"OUT049\",\"OUT027\",\"OUT018\",\"OUT049\",\"OUT018\",\"OUT049\",\"OUT027\",\"OUT018\",\"OUT018\",\"OUT049\",\"OUT018\",\"OUT018\",\"OUT027\",\"OUT027\",\"OUT049\",\"OUT018\",\"OUT018\",\"OUT018\",\"OUT018\",\"OUT018\",\"OUT027\",\"OUT027\",\"OUT018\",\"OUT018\",\"OUT018\",\"OUT027\",\"OUT027\",\"OUT018\",\"OUT027\",\"OUT027\",\"OUT018\",\"OUT049\",\"OUT027\",\"OUT018\",\"OUT018\",\"OUT027\",\"OUT027\",\"OUT027\",\"OUT027\",\"OUT018\",\"OUT049\",\"OUT018\",\"OUT018\",\"OUT018\",\"OUT027\",\"OUT018\",\"OUT018\",\"OUT049\",\"OUT018\",\"OUT027\",\"OUT018\",\"OUT018\",\"OUT018\",\"OUT049\",\"OUT018\",\"OUT027\",\"OUT049\",\"OUT049\",\"OUT049\",\"OUT027\",\"OUT027\",\"OUT018\",\"OUT018\",\"OUT049\",\"OUT018\",\"OUT049\",\"OUT018\",\"OUT049\",\"OUT018\",\"OUT049\",\"OUT018\",\"OUT018\",\"OUT018\",\"OUT018\",\"OUT049\",\"OUT049\",\"OUT018\",\"OUT049\",\"OUT027\",\"OUT018\",\"OUT027\",\"OUT027\",\"OUT049\",\"OUT027\",\"OUT027\",\"OUT018\",\"OUT049\",\"OUT027\",\"OUT049\",\"OUT027\",\"OUT018\",\"OUT027\",\"OUT027\",\"OUT049\",\"OUT027\",\"OUT049\",\"OUT027\",\"OUT049\",\"OUT018\",\"OUT027\",\"OUT027\",\"OUT049\",\"OUT049\",\"OUT049\",\"OUT018\",\"OUT027\",\"OUT018\",\"OUT049\",\"OUT018\",\"OUT049\",\"OUT027\",\"OUT018\",\"OUT049\",\"OUT027\",\"OUT027\",\"OUT049\",\"OUT018\",\"OUT018\",\"OUT018\",\"OUT027\",\"OUT027\",\"OUT049\",\"OUT018\",\"OUT049\",\"OUT049\",\"OUT049\",\"OUT049\",\"OUT018\",\"OUT049\",\"OUT018\",\"OUT027\",\"OUT018\",\"OUT049\",\"OUT027\",\"OUT049\",\"OUT027\",\"OUT049\",\"OUT027\",\"OUT049\",\"OUT018\",\"OUT018\",\"OUT049\",\"OUT018\",\"OUT018\",\"OUT018\",\"OUT018\",\"OUT027\",\"OUT049\",\"OUT018\",\"OUT049\",\"OUT018\",\"OUT049\",\"OUT027\",\"OUT027\",\"OUT018\",\"OUT049\",\"OUT049\",\"OUT027\",\"OUT049\",\"OUT027\",\"OUT049\",\"OUT027\",\"OUT018\",\"OUT018\",\"OUT018\",\"OUT049\",\"OUT018\",\"OUT018\",\"OUT018\",\"OUT027\",\"OUT027\",\"OUT049\",\"OUT018\",\"OUT049\",\"OUT027\",\"OUT018\",\"OUT027\",\"OUT049\",\"OUT027\",\"OUT027\",\"OUT027\",\"OUT018\",\"OUT018\",\"OUT049\",\"OUT027\",\"OUT049\",\"OUT018\",\"OUT049\",\"OUT027\",\"OUT027\",\"OUT049\",\"OUT049\",\"OUT018\",\"OUT049\",\"OUT018\",\"OUT049\",\"OUT027\",\"OUT018\",\"OUT049\",\"OUT049\",\"OUT027\",\"OUT018\",\"OUT049\",\"OUT027\",\"OUT027\",\"OUT018\",\"OUT018\",\"OUT049\",\"OUT018\",\"OUT049\",\"OUT027\",\"OUT049\",\"OUT018\",\"OUT027\",\"OUT049\",\"OUT027\",\"OUT027\",\"OUT049\",\"OUT049\",\"OUT049\",\"OUT049\",\"OUT027\",\"OUT049\",\"OUT027\",\"OUT049\",\"OUT018\",\"OUT027\",\"OUT018\",\"OUT027\",\"OUT049\",\"OUT027\",\"OUT049\",\"OUT027\",\"OUT027\",\"OUT018\",\"OUT027\",\"OUT018\",\"OUT027\",\"OUT049\",\"OUT049\",\"OUT049\",\"OUT018\",\"OUT027\",\"OUT018\",\"OUT018\",\"OUT049\",\"OUT049\",\"OUT049\",\"OUT049\",\"OUT027\",\"OUT027\",\"OUT049\",\"OUT018\",\"OUT049\",\"OUT018\",\"OUT049\",\"OUT049\",\"OUT018\",\"OUT049\",\"OUT018\",\"OUT027\",\"OUT018\",\"OUT049\",\"OUT049\",\"OUT049\",\"OUT018\",\"OUT018\",\"OUT049\",\"OUT049\",\"OUT018\",\"OUT018\",\"OUT027\",\"OUT027\",\"OUT027\",\"OUT049\",\"OUT018\",\"OUT027\",\"OUT018\",\"OUT049\",\"OUT049\",\"OUT018\",\"OUT027\",\"OUT027\",\"OUT018\",\"OUT049\",\"OUT049\",\"OUT049\",\"OUT027\",\"OUT027\",\"OUT018\",\"OUT049\",\"OUT049\",\"OUT018\",\"OUT018\",\"OUT049\",\"OUT018\",\"OUT027\",\"OUT027\",\"OUT018\",\"OUT018\",\"OUT018\",\"OUT018\",\"OUT027\",\"OUT027\",\"OUT049\",\"OUT027\",\"OUT018\",\"OUT049\",\"OUT018\",\"OUT049\",\"OUT018\",\"OUT027\",\"OUT018\",\"OUT018\",\"OUT018\",\"OUT027\",\"OUT049\",\"OUT049\",\"OUT018\",\"OUT027\",\"OUT049\",\"OUT018\",\"OUT018\",\"OUT018\",\"OUT049\",\"OUT018\",\"OUT018\",\"OUT027\",\"OUT027\",\"OUT018\",\"OUT027\",\"OUT049\",\"OUT027\",\"OUT027\",\"OUT018\",\"OUT018\",\"OUT018\",\"OUT018\",\"OUT018\",\"OUT049\",\"OUT049\",\"OUT049\",\"OUT018\",\"OUT018\",\"OUT027\",\"OUT018\",\"OUT027\",\"OUT049\",\"OUT018\",\"OUT018\",\"OUT027\",\"OUT018\",\"OUT049\",\"OUT018\",\"OUT018\",\"OUT049\",\"OUT018\",\"OUT027\",\"OUT027\",\"OUT027\",\"OUT018\",\"OUT018\",\"OUT049\",\"OUT049\",\"OUT018\",\"OUT049\",\"OUT018\",\"OUT027\",\"OUT049\",\"OUT049\",\"OUT049\",\"OUT018\",\"OUT027\",\"OUT018\",\"OUT018\",\"OUT027\",\"OUT027\",\"OUT049\",\"OUT049\",\"OUT018\",\"OUT018\",\"OUT027\",\"OUT049\",\"OUT049\",\"OUT049\",\"OUT018\",\"OUT027\",\"OUT018\",\"OUT049\",\"OUT018\",\"OUT018\",\"OUT049\",\"OUT027\",\"OUT027\",\"OUT049\",\"OUT018\",\"OUT049\",\"OUT027\",\"OUT049\",\"OUT049\",\"OUT018\",\"OUT049\",\"OUT049\",\"OUT018\",\"OUT018\",\"OUT018\",\"OUT018\",\"OUT027\",\"OUT027\",\"OUT027\",\"OUT027\",\"OUT027\",\"OUT049\",\"OUT018\",\"OUT049\",\"OUT027\",\"OUT018\",\"OUT049\",\"OUT049\",\"OUT049\",\"OUT027\",\"OUT049\",\"OUT018\",\"OUT027\",\"OUT027\",\"OUT018\",\"OUT018\",\"OUT049\",\"OUT027\",\"OUT027\",\"OUT049\",\"OUT049\",\"OUT018\",\"OUT049\",\"OUT018\",\"OUT018\",\"OUT049\",\"OUT018\",\"OUT049\",\"OUT049\",\"OUT018\",\"OUT027\",\"OUT027\",\"OUT018\",\"OUT027\",\"OUT049\",\"OUT027\",\"OUT027\",\"OUT018\",\"OUT027\",\"OUT018\",\"OUT018\",\"OUT049\",\"OUT018\",\"OUT049\",\"OUT027\",\"OUT049\",\"OUT018\",\"OUT049\",\"OUT018\",\"OUT049\",\"OUT027\",\"OUT049\",\"OUT049\",\"OUT049\",\"OUT027\",\"OUT018\",\"OUT049\",\"OUT018\",\"OUT049\",\"OUT027\",\"OUT049\",\"OUT027\",\"OUT018\",\"OUT049\",\"OUT049\",\"OUT018\",\"OUT018\",\"OUT027\",\"OUT049\",\"OUT049\",\"OUT018\",\"OUT018\",\"OUT018\",\"OUT049\",\"OUT049\",\"OUT049\",\"OUT018\",\"OUT018\",\"OUT049\",\"OUT049\",\"OUT049\",\"OUT018\",\"OUT027\",\"OUT027\",\"OUT049\",\"OUT018\",\"OUT018\",\"OUT027\",\"OUT027\",\"OUT049\",\"OUT027\",\"OUT018\",\"OUT049\",\"OUT027\",\"OUT049\",\"OUT049\",\"OUT018\",\"OUT049\",\"OUT018\",\"OUT027\",\"OUT049\",\"OUT027\",\"OUT027\",\"OUT018\",\"OUT027\",\"OUT018\",\"OUT027\",\"OUT049\",\"OUT049\",\"OUT018\",\"OUT018\",\"OUT027\",\"OUT049\",\"OUT049\",\"OUT049\",\"OUT018\",\"OUT049\",\"OUT049\",\"OUT049\",\"OUT049\",\"OUT027\",\"OUT049\",\"OUT049\",\"OUT027\",\"OUT018\",\"OUT027\",\"OUT018\",\"OUT027\",\"OUT018\",\"OUT027\",\"OUT018\",\"OUT049\",\"OUT049\",\"OUT018\",\"OUT027\",\"OUT049\",\"OUT027\",\"OUT018\",\"OUT018\",\"OUT049\",\"OUT049\",\"OUT027\",\"OUT018\",\"OUT049\",\"OUT027\",\"OUT027\",\"OUT018\",\"OUT049\",\"OUT027\",\"OUT049\",\"OUT027\",\"OUT049\",\"OUT018\",\"OUT027\",\"OUT027\",\"OUT018\",\"OUT049\",\"OUT018\",\"OUT018\",\"OUT027\",\"OUT049\",\"OUT049\",\"OUT027\",\"OUT018\",\"OUT049\",\"OUT018\",\"OUT027\",\"OUT027\",\"OUT018\",\"OUT018\",\"OUT018\",\"OUT049\",\"OUT018\",\"OUT018\",\"OUT027\",\"OUT049\",\"OUT049\",\"OUT027\",\"OUT049\",\"OUT027\",\"OUT049\",\"OUT018\",\"OUT049\",\"OUT027\",\"OUT027\",\"OUT018\",\"OUT018\",\"OUT027\",\"OUT049\",\"OUT049\",\"OUT018\",\"OUT018\",\"OUT027\",\"OUT049\",\"OUT027\",\"OUT049\",\"OUT049\",\"OUT018\",\"OUT027\",\"OUT027\",\"OUT049\",\"OUT018\",\"OUT027\",\"OUT018\",\"OUT027\",\"OUT027\",\"OUT049\",\"OUT049\",\"OUT027\",\"OUT049\",\"OUT027\",\"OUT027\",\"OUT027\",\"OUT018\",\"OUT049\",\"OUT018\",\"OUT018\",\"OUT018\",\"OUT027\",\"OUT049\",\"OUT049\",\"OUT018\",\"OUT027\",\"OUT049\",\"OUT049\",\"OUT018\",\"OUT049\",\"OUT027\",\"OUT018\",\"OUT018\",\"OUT027\",\"OUT027\",\"OUT018\",\"OUT018\",\"OUT018\",\"OUT018\",\"OUT018\",\"OUT018\",\"OUT049\",\"OUT018\",\"OUT018\",\"OUT049\",\"OUT049\",\"OUT027\",\"OUT018\",\"OUT018\",\"OUT027\",\"OUT049\",\"OUT027\",\"OUT027\",\"OUT027\",\"OUT018\",\"OUT049\",\"OUT049\",\"OUT018\",\"OUT049\",\"OUT049\",\"OUT049\",\"OUT018\",\"OUT049\",\"OUT018\",\"OUT027\",\"OUT018\",\"OUT049\",\"OUT018\",\"OUT027\",\"OUT018\",\"OUT049\",\"OUT018\",\"OUT049\",\"OUT027\",\"OUT027\",\"OUT018\",\"OUT018\",\"OUT049\",\"OUT018\",\"OUT027\",\"OUT018\",\"OUT027\",\"OUT027\",\"OUT049\",\"OUT049\",\"OUT049\",\"OUT049\",\"OUT018\",\"OUT018\",\"OUT027\",\"OUT027\",\"OUT049\",\"OUT027\",\"OUT018\",\"OUT018\",\"OUT018\",\"OUT049\",\"OUT049\",\"OUT027\",\"OUT049\",\"OUT018\",\"OUT049\",\"OUT049\",\"OUT049\",\"OUT049\",\"OUT027\",\"OUT049\",\"OUT049\",\"OUT027\",\"OUT049\",\"OUT018\",\"OUT027\",\"OUT027\",\"OUT027\",\"OUT027\",\"OUT018\",\"OUT018\",\"OUT027\",\"OUT027\",\"OUT027\",\"OUT049\",\"OUT049\",\"OUT049\",\"OUT018\",\"OUT027\",\"OUT049\",\"OUT049\",\"OUT018\",\"OUT018\",\"OUT027\",\"OUT018\",\"OUT027\",\"OUT018\",\"OUT027\",\"OUT018\",\"OUT049\",\"OUT049\",\"OUT018\",\"OUT018\",\"OUT049\",\"OUT049\",\"OUT018\",\"OUT049\",\"OUT018\",\"OUT049\",\"OUT027\",\"OUT049\",\"OUT018\",\"OUT049\",\"OUT018\",\"OUT027\",\"OUT018\",\"OUT027\",\"OUT018\",\"OUT027\",\"OUT018\",\"OUT027\",\"OUT027\",\"OUT049\",\"OUT018\",\"OUT018\",\"OUT049\",\"OUT049\",\"OUT027\",\"OUT049\",\"OUT027\",\"OUT027\",\"OUT027\",\"OUT049\",\"OUT049\",\"OUT027\",\"OUT018\",\"OUT018\",\"OUT027\",\"OUT018\",\"OUT018\",\"OUT027\",\"OUT027\",\"OUT049\",\"OUT049\",\"OUT049\",\"OUT018\",\"OUT049\",\"OUT049\",\"OUT027\",\"OUT027\",\"OUT027\",\"OUT027\",\"OUT049\",\"OUT018\",\"OUT027\",\"OUT027\",\"OUT049\",\"OUT027\",\"OUT049\",\"OUT018\",\"OUT027\",\"OUT018\",\"OUT018\",\"OUT049\",\"OUT027\",\"OUT018\",\"OUT049\",\"OUT018\",\"OUT049\",\"OUT049\",\"OUT027\",\"OUT049\",\"OUT018\",\"OUT018\",\"OUT049\",\"OUT027\",\"OUT027\",\"OUT018\",\"OUT018\",\"OUT049\",\"OUT049\",\"OUT018\",\"OUT027\",\"OUT027\",\"OUT049\",\"OUT027\",\"OUT049\",\"OUT027\",\"OUT049\",\"OUT018\",\"OUT027\",\"OUT018\",\"OUT049\",\"OUT018\",\"OUT018\",\"OUT049\",\"OUT049\",\"OUT027\",\"OUT049\",\"OUT018\",\"OUT027\",\"OUT027\",\"OUT027\",\"OUT018\",\"OUT018\",\"OUT049\",\"OUT018\",\"OUT027\",\"OUT018\",\"OUT018\",\"OUT049\",\"OUT018\",\"OUT049\",\"OUT049\",\"OUT049\",\"OUT018\",\"OUT049\",\"OUT027\",\"OUT018\",\"OUT027\",\"OUT049\",\"OUT027\",\"OUT018\",\"OUT027\",\"OUT018\",\"OUT018\",\"OUT027\",\"OUT027\",\"OUT018\",\"OUT049\",\"OUT049\",\"OUT049\",\"OUT027\",\"OUT018\",\"OUT027\",\"OUT027\",\"OUT027\",\"OUT018\",\"OUT049\",\"OUT018\",\"OUT018\",\"OUT027\",\"OUT027\",\"OUT018\",\"OUT049\",\"OUT027\",\"OUT027\",\"OUT018\",\"OUT027\",\"OUT049\",\"OUT049\",\"OUT027\",\"OUT027\",\"OUT027\",\"OUT049\",\"OUT049\",\"OUT049\",\"OUT027\",\"OUT027\",\"OUT018\",\"OUT027\",\"OUT018\",\"OUT049\",\"OUT049\",\"OUT018\",\"OUT049\",\"OUT027\",\"OUT049\",\"OUT049\",\"OUT027\",\"OUT018\",\"OUT049\",\"OUT018\",\"OUT018\",\"OUT018\",\"OUT049\",\"OUT018\",\"OUT049\",\"OUT018\",\"OUT049\",\"OUT049\",\"OUT018\",\"OUT049\",\"OUT027\",\"OUT027\",\"OUT049\",\"OUT018\",\"OUT018\",\"OUT018\",\"OUT027\",\"OUT049\",\"OUT018\",\"OUT018\",\"OUT027\",\"OUT027\",\"OUT018\",\"OUT027\",\"OUT049\",\"OUT018\",\"OUT049\",\"OUT018\",\"OUT027\",\"OUT027\",\"OUT049\",\"OUT018\",\"OUT049\",\"OUT049\",\"OUT018\",\"OUT018\",\"OUT027\",\"OUT049\",\"OUT018\",\"OUT027\",\"OUT018\",\"OUT018\",\"OUT049\",\"OUT018\",\"OUT049\",\"OUT049\",\"OUT027\",\"OUT027\",\"OUT018\",\"OUT027\",\"OUT049\",\"OUT027\",\"OUT018\",\"OUT049\",\"OUT027\",\"OUT027\",\"OUT018\",\"OUT027\",\"OUT018\",\"OUT049\",\"OUT018\",\"OUT018\",\"OUT049\",\"OUT049\",\"OUT018\",\"OUT049\",\"OUT018\",\"OUT027\",\"OUT018\",\"OUT049\",\"OUT027\",\"OUT018\",\"OUT018\",\"OUT049\",\"OUT049\",\"OUT027\",\"OUT018\",\"OUT018\",\"OUT049\",\"OUT027\",\"OUT049\",\"OUT049\",\"OUT027\",\"OUT049\",\"OUT049\",\"OUT018\",\"OUT027\",\"OUT027\",\"OUT027\",\"OUT018\",\"OUT018\",\"OUT018\",\"OUT027\",\"OUT018\",\"OUT018\",\"OUT018\",\"OUT018\",\"OUT018\",\"OUT018\"],\"xaxis\":\"x\",\"y\":[3735.138,443.4228,2097.27,556.6088,4022.7636,1516.0266,1589.2646,1621.8888,718.3982,2303.668,4064.0432,2741.7644,3068.0064,3791.0652,2797.6916,1609.9044,388.1614,2180.495,2527.3768,6258.52,796.9626,3185.1872,484.7024,2543.356,5580.7356,1207.0954,4693.89,3091.9752,3285.723,1523.3504,690.4346,1231.73,4363.6532,2854.9504,3896.2616,3185.853,4097.3332,5942.265,1141.847,952.094,5262.4832,2676.516,1794.331,2768.3964,898.83,3589.9936,262.3252,1808.9786,3315.684,1743.0644,5555.4352,619.194,6024.1584,4739.8302,1012.016,778.986,2233.0932,1661.8368,4745.8224,467.3916,5070.7328,6008.845,2105.2596,5359.69,780.9834,1995.4026,3101.2964,4769.1254,3435.528,2293.0152,2074.6328,241.6854,535.969,1779.0176,759.012,3668.558,736.3748,2125.2336,559.272,1237.7222,3866.9664,1869.5664,5499.508,925.462,3251.7672,1134.5232,874.8612,1677.816,4414.254,5448.9072,4950.8888,2404.2038,3340.9844,4278.4308,2055.9904,2807.0128,703.0848,1937.478,3307.6944,3142.576,2554.0088,1869.5664,1255.6988,5033.448,2696.49,898.83,659.142,1286.3256,1733.7432,1253.7014,5375.0034,1318.284,2251.7356,717.7324,1677.816,3707.1744,2652.5472,717.7324,2277.036,5770.4886,3195.84,4311.055,3415.554,5624.6784,5642.655,4943.565,3135.2522,588.5672,1929.4884,2133.2232,3401.5722,2486.763,199.74,1296.3126,4466.1864,1146.5076,1713.7692,2113.2492,3486.1288,2336.958,4584.6988,2876.256,407.4696,2189.8162,4380.2982,372.848,3273.7386,5344.3766,283.6308,3299.7048,2187.153,5734.5354,633.8416,2386.2272,1637.868,1747.725,958.752,1238.388,1561.9668,3848.324,559.272,295.6152,1267.0174,1547.3192,1045.306,2735.1064,3205.1612,487.3656,1414.1592,1054.6272,1667.829,3836.3396,878.856,1332.9316,3560.6984,647.8234,1695.7926,4042.7376,4763.799,1288.9888,2207.127,5087.3778,1262.3568,1758.3778,2478.7734,1990.742,938.778,4194.54,5764.4964,1522.0188,1270.3464,1107.8912,3542.056,1534.0032,1308.297,1239.7196,1496.0526,2870.9296,1488.063,5159.2842,5954.2494,4500.808,4974.1918,2488.7604,2954.1546,1298.31,2756.412,1267.6832,3745.125,1810.976,554.6114,3499.4448,2566.659,918.804,3079.9908,744.3644,4554.072,1470.0864,4476.1734,2924.8594,960.7494,1402.1748,4592.0226,1265.02,5198.5664,2432.8332,2287.023,1687.1372,1331.6,607.8754,441.4254,3364.9532,2328.3026,2045.3376,3095.97,808.947,3235.788,3355.632,2037.348,1867.569,2868.9322,1868.2348,3195.84,4086.0146,1856.2504,1380.8692,5182.5872,1358.232,2251.7356,5063.409,3067.3406,1470.0864,2896.23,996.0368,3057.3536,3086.6488,2696.49,1280.9992,1150.5024,619.194,2266.3832,1054.6272,3412.8908,2942.836,452.744,3211.8192,1565.9616,1043.9744,3115.944,1320.9472,446.7518,585.904,6331.758,223.7088,451.4124,615.1992,1569.9564,743.0328,3150.5656,4940.236,3823.0236,1033.3216,4561.3958,2416.854,1482.7366,984.7182,1864.24,5469.547,1998.7316,1020.6714,1277.0044,6042.135,1223.0746,2182.4924,5518.1504,2115.9124,1885.5456,703.0848,2656.542,1488.7288,1614.565,5602.707,1012.6818,830.9184,1198.44,2253.0672,862.8768,1850.924,6351.732,3542.056,3611.2992,1810.976,1330.2684,3912.2408,1274.3412,568.5932,6183.9504,623.1888,4555.4036,490.6946,1584.604,5778.4782,5173.266,1006.6896,2163.1842,3415.554,5353.6978,4832.3764,5350.3688,1544.656,1125.202,1570.6222,3428.2042,1506.0396,1139.8496,1012.016,2399.5432,1637.868,3747.1224,805.618,1171.808,649.155,4364.319,1821.6288,3129.26,509.337,1341.587,2250.404,5704.5744,2251.7356,5404.9644,2444.8176,1713.7692,1488.063,778.986,2328.3026,5351.0346,1166.4816,3661.9,1177.1344,3383.5956,6040.1376,2832.979,866.8716,1618.5598,2503.408,3415.554,3769.7596,1540.6612,2702.4822,1541.9928,3635.268,466.06,2681.8424,2373.577,1096.5726,2167.8448,1884.214,1853.5872,673.7896,540.6296,4965.5364,1065.28,4189.2136,2925.5252,866.8716,343.5528,1127.8652,4402.2696,1901.5248,1413.4934,2993.4368,1721.093,3582.004,3511.4292,1957.452,4098.6648,1653.8472,1981.4208,3374.2744,1454.1072,6353.0636,4567.388,2463.46,1921.4988,1581.9408,6165.9738,1867.569,2518.7214,1647.855,5816.4288,792.302,1747.725,2410.8618,3691.1952,829.5868,1358.232,1480.0734,768.999,2348.9424,2492.7552,5697.9164,3420.8804,3761.77,3701.1822,4436.8912,1323.6104,2647.2208,5887.6694,5954.9152,6064.1064,2109.2544,1593.9252,2625.9152,4211.185,4492.8184,4138.6128,4960.21,5383.6588,651.8182,4394.28,2577.9776,1707.777,5522.811,1768.3648,5626.01,3874.956,1492.7236,3368.948,2388.8904,5478.2024,4629.9732,2220.443,2043.3402,2475.4444,3091.9752,1605.9096,78.5644,2050.664,829.5868,1229.0668,1304.968,3877.6192,1765.0358,6179.9556,2173.1712,1677.816,5285.1204,1773.6912,126.502,372.848,1867.569,319.584,1099.9016,2220.443,3110.6176,3889.6036,1288.9888,1733.0774,1893.5352,2463.46,1679.1476,2375.5744,3511.4292,549.285,419.454,2267.049,491.3604,3131.9232,1478.076,3306.3628,793.6336,1198.44,3057.3536,360.8636,513.3318,75.9012,3399.5748,3653.9104,512.666,1426.1436,1024.6662,1231.73,2007.387,1277.0044,649.8208,1078.596,1114.5492,1384.1982,4677.245,3271.7412,3340.3186,1058.622,1491.392,2490.092,563.9326,1230.3984,3261.7542,1197.7742,1114.5492,404.8064,5956.9126,1158.492,2342.9502,2841.6344,2876.256,1001.3632,982.7208,3547.3824,4427.57,687.1056,3787.0704,2748.4224,2319.6472,3629.2758,2087.9488,3171.8712,1022.6688,852.224,3842.9976,628.5152,1597.92,1148.505,5785.802,2759.0752,3283.7256,1138.518,874.8612,2181.1608,503.3448,1853.5872,644.4944,1617.894,2328.9684,1328.271,2069.3064,2912.875,1255.033,1583.9382,661.1394,958.752,5523.4768,972.068,4819.7262,2181.1608,4916.933,3605.307,2133.2232,2181.1608,1482.0708,4434.228,1263.0226,2631.2416,2332.9632,5369.0112,3448.844,1446.1176,1567.2932,1396.1826,1514.695,4054.722,2343.616,5350.3688,4119.3046,1162.4868,1211.756,4763.799,1120.5414,2612.5992,2713.135,1631.8758,3563.3616,1603.2464,1705.7796,1281.665,2914.8724,1556.6404,1612.5676,6029.4848,2535.3664,1657.842,1505.3738,6309.7866,633.8416,3091.9752,1328.271,2010.716,2804.3496,2659.871,1185.7898,3791.0652,402.809,749.025,5257.1568,4447.544,5652.642,564.5984,825.592,2696.49,939.4438,3364.9532,4729.8432,4633.968,3375.606,1713.7692,1381.535,1076.5986,4211.185,4613.994,1431.47,490.0288,366.19,5294.4416,3928.22,452.744,1537.998,1687.1372,3115.944,1677.816,1108.557,4350.3372,1312.9576,910.8144,2409.5302,4958.8784,1518.024,3621.2862,1245.046,934.7832,459.402,842.237,755.683,1953.4572,2976.7918,3813.7024,2556.672,1255.033,480.7076,4933.578,2311.6576,452.744,984.7182,293.6178,5105.3544,1569.9564,1717.764,1304.968,784.3124,2269.0464,1209.7586,1205.098,3338.987,4680.574,6439.6176,2684.5056,2439.4912,2227.101,1366.2216,711.0744,1004.0264,1864.24,1907.517,1024.6662,640.4996,5383.6588,3615.294,4165.2448,2888.2404,2696.49,2287.023,437.4306,2050.664,1214.4192,3672.5528,2345.6134,1905.5196,2439.4912,615.1992,4793.76,1138.518,1384.1982,1251.704,3205.1612,3418.883,1685.8056,3453.5046,1004.0264,2020.0372,3193.1768,3756.4436,3243.7776,3673.8844,3062.0142,4442.2176,631.1784,2348.9424,1975.4286,1374.2112,908.817,6035.477,1332.9316,2848.9582,585.904,1133.8574,2836.308,3560.6984,2570.6538,4274.436,2332.2974,4042.7376,3153.2288,1042.6428,1696.4584,796.9626,4687.232,2167.8448,2749.754,3057.3536,512.666,2826.321,3846.9924,557.2746,2964.1416,2960.1468,1378.206,713.0718,982.055,2119.9072,2396.88,5972.226,2787.0388,1105.228,6381.693,769.6648,343.5528,3998.7948,649.155,2127.8968,1310.2944,846.8976,1584.604,809.6128,4225.1668,4517.453,1573.9512,842.237,447.4176,3574.0144,3146.5708,3006.087,2684.5056,1279.0018,1522.0188,2972.1312,865.54,2946.165,1657.1762,690.4346,5470.8786,2673.8528,4354.332,3202.498,5976.2208,6306.4576,2524.0478,4016.1056,2127.231,2290.352,2139.2154,3990.8052,1611.236,1203.7664,4579.3724,1448.7808,2367.5848,2011.3818,1860.2452,3408.896,3139.9128,2656.542,1395.5168,1219.7456,1018.674,2698.4874,425.4462,5901.6512,2556.672,535.3032,4544.085,2797.6916,2759.0752,2431.5016,4761.8016,1229.0668,4458.1968,3275.736,988.713,1768.3648,3968.168,1737.738,934.7832,1765.7016,1651.184,4563.3932,247.6776,2050.664,525.982,3231.1274,243.6828,1821.6288,186.424,1380.8692,905.488,2133.2232,2250.404,6024.1584,5851.0504,2251.0698,611.2044,492.692,927.4594,6196.6006,207.7296,663.1368,2239.0854,5273.136,5852.382,527.9794,1518.024,885.514,4506.1344,3020.0688,6359.7216,1737.738,2846.295,1576.6144,373.5138,4697.8848,755.0172,2886.9088,982.055,1941.4728,1448.115,1058.622,759.012,3828.35,431.4384,1733.7432,1034.6532,3174.5344,5715.2272,3119.9388,3835.008,1261.691,805.618,3868.9638,2143.2102,2423.512,1358.232,3731.809,3372.9428,3068.0064,3276.4018,1362.2268,2143.876,870.8664,1031.99,864.2084,4910.275,1257.0304,243.017,5001.4896,1230.3984,5466.8838,2501.4106,850.8924,2679.845,3611.2992,3439.5228,727.0536,5695.2532,265.6542,1857.582,1185.124,856.8846,2956.152,1833.6132,2852.2872,1348.245,4578.0408,3709.8376,1749.7224,701.7532,4301.068,1018.0082,2293.0152,4274.436,2336.958,1686.4714,3844.995,2694.4926,3427.5384,952.094,2365.5874,2695.1584,2947.4966,886.8456,1146.5076,1829.6184,2603.278,2090.612,2073.3012,5772.486,3844.995,1966.7732,2719.793,1139.8496,564.5984,808.947,3941.536,1845.5976,2034.019,885.514,2316.984,2175.1686,2348.9424,1488.7288,663.1368,2889.572,1821.6288,3199.8348,780.9834,2283.0282,2828.3184,1603.9122,3981.484,3395.58,539.298,5386.9878,181.0976,1486.7314,1530.6742,814.9392,3677.2134,2873.5928,3605.307,1416.8224,3266.4148,1274.3412,774.9912,5892.33,805.618,1677.816,1631.21,890.8404,1544.656,4925.5884,1025.332,5753.8436,759.012,1314.2892,1938.8096,1491.392,3430.2016,2252.4014,2336.958,2956.152,2797.6916,4386.2904,6391.68,3495.45,5033.448,472.718,1528.011,2109.2544,2821.6604,2330.3,1470.0864,857.5504,1006.6896,2886.243,3046.7008,628.5152,1336.9264,463.3968,3494.1184,913.4776,3572.017,3713.1666,2257.062,1198.44,2277.036,4228.4958,3739.1328,1164.4842,3962.8416,1416.8224,2376.906,2526.0452,2580.6408,6242.5408,2546.685,1168.479,1717.764,1549.3166,1566.6274,3179.8608,562.601,1845.5976,1843.6002,5141.3076,1174.4712,552.614,3418.883,3874.2902,3571.3512,1701.7848,1150.5024,1262.3568,2246.4092,1518.024,2816.334,186.424,1428.141,5500.8396,2109.2544,535.969,2366.919,4255.7936,459.402,1384.1982,2460.7968,1113.2176,3866.9664,4633.968,1071.938,4202.5296,2087.283,4649.9472,545.956,473.3838,5546.114,1771.028,2994.7684,1238.388,4815.0656,1284.994,1977.426,3056.022,5195.2374,1050.6324,2101.2648,199.74,644.4944,3323.0078,1518.024,4554.072,3835.008,918.804,5660.6316,1448.7808,986.7156,1733.7432,265.6542,2510.066,3271.7412,856.8846,302.939,3297.7074,918.804,2972.1312,1605.9096,804.9522,3068.0064,5400.9696,1102.5648,778.986,5681.2714,2763.07,2940.1728,1928.1568,5093.37,972.068,559.272,4952.8862,4560.73,543.2928,2695.1584,3528.74,671.1264,4757.8068,415.4592,1970.768,4904.2828,820.2656,4452.8704,320.9156,1038.648,3383.5956,5000.8238,4821.7236,1896.1984,2281.6966,3408.896,1822.2946,569.259,1162.4868,2326.971,1677.1502,822.263,1984.084,3998.7948,3036.048,5552.1062,3523.4136,1324.2762,3567.3564,2069.3064,770.3306,3368.948,2050.664,3563.3616,4604.6728,2988.1104,4074.696,1621.8888,2889.572,3797.7232,1895.5326,3050.6956,3185.1872,2703.148,1754.383,5031.4506,1560.6352,5053.422,1957.452,1743.0644,671.1264,703.0848,249.0092,383.5008,2348.9424,3837.0054,4540.756,1733.7432,6072.096,5033.448,1777.686,945.436,1675.1528,3302.368,1358.232,6199.9296,958.752,1444.1202,615.1992,2446.815,1438.128,1621.8888,5033.448,3020.0688,1201.1032,585.904,3078.6592,2450.144,1295.6468,2492.7552,1145.176,1151.1682,4725.8484,3327.6684,1347.5792,4124.631,237.6906,2931.5174,3214.4824,1414.825,2085.9514,785.644,2077.296,755.0172,5182.5872,1895.5326,552.614,1592.5936,3795.06,882.8508,591.8962,4500.808,1278.336,3197.1716,2960.1468,2972.797,591.2304,529.311,6331.758,4327.7,3353.6346,4857.6768,918.804,4346.3424,3285.723,2619.2572,1318.284,1771.028,579.246,700.4216,517.3266,2239.0854,2233.0932,3675.216,2516.724,1861.5768,6114.7072,1960.781,2596.62,1749.7224,2708.4744,5609.365,1722.4246,2467.4548,1725.7536,3815.034,625.852,4828.3816,2450.144,1659.1736,5866.3638,1216.4166,2120.573,3916.2356,1629.8784,3874.2902,647.1576,1605.9096,1182.4608,1505.3738,5522.811,2775.7202,619.194,2621.9204,790.9704,2237.088,3089.9778,1549.9824,958.752,299.61,856.8846,394.1536,5000.8238,1667.829,2439.4912,1201.769,1970.768,1817.634,5238.5144,1938.8096,1491.392,1737.738,1604.578,1629.8784,3516.7556,1069.2748,1976.0944,1619.2256,3453.5046,3238.4512,2716.464,1295.6468,2396.88,1981.4208,872.8638,3020.7346,3200.5006,2101.2648,1018.674,1180.4634,1874.8928,3648.584,1537.998,2833.6448,1755.7146,561.9352,773.6596,2741.0986,425.4462,3075.996,3930.8832,2796.36,865.54,1246.3776,1342.2528,3099.9648,5106.686,1794.331,1853.5872,1625.8836,2892.2352,2862.94,1323.6104,5704.5744,2048.6666,1426.1436,1957.452,1411.496,4042.7376,2863.6058,476.047,2546.685,6478.234,5880.3456,3435.528,1906.8512,1378.206,937.4464,2458.1336,4745.8224,3466.1548,1342.2528,3938.8728,1927.491,421.4514,878.856,3435.528,4913.604,2530.7058,1528.6768,998.7,918.804,575.2512,5033.448,1859.5794,1918.8356,1283.6624,3410.2276,1518.024,1174.4712,2609.936,1395.5168,3426.2068,4607.336,4093.3384,5690.5926,3235.788,1579.9434,1194.4452,2436.828,4532.7664,4649.9472,4873.656,5233.188,5229.1932,5351.0346,2770.3938,383.5008,4379.6324,3237.1196,2011.3818,3374.2744,2706.477,652.484,2844.2976,1406.1696,5303.097,3835.008,5195.2374,966.7416,2476.776,1854.9188,3419.5488,1104.5622,1955.4546,1384.864,1504.0422,982.7208,1543.3244,399.48,3719.1588,4602.6754,3695.19,377.5086,3139.9128,3773.7544,1049.9666,123.8388,3323.0078,3453.5046,2103.928,1235.7248,1534.0032,3551.3772,4727.18,5000.8238,447.4176,1151.1682,3083.9856,3364.9532,3984.813,2187.153,3169.208,3235.788,1041.3112,2363.59,2048.6666,1047.3034,1211.756,2342.9502,3207.8244,2659.871,487.3656,6327.7632,966.7416,2025.3636,455.4072,602.549,2508.7344,592.562,1145.176,1398.18,3048.6982,2277.036,5896.3248,4086.0146,1618.5598,2302.3364,2805.0154,4460.1942,4012.1108,4278.4308,3263.7516,2660.5368,1833.6132,1304.968,2817.6656,4314.384,515.3292,5475.5392,1148.505,2444.8176,4432.2306,3795.06,4199.8664,1884.8798,2628.5784,1617.894,4538.0928,2323.642,3175.866,1544.656,2165.1816,3012.745,1547.3192,1125.8678,3998.7948,4026.7584,2492.0894,1161.1552,6291.81,3036.048,3585.333,5313.084,722.393,1607.2412,1043.9744,335.5632,856.8846,3691.1952,802.9548,4302.3996,2354.2688,2914.8724,2246.4092,1211.756,5635.3312,1018.674,1749.7224,1181.795,1565.9616,1006.6896,5727.2116,4986.842,1794.331,729.051,3588.662,778.986,2524.0478,341.5554,4579.3724,2326.971,1500.7132,2036.0164,3870.9612,2460.7968,2221.1088,2588.6304,1973.4312,2428.8384,1721.093,111.8544,974.0654,1422.1488,1687.803,3146.5708,5410.9566,355.5372,1342.2528,1104.5622,3630.6074,4870.9928,1177.1344,331.5684,2292.3494,1239.7196,2324.9736,1973.4312,4221.8378,4247.804,1342.2528,1201.1032,3848.324,2546.685,3422.212,3052.0272,3954.852,978.726,721.0614,4795.0916,3339.6528,5992.2,2645.2234,1414.825,524.6504,2940.1728,623.1888,4504.8028,2716.464,1314.2892,3004.0896,2748.4224,2557.3378,2376.906,2597.2858,669.129,980.0576,1576.6144,1071.938,1895.5326,1061.951,1037.3164,2388.8904,2406.2012,1442.1228,4567.388,984.7182,3004.0896,4138.6128,2892.901,1832.2816,3845.6608,847.5634,539.298,1635.8706,1845.5976,5084.0488,1470.0864,2428.8384,2516.724,3185.1872,988.0472,1757.712,2519.3872,6026.8216,768.999,2746.425,4374.306,1518.024,905.488,2267.7148,2954.1546,282.2992,1358.232,2750.4198,1539.9954,2458.1336,2799.689,1797.66,2460.7968,4026.7584,5394.9774,3946.8624,1438.128,3621.2862,529.311,3630.6074,1404.1722,1948.1308,1310.2944,1150.5024,2783.044,2588.6304,703.0848,1948.1308,1038.648,2924.1936,670.4606,652.484,5645.984,4261.12,1992.7394,6189.2768,2057.9878,2768.3964,2073.967,1006.6896,614.5334,3279.065,878.856,6021.4952,612.536,2783.7098,1071.938,767.0016,3159.8868,652.484,4828.3816,906.8196,4376.9692,2633.9048,593.2278,750.3566,1768.3648,3472.147,3289.052,6207.9192,4042.7376,1231.73,2540.6928,3215.814,2836.308,679.116,2586.633,5327.0658,4119.9704,4566.7222,1750.3882,3903.5854,2596.62,1427.4752,3819.0288,985.384,926.7936,2768.3964,3020.0688,5797.7864,2929.52,2157.192,4965.5364,1960.781,2241.7486,1078.596,2624.5836,1917.504,685.1082,3629.9416,3179.195,5329.0632,4141.276,2910.2118,293.6178,1695.1268,162.4552,6207.9192,675.787,3094.6384,1018.0082,2996.1,3448.844,3199.169,1791.6678,1436.7964,1797.66,524.6504,1178.466,1565.9616,777.6544,309.597,711.0744,3265.749,2192.4794,2463.46,2293.0152,1704.448,2609.936,3781.744,1845.5976,1300.3074,2490.092,1065.28,1980.755,2956.152,1659.8394,167.7816,2456.802,559.272,2330.9658,69.2432,5077.3908,1840.937,1231.73,1000.6974,5772.486,4761.8016,1607.907,1565.9616,2780.3808,3621.952,589.233,3661.9,1094.5752,978.726,5978.2182,1274.3412,1021.3372,3515.424,1278.336,5086.712,4693.89,2530.04,3859.6426,4436.8912,2596.62,1701.7848,3463.4916,4705.8744,1883.5482,1211.756,701.7532,910.8144,3954.852,2404.8696,533.3058,2664.5316,4351.6688,3412.8908,4157.2552,2103.2622,1904.188,3249.104,2097.27,1078.596,2087.283,2668.5264,1997.4,5313.084,1607.2412,2731.1116,484.7024,545.2902,5976.2208,3112.615,3315.0182,1656.5104,3346.3108,1379.5376,2998.0974,642.497,5339.0502,2563.33,1807.647,622.523,804.2864,283.6308,5752.512,596.5568,4566.7222,1416.8224,4753.812,1577.946,2687.8346,1627.2152,732.38,3271.7412,3105.2912,1446.1176,1014.6792,4876.985,3379.6008,4287.752,1587.2672,1265.02,3615.294,3515.424,3179.8608,2387.5588,878.856,439.428,2994.7684,1864.24,2756.412,1637.868,4595.3516,1114.5492,1102.5648,1193.1136,4028.09,2404.2038,824.9262,3745.125,6191.94,6338.416,3048.6982,1549.3166,3137.2496,631.8442,1326.2736,2780.3808,1384.864,1498.05,4474.176,1514.695,2500.7448,3398.2432,4396.9432,2306.997,1727.751,1298.31,2956.152,1547.3192,3243.7776,868.869,1516.0266,962.7468,4195.8716,2241.0828,1531.34,4012.1108,1218.414,1187.7872,1320.9472,5056.751,5287.7836,1384.1982,1757.712,2106.5912,677.1186,3237.1196,848.895,923.4646,6303.7944,5779.144,4020.7662,1715.1008,3704.5112,419.454,4474.176,2077.296,2197.14,1334.2632,1583.9382,882.8508,3691.1952,713.7376,4963.539,1787.0072,4586.0304,3728.48,3214.4824,3823.0236,4022.7636,2259.0594,1655.1788,1813.6392,5522.811,894.8352,1693.7952,5438.9202,3715.164,1842.9344,986.7156,2740.4328,239.688,2067.309,3705.177,1607.907,2961.4784,922.7988,495.3552,3509.4318,4921.5936,2387.5588,1011.3502,3145.905,343.5528,2526.711,1549.9824,4267.1122,539.298,2143.876,1428.141,1410.8302,1105.228,2740.4328,2572.6512,4860.34,531.3084,1125.202,527.3136,719.064,4399.6064,619.194,1342.2528,2512.7292,4288.4178,311.5944,5592.72,4436.8912,959.4178,1707.777,3884.943,401.4774,3757.7752,1565.9616,1138.518,2929.52,5747.1856,2247.075,441.4254,4345.0108,2576.646,316.9208,2966.139,2239.0854,788.3072,5163.9448,1133.8574,4377.635,1024.6662,2013.3792,3448.844,253.004,2628.5784,2526.711,2410.196,1208.427,2954.1546,4442.2176,3123.9336,1030.6584,3332.329,745.696,1547.985,1662.5026,2217.114,1258.362,3705.177,1846.9292,575.2512,2059.9852,3387.5904,3739.1328,303.6048,380.8376,4434.228,2586.633,4277.765,4287.752,2607.2728,4277.765,1222.4088,4508.1318,3085.3172,5672.616,2960.1468,1557.972,1695.7926,569.259,131.8284,3301.7022,852.224,4374.306,1113.2176,968.739,3844.995,2255.7304,1448.115,4166.5764,1458.102,1504.0422,1278.336,3914.904,282.2992,353.5398,2277.036,2716.464,4740.496,370.1848,1516.0266,1917.504,4454.202,1677.816,1937.478,2504.7396,710.4086,4502.1396,703.0848,2138.5496,2145.2076,1324.2762,1821.6288,4165.2448,1149.8366,3281.0624,2184.4898,527.3136,2609.936,2450.144,3775.086,1635.8706,6275.165,1870.898,4587.362,4275.7676,1480.7392,588.5672,1418.154,1125.202,1829.6184,1366.2216,2109.2544,2316.984,3605.307,2719.793,1324.942,552.614,1012.016,547.2876,5487.5236,1159.8236,1973.4312,1132.5258,4035.4138,3111.9492,173.108,199.74,1838.2738,3367.6164,607.8754,1006.6896,1597.92,4979.5182,3723.1536,1938.8096,2199.1374,1677.816,5888.3352,1288.323,2247.075,4813.734,1957.452,6474.2392,1922.8304,2822.992,3237.1196,2471.4496,644.4944,1911.5118,2863.6058,1374.2112,3691.1952,396.8168,2030.69,1442.7886,2376.906,1342.2528,265.6542,6050.7904,1428.141,1318.284,1508.037,1470.0864,5912.304,5289.1152,3453.5046,2150.534,1155.8288,3205.827,1545.9876,2356.932,2061.3168,5932.278,3225.1352,932.12,1406.1696,1964.7758,1597.92,4474.176,980.0576,3589.9936,1492.0578,4262.4516,5892.33,3175.866,1211.756,2540.6928,3349.6398,1259.6936,996.0368,4165.2448,601.8832,3410.2276,4804.4128,1605.9096,1416.8224,3016.7398,3098.6332,2182.4924,1581.9408,3163.8816,2241.7486,982.7208,251.6724,6042.135,1070.6064,2588.6304,3956.8494,1556.6404,203.7348,699.09,2080.625,3261.7542,2988.1104,4600.0122,6454.931,2510.066,1797.66,5024.1268,1102.5648,3047.3666,970.7364,2616.594,3751.1172,2441.4886,4777.7808,5238.5144,6231.888,3946.8624,1877.556,5424.9384,966.7416,2836.308,5073.396,814.9392,2777.7176,1406.1696,4976.855,651.1524,5000.8238,3904.917,1805.6496,2061.3168,1843.6002,4250.4672,6424.97,2466.789,1315.6208,1422.1488,377.5086,1404.838,1436.7964,3555.372,1030.6584,1644.526,3966.1706,3199.8348,3675.216,1973.4312,3083.9856,3735.8038,898.83,6170.6344,2856.282,736.3748,3583.3356,2556.672,1924.162,1454.1072,5582.733,1332.9316,1416.8224,768.999,2644.5576,1278.336,732.38,3174.5344,2940.1728,3918.8988,567.2616,1398.18,2036.6822,539.298,1857.582,1896.1984,753.0198,5944.2624,6474.2392,346.216,3835.008,1270.3464,5592.72,942.7728,2061.3168,1166.4816,3728.48,2293.681,2037.348,639.168,4013.4424,3649.2498,1267.0174,2037.348,1571.288,2247.7408,3448.844,3616.6256,1120.5414,3523.4136,3436.1938,5685.932,745.696,3946.8624,3415.554,579.246,1573.9512,3858.9768,2036.6822,1278.336,1228.401,2787.0388,916.1408,2050.664,1842.9344,1829.6184,4161.25,1844.266,2972.1312,4380.964,952.094,3592.6568,2189.8162,1298.31,2659.871,2922.1962,1290.3204,1544.656,1713.1034,4537.427,2787.0388,3352.303,4923.591,1183.7924,3068.0064,1293.6494,2306.997,101.8674,1651.184,4570.0512,2458.1336,1830.95,4910.275,1618.5598,1593.9252,2408.8644,3225.1352,1549.9824,3894.93,4068.7038,1294.3152,2529.3742,1557.972,1923.4962,4751.8146,3552.7088,1611.236,2173.1712,227.7036,3696.5216,4495.4816,2587.9646,1640.5312,1629.8784,183.7608,4996.829,3545.385,6157.3184,1733.7432,1120.5414,1544.656,1749.7224,3691.1952,5872.356,1004.0264,343.5528,1348.245,1215.7508,755.0172,2693.8268,490.0288,4231.8248,4165.2448,2926.191,820.2656,5499.508,1973.4312,2922.1962,850.8924,1976.0944,3530.0716,572.588,3467.4864,671.1264,1901.5248,4065.3748,1249.0408,607.2096,1860.2452,644.4944,2543.356,3056.022,3415.554,4504.137,1382.2008,2577.9776,996.0368,2609.936,2175.1686,1640.5312,2631.2416,624.5204,3916.2356,4915.6014,1817.634,154.4656,1635.8706,4277.765,1534.0032,3229.7958,952.094,2093.2752,872.8638,1052.6298,3435.528,4291.7468,641.8312,1388.8588,4567.388,5404.9644,1960.1152,2290.352,6066.7696,6431.628,3735.8038,2261.0568,2263.72,1290.9862,1725.7536,2625.9152,6183.9504,412.796,697.7584,1977.426,2492.7552,721.0614,834.9132,5944.2624,1362.2268,2083.2882,826.2578,4026.7584,4376.9692,938.778,2255.7304,2109.2544,1072.6038,5343.045,1249.0408,1821.6288,3453.5046,709.077,4832.3764,2220.443,255.6672,1241.0512,3301.0364,1797.66,1155.8288,854.8872,467.3916,4577.375,2599.2832,4068.038,1411.496,2291.0178,1263.6884,2563.33,3494.1184,1743.0644,926.7936,2388.8904,3645.255,3757.1094,5592.72,4925.5884,2327.6368,4074.696,3036.048,1539.9954,2003.3922,1584.604,719.064,2572.6512,5283.123,1246.3776,493.3578,4482.1656,2510.066,386.8298,1704.448,1120.5414,559.272,3528.74,1342.2528,3515.424,3635.268,978.726,6064.1064,2796.36,2626.581,1677.816,5522.811,3962.8416,6239.8776,1593.9252,5100.028,1641.197,1880.885,377.5086,4211.185,5257.1568,3805.047,2450.144,4693.89,1965.4416,2988.1104,801.6232,4837.7028,1398.8458,2247.075,4074.696,5704.5744,934.7832,1897.53,5243.8408,1384.1982,3124.5994,6208.585,2129.2284,2157.192,1267.6832,615.1992,3782.4098,6465.5838,2552.6772,1593.9252,1222.4088,1390.1904,2440.8228,4037.4112,1414.1592,848.895,784.3124,1833.6132,3593.3226,2380.235,4165.2448,5926.2858,2985.4472,2988.1104,2350.9398,3515.424,2175.8344,986.7156,1731.7458,4391.6168,3060.0168,2117.244,2073.3012,1031.99,2416.854,1691.7978,3617.9572,3002.758,1872.2296,1544.656,3528.74,3825.6868,2346.945,3307.6944,1171.808,1358.8978,6171.3002,5219.872,105.8622,1470.0864,579.246,2371.5796,1471.418,1071.938,3150.5656,3757.1094,4729.8432,431.4384,1182.4608,787.6414,452.744,2430.17,3292.381,4211.185,958.752,3207.8244,2716.464,1571.288,1661.8368,4594.02,615.1992,4506.1344,973.3996,4327.7,1857.582,764.3384,222.3772,1001.3632,3352.303,904.8222,3221.1404,1225.072,1416.8224,1084.5882,1579.9434,864.2084,1304.968,1286.3256,2656.542,3401.5722,2748.4224,1230.3984,3435.528,4857.6768,2726.451,2621.9204,1603.9122,3029.39,2588.6304,341.5554,2171.8396,340.8896,3964.839,3578.675,3675.216,1823.6262,2896.8958,1358.232,552.614,4036.7454,2567.3248,694.4294,1937.478,2548.0166,4850.353,4326.3684,1640.5312,3325.0052,1925.4936,3414.8882,2460.7968,5806.4418,4354.9978,2093.941,3193.8426,2467.4548,1438.128,4853.682,2926.191,1884.8798,4363.6532,1842.9344,3012.0792,5518.1504,575.2512,708.4112,2160.521,5296.439,3072.667,2936.178,4602.0096,635.1732,4026.7584,3635.268,2862.94,4138.6128,3355.632,1054.6272,2051.9956,1973.4312,5221.8694,2678.5134,836.2448,830.9184,3984.1472,4431.5648,2263.72,443.4228,1867.569,2340.9528,417.4566,2600.6148,1090.5804,793.6336,1296.3126,2960.1468,777.6544,2888.2404,482.0392,432.77,2093.941,3254.4304,810.9444,3881.614,1551.314,1653.8472,378.1744,2579.3092,763.0068,6261.849,4111.315,2756.412,2109.2544,4809.7392,1601.249,4138.6128,2117.244,3944.865,4207.856,1571.288,858.882,1845.5976],\"yaxis\":\"y\",\"type\":\"histogram\"},{\"alignmentgroup\":\"True\",\"bingroup\":\"x\",\"histfunc\":\"sum\",\"hovertemplate\":\"Outlet Size=Large<br>Outlet ID=%{x}<br>sum of Total Sales=%{y}<extra></extra>\",\"legendgroup\":\"Large\",\"marker\":{\"color\":\"#00cc96\",\"pattern\":{\"shape\":\"\"}},\"name\":\"Large\",\"offsetgroup\":\"Large\",\"orientation\":\"v\",\"showlegend\":true,\"x\":[\"OUT013\",\"OUT013\",\"OUT013\",\"OUT013\",\"OUT013\",\"OUT013\",\"OUT013\",\"OUT013\",\"OUT013\",\"OUT013\",\"OUT013\",\"OUT013\",\"OUT013\",\"OUT013\",\"OUT013\",\"OUT013\",\"OUT013\",\"OUT013\",\"OUT013\",\"OUT013\",\"OUT013\",\"OUT013\",\"OUT013\",\"OUT013\",\"OUT013\",\"OUT013\",\"OUT013\",\"OUT013\",\"OUT013\",\"OUT013\",\"OUT013\",\"OUT013\",\"OUT013\",\"OUT013\",\"OUT013\",\"OUT013\",\"OUT013\",\"OUT013\",\"OUT013\",\"OUT013\",\"OUT013\",\"OUT013\",\"OUT013\",\"OUT013\",\"OUT013\",\"OUT013\",\"OUT013\",\"OUT013\",\"OUT013\",\"OUT013\",\"OUT013\",\"OUT013\",\"OUT013\",\"OUT013\",\"OUT013\",\"OUT013\",\"OUT013\",\"OUT013\",\"OUT013\",\"OUT013\",\"OUT013\",\"OUT013\",\"OUT013\",\"OUT013\",\"OUT013\",\"OUT013\",\"OUT013\",\"OUT013\",\"OUT013\",\"OUT013\",\"OUT013\",\"OUT013\",\"OUT013\",\"OUT013\",\"OUT013\",\"OUT013\",\"OUT013\",\"OUT013\",\"OUT013\",\"OUT013\",\"OUT013\",\"OUT013\",\"OUT013\",\"OUT013\",\"OUT013\",\"OUT013\",\"OUT013\",\"OUT013\",\"OUT013\",\"OUT013\",\"OUT013\",\"OUT013\",\"OUT013\",\"OUT013\",\"OUT013\",\"OUT013\",\"OUT013\",\"OUT013\",\"OUT013\",\"OUT013\",\"OUT013\",\"OUT013\",\"OUT013\",\"OUT013\",\"OUT013\",\"OUT013\",\"OUT013\",\"OUT013\",\"OUT013\",\"OUT013\",\"OUT013\",\"OUT013\",\"OUT013\",\"OUT013\",\"OUT013\",\"OUT013\",\"OUT013\",\"OUT013\",\"OUT013\",\"OUT013\",\"OUT013\",\"OUT013\",\"OUT013\",\"OUT013\",\"OUT013\",\"OUT013\",\"OUT013\",\"OUT013\",\"OUT013\",\"OUT013\",\"OUT013\",\"OUT013\",\"OUT013\",\"OUT013\",\"OUT013\",\"OUT013\",\"OUT013\",\"OUT013\",\"OUT013\",\"OUT013\",\"OUT013\",\"OUT013\",\"OUT013\",\"OUT013\",\"OUT013\",\"OUT013\",\"OUT013\",\"OUT013\",\"OUT013\",\"OUT013\",\"OUT013\",\"OUT013\",\"OUT013\",\"OUT013\",\"OUT013\",\"OUT013\",\"OUT013\",\"OUT013\",\"OUT013\",\"OUT013\",\"OUT013\",\"OUT013\",\"OUT013\",\"OUT013\",\"OUT013\",\"OUT013\",\"OUT013\",\"OUT013\",\"OUT013\",\"OUT013\",\"OUT013\",\"OUT013\",\"OUT013\",\"OUT013\",\"OUT013\",\"OUT013\",\"OUT013\",\"OUT013\",\"OUT013\",\"OUT013\",\"OUT013\",\"OUT013\",\"OUT013\",\"OUT013\",\"OUT013\",\"OUT013\",\"OUT013\",\"OUT013\",\"OUT013\",\"OUT013\",\"OUT013\",\"OUT013\",\"OUT013\",\"OUT013\",\"OUT013\",\"OUT013\",\"OUT013\",\"OUT013\",\"OUT013\",\"OUT013\",\"OUT013\",\"OUT013\",\"OUT013\",\"OUT013\",\"OUT013\",\"OUT013\",\"OUT013\",\"OUT013\",\"OUT013\",\"OUT013\",\"OUT013\",\"OUT013\",\"OUT013\",\"OUT013\",\"OUT013\",\"OUT013\",\"OUT013\",\"OUT013\",\"OUT013\",\"OUT013\",\"OUT013\",\"OUT013\",\"OUT013\",\"OUT013\",\"OUT013\",\"OUT013\",\"OUT013\",\"OUT013\",\"OUT013\",\"OUT013\",\"OUT013\",\"OUT013\",\"OUT013\",\"OUT013\",\"OUT013\",\"OUT013\",\"OUT013\",\"OUT013\",\"OUT013\",\"OUT013\",\"OUT013\",\"OUT013\",\"OUT013\",\"OUT013\",\"OUT013\",\"OUT013\",\"OUT013\",\"OUT013\",\"OUT013\",\"OUT013\",\"OUT013\",\"OUT013\",\"OUT013\",\"OUT013\",\"OUT013\",\"OUT013\",\"OUT013\",\"OUT013\",\"OUT013\",\"OUT013\",\"OUT013\",\"OUT013\",\"OUT013\",\"OUT013\",\"OUT013\",\"OUT013\",\"OUT013\",\"OUT013\",\"OUT013\",\"OUT013\",\"OUT013\",\"OUT013\",\"OUT013\",\"OUT013\",\"OUT013\",\"OUT013\",\"OUT013\",\"OUT013\",\"OUT013\",\"OUT013\",\"OUT013\",\"OUT013\",\"OUT013\",\"OUT013\",\"OUT013\",\"OUT013\",\"OUT013\",\"OUT013\",\"OUT013\",\"OUT013\",\"OUT013\",\"OUT013\",\"OUT013\",\"OUT013\",\"OUT013\",\"OUT013\",\"OUT013\",\"OUT013\",\"OUT013\",\"OUT013\",\"OUT013\",\"OUT013\",\"OUT013\",\"OUT013\",\"OUT013\",\"OUT013\",\"OUT013\",\"OUT013\",\"OUT013\",\"OUT013\",\"OUT013\",\"OUT013\",\"OUT013\",\"OUT013\",\"OUT013\",\"OUT013\",\"OUT013\",\"OUT013\",\"OUT013\",\"OUT013\",\"OUT013\",\"OUT013\",\"OUT013\",\"OUT013\",\"OUT013\",\"OUT013\",\"OUT013\",\"OUT013\",\"OUT013\",\"OUT013\",\"OUT013\",\"OUT013\",\"OUT013\",\"OUT013\",\"OUT013\",\"OUT013\",\"OUT013\",\"OUT013\",\"OUT013\",\"OUT013\",\"OUT013\",\"OUT013\",\"OUT013\",\"OUT013\",\"OUT013\",\"OUT013\",\"OUT013\",\"OUT013\",\"OUT013\",\"OUT013\",\"OUT013\",\"OUT013\",\"OUT013\",\"OUT013\",\"OUT013\",\"OUT013\",\"OUT013\",\"OUT013\",\"OUT013\",\"OUT013\",\"OUT013\",\"OUT013\",\"OUT013\",\"OUT013\",\"OUT013\",\"OUT013\",\"OUT013\",\"OUT013\",\"OUT013\",\"OUT013\",\"OUT013\",\"OUT013\",\"OUT013\",\"OUT013\",\"OUT013\",\"OUT013\",\"OUT013\",\"OUT013\",\"OUT013\",\"OUT013\",\"OUT013\",\"OUT013\",\"OUT013\",\"OUT013\",\"OUT013\",\"OUT013\",\"OUT013\",\"OUT013\",\"OUT013\",\"OUT013\",\"OUT013\",\"OUT013\",\"OUT013\",\"OUT013\",\"OUT013\",\"OUT013\",\"OUT013\",\"OUT013\",\"OUT013\",\"OUT013\",\"OUT013\",\"OUT013\",\"OUT013\",\"OUT013\",\"OUT013\",\"OUT013\",\"OUT013\",\"OUT013\",\"OUT013\",\"OUT013\",\"OUT013\",\"OUT013\",\"OUT013\",\"OUT013\",\"OUT013\",\"OUT013\",\"OUT013\",\"OUT013\",\"OUT013\",\"OUT013\",\"OUT013\",\"OUT013\",\"OUT013\",\"OUT013\",\"OUT013\",\"OUT013\",\"OUT013\",\"OUT013\",\"OUT013\",\"OUT013\",\"OUT013\",\"OUT013\",\"OUT013\",\"OUT013\",\"OUT013\",\"OUT013\",\"OUT013\",\"OUT013\",\"OUT013\",\"OUT013\",\"OUT013\",\"OUT013\",\"OUT013\",\"OUT013\",\"OUT013\",\"OUT013\",\"OUT013\",\"OUT013\",\"OUT013\",\"OUT013\",\"OUT013\",\"OUT013\",\"OUT013\",\"OUT013\",\"OUT013\",\"OUT013\",\"OUT013\",\"OUT013\",\"OUT013\",\"OUT013\",\"OUT013\",\"OUT013\",\"OUT013\",\"OUT013\",\"OUT013\",\"OUT013\",\"OUT013\",\"OUT013\",\"OUT013\",\"OUT013\",\"OUT013\",\"OUT013\",\"OUT013\",\"OUT013\",\"OUT013\",\"OUT013\",\"OUT013\",\"OUT013\",\"OUT013\",\"OUT013\",\"OUT013\",\"OUT013\",\"OUT013\",\"OUT013\",\"OUT013\",\"OUT013\",\"OUT013\",\"OUT013\",\"OUT013\",\"OUT013\",\"OUT013\",\"OUT013\",\"OUT013\",\"OUT013\",\"OUT013\",\"OUT013\",\"OUT013\",\"OUT013\",\"OUT013\",\"OUT013\",\"OUT013\",\"OUT013\",\"OUT013\",\"OUT013\",\"OUT013\",\"OUT013\",\"OUT013\",\"OUT013\",\"OUT013\",\"OUT013\",\"OUT013\",\"OUT013\",\"OUT013\",\"OUT013\",\"OUT013\",\"OUT013\",\"OUT013\",\"OUT013\",\"OUT013\",\"OUT013\",\"OUT013\",\"OUT013\",\"OUT013\",\"OUT013\",\"OUT013\",\"OUT013\",\"OUT013\",\"OUT013\",\"OUT013\",\"OUT013\",\"OUT013\",\"OUT013\",\"OUT013\",\"OUT013\",\"OUT013\",\"OUT013\",\"OUT013\",\"OUT013\",\"OUT013\",\"OUT013\",\"OUT013\",\"OUT013\",\"OUT013\",\"OUT013\",\"OUT013\",\"OUT013\",\"OUT013\",\"OUT013\",\"OUT013\",\"OUT013\",\"OUT013\",\"OUT013\",\"OUT013\",\"OUT013\",\"OUT013\",\"OUT013\",\"OUT013\",\"OUT013\",\"OUT013\",\"OUT013\",\"OUT013\",\"OUT013\",\"OUT013\",\"OUT013\",\"OUT013\",\"OUT013\",\"OUT013\",\"OUT013\",\"OUT013\",\"OUT013\",\"OUT013\",\"OUT013\",\"OUT013\",\"OUT013\",\"OUT013\",\"OUT013\",\"OUT013\",\"OUT013\",\"OUT013\",\"OUT013\",\"OUT013\",\"OUT013\",\"OUT013\",\"OUT013\",\"OUT013\",\"OUT013\",\"OUT013\",\"OUT013\",\"OUT013\",\"OUT013\",\"OUT013\",\"OUT013\",\"OUT013\",\"OUT013\",\"OUT013\",\"OUT013\",\"OUT013\",\"OUT013\",\"OUT013\",\"OUT013\",\"OUT013\",\"OUT013\",\"OUT013\",\"OUT013\",\"OUT013\",\"OUT013\",\"OUT013\",\"OUT013\",\"OUT013\",\"OUT013\",\"OUT013\",\"OUT013\",\"OUT013\",\"OUT013\",\"OUT013\",\"OUT013\",\"OUT013\",\"OUT013\",\"OUT013\",\"OUT013\",\"OUT013\",\"OUT013\",\"OUT013\",\"OUT013\",\"OUT013\",\"OUT013\",\"OUT013\",\"OUT013\",\"OUT013\",\"OUT013\",\"OUT013\",\"OUT013\",\"OUT013\",\"OUT013\",\"OUT013\",\"OUT013\",\"OUT013\",\"OUT013\",\"OUT013\",\"OUT013\",\"OUT013\",\"OUT013\",\"OUT013\",\"OUT013\",\"OUT013\",\"OUT013\",\"OUT013\",\"OUT013\",\"OUT013\",\"OUT013\",\"OUT013\",\"OUT013\",\"OUT013\",\"OUT013\",\"OUT013\",\"OUT013\",\"OUT013\",\"OUT013\",\"OUT013\",\"OUT013\",\"OUT013\",\"OUT013\",\"OUT013\",\"OUT013\",\"OUT013\",\"OUT013\",\"OUT013\",\"OUT013\",\"OUT013\",\"OUT013\",\"OUT013\",\"OUT013\",\"OUT013\",\"OUT013\",\"OUT013\",\"OUT013\",\"OUT013\",\"OUT013\",\"OUT013\",\"OUT013\",\"OUT013\",\"OUT013\",\"OUT013\",\"OUT013\",\"OUT013\",\"OUT013\",\"OUT013\",\"OUT013\",\"OUT013\",\"OUT013\",\"OUT013\",\"OUT013\",\"OUT013\",\"OUT013\",\"OUT013\",\"OUT013\",\"OUT013\",\"OUT013\",\"OUT013\",\"OUT013\",\"OUT013\",\"OUT013\",\"OUT013\",\"OUT013\",\"OUT013\",\"OUT013\",\"OUT013\",\"OUT013\",\"OUT013\",\"OUT013\",\"OUT013\",\"OUT013\",\"OUT013\",\"OUT013\",\"OUT013\",\"OUT013\",\"OUT013\",\"OUT013\",\"OUT013\",\"OUT013\",\"OUT013\",\"OUT013\",\"OUT013\",\"OUT013\",\"OUT013\",\"OUT013\",\"OUT013\",\"OUT013\",\"OUT013\",\"OUT013\",\"OUT013\",\"OUT013\",\"OUT013\",\"OUT013\",\"OUT013\",\"OUT013\",\"OUT013\",\"OUT013\",\"OUT013\",\"OUT013\",\"OUT013\",\"OUT013\",\"OUT013\",\"OUT013\",\"OUT013\",\"OUT013\",\"OUT013\",\"OUT013\",\"OUT013\",\"OUT013\",\"OUT013\",\"OUT013\",\"OUT013\",\"OUT013\",\"OUT013\",\"OUT013\",\"OUT013\",\"OUT013\",\"OUT013\",\"OUT013\",\"OUT013\",\"OUT013\",\"OUT013\",\"OUT013\",\"OUT013\",\"OUT013\",\"OUT013\",\"OUT013\",\"OUT013\",\"OUT013\",\"OUT013\",\"OUT013\",\"OUT013\",\"OUT013\",\"OUT013\",\"OUT013\",\"OUT013\",\"OUT013\",\"OUT013\",\"OUT013\",\"OUT013\",\"OUT013\",\"OUT013\",\"OUT013\",\"OUT013\",\"OUT013\",\"OUT013\",\"OUT013\",\"OUT013\",\"OUT013\",\"OUT013\",\"OUT013\",\"OUT013\",\"OUT013\",\"OUT013\",\"OUT013\",\"OUT013\",\"OUT013\",\"OUT013\",\"OUT013\",\"OUT013\",\"OUT013\",\"OUT013\",\"OUT013\",\"OUT013\",\"OUT013\",\"OUT013\",\"OUT013\",\"OUT013\",\"OUT013\",\"OUT013\",\"OUT013\",\"OUT013\",\"OUT013\",\"OUT013\",\"OUT013\",\"OUT013\",\"OUT013\",\"OUT013\",\"OUT013\",\"OUT013\",\"OUT013\",\"OUT013\",\"OUT013\",\"OUT013\",\"OUT013\",\"OUT013\",\"OUT013\",\"OUT013\",\"OUT013\",\"OUT013\",\"OUT013\",\"OUT013\",\"OUT013\",\"OUT013\",\"OUT013\",\"OUT013\",\"OUT013\",\"OUT013\",\"OUT013\",\"OUT013\",\"OUT013\",\"OUT013\",\"OUT013\",\"OUT013\",\"OUT013\",\"OUT013\",\"OUT013\",\"OUT013\",\"OUT013\",\"OUT013\",\"OUT013\",\"OUT013\",\"OUT013\",\"OUT013\",\"OUT013\",\"OUT013\",\"OUT013\",\"OUT013\",\"OUT013\",\"OUT013\",\"OUT013\",\"OUT013\",\"OUT013\",\"OUT013\",\"OUT013\",\"OUT013\",\"OUT013\",\"OUT013\",\"OUT013\",\"OUT013\",\"OUT013\",\"OUT013\",\"OUT013\",\"OUT013\",\"OUT013\",\"OUT013\",\"OUT013\",\"OUT013\",\"OUT013\",\"OUT013\",\"OUT013\",\"OUT013\",\"OUT013\",\"OUT013\",\"OUT013\",\"OUT013\",\"OUT013\",\"OUT013\",\"OUT013\",\"OUT013\",\"OUT013\",\"OUT013\",\"OUT013\",\"OUT013\",\"OUT013\",\"OUT013\",\"OUT013\",\"OUT013\",\"OUT013\",\"OUT013\",\"OUT013\",\"OUT013\",\"OUT013\",\"OUT013\",\"OUT013\",\"OUT013\",\"OUT013\",\"OUT013\",\"OUT013\",\"OUT013\",\"OUT013\",\"OUT013\",\"OUT013\",\"OUT013\",\"OUT013\",\"OUT013\"],\"xaxis\":\"x\",\"y\":[994.7052,343.5528,1977.426,3775.086,308.9312,2150.534,373.5138,850.8924,810.9444,599.22,667.7974,2247.7408,1794.331,812.276,762.341,2471.4496,1331.6,1360.2294,3969.4996,1374.2112,3690.5294,2406.867,2956.152,1929.4884,3440.8544,1877.556,193.082,4950.8888,2553.343,1006.6896,1081.925,2516.724,2093.2752,1929.4884,801.6232,994.7052,306.268,539.298,4377.635,6093.4016,3610.6334,809.6128,1464.76,3251.1014,1890.2062,3038.7112,3600.6464,790.9704,2683.174,2528.7084,284.2966,1940.807,2940.1728,2348.9424,729.051,303.6048,721.0614,1960.781,1398.18,2863.6058,4655.2736,2324.9736,587.2356,1950.794,177.7686,484.7024,934.7832,2370.248,2406.867,3281.7282,1166.4816,3579.3408,450.0808,607.2096,1325.6078,3460.8284,1659.8394,2816.334,3165.879,1039.9796,5163.9448,323.5788,379.506,3006.087,2746.425,2860.2768,1783.6782,2790.3678,1108.557,3089.312,3617.9572,1203.1006,322.2472,5367.6796,5443.5808,2137.8838,2691.8294,1707.777,886.8456,958.752,4098.6648,729.051,2665.8632,2311.6576,876.1928,3099.9648,2954.8204,643.1628,1170.4764,1549.9824,2892.2352,1516.0266,5061.4116,2982.784,1691.7978,2157.192,2561.9984,2059.9852,585.904,4027.4242,2190.482,3661.9,2345.6134,782.9808,2503.408,1078.596,593.2278,1901.5248,4889.6352,3038.7112,792.302,1151.1682,169.779,1713.7692,918.804,221.0456,2812.3392,2552.6772,1166.4816,5851.0504,2732.4432,731.0484,282.965,1427.4752,3008.0844,3364.9532,2546.685,3358.2952,3663.2316,1911.5118,2874.9244,1066.6116,965.41,1151.1682,639.168,2988.1104,5191.2426,679.116,928.791,852.224,1347.5792,6018.1662,1885.5456,1491.392,2332.9632,3914.904,2213.1192,3579.3408,2628.5784,3078.6592,1713.7692,262.3252,2320.9788,3410.2276,3101.2964,2804.3496,2133.2232,2696.49,2404.2038,4288.4178,990.7104,657.8104,718.3982,3861.64,4122.6336,3056.022,498.0184,5522.811,1142.5128,3560.6984,5608.6992,5536.7928,990.7104,2972.797,2587.9646,3910.9092,5326.4,3795.06,1761.7068,2980.1208,3418.883,1398.18,2808.3444,2942.836,359.532,2735.1064,171.7764,1496.0526,339.558,6006.1818,2885.5772,3415.554,1537.998,873.5296,575.2512,719.064,942.7728,1897.53,2978.1234,1198.44,852.224,2709.806,306.268,373.5138,2087.9488,1789.6704,3425.541,3779.0808,1637.868,1779.0176,3034.0506,181.0976,210.3928,2474.7786,1245.046,1231.73,3568.688,3533.4006,6157.3184,780.3176,2931.5174,575.2512,660.4736,354.2056,1607.2412,1053.2956,2069.3064,4969.5312,521.9872,1022.6688,3744.4592,969.4048,2720.4588,149.805,633.8416,227.7036,695.0952,3169.208,934.7832,1724.422,719.064,1095.241,1295.6468,1379.5376,1948.1308,73.238,3415.554,1821.6288,1956.1204,1592.5936,2125.2336,2099.9332,4278.4308,602.549,2006.7212,1379.5376,1278.336,3185.1872,517.3266,3036.048,4761.8016,5757.8384,1512.6976,1120.5414,535.3032,1609.9044,736.3748,3137.2496,3113.2808,1038.648,3643.2576,2066.6432,4267.1122,2999.429,4134.618,3384.2614,2097.27,1335.5948,1070.6064,3621.952,2465.4574,922.7988,1861.5768,647.1576,261.6594,2239.7512,679.116,595.2252,5298.4364,3644.5892,2862.94,617.8624,995.371,1669.8264,466.06,4137.2812,6048.793,2840.3028,589.233,1808.9786,2376.906,2709.1402,905.488,2428.8384,2285.0256,739.038,1366.2216,1757.712,2025.3636,2073.3012,2721.7904,2458.1336,1310.2944,3691.1952,497.3526,2541.3586,2746.425,663.1368,2147.205,1278.336,1725.7536,2036.6822,683.1108,2090.612,3528.74,1142.5128,3280.3966,2553.343,1761.7068,3554.7062,2606.607,2255.7304,852.224,4604.6728,1528.011,722.393,3365.619,671.1264,1231.73,1659.1736,759.012,3453.5046,1618.5598,2069.3064,6033.4796,1547.3192,3478.805,1398.18,1543.3244,1017.3424,1661.8368,1583.9382,355.5372,2059.9852,1109.2228,4426.2384,1414.1592,2153.1972,772.328,4633.968,645.1602,1821.6288,1158.492,4579.3724,599.22,3872.9586,5512.824,4414.9198,1398.8458,2466.789,1867.569,527.3136,2826.9868,1458.102,4456.1994,4673.916,3149.234,460.7336,591.2304,4474.176,1765.0358,2739.1012,2460.7968,163.7868,2712.4692,1454.1072,438.0964,683.1108,1619.2256,5299.768,1950.794,2492.7552,1346.9134,5451.5704,1571.288,2037.348,1304.968,2972.1312,1524.682,2969.468,1787.0072,255.6672,1773.6912,4364.319,1525.3478,1073.2696,1230.3984,308.9312,2908.2144,1691.7978,2330.3,1906.8512,343.5528,2749.754,1505.3738,2936.178,2278.3676,3203.1638,555.2772,1211.756,892.8378,4250.4672,4586.0304,637.1706,534.6374,2117.244,3950.1914,2071.3038,5141.3076,2297.01,309.597,2694.4926,2428.8384,3169.208,3605.307,5034.7796,5725.88,764.3384,126.502,2316.984,322.913,5487.5236,175.7712,1962.7784,2025.3636,2783.044,476.047,3173.8686,624.5204,982.7208,958.752,2865.6032,2666.529,934.7832,1733.0774,1803.6522,1145.176,3723.8194,3630.6074,3782.4098,5153.292,3579.3408,2931.5174,2696.49,605.878,2586.633,683.1108,4514.124,1779.6834,4149.9314,3739.1328,4567.388,230.3668,1744.396,181.0976,3705.177,1230.3984,1402.1748,2085.9514,1797.66,3111.9492,865.54,6079.4198,666.4658,1846.9292,591.2304,972.068,2303.668,3495.45,1800.3232,2916.204,3354.3004,4660.6,1826.2894,1038.648,2554.0088,3215.814,952.7598,2251.0698,2856.282,2371.5796,2106.5912,1901.5248,1514.695,1605.9096,3793.7284,2812.3392,1105.8938,2024.032,3167.8764,306.268,2548.6824,4488.1578,2105.2596,3440.8544,419.454,2876.256,671.1264,3251.1014,2055.9904,2220.443,1413.4934,2290.352,2087.283,828.921,3658.571,1265.02,296.281,5359.69,3475.476,2596.62,2864.9374,619.8598,2079.9592,3451.5072,402.809,4136.6154,2656.542,2631.2416,319.584,2782.3782,2450.144,639.168,761.6752,1325.6078,1685.8056,981.3892,2700.4848,583.2408,388.1614,3418.883,591.2304,3769.7596,2106.5912,3199.8348,5355.0294,1713.7692,3974.826,2299.6732,1202.4348,1069.2748,5424.9384,1859.5794,2376.906,639.168,3781.744,1596.5884,699.09,1158.492,4288.4178,2707.1428,1737.738,1571.288,6474.2392,4604.6728,3247.7724,3972.8286,3846.9924,2085.2856,2816.334,4656.6052,3238.4512,3914.904,2365.5874,1687.1372,2001.3948,2492.7552,3844.995,3691.1952,3435.528,3001.4264,3113.2808,5179.924,1574.617,2375.5744,3022.0662,5759.17,2440.8228,2153.1972,2077.296,6088.0752,1257.0304,3781.744,2226.4352,4247.804,2703.148,490.6946,1047.3034,4180.5582,1895.5326,2117.244,1584.604,3342.316,1605.9096,259.662,2460.7968,729.7168,3488.1262,1794.331,2993.4368,4933.578,948.0992,1751.054,2277.036,2285.0256,1890.872,2343.616,1709.1086,5369.0112,926.7936,980.0576,1737.738,1549.3166,1029.9926,1211.756,2125.2336,305.6022,3271.7412,4996.829,2646.555,2759.0752,703.0848,3078.6592,442.0912,1488.063,2281.6966,2570.6538,759.012,3954.852,1134.5232,6474.2392,3935.5438,1516.6924,2612.5992,2940.1728,2261.0568,1258.362,2550.014,583.2408,406.138,295.6152,5346.374,3214.4824,1057.9562,4727.18,4492.8184,3397.5774,4181.224,1895.5326,3178.5292,2976.126,3463.4916,2227.101,1017.3424,2117.244,705.748,4466.1864,413.4618,3124.5994,589.233,292.952,629.181,1015.345,1845.5976,1378.206,1677.816,2106.5912,365.5242,6056.1168,1488.7288,1471.418,2014.7108,689.7688,4152.5946,2388.8904,1868.2348,592.562,1255.6988,356.8688,3600.6464,932.12,2263.72,898.83,1669.8264,3691.1952,958.752,691.1004,2111.9176,1677.816,1609.9044,2354.2688,4527.44,371.5164,1567.959,2572.6512,1179.1318,3563.3616,2649.884,2446.815,703.0848,3094.6384,1720.4272,3894.93,4566.7222,3387.5904,1133.8574,4731.1748,3338.3212,5540.7876,2217.114,1689.8004,1278.336,1627.881,3235.788,1765.7016,3313.6866,1587.933,1845.5976,1158.492,1151.834,5564.7564,1406.1696,3193.8426,826.9236,2002.0606,3504.7712,2125.2336,466.06,2799.689,755.0172,331.5684,1701.7848,2848.2924,882.8508,4103.9912,5842.395,1948.1308,2748.4224,4777.115,3020.0688,1374.2112,1581.9408,1318.284,2174.5028,1697.79,2384.8956,1701.7848,2544.6876,2591.2936,287.6256,1725.7536,517.3266,1743.0644,958.752,1102.5648,1969.4364,2516.724,1018.0082,3535.398,1034.6532,3952.1888,3545.385,4008.116,3950.1914,974.0654,2399.5432,1494.0552,2462.7942,4466.1864,3575.346,868.869,1510.0344,1845.5976,3384.2614,3705.8428,2868.2664,1743.0644,2736.438,391.4904,1761.7068,3775.086,5509.495,587.2356,785.644,4847.024,1177.1344,2045.3376,802.9548,4339.0186,396.8168,4819.7262,2120.573,2045.3376,2876.256,849.5608,3119.9388,1035.9848,239.688,970.7364,922.7988,885.514,1076.5986,952.7598,1901.5248,1118.544,1480.0734,1403.5064,1986.0814,1258.362,3146.5708,1775.6886,605.878,1230.3984,2255.7304,3505.437,5022.7952,1480.0734,2137.8838,4287.752,1869.5664,1438.128,1270.3464,3327.6684,743.0328,2394.8826,4477.505,3795.06,3307.6944,1393.5194,3350.3056,2059.9852,2916.204,1587.933,2878.2534,1910.846,1693.7952,5812.434,1098.57,731.0484,316.9208,1929.4884,3153.2288,1105.8938,223.7088,3520.0846,1102.5648,623.1888,3142.576,1651.184,4422.2436,4637.9628,1577.946,1985.4156,3881.614,269.649,1607.907,3523.4136,4210.5192,610.5386,1684.474,1099.2358,1539.9954,2795.6942,3103.9596,633.8416,2155.1946,2402.2064,309.597,4090.6752,925.462,4042.7376,3034.0506,1494.0552,673.7896,2324.9736,2479.4392,2778.3834],\"yaxis\":\"y\",\"type\":\"histogram\"},{\"alignmentgroup\":\"True\",\"bingroup\":\"x\",\"histfunc\":\"sum\",\"hovertemplate\":\"Outlet Size=Unknown<br>Outlet ID=%{x}<br>sum of Total Sales=%{y}<extra></extra>\",\"legendgroup\":\"Unknown\",\"marker\":{\"color\":\"#ab63fa\",\"pattern\":{\"shape\":\"\"}},\"name\":\"Unknown\",\"offsetgroup\":\"Unknown\",\"orientation\":\"v\",\"showlegend\":true,\"x\":[\"OUT010\",\"OUT045\",\"OUT017\",\"OUT017\",\"OUT010\",\"OUT010\",\"OUT045\",\"OUT010\",\"OUT045\",\"OUT045\",\"OUT017\",\"OUT017\",\"OUT045\",\"OUT045\",\"OUT010\",\"OUT045\",\"OUT045\",\"OUT045\",\"OUT017\",\"OUT017\",\"OUT045\",\"OUT017\",\"OUT010\",\"OUT045\",\"OUT045\",\"OUT045\",\"OUT017\",\"OUT045\",\"OUT017\",\"OUT017\",\"OUT017\",\"OUT045\",\"OUT010\",\"OUT017\",\"OUT017\",\"OUT045\",\"OUT010\",\"OUT045\",\"OUT017\",\"OUT010\",\"OUT017\",\"OUT045\",\"OUT017\",\"OUT017\",\"OUT017\",\"OUT017\",\"OUT017\",\"OUT017\",\"OUT010\",\"OUT010\",\"OUT045\",\"OUT010\",\"OUT045\",\"OUT045\",\"OUT045\",\"OUT045\",\"OUT045\",\"OUT045\",\"OUT010\",\"OUT045\",\"OUT010\",\"OUT017\",\"OUT045\",\"OUT010\",\"OUT010\",\"OUT010\",\"OUT010\",\"OUT017\",\"OUT017\",\"OUT045\",\"OUT017\",\"OUT017\",\"OUT045\",\"OUT017\",\"OUT045\",\"OUT017\",\"OUT017\",\"OUT045\",\"OUT045\",\"OUT017\",\"OUT017\",\"OUT010\",\"OUT017\",\"OUT010\",\"OUT045\",\"OUT045\",\"OUT017\",\"OUT017\",\"OUT045\",\"OUT045\",\"OUT045\",\"OUT010\",\"OUT045\",\"OUT017\",\"OUT017\",\"OUT010\",\"OUT045\",\"OUT045\",\"OUT045\",\"OUT045\",\"OUT017\",\"OUT017\",\"OUT045\",\"OUT045\",\"OUT045\",\"OUT017\",\"OUT017\",\"OUT045\",\"OUT017\",\"OUT010\",\"OUT045\",\"OUT045\",\"OUT045\",\"OUT045\",\"OUT010\",\"OUT017\",\"OUT045\",\"OUT017\",\"OUT010\",\"OUT045\",\"OUT045\",\"OUT045\",\"OUT045\",\"OUT045\",\"OUT017\",\"OUT045\",\"OUT017\",\"OUT017\",\"OUT017\",\"OUT045\",\"OUT045\",\"OUT045\",\"OUT010\",\"OUT045\",\"OUT045\",\"OUT010\",\"OUT045\",\"OUT017\",\"OUT010\",\"OUT045\",\"OUT017\",\"OUT010\",\"OUT017\",\"OUT017\",\"OUT010\",\"OUT045\",\"OUT045\",\"OUT045\",\"OUT045\",\"OUT010\",\"OUT010\",\"OUT045\",\"OUT017\",\"OUT045\",\"OUT010\",\"OUT010\",\"OUT017\",\"OUT010\",\"OUT017\",\"OUT010\",\"OUT045\",\"OUT017\",\"OUT017\",\"OUT017\",\"OUT045\",\"OUT010\",\"OUT045\",\"OUT045\",\"OUT017\",\"OUT045\",\"OUT017\",\"OUT045\",\"OUT045\",\"OUT045\",\"OUT017\",\"OUT045\",\"OUT017\",\"OUT045\",\"OUT017\",\"OUT045\",\"OUT045\",\"OUT017\",\"OUT045\",\"OUT045\",\"OUT045\",\"OUT010\",\"OUT017\",\"OUT045\",\"OUT017\",\"OUT017\",\"OUT010\",\"OUT045\",\"OUT017\",\"OUT017\",\"OUT017\",\"OUT010\",\"OUT017\",\"OUT010\",\"OUT045\",\"OUT045\",\"OUT045\",\"OUT017\",\"OUT010\",\"OUT045\",\"OUT010\",\"OUT017\",\"OUT017\",\"OUT045\",\"OUT045\",\"OUT017\",\"OUT017\",\"OUT017\",\"OUT017\",\"OUT010\",\"OUT017\",\"OUT045\",\"OUT010\",\"OUT045\",\"OUT045\",\"OUT017\",\"OUT045\",\"OUT045\",\"OUT045\",\"OUT045\",\"OUT045\",\"OUT010\",\"OUT017\",\"OUT045\",\"OUT017\",\"OUT045\",\"OUT045\",\"OUT045\",\"OUT010\",\"OUT045\",\"OUT045\",\"OUT010\",\"OUT017\",\"OUT010\",\"OUT017\",\"OUT010\",\"OUT045\",\"OUT017\",\"OUT017\",\"OUT045\",\"OUT045\",\"OUT017\",\"OUT010\",\"OUT010\",\"OUT017\",\"OUT045\",\"OUT017\",\"OUT017\",\"OUT010\",\"OUT017\",\"OUT010\",\"OUT010\",\"OUT045\",\"OUT010\",\"OUT017\",\"OUT010\",\"OUT045\",\"OUT010\",\"OUT017\",\"OUT017\",\"OUT045\",\"OUT017\",\"OUT017\",\"OUT045\",\"OUT017\",\"OUT010\",\"OUT017\",\"OUT045\",\"OUT045\",\"OUT010\",\"OUT017\",\"OUT010\",\"OUT010\",\"OUT045\",\"OUT017\",\"OUT010\",\"OUT045\",\"OUT017\",\"OUT010\",\"OUT010\",\"OUT045\",\"OUT010\",\"OUT010\",\"OUT045\",\"OUT045\",\"OUT045\",\"OUT045\",\"OUT017\",\"OUT017\",\"OUT017\",\"OUT010\",\"OUT010\",\"OUT045\",\"OUT045\",\"OUT017\",\"OUT017\",\"OUT045\",\"OUT017\",\"OUT045\",\"OUT045\",\"OUT017\",\"OUT045\",\"OUT010\",\"OUT045\",\"OUT045\",\"OUT045\",\"OUT017\",\"OUT017\",\"OUT017\",\"OUT045\",\"OUT010\",\"OUT010\",\"OUT017\",\"OUT017\",\"OUT010\",\"OUT017\",\"OUT017\",\"OUT017\",\"OUT017\",\"OUT017\",\"OUT017\",\"OUT017\",\"OUT045\",\"OUT017\",\"OUT045\",\"OUT010\",\"OUT045\",\"OUT045\",\"OUT045\",\"OUT045\",\"OUT045\",\"OUT045\",\"OUT017\",\"OUT017\",\"OUT017\",\"OUT045\",\"OUT010\",\"OUT045\",\"OUT045\",\"OUT045\",\"OUT010\",\"OUT045\",\"OUT045\",\"OUT045\",\"OUT017\",\"OUT017\",\"OUT045\",\"OUT045\",\"OUT017\",\"OUT045\",\"OUT010\",\"OUT017\",\"OUT045\",\"OUT045\",\"OUT010\",\"OUT017\",\"OUT017\",\"OUT017\",\"OUT017\",\"OUT017\",\"OUT045\",\"OUT010\",\"OUT045\",\"OUT017\",\"OUT017\",\"OUT045\",\"OUT045\",\"OUT010\",\"OUT010\",\"OUT045\",\"OUT045\",\"OUT017\",\"OUT010\",\"OUT045\",\"OUT045\",\"OUT045\",\"OUT010\",\"OUT045\",\"OUT045\",\"OUT017\",\"OUT017\",\"OUT045\",\"OUT045\",\"OUT017\",\"OUT017\",\"OUT017\",\"OUT045\",\"OUT010\",\"OUT017\",\"OUT010\",\"OUT045\",\"OUT045\",\"OUT045\",\"OUT045\",\"OUT045\",\"OUT045\",\"OUT045\",\"OUT017\",\"OUT045\",\"OUT017\",\"OUT017\",\"OUT017\",\"OUT017\",\"OUT017\",\"OUT017\",\"OUT017\",\"OUT017\",\"OUT017\",\"OUT010\",\"OUT045\",\"OUT010\",\"OUT017\",\"OUT045\",\"OUT017\",\"OUT045\",\"OUT010\",\"OUT045\",\"OUT045\",\"OUT017\",\"OUT010\",\"OUT010\",\"OUT017\",\"OUT010\",\"OUT017\",\"OUT017\",\"OUT017\",\"OUT017\",\"OUT010\",\"OUT017\",\"OUT017\",\"OUT045\",\"OUT017\",\"OUT017\",\"OUT017\",\"OUT045\",\"OUT045\",\"OUT017\",\"OUT017\",\"OUT010\",\"OUT010\",\"OUT017\",\"OUT010\",\"OUT045\",\"OUT045\",\"OUT045\",\"OUT017\",\"OUT010\",\"OUT045\",\"OUT045\",\"OUT045\",\"OUT010\",\"OUT045\",\"OUT010\",\"OUT045\",\"OUT017\",\"OUT017\",\"OUT017\",\"OUT045\",\"OUT045\",\"OUT010\",\"OUT010\",\"OUT010\",\"OUT017\",\"OUT045\",\"OUT017\",\"OUT017\",\"OUT017\",\"OUT045\",\"OUT017\",\"OUT045\",\"OUT017\",\"OUT010\",\"OUT045\",\"OUT017\",\"OUT045\",\"OUT010\",\"OUT010\",\"OUT045\",\"OUT017\",\"OUT045\",\"OUT017\",\"OUT045\",\"OUT045\",\"OUT017\",\"OUT045\",\"OUT017\",\"OUT017\",\"OUT045\",\"OUT045\",\"OUT010\",\"OUT017\",\"OUT017\",\"OUT045\",\"OUT017\",\"OUT017\",\"OUT045\",\"OUT017\",\"OUT017\",\"OUT010\",\"OUT045\",\"OUT010\",\"OUT017\",\"OUT045\",\"OUT017\",\"OUT017\",\"OUT010\",\"OUT017\",\"OUT017\",\"OUT017\",\"OUT010\",\"OUT010\",\"OUT010\",\"OUT017\",\"OUT017\",\"OUT010\",\"OUT010\",\"OUT010\",\"OUT017\",\"OUT045\",\"OUT010\",\"OUT010\",\"OUT017\",\"OUT045\",\"OUT045\",\"OUT045\",\"OUT017\",\"OUT017\",\"OUT045\",\"OUT045\",\"OUT017\",\"OUT045\",\"OUT017\",\"OUT045\",\"OUT017\",\"OUT010\",\"OUT045\",\"OUT017\",\"OUT017\",\"OUT010\",\"OUT045\",\"OUT045\",\"OUT045\",\"OUT010\",\"OUT045\",\"OUT045\",\"OUT017\",\"OUT045\",\"OUT045\",\"OUT045\",\"OUT045\",\"OUT045\",\"OUT017\",\"OUT017\",\"OUT045\",\"OUT017\",\"OUT045\",\"OUT010\",\"OUT010\",\"OUT017\",\"OUT017\",\"OUT045\",\"OUT045\",\"OUT045\",\"OUT017\",\"OUT045\",\"OUT017\",\"OUT017\",\"OUT010\",\"OUT045\",\"OUT017\",\"OUT017\",\"OUT017\",\"OUT010\",\"OUT017\",\"OUT017\",\"OUT045\",\"OUT045\",\"OUT045\",\"OUT045\",\"OUT045\",\"OUT017\",\"OUT017\",\"OUT010\",\"OUT017\",\"OUT045\",\"OUT017\",\"OUT017\",\"OUT010\",\"OUT045\",\"OUT010\",\"OUT010\",\"OUT017\",\"OUT010\",\"OUT017\",\"OUT045\",\"OUT017\",\"OUT017\",\"OUT045\",\"OUT017\",\"OUT017\",\"OUT010\",\"OUT010\",\"OUT010\",\"OUT010\",\"OUT017\",\"OUT045\",\"OUT017\",\"OUT017\",\"OUT017\",\"OUT045\",\"OUT045\",\"OUT017\",\"OUT010\",\"OUT017\",\"OUT045\",\"OUT017\",\"OUT010\",\"OUT010\",\"OUT045\",\"OUT017\",\"OUT017\",\"OUT017\",\"OUT045\",\"OUT010\",\"OUT045\",\"OUT010\",\"OUT045\",\"OUT045\",\"OUT045\",\"OUT045\",\"OUT045\",\"OUT010\",\"OUT045\",\"OUT045\",\"OUT017\",\"OUT017\",\"OUT045\",\"OUT017\",\"OUT017\",\"OUT017\",\"OUT010\",\"OUT010\",\"OUT045\",\"OUT045\",\"OUT045\",\"OUT017\",\"OUT017\",\"OUT045\",\"OUT010\",\"OUT017\",\"OUT017\",\"OUT010\",\"OUT017\",\"OUT010\",\"OUT017\",\"OUT045\",\"OUT045\",\"OUT017\",\"OUT010\",\"OUT010\",\"OUT045\",\"OUT010\",\"OUT045\",\"OUT045\",\"OUT010\",\"OUT017\",\"OUT010\",\"OUT045\",\"OUT017\",\"OUT010\",\"OUT017\",\"OUT017\",\"OUT017\",\"OUT010\",\"OUT010\",\"OUT017\",\"OUT017\",\"OUT017\",\"OUT017\",\"OUT045\",\"OUT017\",\"OUT017\",\"OUT045\",\"OUT017\",\"OUT010\",\"OUT017\",\"OUT010\",\"OUT045\",\"OUT017\",\"OUT045\",\"OUT017\",\"OUT010\",\"OUT010\",\"OUT017\",\"OUT017\",\"OUT017\",\"OUT045\",\"OUT045\",\"OUT017\",\"OUT045\",\"OUT017\",\"OUT010\",\"OUT010\",\"OUT045\",\"OUT045\",\"OUT045\",\"OUT017\",\"OUT010\",\"OUT045\",\"OUT010\",\"OUT045\",\"OUT045\",\"OUT010\",\"OUT010\",\"OUT045\",\"OUT017\",\"OUT010\",\"OUT045\",\"OUT017\",\"OUT010\",\"OUT045\",\"OUT045\",\"OUT017\",\"OUT045\",\"OUT017\",\"OUT017\",\"OUT017\",\"OUT010\",\"OUT045\",\"OUT045\",\"OUT017\",\"OUT045\",\"OUT017\",\"OUT045\",\"OUT017\",\"OUT045\",\"OUT045\",\"OUT010\",\"OUT045\",\"OUT010\",\"OUT045\",\"OUT010\",\"OUT045\",\"OUT045\",\"OUT045\",\"OUT010\",\"OUT045\",\"OUT017\",\"OUT017\",\"OUT045\",\"OUT045\",\"OUT045\",\"OUT017\",\"OUT045\",\"OUT010\",\"OUT017\",\"OUT045\",\"OUT017\",\"OUT045\",\"OUT017\",\"OUT017\",\"OUT017\",\"OUT017\",\"OUT045\",\"OUT010\",\"OUT010\",\"OUT010\",\"OUT017\",\"OUT045\",\"OUT045\",\"OUT017\",\"OUT045\",\"OUT017\",\"OUT017\",\"OUT045\",\"OUT010\",\"OUT017\",\"OUT045\",\"OUT045\",\"OUT045\",\"OUT017\",\"OUT010\",\"OUT010\",\"OUT045\",\"OUT045\",\"OUT045\",\"OUT045\",\"OUT045\",\"OUT045\",\"OUT017\",\"OUT010\",\"OUT010\",\"OUT045\",\"OUT010\",\"OUT045\",\"OUT010\",\"OUT010\",\"OUT017\",\"OUT017\",\"OUT045\",\"OUT017\",\"OUT017\",\"OUT045\",\"OUT017\",\"OUT017\",\"OUT045\",\"OUT017\",\"OUT010\",\"OUT045\",\"OUT045\",\"OUT017\",\"OUT010\",\"OUT017\",\"OUT045\",\"OUT045\",\"OUT017\",\"OUT045\",\"OUT017\",\"OUT017\",\"OUT017\",\"OUT017\",\"OUT017\",\"OUT017\",\"OUT017\",\"OUT017\",\"OUT045\",\"OUT010\",\"OUT010\",\"OUT010\",\"OUT017\",\"OUT017\",\"OUT017\",\"OUT010\",\"OUT010\",\"OUT045\",\"OUT017\",\"OUT010\",\"OUT017\",\"OUT017\",\"OUT017\",\"OUT045\",\"OUT017\",\"OUT017\",\"OUT045\",\"OUT017\",\"OUT045\",\"OUT010\",\"OUT017\",\"OUT017\",\"OUT010\",\"OUT045\",\"OUT010\",\"OUT045\",\"OUT010\",\"OUT045\",\"OUT045\",\"OUT010\",\"OUT010\",\"OUT045\",\"OUT010\",\"OUT017\",\"OUT045\",\"OUT010\",\"OUT010\",\"OUT045\",\"OUT045\",\"OUT017\",\"OUT045\",\"OUT017\",\"OUT045\",\"OUT010\",\"OUT045\",\"OUT017\",\"OUT045\",\"OUT010\",\"OUT045\",\"OUT010\",\"OUT045\",\"OUT017\",\"OUT010\",\"OUT010\",\"OUT010\",\"OUT045\",\"OUT010\",\"OUT017\",\"OUT045\",\"OUT045\",\"OUT045\",\"OUT045\",\"OUT010\",\"OUT045\",\"OUT017\",\"OUT045\",\"OUT010\",\"OUT010\",\"OUT017\",\"OUT045\",\"OUT010\",\"OUT045\",\"OUT045\",\"OUT045\",\"OUT017\",\"OUT045\",\"OUT017\",\"OUT017\",\"OUT010\",\"OUT045\",\"OUT010\",\"OUT010\",\"OUT017\",\"OUT045\",\"OUT017\",\"OUT010\",\"OUT045\",\"OUT010\",\"OUT017\",\"OUT045\",\"OUT045\",\"OUT010\",\"OUT010\",\"OUT010\",\"OUT010\",\"OUT045\",\"OUT017\",\"OUT017\",\"OUT017\",\"OUT045\",\"OUT010\",\"OUT045\",\"OUT017\",\"OUT017\",\"OUT017\",\"OUT045\",\"OUT017\",\"OUT045\",\"OUT045\",\"OUT045\",\"OUT010\",\"OUT045\",\"OUT017\",\"OUT017\",\"OUT045\",\"OUT010\",\"OUT017\",\"OUT017\",\"OUT045\",\"OUT045\",\"OUT017\",\"OUT017\",\"OUT045\",\"OUT017\",\"OUT017\",\"OUT017\",\"OUT017\",\"OUT010\",\"OUT017\",\"OUT010\",\"OUT017\",\"OUT017\",\"OUT010\",\"OUT010\",\"OUT010\",\"OUT017\",\"OUT017\",\"OUT017\",\"OUT045\",\"OUT010\",\"OUT045\",\"OUT017\",\"OUT045\",\"OUT045\",\"OUT045\",\"OUT017\",\"OUT045\",\"OUT017\",\"OUT017\",\"OUT045\",\"OUT045\",\"OUT045\",\"OUT045\",\"OUT017\",\"OUT045\",\"OUT017\",\"OUT045\",\"OUT017\",\"OUT045\",\"OUT045\",\"OUT045\",\"OUT010\",\"OUT017\",\"OUT045\",\"OUT010\",\"OUT045\",\"OUT017\",\"OUT010\",\"OUT017\",\"OUT010\",\"OUT017\",\"OUT017\",\"OUT017\",\"OUT045\",\"OUT010\",\"OUT045\",\"OUT045\",\"OUT045\",\"OUT017\",\"OUT017\",\"OUT017\",\"OUT045\",\"OUT045\",\"OUT045\",\"OUT045\",\"OUT045\",\"OUT045\",\"OUT045\",\"OUT045\",\"OUT017\",\"OUT010\",\"OUT017\",\"OUT017\",\"OUT017\",\"OUT017\",\"OUT045\",\"OUT017\",\"OUT010\",\"OUT017\",\"OUT045\",\"OUT045\",\"OUT010\",\"OUT045\",\"OUT045\",\"OUT045\",\"OUT045\",\"OUT045\",\"OUT017\",\"OUT045\",\"OUT017\",\"OUT017\",\"OUT010\",\"OUT017\",\"OUT017\",\"OUT045\",\"OUT045\",\"OUT017\",\"OUT017\",\"OUT045\",\"OUT045\",\"OUT045\",\"OUT017\",\"OUT010\",\"OUT017\",\"OUT017\",\"OUT010\",\"OUT045\",\"OUT017\",\"OUT045\",\"OUT045\",\"OUT045\",\"OUT017\",\"OUT017\",\"OUT017\",\"OUT010\",\"OUT017\",\"OUT017\",\"OUT045\",\"OUT017\",\"OUT045\",\"OUT017\",\"OUT010\",\"OUT010\",\"OUT010\",\"OUT045\",\"OUT010\",\"OUT045\",\"OUT017\",\"OUT017\",\"OUT017\",\"OUT045\",\"OUT045\",\"OUT045\",\"OUT045\",\"OUT010\",\"OUT017\",\"OUT010\",\"OUT010\",\"OUT017\",\"OUT045\",\"OUT017\",\"OUT017\",\"OUT045\",\"OUT017\",\"OUT045\",\"OUT017\",\"OUT045\",\"OUT017\",\"OUT045\",\"OUT010\",\"OUT017\",\"OUT010\",\"OUT045\",\"OUT017\",\"OUT045\",\"OUT010\",\"OUT017\",\"OUT010\",\"OUT017\",\"OUT010\",\"OUT010\",\"OUT017\",\"OUT017\",\"OUT045\",\"OUT045\",\"OUT017\",\"OUT045\",\"OUT045\",\"OUT045\",\"OUT010\",\"OUT017\",\"OUT010\",\"OUT010\",\"OUT045\",\"OUT010\",\"OUT010\",\"OUT017\",\"OUT045\",\"OUT010\",\"OUT045\",\"OUT045\",\"OUT017\",\"OUT010\",\"OUT017\",\"OUT045\",\"OUT045\",\"OUT017\",\"OUT017\",\"OUT010\",\"OUT017\",\"OUT010\",\"OUT045\",\"OUT045\",\"OUT010\",\"OUT045\",\"OUT017\",\"OUT010\",\"OUT017\",\"OUT045\",\"OUT017\",\"OUT017\",\"OUT010\",\"OUT045\",\"OUT010\",\"OUT045\",\"OUT017\",\"OUT045\",\"OUT017\",\"OUT017\",\"OUT045\",\"OUT045\",\"OUT017\",\"OUT010\",\"OUT017\",\"OUT045\",\"OUT045\",\"OUT045\",\"OUT010\",\"OUT045\",\"OUT045\",\"OUT017\",\"OUT017\",\"OUT010\",\"OUT045\",\"OUT045\",\"OUT045\",\"OUT045\",\"OUT010\",\"OUT010\",\"OUT017\",\"OUT017\",\"OUT017\",\"OUT045\",\"OUT017\",\"OUT017\",\"OUT017\",\"OUT045\",\"OUT017\",\"OUT045\",\"OUT045\",\"OUT017\",\"OUT010\",\"OUT017\",\"OUT010\",\"OUT045\",\"OUT045\",\"OUT045\",\"OUT017\",\"OUT045\",\"OUT010\",\"OUT017\",\"OUT017\",\"OUT010\",\"OUT010\",\"OUT010\",\"OUT045\",\"OUT045\",\"OUT045\",\"OUT017\",\"OUT017\",\"OUT010\",\"OUT010\",\"OUT017\",\"OUT045\",\"OUT017\",\"OUT010\",\"OUT010\",\"OUT010\",\"OUT010\",\"OUT010\",\"OUT010\",\"OUT017\",\"OUT017\",\"OUT017\",\"OUT017\",\"OUT045\",\"OUT010\",\"OUT017\",\"OUT010\",\"OUT010\",\"OUT045\",\"OUT017\",\"OUT045\",\"OUT010\",\"OUT017\",\"OUT045\",\"OUT010\",\"OUT017\",\"OUT045\",\"OUT017\",\"OUT045\",\"OUT010\",\"OUT010\",\"OUT045\",\"OUT045\",\"OUT017\",\"OUT010\",\"OUT045\",\"OUT045\",\"OUT010\",\"OUT045\",\"OUT010\",\"OUT017\",\"OUT017\",\"OUT017\",\"OUT010\",\"OUT045\",\"OUT017\",\"OUT010\",\"OUT045\",\"OUT017\",\"OUT045\",\"OUT017\",\"OUT045\",\"OUT045\",\"OUT045\",\"OUT010\",\"OUT045\",\"OUT045\",\"OUT010\",\"OUT045\",\"OUT017\",\"OUT045\",\"OUT010\",\"OUT010\",\"OUT045\",\"OUT045\",\"OUT017\",\"OUT010\",\"OUT017\",\"OUT045\",\"OUT017\",\"OUT017\",\"OUT010\",\"OUT045\",\"OUT010\",\"OUT045\",\"OUT010\",\"OUT045\",\"OUT045\",\"OUT017\",\"OUT017\",\"OUT017\",\"OUT010\",\"OUT017\",\"OUT045\",\"OUT045\",\"OUT017\",\"OUT017\",\"OUT017\",\"OUT017\",\"OUT045\",\"OUT017\",\"OUT017\",\"OUT017\",\"OUT017\",\"OUT017\",\"OUT045\",\"OUT017\",\"OUT017\",\"OUT017\",\"OUT045\",\"OUT017\",\"OUT045\",\"OUT010\",\"OUT010\",\"OUT010\",\"OUT045\",\"OUT017\",\"OUT017\",\"OUT017\",\"OUT017\",\"OUT010\",\"OUT010\",\"OUT045\",\"OUT017\",\"OUT017\",\"OUT017\",\"OUT045\",\"OUT045\",\"OUT017\",\"OUT017\",\"OUT045\",\"OUT045\",\"OUT045\",\"OUT045\",\"OUT045\",\"OUT010\",\"OUT017\",\"OUT017\",\"OUT045\",\"OUT045\",\"OUT045\",\"OUT045\",\"OUT045\",\"OUT045\",\"OUT017\",\"OUT017\",\"OUT045\",\"OUT017\",\"OUT017\",\"OUT045\",\"OUT017\",\"OUT045\",\"OUT010\",\"OUT017\",\"OUT045\",\"OUT017\",\"OUT017\",\"OUT010\",\"OUT017\",\"OUT045\",\"OUT045\",\"OUT010\",\"OUT045\",\"OUT017\",\"OUT045\",\"OUT010\",\"OUT017\",\"OUT017\",\"OUT045\",\"OUT045\",\"OUT045\",\"OUT045\",\"OUT045\",\"OUT017\",\"OUT017\",\"OUT045\",\"OUT010\",\"OUT010\",\"OUT045\",\"OUT045\",\"OUT017\",\"OUT045\",\"OUT017\",\"OUT045\",\"OUT010\",\"OUT045\",\"OUT045\",\"OUT045\",\"OUT045\",\"OUT045\",\"OUT010\",\"OUT017\",\"OUT010\",\"OUT010\",\"OUT045\",\"OUT010\",\"OUT010\",\"OUT010\",\"OUT010\",\"OUT045\",\"OUT045\",\"OUT045\",\"OUT017\",\"OUT010\",\"OUT010\",\"OUT017\",\"OUT017\",\"OUT017\",\"OUT010\",\"OUT045\",\"OUT017\",\"OUT045\",\"OUT045\",\"OUT017\",\"OUT045\",\"OUT010\",\"OUT017\",\"OUT045\",\"OUT045\",\"OUT017\",\"OUT017\",\"OUT010\",\"OUT045\",\"OUT017\",\"OUT045\",\"OUT045\",\"OUT010\",\"OUT017\",\"OUT045\",\"OUT010\",\"OUT045\",\"OUT010\",\"OUT045\",\"OUT017\",\"OUT010\",\"OUT017\",\"OUT017\",\"OUT010\",\"OUT010\",\"OUT045\",\"OUT017\",\"OUT045\",\"OUT045\",\"OUT010\",\"OUT010\",\"OUT045\",\"OUT017\",\"OUT017\",\"OUT045\",\"OUT017\",\"OUT017\",\"OUT017\",\"OUT017\",\"OUT010\",\"OUT010\",\"OUT045\",\"OUT010\",\"OUT045\",\"OUT017\",\"OUT017\",\"OUT017\",\"OUT010\",\"OUT017\",\"OUT017\",\"OUT010\",\"OUT010\",\"OUT017\",\"OUT045\",\"OUT017\",\"OUT017\",\"OUT017\",\"OUT017\",\"OUT045\",\"OUT010\",\"OUT017\",\"OUT017\",\"OUT017\",\"OUT045\",\"OUT045\",\"OUT045\",\"OUT045\",\"OUT045\",\"OUT017\",\"OUT017\",\"OUT017\",\"OUT045\",\"OUT017\",\"OUT045\",\"OUT010\",\"OUT010\",\"OUT017\",\"OUT045\",\"OUT010\",\"OUT045\",\"OUT045\",\"OUT045\",\"OUT010\",\"OUT045\",\"OUT017\",\"OUT017\",\"OUT045\",\"OUT017\",\"OUT045\",\"OUT010\",\"OUT045\",\"OUT045\",\"OUT010\",\"OUT010\",\"OUT010\",\"OUT010\",\"OUT045\",\"OUT045\",\"OUT045\",\"OUT045\",\"OUT045\",\"OUT045\",\"OUT017\",\"OUT045\",\"OUT045\",\"OUT045\",\"OUT045\",\"OUT017\",\"OUT017\",\"OUT045\",\"OUT045\",\"OUT045\",\"OUT017\",\"OUT010\",\"OUT017\",\"OUT017\",\"OUT017\",\"OUT045\",\"OUT010\",\"OUT017\",\"OUT045\",\"OUT045\",\"OUT010\",\"OUT045\",\"OUT017\",\"OUT010\",\"OUT017\",\"OUT017\",\"OUT045\",\"OUT017\",\"OUT017\",\"OUT045\",\"OUT045\",\"OUT017\",\"OUT045\",\"OUT045\",\"OUT017\",\"OUT017\",\"OUT045\",\"OUT045\",\"OUT017\",\"OUT010\",\"OUT045\",\"OUT010\",\"OUT017\",\"OUT045\",\"OUT010\",\"OUT010\",\"OUT010\",\"OUT045\",\"OUT010\",\"OUT045\",\"OUT010\",\"OUT010\",\"OUT045\",\"OUT017\",\"OUT017\",\"OUT017\",\"OUT017\",\"OUT045\",\"OUT045\",\"OUT045\",\"OUT045\",\"OUT017\",\"OUT017\",\"OUT017\",\"OUT045\",\"OUT045\",\"OUT045\",\"OUT017\",\"OUT017\",\"OUT045\",\"OUT010\",\"OUT017\",\"OUT017\",\"OUT045\",\"OUT045\",\"OUT017\",\"OUT017\",\"OUT017\",\"OUT017\",\"OUT045\",\"OUT045\",\"OUT045\",\"OUT010\",\"OUT045\",\"OUT045\",\"OUT045\",\"OUT045\",\"OUT045\",\"OUT017\",\"OUT045\",\"OUT017\",\"OUT017\",\"OUT045\",\"OUT010\",\"OUT017\",\"OUT045\",\"OUT045\",\"OUT045\",\"OUT045\",\"OUT017\",\"OUT017\",\"OUT045\",\"OUT017\",\"OUT045\",\"OUT017\",\"OUT045\",\"OUT010\",\"OUT017\",\"OUT010\",\"OUT017\",\"OUT017\",\"OUT045\",\"OUT045\",\"OUT045\",\"OUT010\",\"OUT010\",\"OUT017\",\"OUT045\",\"OUT010\",\"OUT010\",\"OUT045\",\"OUT017\",\"OUT010\",\"OUT010\",\"OUT045\",\"OUT045\",\"OUT045\",\"OUT045\",\"OUT017\",\"OUT010\",\"OUT017\",\"OUT017\",\"OUT010\",\"OUT010\",\"OUT010\",\"OUT045\",\"OUT017\",\"OUT017\",\"OUT045\",\"OUT017\",\"OUT045\",\"OUT010\",\"OUT017\",\"OUT010\",\"OUT017\",\"OUT010\",\"OUT017\",\"OUT017\",\"OUT017\",\"OUT010\",\"OUT045\",\"OUT045\",\"OUT017\",\"OUT010\",\"OUT045\",\"OUT010\",\"OUT017\",\"OUT017\",\"OUT045\",\"OUT010\",\"OUT017\",\"OUT045\",\"OUT045\",\"OUT010\",\"OUT017\",\"OUT017\",\"OUT045\",\"OUT010\",\"OUT010\",\"OUT017\",\"OUT045\",\"OUT010\",\"OUT017\",\"OUT045\",\"OUT045\",\"OUT010\",\"OUT010\",\"OUT017\",\"OUT010\",\"OUT010\",\"OUT045\",\"OUT010\",\"OUT010\",\"OUT045\",\"OUT017\",\"OUT010\",\"OUT010\",\"OUT045\",\"OUT010\",\"OUT045\",\"OUT017\",\"OUT045\",\"OUT017\",\"OUT010\",\"OUT010\",\"OUT017\",\"OUT045\",\"OUT045\",\"OUT017\",\"OUT017\",\"OUT017\",\"OUT017\",\"OUT017\",\"OUT017\",\"OUT045\",\"OUT017\",\"OUT045\",\"OUT010\",\"OUT017\",\"OUT010\",\"OUT017\",\"OUT010\",\"OUT010\",\"OUT010\",\"OUT045\",\"OUT017\",\"OUT010\",\"OUT010\",\"OUT017\",\"OUT045\",\"OUT017\",\"OUT017\",\"OUT045\",\"OUT045\",\"OUT017\",\"OUT017\",\"OUT017\",\"OUT017\",\"OUT017\",\"OUT045\",\"OUT045\",\"OUT045\",\"OUT045\",\"OUT045\",\"OUT045\",\"OUT017\",\"OUT017\",\"OUT017\",\"OUT017\",\"OUT045\",\"OUT017\",\"OUT045\",\"OUT045\",\"OUT045\",\"OUT045\",\"OUT017\",\"OUT010\",\"OUT010\",\"OUT017\",\"OUT045\",\"OUT017\",\"OUT017\",\"OUT017\",\"OUT017\",\"OUT045\",\"OUT045\",\"OUT010\",\"OUT045\",\"OUT045\",\"OUT017\",\"OUT017\",\"OUT017\",\"OUT010\",\"OUT045\",\"OUT017\",\"OUT017\",\"OUT045\",\"OUT045\",\"OUT017\",\"OUT010\",\"OUT045\",\"OUT010\",\"OUT010\",\"OUT017\",\"OUT010\",\"OUT017\",\"OUT045\",\"OUT010\",\"OUT017\",\"OUT017\",\"OUT045\",\"OUT017\",\"OUT045\",\"OUT017\",\"OUT045\",\"OUT017\",\"OUT010\",\"OUT017\",\"OUT017\",\"OUT010\",\"OUT017\",\"OUT010\",\"OUT017\",\"OUT045\",\"OUT010\",\"OUT010\",\"OUT017\",\"OUT045\",\"OUT045\",\"OUT045\",\"OUT010\",\"OUT017\",\"OUT017\",\"OUT010\",\"OUT045\",\"OUT045\",\"OUT017\",\"OUT010\",\"OUT017\",\"OUT017\",\"OUT045\",\"OUT017\",\"OUT017\",\"OUT017\",\"OUT017\",\"OUT045\",\"OUT010\",\"OUT045\",\"OUT010\",\"OUT017\",\"OUT045\",\"OUT017\",\"OUT017\",\"OUT045\",\"OUT017\",\"OUT017\",\"OUT017\",\"OUT017\",\"OUT045\",\"OUT017\",\"OUT010\",\"OUT045\",\"OUT010\",\"OUT017\",\"OUT017\",\"OUT010\",\"OUT010\",\"OUT017\",\"OUT010\",\"OUT045\",\"OUT017\",\"OUT010\",\"OUT045\",\"OUT017\",\"OUT045\",\"OUT045\",\"OUT017\",\"OUT017\",\"OUT045\",\"OUT045\",\"OUT017\",\"OUT017\",\"OUT010\",\"OUT045\",\"OUT010\",\"OUT010\",\"OUT010\",\"OUT017\",\"OUT045\",\"OUT017\",\"OUT010\",\"OUT045\",\"OUT010\",\"OUT010\",\"OUT045\",\"OUT010\",\"OUT045\",\"OUT010\",\"OUT010\",\"OUT010\",\"OUT010\",\"OUT017\",\"OUT045\",\"OUT045\",\"OUT045\",\"OUT010\",\"OUT045\",\"OUT045\",\"OUT010\",\"OUT045\",\"OUT017\",\"OUT045\",\"OUT045\",\"OUT017\",\"OUT017\",\"OUT017\",\"OUT017\",\"OUT010\",\"OUT017\",\"OUT017\",\"OUT017\",\"OUT017\",\"OUT045\",\"OUT010\",\"OUT017\",\"OUT010\",\"OUT017\",\"OUT017\",\"OUT045\",\"OUT017\",\"OUT017\",\"OUT010\",\"OUT017\",\"OUT045\",\"OUT017\",\"OUT045\",\"OUT017\",\"OUT017\",\"OUT045\",\"OUT010\",\"OUT045\",\"OUT045\",\"OUT017\",\"OUT045\",\"OUT010\",\"OUT017\",\"OUT045\",\"OUT045\",\"OUT017\",\"OUT045\",\"OUT017\",\"OUT045\",\"OUT010\",\"OUT017\",\"OUT045\",\"OUT017\",\"OUT017\",\"OUT045\",\"OUT010\",\"OUT017\",\"OUT017\",\"OUT045\",\"OUT045\",\"OUT017\",\"OUT010\",\"OUT010\",\"OUT045\",\"OUT045\",\"OUT017\",\"OUT017\",\"OUT010\",\"OUT017\",\"OUT017\",\"OUT017\",\"OUT045\",\"OUT017\",\"OUT017\",\"OUT010\",\"OUT017\",\"OUT045\",\"OUT045\",\"OUT010\",\"OUT017\",\"OUT045\",\"OUT017\",\"OUT010\",\"OUT017\",\"OUT010\",\"OUT017\",\"OUT017\",\"OUT017\",\"OUT045\",\"OUT017\",\"OUT045\",\"OUT045\",\"OUT045\",\"OUT010\",\"OUT010\",\"OUT045\",\"OUT045\",\"OUT017\",\"OUT017\",\"OUT045\",\"OUT017\",\"OUT017\",\"OUT010\",\"OUT017\",\"OUT010\",\"OUT017\",\"OUT017\",\"OUT017\",\"OUT017\",\"OUT017\",\"OUT010\",\"OUT010\",\"OUT017\",\"OUT045\",\"OUT010\",\"OUT017\",\"OUT045\",\"OUT045\",\"OUT017\",\"OUT017\",\"OUT017\",\"OUT010\",\"OUT045\",\"OUT045\",\"OUT010\",\"OUT017\",\"OUT045\",\"OUT045\",\"OUT017\",\"OUT045\",\"OUT045\",\"OUT045\",\"OUT045\",\"OUT045\",\"OUT045\",\"OUT017\",\"OUT045\",\"OUT010\",\"OUT045\",\"OUT045\",\"OUT010\",\"OUT017\",\"OUT017\",\"OUT017\",\"OUT010\",\"OUT017\",\"OUT010\",\"OUT045\",\"OUT045\",\"OUT017\",\"OUT017\",\"OUT017\",\"OUT045\",\"OUT010\",\"OUT017\",\"OUT045\",\"OUT017\",\"OUT010\",\"OUT045\",\"OUT017\",\"OUT010\",\"OUT017\",\"OUT017\",\"OUT010\",\"OUT045\",\"OUT045\",\"OUT010\",\"OUT045\",\"OUT017\",\"OUT045\",\"OUT010\",\"OUT045\",\"OUT045\",\"OUT045\",\"OUT017\",\"OUT010\",\"OUT045\",\"OUT017\",\"OUT010\",\"OUT017\",\"OUT010\",\"OUT017\",\"OUT045\",\"OUT017\",\"OUT010\",\"OUT045\",\"OUT010\",\"OUT010\",\"OUT010\",\"OUT017\",\"OUT010\",\"OUT010\",\"OUT045\",\"OUT017\",\"OUT045\",\"OUT045\",\"OUT045\",\"OUT045\",\"OUT017\",\"OUT045\",\"OUT010\",\"OUT010\",\"OUT045\",\"OUT017\",\"OUT017\",\"OUT017\",\"OUT017\",\"OUT017\",\"OUT017\",\"OUT045\",\"OUT017\",\"OUT045\",\"OUT010\",\"OUT017\",\"OUT045\",\"OUT045\",\"OUT045\",\"OUT017\",\"OUT017\",\"OUT017\",\"OUT010\",\"OUT017\",\"OUT017\",\"OUT045\",\"OUT017\",\"OUT017\",\"OUT017\",\"OUT017\",\"OUT045\",\"OUT010\",\"OUT017\",\"OUT017\",\"OUT017\",\"OUT045\",\"OUT010\",\"OUT010\",\"OUT010\",\"OUT017\",\"OUT017\",\"OUT045\",\"OUT010\",\"OUT010\",\"OUT017\",\"OUT045\",\"OUT017\",\"OUT010\",\"OUT045\",\"OUT017\",\"OUT017\",\"OUT010\",\"OUT017\",\"OUT017\",\"OUT017\",\"OUT010\",\"OUT017\",\"OUT017\",\"OUT045\",\"OUT010\",\"OUT045\",\"OUT045\",\"OUT045\",\"OUT017\",\"OUT045\",\"OUT045\",\"OUT010\",\"OUT010\",\"OUT017\",\"OUT045\",\"OUT017\",\"OUT017\",\"OUT017\",\"OUT045\",\"OUT045\",\"OUT045\",\"OUT045\",\"OUT010\",\"OUT017\",\"OUT045\",\"OUT045\",\"OUT010\",\"OUT045\",\"OUT045\",\"OUT045\",\"OUT045\",\"OUT017\",\"OUT010\",\"OUT045\",\"OUT017\",\"OUT045\",\"OUT045\",\"OUT017\",\"OUT045\",\"OUT010\",\"OUT010\",\"OUT045\",\"OUT010\",\"OUT045\",\"OUT010\",\"OUT017\",\"OUT017\",\"OUT045\",\"OUT010\",\"OUT017\",\"OUT010\",\"OUT045\",\"OUT045\",\"OUT045\",\"OUT045\",\"OUT010\",\"OUT010\",\"OUT045\",\"OUT017\",\"OUT045\",\"OUT045\",\"OUT017\",\"OUT010\",\"OUT017\",\"OUT010\",\"OUT017\",\"OUT010\",\"OUT045\",\"OUT045\",\"OUT010\",\"OUT045\",\"OUT045\",\"OUT017\",\"OUT045\",\"OUT017\",\"OUT045\",\"OUT017\",\"OUT017\",\"OUT010\",\"OUT017\",\"OUT045\",\"OUT017\",\"OUT045\",\"OUT010\",\"OUT045\",\"OUT045\",\"OUT010\",\"OUT045\",\"OUT045\",\"OUT045\",\"OUT045\",\"OUT045\",\"OUT045\",\"OUT017\",\"OUT010\",\"OUT017\",\"OUT017\",\"OUT017\",\"OUT017\",\"OUT045\",\"OUT045\",\"OUT017\",\"OUT010\",\"OUT010\",\"OUT010\",\"OUT010\",\"OUT045\",\"OUT017\",\"OUT017\",\"OUT045\",\"OUT045\",\"OUT017\",\"OUT010\",\"OUT017\",\"OUT017\",\"OUT017\",\"OUT010\",\"OUT045\",\"OUT010\",\"OUT017\",\"OUT010\",\"OUT045\",\"OUT017\",\"OUT017\",\"OUT045\",\"OUT045\",\"OUT017\",\"OUT017\",\"OUT010\",\"OUT045\",\"OUT045\",\"OUT017\",\"OUT045\",\"OUT017\",\"OUT045\",\"OUT017\",\"OUT045\",\"OUT045\",\"OUT045\",\"OUT045\",\"OUT017\",\"OUT010\",\"OUT017\",\"OUT045\",\"OUT017\",\"OUT045\",\"OUT017\",\"OUT045\",\"OUT045\",\"OUT017\",\"OUT045\",\"OUT017\",\"OUT017\",\"OUT017\",\"OUT017\",\"OUT010\",\"OUT010\",\"OUT010\",\"OUT010\",\"OUT017\",\"OUT045\",\"OUT017\",\"OUT017\",\"OUT010\",\"OUT017\",\"OUT010\",\"OUT017\",\"OUT017\",\"OUT017\",\"OUT045\",\"OUT010\",\"OUT045\",\"OUT017\",\"OUT017\",\"OUT010\",\"OUT017\",\"OUT010\",\"OUT017\",\"OUT045\",\"OUT045\",\"OUT017\",\"OUT045\",\"OUT010\",\"OUT045\",\"OUT010\",\"OUT017\",\"OUT017\",\"OUT017\",\"OUT017\",\"OUT017\",\"OUT010\",\"OUT045\",\"OUT045\",\"OUT010\",\"OUT017\",\"OUT045\",\"OUT017\",\"OUT045\",\"OUT045\",\"OUT045\",\"OUT045\",\"OUT010\",\"OUT010\",\"OUT017\",\"OUT017\",\"OUT017\",\"OUT045\",\"OUT045\",\"OUT045\",\"OUT045\",\"OUT010\",\"OUT045\",\"OUT017\",\"OUT045\",\"OUT017\",\"OUT045\",\"OUT045\",\"OUT045\",\"OUT045\",\"OUT017\",\"OUT010\",\"OUT045\",\"OUT045\",\"OUT017\",\"OUT045\",\"OUT045\",\"OUT010\",\"OUT017\",\"OUT017\",\"OUT017\",\"OUT017\",\"OUT017\",\"OUT045\",\"OUT045\",\"OUT010\",\"OUT045\",\"OUT045\"],\"xaxis\":\"x\",\"y\":[732.38,1076.5986,4710.535,838.908,178.4344,163.7868,2174.5028,358.2004,2428.8384,5815.0972,3121.2704,4815.0656,2117.244,1062.6168,184.4266,1118.544,2302.3364,4604.6728,2285.0256,1587.933,5305.0944,2479.4392,369.519,1381.535,1805.6496,2530.7058,2732.4432,3151.8972,4843.695,2552.6772,680.4476,2085.9514,186.424,866.8716,928.1252,707.0796,101.2016,1314.2892,535.3032,263.6568,1693.7952,2143.876,1034.6532,1910.1802,1701.7848,5375.0034,2838.9712,3823.0236,345.5502,585.2382,1010.6844,161.1236,3010.7476,988.713,2336.958,3124.5994,745.696,1701.7848,327.5736,3630.6074,231.6984,2636.568,1272.3438,324.9104,131.1626,260.9936,260.9936,1416.8224,3552.7088,1133.8574,639.168,5259.82,3779.0808,259.662,1687.803,4655.9394,1225.072,5359.69,1764.37,308.9312,450.0808,500.6816,2277.036,296.9468,569.259,1379.5376,942.7728,2775.7202,5317.0788,1267.0174,886.8456,452.744,3877.6192,958.752,1956.1204,387.4956,1754.383,3918.8988,4425.5726,6410.3224,1992.0736,2870.9296,2716.464,5494.8474,878.856,2588.6304,1230.3984,3969.4996,1176.4686,474.0496,3914.904,3259.7568,1037.3164,426.112,711.0744,1571.288,844.2344,2940.1728,291.6204,3259.7568,796.9626,848.895,687.1056,623.1888,3147.9024,978.726,759.012,2431.5016,2067.309,2663.2,3448.844,1665.8316,165.7842,1057.9562,2205.1296,520.6556,942.7728,4262.4516,731.0484,1298.31,2330.3,527.3136,1869.5664,1603.9122,774.9912,2403.538,219.714,1393.5194,5262.4832,314.2576,276.307,3467.4864,5206.556,2503.408,370.1848,95.8752,2684.5056,56.593,231.6984,1014.6792,2094.6068,4916.2672,1757.712,2876.256,1966.7732,81.2276,1845.5976,2097.27,639.168,2770.3938,275.6412,347.5476,665.8,1821.6288,3643.2576,2223.772,5770.4886,2865.6032,2694.4926,543.2928,1035.319,1283.6624,534.6374,4993.5,2334.9606,103.199,3246.4408,4672.5844,3775.086,1086.5856,229.701,1528.011,3057.3536,1471.418,1259.6936,177.1028,3185.853,121.8414,3456.1678,759.012,1707.777,3072.667,97.2068,415.4592,226.372,145.8102,1230.3984,886.8456,1807.647,1751.054,4362.3216,2241.0828,4733.838,539.298,1842.9344,1061.951,419.454,622.523,1657.842,3237.1196,1773.6912,597.2226,1431.47,1757.712,1958.1178,129.1652,2822.992,505.3422,2588.6304,1304.968,331.5684,898.83,58.5904,5976.2208,1547.3192,145.8102,1178.466,547.2876,1649.8524,126.502,932.12,2157.192,2366.919,2641.8944,1155.8288,1174.4712,300.9416,387.4956,2956.152,1058.622,3047.3666,1853.5872,33.29,445.4202,657.8104,591.2304,4102.6596,189.753,1135.189,114.5176,2133.2232,745.696,1547.3192,647.1576,1798.9916,1973.4312,5060.08,2157.192,5400.9696,174.4396,1278.336,615.1992,314.2576,123.173,1506.0396,762.341,384.8324,1418.154,2836.308,167.7816,703.0848,3131.9232,258.3304,352.874,2418.1856,87.2198,75.9012,1693.7952,6048.793,2187.153,958.752,1099.2358,5712.564,1160.4894,179.766,143.8128,952.7598,1025.332,2931.5174,4420.912,1522.0188,1765.7016,2241.0828,5259.82,1450.1124,2934.8464,360.8636,708.4112,1606.5754,868.869,2237.088,4029.4216,1018.674,2024.032,767.0016,1482.0708,2157.192,1966.7732,261.6594,1146.5076,2277.036,2008.0528,708.4112,3486.1288,759.012,1737.738,1537.998,1605.9096,3717.8272,121.1756,1571.288,3829.0158,519.324,2233.0932,2631.2416,2624.5836,3257.7594,1796.3284,2884.2456,296.9468,241.0196,372.848,2612.5992,4845.0266,159.792,872.198,3559.3668,4244.475,3115.944,1619.2256,829.5868,1665.8316,2876.256,4346.3424,169.1132,3828.35,1845.5976,3425.541,172.4422,1162.4868,1917.504,1480.0734,1581.275,438.0964,1834.9448,161.7894,3327.6684,2695.1584,314.2576,3502.108,2768.3964,67.9116,503.3448,575.2512,5321.0736,2536.698,146.476,1850.924,5909.6408,2207.127,89.883,644.4944,2516.724,4563.3932,2700.4848,1853.5872,4471.5128,5954.2494,2269.0464,5426.27,958.752,1575.2828,2087.283,351.5424,2501.4106,1034.6532,1946.7992,3395.58,5201.2296,796.2968,4500.808,3663.2316,3844.995,4570.0512,3020.0688,2375.5744,251.6724,1142.5128,5366.348,1661.8368,3415.554,1655.1788,884.1824,141.1496,149.1392,1346.2476,3731.809,2826.321,788.973,205.0664,2863.6058,1274.3412,4823.721,119.844,175.7712,3968.168,170.4448,3078.6592,1278.336,4013.4424,4006.7844,95.2094,575.2512,3755.112,1182.4608,1644.526,1258.362,729.7168,1641.8628,1943.4702,2554.0088,1330.2684,677.1186,660.4736,4153.9262,187.0898,1462.0968,3554.7062,4660.6,1102.5648,435.4332,4514.124,1225.072,1043.9744,277.6386,2656.542,311.5944,571.2564,5528.1374,1052.6298,263.6568,2816.334,2626.581,211.7244,153.7998,109.857,490.6946,1657.842,988.713,2759.0752,830.9184,545.2902,1474.0812,2055.3246,792.302,254.3356,2113.2492,982.055,6426.3016,481.3734,886.8456,2111.2518,2636.568,790.9704,3419.5488,814.9392,866.8716,1426.1436,1537.998,939.4438,974.0654,2406.867,6404.996,202.4032,2976.7918,1442.1228,3142.576,1956.1204,2609.936,1557.972,4138.6128,2243.746,145.1444,323.5788,719.064,468.7232,1230.3984,2862.94,2812.3392,992.042,5191.2426,2909.546,1985.4156,363.5268,355.5372,189.0872,1761.7068,3560.6984,113.186,262.3252,209.727,1518.024,1685.8056,294.2836,1046.6376,1930.1542,1780.3492,5241.1776,5976.2208,2984.1156,3695.19,1068.609,2836.308,4402.9354,1474.0812,860.2136,2253.0672,1272.3438,117.8466,1989.4104,1607.2412,958.752,197.0768,2277.036,2826.9868,3153.2288,291.6204,554.6114,731.0484,4250.4672,3067.3406,2133.2232,5145.3024,3547.3824,2274.3728,4548.0798,5863.0348,5331.7264,4086.0146,1402.1748,962.7468,426.112,1701.7848,2693.8268,649.155,4777.7808,1416.8224,2422.1804,2380.9008,539.298,763.0068,756.3488,181.0976,1347.5792,2270.378,1470.0864,159.792,805.618,3767.0964,529.311,645.1602,4364.9848,792.302,4290.4152,1145.176,3150.5656,467.3916,1414.1592,1518.024,666.4658,2516.724,525.3162,1576.6144,392.822,101.2016,3929.5516,151.8024,2090.612,2801.6864,2343.616,1949.4624,4211.185,3372.9428,934.7832,102.5332,717.0666,215.7192,115.8492,611.2044,2163.85,661.8052,838.908,782.315,2348.9424,3542.7218,519.324,164.4526,2648.5524,1065.28,798.96,774.9912,697.7584,2768.3964,2591.2936,1113.2176,5243.8408,1062.6168,165.1184,1504.0422,288.9572,2675.1844,1323.6104,2942.836,2936.178,1571.288,188.4214,2749.754,2857.6136,1454.773,1992.0736,1728.4168,2037.348,473.3838,3010.7476,283.6308,437.4306,1816.3024,2070.638,2184.4898,1478.076,694.4294,703.0848,589.233,3900.9222,3202.498,221.0456,596.5568,378.1744,1061.951,609.207,3558.0352,3169.208,253.004,131.1626,2153.1972,168.4474,2999.429,1134.5232,53.9298,1120.5414,815.605,1278.336,1528.011,129.831,1301.639,1844.9318,5068.7354,307.5996,197.7426,1761.7068,1060.6194,3339.6528,4101.328,2771.7254,3803.0496,3961.51,1720.4272,782.315,153.7998,4101.328,55.2614,3073.9986,1884.8798,2336.958,3078.6592,71.9064,189.0872,2579.975,1486.0656,171.7764,1834.279,2082.6224,3731.809,1225.072,2045.3376,195.7452,93.212,2563.33,2187.153,4580.704,5668.6212,555.2772,1948.1308,188.4214,367.5216,1356.2346,948.765,782.9808,1192.4478,633.8416,312.926,3142.576,639.168,109.1912,770.3306,3542.056,490.0288,1326.2736,4234.488,599.22,3954.852,1050.6324,2087.9488,1789.6704,1230.3984,739.038,1941.4728,585.904,3844.995,659.142,4402.2696,259.662,1372.2138,529.311,2648.5524,117.8466,1584.604,1685.8056,1186.4556,745.696,736.3748,3956.8494,1807.647,3542.056,3344.9792,592.562,3103.9596,2101.9306,149.805,1164.4842,846.8976,2812.3392,1510.0344,884.1824,3282.394,4195.8716,1281.665,3425.541,453.4098,129.831,193.082,778.986,966.7416,747.0276,539.298,343.5528,4063.3774,3411.5592,2588.6304,171.7764,2470.118,525.982,2656.542,4364.319,2588.6304,175.7712,185.7582,1419.4856,1291.652,2026.0294,2680.5108,2816.334,2117.244,327.5736,308.9312,171.7764,1496.7184,237.6906,466.06,113.186,263.6568,1306.2996,1230.3984,1887.543,6231.888,1837.608,1480.7392,1113.2176,2796.36,3390.2536,744.3644,138.4864,2103.2622,1629.8784,1657.842,467.3916,1847.595,1705.7796,3113.2808,1779.0176,1185.124,2167.179,2297.01,340.2238,828.921,173.108,5382.993,2536.698,2093.2752,798.96,508.6712,575.2512,157.1288,2548.6824,2406.867,1454.773,397.4826,143.8128,1198.44,4767.128,149.1392,2543.356,479.376,4314.384,4745.8224,3079.9908,2651.2156,2103.928,2141.2128,2145.2076,419.454,591.8962,4762.4674,852.224,1151.1682,284.9624,838.908,147.8076,2103.928,6411.654,118.5124,531.3084,2224.4378,382.1692,3761.77,2616.594,142.4812,572.588,1203.7664,1705.1138,982.7208,2233.0932,1239.7196,774.9912,223.7088,2886.243,3315.0182,5681.2714,529.311,3896.2616,109.1912,978.726,501.3474,70.5748,250.3408,87.2198,1004.0264,199.74,4159.9184,3361.6242,1757.712,2863.6058,852.224,457.4046,1366.2216,2940.1728,2847.6266,63.251,251.6724,1498.05,801.6232,1524.0162,1035.9848,834.9132,2748.4224,4789.7652,4146.6024,642.497,4073.3644,117.1808,2414.1908,323.5788,985.384,3693.8584,1597.92,777.6544,49.2692,3974.826,567.2616,3318.3472,3185.1872,2646.555,119.1782,157.1288,207.7296,59.2562,428.7752,3206.4928,2770.3938,1794.331,4097.3332,47.9376,894.8352,3515.424,2306.997,284.9624,1346.2476,291.6204,4578.0408,2013.3792,632.51,621.1914,1662.5026,527.9794,1651.184,1277.0044,418.1224,3281.0624,2157.192,2241.0828,3048.6982,275.6412,199.74,727.0536,527.3136,838.908,4845.0266,1127.8652,97.2068,441.4254,285.6282,340.2238,2050.664,67.9116,296.9468,1102.5648,2535.3664,2918.8672,1467.4232,679.116,88.5514,427.4436,3778.415,5069.4012,1238.388,2050.664,3202.498,4619.9862,715.0692,1964.7758,2302.3364,4133.2864,3978.155,918.804,1965.4416,1022.6688,506.008,1761.7068,3187.8504,824.9262,2956.152,1337.5922,420.7856,1687.1372,2918.8672,225.0404,3205.1612,4122.6336,348.8792,1877.556,542.627,857.5504,5522.811,1780.3492,2352.9372,203.7348,2432.8332,3739.1328,1977.426,5728.5432,3350.3056,2006.0554,1298.31,2407.5328,2725.7852,2528.7084,1402.1748,99.87,3678.545,2759.0752,1808.3128,330.2368,1924.162,209.727,1904.188,2004.058,2897.5616,1808.9786,351.5424,2105.2596,1601.249,1166.4816,390.1588,3289.052,2059.9852,4258.4568,1534.0032,3257.7594,2854.9504,1238.388,774.9912,918.804,101.2016,1390.1904,1312.9576,3595.32,543.2928,2384.8956,1007.3554,1518.024,2556.672,4933.578,2390.8878,229.701,209.727,3795.06,48.6034,810.9444,2548.6824,4580.704,515.3292,2878.2534,669.129,4769.1254,964.0784,91.8804,4334.358,4233.1564,938.778,2490.092,2886.243,3006.087,495.3552,196.411,78.5644,5267.8096,862.8768,3271.0754,4349.0056,2281.6966,3663.2316,3271.7412,1128.531,3091.9752,3133.2548,563.2668,1325.6078,121.8414,875.527,2649.884,745.696,1436.7964,3558.0352,1686.4714,1559.9694,1657.842,2010.716,2189.1504,1454.1072,639.168,175.7712,1386.1956,296.281,1545.9876,2450.144,3677.2134,182.4292,759.012,245.6802,1561.9668,183.7608,122.5072,1472.7496,3036.048,1023.3346,2900.2248,3159.8868,1154.4972,1133.8574,1330.2684,467.3916,1749.7224,693.0978,225.7062,2693.8268,322.2472,203.7348,6471.576,1609.9044,466.06,1342.2528,980.0576,3098.6332,110.5228,703.0848,1315.6208,1947.465,5070.7328,3374.2744,180.4318,1406.1696,596.5568,539.298,3392.9168,123.8388,2563.33,635.1732,107.8596,1794.331,1239.7196,2150.534,3089.312,183.7608,1097.9042,428.7752,1989.4104,1845.5976,1761.7068,739.038,1135.189,1123.2046,2543.356,2649.2182,221.0456,986.7156,1263.0226,1104.5622,1115.215,234.3616,476.047,1076.5986,633.8416,3448.844,327.5736,1406.1696,744.3644,2966.139,5274.4676,225.7062,264.9884,1444.1202,1150.5024,1904.188,508.6712,4396.9432,894.8352,2628.5784,653.1498,2406.867,1368.219,1644.526,852.224,449.415,2303.668,89.883,2277.7018,4637.9628,2348.9424,4655.2736,2812.3392,45.9402,1571.288,2316.984,233.03,790.9704,153.134,3369.6138,5759.17,1379.5376,1693.7952,1358.232,671.1264,190.4188,2125.2336,1255.033,1208.427,36.619,37.9506,259.662,549.285,517.3266,41.9454,1765.0358,3295.71,3338.987,4138.6128,2694.4926,196.411,4541.4218,170.4448,551.2824,978.726,681.7792,5690.5926,185.7582,1416.8224,905.488,347.5476,1114.5492,690.4346,2516.724,522.653,525.982,39.948,2482.1024,1635.8706,3383.5956,509.337,2564.6616,1291.652,194.4136,535.3032,195.7452,2503.408,3089.9778,2021.3688,170.4448,873.5296,587.2356,280.9676,3900.9222,1837.608,2131.2258,2916.204,2934.8464,5480.8656,2581.9724,227.7036,407.4696,4106.6544,186.424,778.986,2245.0776,2570.6538,164.4526,517.9924,2804.3496,3797.7232,755.0172,127.1678,1246.3776,3075.996,1332.2658,2526.711,158.4604,1743.0644,210.3928,1090.5804,1041.977,3338.987,2013.3792,1895.5326,1853.5872,2693.8268,1162.4868,5469.547,2105.2596,194.4136,1669.8264,1328.271,679.116,3593.3226,1887.543,2162.5184,2183.824,2065.3116,4697.8848,6201.927,679.116,407.4696,2570.6538,1245.046,1029.9926,3428.2042,1864.24,527.3136,243.6828,463.3968,3149.234,4326.3684,1225.072,2696.49,2117.244,94.5436,439.428,1691.132,2432.8332,2890.9036,167.7816,1382.2008,1797.66,1459.4336,708.4112,1186.4556,1946.7992,2313.655,1619.2256,4119.9704,197.0768,2534.0348,2759.0752,2892.2352,2830.3158,2782.3782,3182.524,319.584,1896.1984,2153.1972,756.3488,353.5398,2553.343,2519.3872,4207.856,2756.412,529.311,253.004,3131.9232,2283.0282,5896.3248,3559.3668,585.2382,2784.3756,3331.6632,3003.4238,258.3304,1382.2008,814.9392,454.0756,488.6972,1059.9536,1874.8928,1687.1372,2063.98,4483.4972,5683.2688,858.882,2410.8618,2098.6016,509.337,102.5332,405.4722,1923.4962,2852.2872,3934.878,722.393,4029.4216,2940.1728,498.0184,2752.4172,335.5632,1697.79,830.9184,4570.0512,93.8778,5267.1438,127.1678,1288.323,4853.682,249.0092,376.8428,47.2718,163.7868,743.0328,1426.1436,5888.3352,529.311,229.0352,162.4552,1981.4208,2906.217,452.744,83.8908,4566.7222,4096.6674,1444.786,2077.296,4811.7366,3367.6164,455.4072,453.4098,4870.327,1701.7848,3155.892,3579.3408,425.4462,3813.7024,1328.271,1133.1916,4908.2776,527.3136,1843.6002,2659.871,592.562,502.0132,567.2616,2946.165,1805.6496,114.5176,2492.7552,2600.6148,337.5606,327.5736,2916.204,792.302,3225.1352,3155.892,191.0846,331.5684,1174.4712,1864.24,1733.0774,2745.0934,2587.9646,1510.0344,2909.546,1459.4336,205.0664,354.2056,1506.0396,458.0704,2106.5912,683.1108,2302.3364,1442.7886,243.6828,2354.2688,1301.639,44.6086,1314.955,2804.3496,3894.93,388.1614,3476.1418,3251.7672,980.0576,1672.4896,549.285,490.0288,866.8716,1921.4988,3751.783,1504.708,2648.5524,6358.39,4725.8484,850.8924,2334.9606,1323.6104,2127.8968,1444.786,1428.141,222.3772,792.302,2884.2456,638.5022,115.1834,1959.4494,540.6296,3950.1914,399.48,2764.4016,339.558,3089.9778,892.172,5049.4272,3089.9778,790.9704,1006.6896,1435.4648,111.1886,41.2796,191.0846,47.9376,1444.786,2841.6344,2848.9582,6145.334,367.5216,3681.874,649.155,1390.1904,2929.52,1665.8316,2316.984,3705.8428,2045.3376,2581.9724,2332.9632,1576.6144,3372.9428,1281.665,2127.231,767.0016,1581.9408,3444.8492,97.2068,4532.7664,1134.5232,2189.1504,982.7208,1603.9122,2181.1608,711.0744,778.986,3815.034,996.0368,3124.5994,4377.635,3567.3564,1048.635,3946.8624,607.2096,1304.968,2328.9684,758.3462,1644.526,1617.894,3335.658,739.038,2580.6408,181.0976,2885.5772,703.0848,329.571,523.3188,1094.5752,2182.4924,719.064,1406.1696,751.0224,159.792,4344.345,1794.331,1347.5792,1300.3074,361.5294,3555.372,986.7156,946.7676,885.514,1677.1502,6002.8528,1340.2554,894.8352,2854.9504,958.752,317.5866,1123.8704,2708.4744,169.779,3691.1952,2406.2012,605.878,4233.1564,1379.5376,1065.28,5369.0112,3645.255,1821.6288,386.8298,441.4254,312.926,1208.427,852.224,3769.7596,1230.3984,818.934,5375.0034,1777.686,985.384,2025.3636,4643.955,91.2146,3910.9092,3254.4304,1340.2554,1436.7964,1281.665,4660.6,1118.544,2013.3792,1877.556,2324.9736,3029.39,458.0704,649.8208,1342.2528,280.9676,1108.557,4379.6324,1662.5026,3628.61,2519.3872,784.9782,452.744,2049.3324,2388.2246,319.584,423.4488,335.5632,2708.4744,724.3904,247.0118,2636.568,1844.266,2576.646,1090.5804,1860.2452,595.2252,1695.7926,3029.39,192.4162,141.8154,628.5152,2833.6448,1249.0408,1118.544,427.4436,3554.7062,1201.769,219.714,4915.6014,191.7504,1390.1904,370.1848,2404.8696,1372.2138,3994.8,126.502,719.064,2609.936,1312.9576,47.2718,3954.852,121.1756,620.5256,1641.197,988.0472,96.541,2308.9944,808.947,447.4176,194.4136,143.8128,2217.114,4074.696,422.1172,633.8416,1314.2892,183.7608,182.4292,1667.829,1693.7952,1278.336,852.224,394.1536,1492.0578,171.1106,166.45,709.077,179.766,308.9312,579.246,1326.2736,422.1172,190.4188,1737.738,83.8908,1874.8928,2404.8696,1482.0708,5946.9256,165.7842,316.9208,1747.725,2999.429,5033.448,1146.5076,1668.4948,858.882,1810.976,1062.6168,1225.072,3115.944,3277.0676,2731.1116,416.125,2579.975,264.3226,2599.2832,595.2252,697.0926,645.826,1957.452,4866.998,176.437,468.7232,3225.801,873.5296,2553.343,3089.9778,612.536,1182.4608,2404.8696,1551.9798,922.7988,2527.3768,604.5464,3025.3952,154.4656,4649.9472,4363.6532,761.0094,1416.8224,5226.53,4961.5416,1414.1592,4174.566,2846.295,1685.8056,1657.842,656.4788,1629.8784,3735.138,2397.5458,89.2172,499.35,552.614,3231.1274,1938.8096,2614.5966,1743.0644,5175.9292,958.752,1457.4362,247.6776,1789.6704,3010.7476,1278.336,3433.5306,3064.0116,344.8844,1310.2944,2143.876,1254.3672,976.7286,4587.362,1593.9252,242.3512,2277.036,307.5996,108.5254,3010.7476,524.6504,4470.1812,1970.768,874.8612,2631.2416,2846.295,587.2356,2013.3792,3755.112,1298.31,1070.6064,1864.24,155.7972,1191.782,3293.7126,126.502,1310.2944,463.3968,1808.9786,1370.2164,249.0092,563.2668,1341.587,2535.3664,1767.699,1677.1502,280.9676,1258.362,2659.871,769.6648,1534.0032,3475.476,2822.992,433.4358,253.004,1025.9978,675.1212,1970.768,2950.1598,568.5932,5834.4054,493.3578,296.9468,331.5684,88.5514,263.6568,3139.9128,447.4176,2063.98,2082.6224,713.7376,837.5764,1030.6584,3690.5294,1696.4584,1390.1904,176.437,1788.3388,1034.6532,761.6752,1418.154,415.4592,151.1366,1713.7692,311.5944,1364.89,2002.7264,170.4448,1705.1138,6251.862,319.584,1491.392,2966.139,406.138,1338.258,1158.492,2681.8424,2626.581,343.5528,2418.1856,173.108,442.757,1090.5804,2006.7212,680.4476,3773.7544,379.506,1086.5856,245.6802,51.9324,4440.886,264.9884,2993.4368,125.8362,231.6984,157.1288,515.3292,1105.228,2061.3168,999.3658,1298.31,195.7452,1506.0396,2600.6148,356.8688,645.1602,1573.9512,5865.0322,1454.1072,1211.756,2503.408,2441.4886,2807.0128,482.0392,498.0184,3020.0688,1018.674,3124.5994,1238.388,175.7712,916.1408,882.185,3570.0196,1765.7016,6041.4692,2773.057,1238.388,251.6724,1576.6144,2433.499,4725.8484,583.2408,3537.3954,2093.941,2526.711,165.7842,3020.0688,284.2966,1540.6612,2591.2936,223.7088,952.094,1537.998,247.0118,4610.665,3861.64,4314.384,4713.864,913.4776,325.5762,1340.2554,802.9548,1962.7784,777.6544,370.1848,1938.8096,1211.756,886.8456,325.5762,4026.7584,386.164,33.29,2450.144,1159.8236,1498.05,923.4646,223.7088,2390.8878,1944.136,533.3058,1049.9666,1655.1788,2502.7422,143.8128,3235.788,2094.6068,870.8664,484.7024,1731.08,1575.2828,1336.2606,484.7024,6076.0908,215.7192,2826.321,4402.9354,1717.764,1398.18,871.5322,1619.2256,3628.61,3874.956,155.1314,105.8622,2749.754,2410.196,3954.852,5070.7328,5313.084,2801.6864,2277.036,392.822,872.8638,436.7648,255.6672,3635.268,1823.6262,1298.31,1036.6506,230.3668,127.8336,713.0718,2449.4782,117.1808,5688.5952,2496.75,822.263,652.484,2364.9216,1868.2348,82.5592,2908.8802,3079.325,223.7088,810.9444,2836.308,2042.6744,2116.5782,1669.8264,4154.592,1211.756,1948.1308,1830.95,3981.484,1065.28,4225.1668,111.8544,3199.8348,1208.427,375.5112,886.8456,1174.4712,627.1836,517.3266,1289.6546,154.4656,2163.1842,2358.2636,3483.4656,5375.6692,1480.0734,2157.192,412.796,1627.881,1537.998,2501.4106,194.4136,4697.8848,1651.184,178.4344,2544.6876,717.7324,263.6568,1062.6168,1428.141,193.082,452.744,796.9626,2816.334,431.4384,651.8182,1134.5232,5865.0322,559.272,127.8336,2748.4224,3151.8972,369.519,1071.938,595.2252,2498.0816,1711.106,759.012,815.605,4234.488,35.2874,191.7504,300.9416,1169.8106,303.6048,258.9962,1713.7692,671.1264,3255.762,2828.3184,994.7052,1551.9798,1836.2764,1406.1696,1046.6376,280.9676,1869.5664,499.35,2407.5328,511.3344,3731.809,2302.3364,1798.9916,2004.058,1458.102,1685.8056,75.9012,1186.4556,503.3448,614.5334,3175.866,788.3072,2271.0438,1956.1204,98.5384,352.874,3111.9492,1134.5232,3295.71,1565.9616,2908.2144,5976.2208,1970.768,561.2694,2773.057,2914.8724,388.1614,1098.57,432.77,379.506,303.6048,2681.8424,4291.7468,1965.4416,99.2042,334.2316,922.7988,2013.3792,2641.8944,455.4072,1619.2256,1994.7368,1853.5872,291.6204,739.038,2163.85,2167.8448,41.9454,834.9132,2636.568,575.2512,123.173,1070.6064,3610.6334,1062.6168,1118.544,2253.0672,474.0496,786.9756,280.9676,2251.0698,4673.916,577.2486,2985.4472,1414.825,2766.399,1491.392,2432.1674,1944.136,176.437,5635.3312,4431.5648,3103.9596,1775.6886,778.986,918.804,1707.777,2780.3808,1631.8758,90.5488,837.5764,5829.7448,838.908,633.8416,2432.8332,1444.1202,382.1692,1342.2528,4170.5712,723.0588,1311.626,499.35,820.2656,838.908,671.1264,892.172,2406.2012,57.2588,3418.883,4211.185,1120.5414,3644.5892,188.4214,151.1366,2352.9372,6471.576,2984.1156,2732.4432,503.3448,139.818,5193.9058,377.5086,2556.672,790.9704,1498.05,995.371,427.4436,4040.7402,2442.1544,1874.8928,552.614,1419.4856,307.5996,2362.9242,2241.0828,79.2302,2848.2924,894.8352,1118.544,5432.928,77.2328,922.7988,2504.7396,171.7764,1245.046,732.38,5642.655,838.908,4454.202,1342.2528,2446.1492,262.3252,2743.7618,3605.307,2218.4456,1584.604,751.0224,3499.4448,432.77,283.6308,503.3448,667.1316,214.3876,5309.755,868.869,1696.4584,5145.3024,612.536,2920.1988,116.515,2014.7108,1155.8288,549.9508,149.805,1731.08,49.2692,363.5268,71.9064,1225.072,735.709,1240.3854,3568.0222,2348.9424,1569.9564,1691.7978,94.5436,1719.7614,2109.2544,1406.1696,679.116,1653.8472,1686.4714,4013.4424,3174.5344,865.54,2908.2144,1186.4556,4961.5416,195.7452,2410.196,3354.3004,3075.996,1981.4208,1917.504,3825.6868,605.878,491.3604,3984.1472,366.19,3466.1548,703.0848,2693.8268,551.2824,175.1054,67.9116,73.238,605.878,423.4488,2696.49,410.1328,621.1914,4026.7584,126.502,1215.7508,314.2576,3185.853,1845.5976,197.0768,341.5554,2358.2636,371.5164,451.4124,4028.09,122.5072,1086.5856,1917.504,1201.769,2363.59,1306.9654,316.9208,2049.3324,164.4526,2423.512,2841.6344,1596.5884,1528.011,1390.1904,128.4994,1800.3232,1054.6272,185.0924,810.9444,3635.268,533.3058,772.328,5992.2,2972.1312,1367.5532,284.9624,425.4462,1395.5168,1679.1476,2563.33,2203.798,2490.092,2336.2922,848.895,159.792,510.6686,3791.0652,3387.5904,4206.5244,487.3656,468.7232,2726.451,467.3916,2302.3364,431.4384,2153.1972,1280.9992,1970.768,695.0952,1612.5676,45.2744,4727.18,1637.868,3715.164,1907.517,1508.037,3020.0688,2587.9646,424.7804,468.7232,549.285],\"yaxis\":\"y\",\"type\":\"histogram\"}],                        {\"template\":{\"data\":{\"bar\":[{\"error_x\":{\"color\":\"#2a3f5f\"},\"error_y\":{\"color\":\"#2a3f5f\"},\"marker\":{\"line\":{\"color\":\"#E5ECF6\",\"width\":0.5},\"pattern\":{\"fillmode\":\"overlay\",\"size\":10,\"solidity\":0.2}},\"type\":\"bar\"}],\"barpolar\":[{\"marker\":{\"line\":{\"color\":\"#E5ECF6\",\"width\":0.5},\"pattern\":{\"fillmode\":\"overlay\",\"size\":10,\"solidity\":0.2}},\"type\":\"barpolar\"}],\"carpet\":[{\"aaxis\":{\"endlinecolor\":\"#2a3f5f\",\"gridcolor\":\"white\",\"linecolor\":\"white\",\"minorgridcolor\":\"white\",\"startlinecolor\":\"#2a3f5f\"},\"baxis\":{\"endlinecolor\":\"#2a3f5f\",\"gridcolor\":\"white\",\"linecolor\":\"white\",\"minorgridcolor\":\"white\",\"startlinecolor\":\"#2a3f5f\"},\"type\":\"carpet\"}],\"choropleth\":[{\"colorbar\":{\"outlinewidth\":0,\"ticks\":\"\"},\"type\":\"choropleth\"}],\"contour\":[{\"colorbar\":{\"outlinewidth\":0,\"ticks\":\"\"},\"colorscale\":[[0.0,\"#0d0887\"],[0.1111111111111111,\"#46039f\"],[0.2222222222222222,\"#7201a8\"],[0.3333333333333333,\"#9c179e\"],[0.4444444444444444,\"#bd3786\"],[0.5555555555555556,\"#d8576b\"],[0.6666666666666666,\"#ed7953\"],[0.7777777777777778,\"#fb9f3a\"],[0.8888888888888888,\"#fdca26\"],[1.0,\"#f0f921\"]],\"type\":\"contour\"}],\"contourcarpet\":[{\"colorbar\":{\"outlinewidth\":0,\"ticks\":\"\"},\"type\":\"contourcarpet\"}],\"heatmap\":[{\"colorbar\":{\"outlinewidth\":0,\"ticks\":\"\"},\"colorscale\":[[0.0,\"#0d0887\"],[0.1111111111111111,\"#46039f\"],[0.2222222222222222,\"#7201a8\"],[0.3333333333333333,\"#9c179e\"],[0.4444444444444444,\"#bd3786\"],[0.5555555555555556,\"#d8576b\"],[0.6666666666666666,\"#ed7953\"],[0.7777777777777778,\"#fb9f3a\"],[0.8888888888888888,\"#fdca26\"],[1.0,\"#f0f921\"]],\"type\":\"heatmap\"}],\"heatmapgl\":[{\"colorbar\":{\"outlinewidth\":0,\"ticks\":\"\"},\"colorscale\":[[0.0,\"#0d0887\"],[0.1111111111111111,\"#46039f\"],[0.2222222222222222,\"#7201a8\"],[0.3333333333333333,\"#9c179e\"],[0.4444444444444444,\"#bd3786\"],[0.5555555555555556,\"#d8576b\"],[0.6666666666666666,\"#ed7953\"],[0.7777777777777778,\"#fb9f3a\"],[0.8888888888888888,\"#fdca26\"],[1.0,\"#f0f921\"]],\"type\":\"heatmapgl\"}],\"histogram\":[{\"marker\":{\"pattern\":{\"fillmode\":\"overlay\",\"size\":10,\"solidity\":0.2}},\"type\":\"histogram\"}],\"histogram2d\":[{\"colorbar\":{\"outlinewidth\":0,\"ticks\":\"\"},\"colorscale\":[[0.0,\"#0d0887\"],[0.1111111111111111,\"#46039f\"],[0.2222222222222222,\"#7201a8\"],[0.3333333333333333,\"#9c179e\"],[0.4444444444444444,\"#bd3786\"],[0.5555555555555556,\"#d8576b\"],[0.6666666666666666,\"#ed7953\"],[0.7777777777777778,\"#fb9f3a\"],[0.8888888888888888,\"#fdca26\"],[1.0,\"#f0f921\"]],\"type\":\"histogram2d\"}],\"histogram2dcontour\":[{\"colorbar\":{\"outlinewidth\":0,\"ticks\":\"\"},\"colorscale\":[[0.0,\"#0d0887\"],[0.1111111111111111,\"#46039f\"],[0.2222222222222222,\"#7201a8\"],[0.3333333333333333,\"#9c179e\"],[0.4444444444444444,\"#bd3786\"],[0.5555555555555556,\"#d8576b\"],[0.6666666666666666,\"#ed7953\"],[0.7777777777777778,\"#fb9f3a\"],[0.8888888888888888,\"#fdca26\"],[1.0,\"#f0f921\"]],\"type\":\"histogram2dcontour\"}],\"mesh3d\":[{\"colorbar\":{\"outlinewidth\":0,\"ticks\":\"\"},\"type\":\"mesh3d\"}],\"parcoords\":[{\"line\":{\"colorbar\":{\"outlinewidth\":0,\"ticks\":\"\"}},\"type\":\"parcoords\"}],\"pie\":[{\"automargin\":true,\"type\":\"pie\"}],\"scatter\":[{\"marker\":{\"colorbar\":{\"outlinewidth\":0,\"ticks\":\"\"}},\"type\":\"scatter\"}],\"scatter3d\":[{\"line\":{\"colorbar\":{\"outlinewidth\":0,\"ticks\":\"\"}},\"marker\":{\"colorbar\":{\"outlinewidth\":0,\"ticks\":\"\"}},\"type\":\"scatter3d\"}],\"scattercarpet\":[{\"marker\":{\"colorbar\":{\"outlinewidth\":0,\"ticks\":\"\"}},\"type\":\"scattercarpet\"}],\"scattergeo\":[{\"marker\":{\"colorbar\":{\"outlinewidth\":0,\"ticks\":\"\"}},\"type\":\"scattergeo\"}],\"scattergl\":[{\"marker\":{\"colorbar\":{\"outlinewidth\":0,\"ticks\":\"\"}},\"type\":\"scattergl\"}],\"scattermapbox\":[{\"marker\":{\"colorbar\":{\"outlinewidth\":0,\"ticks\":\"\"}},\"type\":\"scattermapbox\"}],\"scatterpolar\":[{\"marker\":{\"colorbar\":{\"outlinewidth\":0,\"ticks\":\"\"}},\"type\":\"scatterpolar\"}],\"scatterpolargl\":[{\"marker\":{\"colorbar\":{\"outlinewidth\":0,\"ticks\":\"\"}},\"type\":\"scatterpolargl\"}],\"scatterternary\":[{\"marker\":{\"colorbar\":{\"outlinewidth\":0,\"ticks\":\"\"}},\"type\":\"scatterternary\"}],\"surface\":[{\"colorbar\":{\"outlinewidth\":0,\"ticks\":\"\"},\"colorscale\":[[0.0,\"#0d0887\"],[0.1111111111111111,\"#46039f\"],[0.2222222222222222,\"#7201a8\"],[0.3333333333333333,\"#9c179e\"],[0.4444444444444444,\"#bd3786\"],[0.5555555555555556,\"#d8576b\"],[0.6666666666666666,\"#ed7953\"],[0.7777777777777778,\"#fb9f3a\"],[0.8888888888888888,\"#fdca26\"],[1.0,\"#f0f921\"]],\"type\":\"surface\"}],\"table\":[{\"cells\":{\"fill\":{\"color\":\"#EBF0F8\"},\"line\":{\"color\":\"white\"}},\"header\":{\"fill\":{\"color\":\"#C8D4E3\"},\"line\":{\"color\":\"white\"}},\"type\":\"table\"}]},\"layout\":{\"annotationdefaults\":{\"arrowcolor\":\"#2a3f5f\",\"arrowhead\":0,\"arrowwidth\":1},\"autotypenumbers\":\"strict\",\"coloraxis\":{\"colorbar\":{\"outlinewidth\":0,\"ticks\":\"\"}},\"colorscale\":{\"diverging\":[[0,\"#8e0152\"],[0.1,\"#c51b7d\"],[0.2,\"#de77ae\"],[0.3,\"#f1b6da\"],[0.4,\"#fde0ef\"],[0.5,\"#f7f7f7\"],[0.6,\"#e6f5d0\"],[0.7,\"#b8e186\"],[0.8,\"#7fbc41\"],[0.9,\"#4d9221\"],[1,\"#276419\"]],\"sequential\":[[0.0,\"#0d0887\"],[0.1111111111111111,\"#46039f\"],[0.2222222222222222,\"#7201a8\"],[0.3333333333333333,\"#9c179e\"],[0.4444444444444444,\"#bd3786\"],[0.5555555555555556,\"#d8576b\"],[0.6666666666666666,\"#ed7953\"],[0.7777777777777778,\"#fb9f3a\"],[0.8888888888888888,\"#fdca26\"],[1.0,\"#f0f921\"]],\"sequentialminus\":[[0.0,\"#0d0887\"],[0.1111111111111111,\"#46039f\"],[0.2222222222222222,\"#7201a8\"],[0.3333333333333333,\"#9c179e\"],[0.4444444444444444,\"#bd3786\"],[0.5555555555555556,\"#d8576b\"],[0.6666666666666666,\"#ed7953\"],[0.7777777777777778,\"#fb9f3a\"],[0.8888888888888888,\"#fdca26\"],[1.0,\"#f0f921\"]]},\"colorway\":[\"#636efa\",\"#EF553B\",\"#00cc96\",\"#ab63fa\",\"#FFA15A\",\"#19d3f3\",\"#FF6692\",\"#B6E880\",\"#FF97FF\",\"#FECB52\"],\"font\":{\"color\":\"#2a3f5f\"},\"geo\":{\"bgcolor\":\"white\",\"lakecolor\":\"white\",\"landcolor\":\"#E5ECF6\",\"showlakes\":true,\"showland\":true,\"subunitcolor\":\"white\"},\"hoverlabel\":{\"align\":\"left\"},\"hovermode\":\"closest\",\"mapbox\":{\"style\":\"light\"},\"paper_bgcolor\":\"white\",\"plot_bgcolor\":\"#E5ECF6\",\"polar\":{\"angularaxis\":{\"gridcolor\":\"white\",\"linecolor\":\"white\",\"ticks\":\"\"},\"bgcolor\":\"#E5ECF6\",\"radialaxis\":{\"gridcolor\":\"white\",\"linecolor\":\"white\",\"ticks\":\"\"}},\"scene\":{\"xaxis\":{\"backgroundcolor\":\"#E5ECF6\",\"gridcolor\":\"white\",\"gridwidth\":2,\"linecolor\":\"white\",\"showbackground\":true,\"ticks\":\"\",\"zerolinecolor\":\"white\"},\"yaxis\":{\"backgroundcolor\":\"#E5ECF6\",\"gridcolor\":\"white\",\"gridwidth\":2,\"linecolor\":\"white\",\"showbackground\":true,\"ticks\":\"\",\"zerolinecolor\":\"white\"},\"zaxis\":{\"backgroundcolor\":\"#E5ECF6\",\"gridcolor\":\"white\",\"gridwidth\":2,\"linecolor\":\"white\",\"showbackground\":true,\"ticks\":\"\",\"zerolinecolor\":\"white\"}},\"shapedefaults\":{\"line\":{\"color\":\"#2a3f5f\"}},\"ternary\":{\"aaxis\":{\"gridcolor\":\"white\",\"linecolor\":\"white\",\"ticks\":\"\"},\"baxis\":{\"gridcolor\":\"white\",\"linecolor\":\"white\",\"ticks\":\"\"},\"bgcolor\":\"#E5ECF6\",\"caxis\":{\"gridcolor\":\"white\",\"linecolor\":\"white\",\"ticks\":\"\"}},\"title\":{\"x\":0.05},\"xaxis\":{\"automargin\":true,\"gridcolor\":\"white\",\"linecolor\":\"white\",\"ticks\":\"\",\"title\":{\"standoff\":15},\"zerolinecolor\":\"white\",\"zerolinewidth\":2},\"yaxis\":{\"automargin\":true,\"gridcolor\":\"white\",\"linecolor\":\"white\",\"ticks\":\"\",\"title\":{\"standoff\":15},\"zerolinecolor\":\"white\",\"zerolinewidth\":2}}},\"xaxis\":{\"anchor\":\"y\",\"domain\":[0.0,1.0],\"title\":{\"text\":\"Outlet ID\"}},\"yaxis\":{\"anchor\":\"x\",\"domain\":[0.0,1.0],\"title\":{\"text\":\"sum of Total Sales\"}},\"legend\":{\"title\":{\"text\":\"Outlet Size\"},\"tracegroupgap\":0},\"title\":{\"text\":\"Total Sales Per Outlet\"},\"barmode\":\"relative\"},                        {\"responsive\": true}                    ).then(function(){\n",
              "                            \n",
              "var gd = document.getElementById('2225bb07-dc68-4573-9330-2c89929b5a5a');\n",
              "var x = new MutationObserver(function (mutations, observer) {{\n",
              "        var display = window.getComputedStyle(gd).display;\n",
              "        if (!display || display === 'none') {{\n",
              "            console.log([gd, 'removed!']);\n",
              "            Plotly.purge(gd);\n",
              "            observer.disconnect();\n",
              "        }}\n",
              "}});\n",
              "\n",
              "// Listen for the removal of the full notebook cells\n",
              "var notebookContainer = gd.closest('#notebook-container');\n",
              "if (notebookContainer) {{\n",
              "    x.observe(notebookContainer, {childList: true});\n",
              "}}\n",
              "\n",
              "// Listen for the clearing of the current output cell\n",
              "var outputEl = gd.closest('.output');\n",
              "if (outputEl) {{\n",
              "    x.observe(outputEl, {childList: true});\n",
              "}}\n",
              "\n",
              "                        })                };                            </script>        </div>\n",
              "</body>\n",
              "</html>"
            ]
          },
          "metadata": {}
        }
      ]
    },
    {
      "cell_type": "markdown",
      "source": [
        "#### Next we will explore Sales by Item Type, grouped by Outlet Type"
      ],
      "metadata": {
        "id": "MsnwavwE3Qhv"
      }
    },
    {
      "cell_type": "code",
      "source": [
        "fig = px.histogram(df,x=\"Item_Type\", y=\"Item_Outlet_Sales\",\n",
        "                   title=\"Total Sales Per Item Type\",\n",
        "                   hover_data=['Outlet_Type'],\n",
        "                   color =\"Outlet_Type\",\n",
        "                   labels = {\"Outlet_Type\": \"Outlet Type\",\n",
        "                             \"Item_Type\": \"Item Type\",\n",
        "                             \"Item_Outlet_Sales\": \"Total Sales\"},\n",
        "                   category_orders = {\"Outlet_Type\":[\"Supermarket Type1\",\n",
        "                                                     \"Supermarket Type2\",\n",
        "                                                     \"Supermarket Type3\",\n",
        "                                                     \"Grocery Store\"]},)\n",
        "\n",
        "fig.show()"
      ],
      "metadata": {
        "colab": {
          "base_uri": "https://localhost:8080/",
          "height": 542
        },
        "id": "-5fK9sWo3pvZ",
        "outputId": "461aa9b8-0fa9-411b-d2cc-9ac05d768d02"
      },
      "execution_count": 24,
      "outputs": [
        {
          "output_type": "display_data",
          "data": {
            "text/html": [
              "<html>\n",
              "<head><meta charset=\"utf-8\" /></head>\n",
              "<body>\n",
              "    <div>            <script src=\"https://cdnjs.cloudflare.com/ajax/libs/mathjax/2.7.5/MathJax.js?config=TeX-AMS-MML_SVG\"></script><script type=\"text/javascript\">if (window.MathJax) {MathJax.Hub.Config({SVG: {font: \"STIX-Web\"}});}</script>                <script type=\"text/javascript\">window.PlotlyConfig = {MathJaxConfig: 'local'};</script>\n",
              "        <script src=\"https://cdn.plot.ly/plotly-2.8.3.min.js\"></script>                <div id=\"a844e326-078f-49b9-96ef-a1e35828b923\" class=\"plotly-graph-div\" style=\"height:525px; width:100%;\"></div>            <script type=\"text/javascript\">                                    window.PLOTLYENV=window.PLOTLYENV || {};                                    if (document.getElementById(\"a844e326-078f-49b9-96ef-a1e35828b923\")) {                    Plotly.newPlot(                        \"a844e326-078f-49b9-96ef-a1e35828b923\",                        [{\"alignmentgroup\":\"True\",\"bingroup\":\"x\",\"histfunc\":\"sum\",\"hovertemplate\":\"Outlet Type=Supermarket Type1<br>Item Type=%{x}<br>sum of Total Sales=%{y}<extra></extra>\",\"legendgroup\":\"Supermarket Type1\",\"marker\":{\"color\":\"#636efa\",\"pattern\":{\"shape\":\"\"}},\"name\":\"Supermarket Type1\",\"offsetgroup\":\"Supermarket Type1\",\"orientation\":\"v\",\"showlegend\":true,\"x\":[\"Dairy\",\"Meat\",\"Household\",\"Snack Foods\",\"Frozen Foods\",\"Frozen Foods\",\"Fruits and Vegetables\",\"Dairy\",\"Fruits and Vegetables\",\"Snack Foods\",\"Fruits and Vegetables\",\"Breakfast\",\"Breakfast\",\"Dairy\",\"Snack Foods\",\"Household\",\"Frozen Foods\",\"Household\",\"Snack Foods\",\"Hard Drinks\",\"Breads\",\"Soft Drinks\",\"Health and Hygiene\",\"Dairy\",\"Meat\",\"Snack Foods\",\"Canned\",\"Health and Hygiene\",\"Canned\",\"Baking Goods\",\"Health and Hygiene\",\"Frozen Foods\",\"Canned\",\"Fruits and Vegetables\",\"Household\",\"Household\",\"Hard Drinks\",\"Snack Foods\",\"Meat\",\"Meat\",\"Dairy\",\"Soft Drinks\",\"Health and Hygiene\",\"Snack Foods\",\"Baking Goods\",\"Starchy Foods\",\"Canned\",\"Household\",\"Frozen Foods\",\"Snack Foods\",\"Frozen Foods\",\"Canned\",\"Snack Foods\",\"Frozen Foods\",\"Fruits and Vegetables\",\"Fruits and Vegetables\",\"Snack Foods\",\"Meat\",\"Dairy\",\"Soft Drinks\",\"Fruits and Vegetables\",\"Health and Hygiene\",\"Frozen Foods\",\"Fruits and Vegetables\",\"Fruits and Vegetables\",\"Frozen Foods\",\"Snack Foods\",\"Soft Drinks\",\"Canned\",\"Baking Goods\",\"Baking Goods\",\"Soft Drinks\",\"Dairy\",\"Frozen Foods\",\"Breads\",\"Frozen Foods\",\"Frozen Foods\",\"Snack Foods\",\"Soft Drinks\",\"Household\",\"Soft Drinks\",\"Canned\",\"Breads\",\"Frozen Foods\",\"Soft Drinks\",\"Dairy\",\"Hard Drinks\",\"Household\",\"Household\",\"Household\",\"Dairy\",\"Fruits and Vegetables\",\"Household\",\"Household\",\"Others\",\"Household\",\"Frozen Foods\",\"Starchy Foods\",\"Health and Hygiene\",\"Snack Foods\",\"Household\",\"Soft Drinks\",\"Fruits and Vegetables\",\"Breakfast\",\"Soft Drinks\",\"Frozen Foods\",\"Snack Foods\",\"Soft Drinks\",\"Meat\",\"Soft Drinks\",\"Canned\",\"Others\",\"Fruits and Vegetables\",\"Meat\",\"Fruits and Vegetables\",\"Starchy Foods\",\"Baking Goods\",\"Meat\",\"Dairy\",\"Health and Hygiene\",\"Frozen Foods\",\"Household\",\"Meat\",\"Snack Foods\",\"Fruits and Vegetables\",\"Fruits and Vegetables\",\"Frozen Foods\",\"Others\",\"Health and Hygiene\",\"Baking Goods\",\"Snack Foods\",\"Meat\",\"Frozen Foods\",\"Soft Drinks\",\"Soft Drinks\",\"Dairy\",\"Snack Foods\",\"Household\",\"Meat\",\"Meat\",\"Baking Goods\",\"Baking Goods\",\"Frozen Foods\",\"Canned\",\"Soft Drinks\",\"Fruits and Vegetables\",\"Canned\",\"Fruits and Vegetables\",\"Canned\",\"Household\",\"Starchy Foods\",\"Household\",\"Health and Hygiene\",\"Dairy\",\"Snack Foods\",\"Canned\",\"Fruits and Vegetables\",\"Meat\",\"Frozen Foods\",\"Fruits and Vegetables\",\"Snack Foods\",\"Fruits and Vegetables\",\"Canned\",\"Health and Hygiene\",\"Meat\",\"Baking Goods\",\"Meat\",\"Soft Drinks\",\"Frozen Foods\",\"Dairy\",\"Breakfast\",\"Household\",\"Frozen Foods\",\"Baking Goods\",\"Starchy Foods\",\"Frozen Foods\",\"Frozen Foods\",\"Dairy\",\"Fruits and Vegetables\",\"Dairy\",\"Snack Foods\",\"Meat\",\"Household\",\"Soft Drinks\",\"Meat\",\"Fruits and Vegetables\",\"Household\",\"Soft Drinks\",\"Fruits and Vegetables\",\"Baking Goods\",\"Baking Goods\",\"Others\",\"Fruits and Vegetables\",\"Baking Goods\",\"Household\",\"Hard Drinks\",\"Fruits and Vegetables\",\"Baking Goods\",\"Fruits and Vegetables\",\"Dairy\",\"Canned\",\"Snack Foods\",\"Frozen Foods\",\"Snack Foods\",\"Snack Foods\",\"Frozen Foods\",\"Baking Goods\",\"Soft Drinks\",\"Dairy\",\"Fruits and Vegetables\",\"Meat\",\"Breads\",\"Breads\",\"Dairy\",\"Fruits and Vegetables\",\"Others\",\"Fruits and Vegetables\",\"Frozen Foods\",\"Breakfast\",\"Baking Goods\",\"Household\",\"Household\",\"Soft Drinks\",\"Meat\",\"Household\",\"Household\",\"Breads\",\"Meat\",\"Soft Drinks\",\"Snack Foods\",\"Canned\",\"Dairy\",\"Frozen Foods\",\"Health and Hygiene\",\"Baking Goods\",\"Snack Foods\",\"Fruits and Vegetables\",\"Fruits and Vegetables\",\"Meat\",\"Fruits and Vegetables\",\"Household\",\"Meat\",\"Dairy\",\"Fruits and Vegetables\",\"Dairy\",\"Frozen Foods\",\"Frozen Foods\",\"Fruits and Vegetables\",\"Snack Foods\",\"Canned\",\"Soft Drinks\",\"Frozen Foods\",\"Fruits and Vegetables\",\"Fruits and Vegetables\",\"Household\",\"Fruits and Vegetables\",\"Snack Foods\",\"Starchy Foods\",\"Household\",\"Health and Hygiene\",\"Health and Hygiene\",\"Snack Foods\",\"Baking Goods\",\"Dairy\",\"Baking Goods\",\"Meat\",\"Household\",\"Dairy\",\"Starchy Foods\",\"Fruits and Vegetables\",\"Household\",\"Frozen Foods\",\"Fruits and Vegetables\",\"Fruits and Vegetables\",\"Fruits and Vegetables\",\"Dairy\",\"Canned\",\"Snack Foods\",\"Soft Drinks\",\"Health and Hygiene\",\"Frozen Foods\",\"Dairy\",\"Starchy Foods\",\"Starchy Foods\",\"Fruits and Vegetables\",\"Breads\",\"Household\",\"Fruits and Vegetables\",\"Dairy\",\"Health and Hygiene\",\"Baking Goods\",\"Frozen Foods\",\"Frozen Foods\",\"Snack Foods\",\"Household\",\"Canned\",\"Health and Hygiene\",\"Fruits and Vegetables\",\"Canned\",\"Dairy\",\"Household\",\"Frozen Foods\",\"Household\",\"Frozen Foods\",\"Baking Goods\",\"Household\",\"Baking Goods\",\"Snack Foods\",\"Canned\",\"Frozen Foods\",\"Household\",\"Baking Goods\",\"Household\",\"Snack Foods\",\"Hard Drinks\",\"Frozen Foods\",\"Snack Foods\",\"Fruits and Vegetables\",\"Fruits and Vegetables\",\"Household\",\"Fruits and Vegetables\",\"Snack Foods\",\"Frozen Foods\",\"Frozen Foods\",\"Household\",\"Household\",\"Frozen Foods\",\"Dairy\",\"Health and Hygiene\",\"Others\",\"Meat\",\"Fruits and Vegetables\",\"Baking Goods\",\"Hard Drinks\",\"Household\",\"Frozen Foods\",\"Fruits and Vegetables\",\"Household\",\"Fruits and Vegetables\",\"Fruits and Vegetables\",\"Frozen Foods\",\"Frozen Foods\",\"Dairy\",\"Frozen Foods\",\"Fruits and Vegetables\",\"Frozen Foods\",\"Frozen Foods\",\"Others\",\"Baking Goods\",\"Frozen Foods\",\"Soft Drinks\",\"Dairy\",\"Health and Hygiene\",\"Fruits and Vegetables\",\"Snack Foods\",\"Canned\",\"Meat\",\"Fruits and Vegetables\",\"Canned\",\"Dairy\",\"Fruits and Vegetables\",\"Fruits and Vegetables\",\"Snack Foods\",\"Hard Drinks\",\"Snack Foods\",\"Breakfast\",\"Dairy\",\"Fruits and Vegetables\",\"Snack Foods\",\"Snack Foods\",\"Soft Drinks\",\"Soft Drinks\",\"Fruits and Vegetables\",\"Household\",\"Meat\",\"Breakfast\",\"Fruits and Vegetables\",\"Snack Foods\",\"Snack Foods\",\"Snack Foods\",\"Others\",\"Health and Hygiene\",\"Household\",\"Canned\",\"Household\",\"Baking Goods\",\"Household\",\"Fruits and Vegetables\",\"Household\",\"Soft Drinks\",\"Baking Goods\",\"Snack Foods\",\"Frozen Foods\",\"Household\",\"Baking Goods\",\"Canned\",\"Snack Foods\",\"Household\",\"Canned\",\"Snack Foods\",\"Health and Hygiene\",\"Snack Foods\",\"Starchy Foods\",\"Fruits and Vegetables\",\"Snack Foods\",\"Hard Drinks\",\"Dairy\",\"Fruits and Vegetables\",\"Canned\",\"Baking Goods\",\"Dairy\",\"Fruits and Vegetables\",\"Fruits and Vegetables\",\"Breakfast\",\"Fruits and Vegetables\",\"Snack Foods\",\"Fruits and Vegetables\",\"Snack Foods\",\"Dairy\",\"Snack Foods\",\"Canned\",\"Household\",\"Soft Drinks\",\"Frozen Foods\",\"Snack Foods\",\"Fruits and Vegetables\",\"Canned\",\"Fruits and Vegetables\",\"Household\",\"Household\",\"Snack Foods\",\"Fruits and Vegetables\",\"Fruits and Vegetables\",\"Canned\",\"Household\",\"Fruits and Vegetables\",\"Breads\",\"Canned\",\"Dairy\",\"Fruits and Vegetables\",\"Health and Hygiene\",\"Health and Hygiene\",\"Dairy\",\"Snack Foods\",\"Canned\",\"Meat\",\"Fruits and Vegetables\",\"Meat\",\"Fruits and Vegetables\",\"Dairy\",\"Fruits and Vegetables\",\"Household\",\"Baking Goods\",\"Household\",\"Health and Hygiene\",\"Canned\",\"Household\",\"Health and Hygiene\",\"Household\",\"Canned\",\"Canned\",\"Health and Hygiene\",\"Meat\",\"Baking Goods\",\"Household\",\"Household\",\"Seafood\",\"Dairy\",\"Fruits and Vegetables\",\"Health and Hygiene\",\"Frozen Foods\",\"Snack Foods\",\"Frozen Foods\",\"Canned\",\"Snack Foods\",\"Dairy\",\"Meat\",\"Hard Drinks\",\"Breads\",\"Household\",\"Snack Foods\",\"Household\",\"Snack Foods\",\"Snack Foods\",\"Dairy\",\"Dairy\",\"Snack Foods\",\"Household\",\"Meat\",\"Dairy\",\"Canned\",\"Canned\",\"Breads\",\"Fruits and Vegetables\",\"Soft Drinks\",\"Dairy\",\"Frozen Foods\",\"Canned\",\"Snack Foods\",\"Fruits and Vegetables\",\"Health and Hygiene\",\"Meat\",\"Fruits and Vegetables\",\"Frozen Foods\",\"Frozen Foods\",\"Fruits and Vegetables\",\"Others\",\"Soft Drinks\",\"Dairy\",\"Soft Drinks\",\"Canned\",\"Frozen Foods\",\"Fruits and Vegetables\",\"Snack Foods\",\"Snack Foods\",\"Snack Foods\",\"Fruits and Vegetables\",\"Snack Foods\",\"Dairy\",\"Canned\",\"Household\",\"Canned\",\"Breads\",\"Breads\",\"Fruits and Vegetables\",\"Breads\",\"Snack Foods\",\"Health and Hygiene\",\"Baking Goods\",\"Household\",\"Fruits and Vegetables\",\"Fruits and Vegetables\",\"Snack Foods\",\"Meat\",\"Breakfast\",\"Soft Drinks\",\"Household\",\"Hard Drinks\",\"Snack Foods\",\"Others\",\"Snack Foods\",\"Hard Drinks\",\"Breads\",\"Fruits and Vegetables\",\"Snack Foods\",\"Soft Drinks\",\"Dairy\",\"Snack Foods\",\"Household\",\"Fruits and Vegetables\",\"Baking Goods\",\"Fruits and Vegetables\",\"Dairy\",\"Snack Foods\",\"Canned\",\"Household\",\"Canned\",\"Dairy\",\"Meat\",\"Fruits and Vegetables\",\"Snack Foods\",\"Meat\",\"Dairy\",\"Snack Foods\",\"Canned\",\"Seafood\",\"Household\",\"Dairy\",\"Dairy\",\"Health and Hygiene\",\"Baking Goods\",\"Breads\",\"Frozen Foods\",\"Fruits and Vegetables\",\"Breads\",\"Soft Drinks\",\"Snack Foods\",\"Breads\",\"Dairy\",\"Household\",\"Snack Foods\",\"Fruits and Vegetables\",\"Fruits and Vegetables\",\"Snack Foods\",\"Dairy\",\"Frozen Foods\",\"Meat\",\"Household\",\"Meat\",\"Health and Hygiene\",\"Frozen Foods\",\"Health and Hygiene\",\"Household\",\"Baking Goods\",\"Fruits and Vegetables\",\"Fruits and Vegetables\",\"Baking Goods\",\"Health and Hygiene\",\"Fruits and Vegetables\",\"Hard Drinks\",\"Baking Goods\",\"Frozen Foods\",\"Meat\",\"Fruits and Vegetables\",\"Dairy\",\"Fruits and Vegetables\",\"Frozen Foods\",\"Household\",\"Soft Drinks\",\"Fruits and Vegetables\",\"Meat\",\"Snack Foods\",\"Household\",\"Frozen Foods\",\"Dairy\",\"Fruits and Vegetables\",\"Dairy\",\"Breakfast\",\"Breakfast\",\"Canned\",\"Fruits and Vegetables\",\"Others\",\"Starchy Foods\",\"Meat\",\"Canned\",\"Health and Hygiene\",\"Snack Foods\",\"Snack Foods\",\"Dairy\",\"Snack Foods\",\"Fruits and Vegetables\",\"Fruits and Vegetables\",\"Household\",\"Snack Foods\",\"Snack Foods\",\"Dairy\",\"Others\",\"Snack Foods\",\"Health and Hygiene\",\"Meat\",\"Others\",\"Hard Drinks\",\"Household\",\"Dairy\",\"Fruits and Vegetables\",\"Household\",\"Dairy\",\"Canned\",\"Seafood\",\"Snack Foods\",\"Canned\",\"Canned\",\"Breads\",\"Fruits and Vegetables\",\"Household\",\"Frozen Foods\",\"Fruits and Vegetables\",\"Frozen Foods\",\"Household\",\"Household\",\"Frozen Foods\",\"Snack Foods\",\"Breakfast\",\"Canned\",\"Frozen Foods\",\"Meat\",\"Snack Foods\",\"Dairy\",\"Hard Drinks\",\"Snack Foods\",\"Frozen Foods\",\"Frozen Foods\",\"Household\",\"Breads\",\"Snack Foods\",\"Dairy\",\"Frozen Foods\",\"Starchy Foods\",\"Fruits and Vegetables\",\"Hard Drinks\",\"Household\",\"Fruits and Vegetables\",\"Fruits and Vegetables\",\"Frozen Foods\",\"Breakfast\",\"Health and Hygiene\",\"Household\",\"Dairy\",\"Others\",\"Baking Goods\",\"Baking Goods\",\"Canned\",\"Breads\",\"Household\",\"Fruits and Vegetables\",\"Soft Drinks\",\"Dairy\",\"Household\",\"Household\",\"Frozen Foods\",\"Snack Foods\",\"Snack Foods\",\"Fruits and Vegetables\",\"Snack Foods\",\"Breads\",\"Frozen Foods\",\"Snack Foods\",\"Baking Goods\",\"Household\",\"Snack Foods\",\"Fruits and Vegetables\",\"Dairy\",\"Health and Hygiene\",\"Frozen Foods\",\"Baking Goods\",\"Frozen Foods\",\"Household\",\"Household\",\"Canned\",\"Others\",\"Baking Goods\",\"Snack Foods\",\"Household\",\"Canned\",\"Baking Goods\",\"Frozen Foods\",\"Baking Goods\",\"Fruits and Vegetables\",\"Fruits and Vegetables\",\"Household\",\"Canned\",\"Household\",\"Fruits and Vegetables\",\"Hard Drinks\",\"Soft Drinks\",\"Soft Drinks\",\"Snack Foods\",\"Meat\",\"Household\",\"Others\",\"Meat\",\"Snack Foods\",\"Snack Foods\",\"Dairy\",\"Canned\",\"Snack Foods\",\"Dairy\",\"Snack Foods\",\"Fruits and Vegetables\",\"Household\",\"Frozen Foods\",\"Frozen Foods\",\"Frozen Foods\",\"Baking Goods\",\"Dairy\",\"Meat\",\"Fruits and Vegetables\",\"Snack Foods\",\"Fruits and Vegetables\",\"Baking Goods\",\"Others\",\"Hard Drinks\",\"Dairy\",\"Frozen Foods\",\"Fruits and Vegetables\",\"Health and Hygiene\",\"Soft Drinks\",\"Canned\",\"Health and Hygiene\",\"Snack Foods\",\"Snack Foods\",\"Seafood\",\"Snack Foods\",\"Fruits and Vegetables\",\"Household\",\"Dairy\",\"Health and Hygiene\",\"Snack Foods\",\"Household\",\"Health and Hygiene\",\"Canned\",\"Health and Hygiene\",\"Others\",\"Canned\",\"Household\",\"Fruits and Vegetables\",\"Soft Drinks\",\"Soft Drinks\",\"Others\",\"Canned\",\"Soft Drinks\",\"Fruits and Vegetables\",\"Household\",\"Household\",\"Breads\",\"Canned\",\"Soft Drinks\",\"Fruits and Vegetables\",\"Snack Foods\",\"Hard Drinks\",\"Fruits and Vegetables\",\"Household\",\"Soft Drinks\",\"Baking Goods\",\"Hard Drinks\",\"Snack Foods\",\"Soft Drinks\",\"Baking Goods\",\"Snack Foods\",\"Frozen Foods\",\"Fruits and Vegetables\",\"Snack Foods\",\"Soft Drinks\",\"Health and Hygiene\",\"Canned\",\"Dairy\",\"Snack Foods\",\"Dairy\",\"Breads\",\"Breads\",\"Snack Foods\",\"Household\",\"Fruits and Vegetables\",\"Snack Foods\",\"Snack Foods\",\"Baking Goods\",\"Fruits and Vegetables\",\"Fruits and Vegetables\",\"Fruits and Vegetables\",\"Fruits and Vegetables\",\"Dairy\",\"Frozen Foods\",\"Canned\",\"Dairy\",\"Health and Hygiene\",\"Snack Foods\",\"Others\",\"Household\",\"Starchy Foods\",\"Canned\",\"Baking Goods\",\"Fruits and Vegetables\",\"Frozen Foods\",\"Frozen Foods\",\"Snack Foods\",\"Baking Goods\",\"Household\",\"Dairy\",\"Frozen Foods\",\"Others\",\"Baking Goods\",\"Fruits and Vegetables\",\"Frozen Foods\",\"Snack Foods\",\"Frozen Foods\",\"Snack Foods\",\"Snack Foods\",\"Fruits and Vegetables\",\"Dairy\",\"Health and Hygiene\",\"Others\",\"Others\",\"Fruits and Vegetables\",\"Frozen Foods\",\"Fruits and Vegetables\",\"Dairy\",\"Canned\",\"Household\",\"Meat\",\"Meat\",\"Soft Drinks\",\"Soft Drinks\",\"Fruits and Vegetables\",\"Snack Foods\",\"Snack Foods\",\"Snack Foods\",\"Baking Goods\",\"Canned\",\"Frozen Foods\",\"Snack Foods\",\"Snack Foods\",\"Dairy\",\"Frozen Foods\",\"Household\",\"Starchy Foods\",\"Baking Goods\",\"Snack Foods\",\"Snack Foods\",\"Soft Drinks\",\"Baking Goods\",\"Soft Drinks\",\"Fruits and Vegetables\",\"Frozen Foods\",\"Snack Foods\",\"Soft Drinks\",\"Dairy\",\"Fruits and Vegetables\",\"Soft Drinks\",\"Frozen Foods\",\"Starchy Foods\",\"Health and Hygiene\",\"Dairy\",\"Hard Drinks\",\"Household\",\"Household\",\"Health and Hygiene\",\"Fruits and Vegetables\",\"Frozen Foods\",\"Snack Foods\",\"Household\",\"Snack Foods\",\"Baking Goods\",\"Fruits and Vegetables\",\"Seafood\",\"Seafood\",\"Others\",\"Baking Goods\",\"Frozen Foods\",\"Fruits and Vegetables\",\"Dairy\",\"Baking Goods\",\"Dairy\",\"Snack Foods\",\"Snack Foods\",\"Hard Drinks\",\"Snack Foods\",\"Canned\",\"Meat\",\"Dairy\",\"Snack Foods\",\"Fruits and Vegetables\",\"Canned\",\"Health and Hygiene\",\"Starchy Foods\",\"Starchy Foods\",\"Dairy\",\"Health and Hygiene\",\"Meat\",\"Starchy Foods\",\"Soft Drinks\",\"Household\",\"Snack Foods\",\"Snack Foods\",\"Frozen Foods\",\"Snack Foods\",\"Snack Foods\",\"Health and Hygiene\",\"Snack Foods\",\"Baking Goods\",\"Snack Foods\",\"Household\",\"Soft Drinks\",\"Fruits and Vegetables\",\"Dairy\",\"Fruits and Vegetables\",\"Canned\",\"Baking Goods\",\"Snack Foods\",\"Fruits and Vegetables\",\"Soft Drinks\",\"Canned\",\"Canned\",\"Snack Foods\",\"Fruits and Vegetables\",\"Canned\",\"Hard Drinks\",\"Fruits and Vegetables\",\"Frozen Foods\",\"Starchy Foods\",\"Household\",\"Frozen Foods\",\"Fruits and Vegetables\",\"Health and Hygiene\",\"Fruits and Vegetables\",\"Snack Foods\",\"Snack Foods\",\"Fruits and Vegetables\",\"Breakfast\",\"Baking Goods\",\"Canned\",\"Frozen Foods\",\"Frozen Foods\",\"Dairy\",\"Canned\",\"Frozen Foods\",\"Fruits and Vegetables\",\"Household\",\"Fruits and Vegetables\",\"Frozen Foods\",\"Soft Drinks\",\"Health and Hygiene\",\"Health and Hygiene\",\"Snack Foods\",\"Baking Goods\",\"Breakfast\",\"Fruits and Vegetables\",\"Household\",\"Baking Goods\",\"Household\",\"Starchy Foods\",\"Dairy\",\"Frozen Foods\",\"Household\",\"Fruits and Vegetables\",\"Snack Foods\",\"Household\",\"Baking Goods\",\"Snack Foods\",\"Baking Goods\",\"Baking Goods\",\"Dairy\",\"Fruits and Vegetables\",\"Fruits and Vegetables\",\"Frozen Foods\",\"Health and Hygiene\",\"Household\",\"Soft Drinks\",\"Breakfast\",\"Fruits and Vegetables\",\"Snack Foods\",\"Snack Foods\",\"Meat\",\"Household\",\"Snack Foods\",\"Meat\",\"Breakfast\",\"Snack Foods\",\"Meat\",\"Fruits and Vegetables\",\"Canned\",\"Snack Foods\",\"Breads\",\"Canned\",\"Snack Foods\",\"Canned\",\"Dairy\",\"Household\",\"Baking Goods\",\"Health and Hygiene\",\"Hard Drinks\",\"Fruits and Vegetables\",\"Snack Foods\",\"Dairy\",\"Fruits and Vegetables\",\"Canned\",\"Fruits and Vegetables\",\"Snack Foods\",\"Breads\",\"Fruits and Vegetables\",\"Frozen Foods\",\"Breads\",\"Dairy\",\"Meat\",\"Dairy\",\"Breads\",\"Baking Goods\",\"Baking Goods\",\"Fruits and Vegetables\",\"Hard Drinks\",\"Fruits and Vegetables\",\"Frozen Foods\",\"Meat\",\"Household\",\"Starchy Foods\",\"Snack Foods\",\"Frozen Foods\",\"Fruits and Vegetables\",\"Baking Goods\",\"Snack Foods\",\"Household\",\"Snack Foods\",\"Baking Goods\",\"Dairy\",\"Starchy Foods\",\"Dairy\",\"Baking Goods\",\"Household\",\"Dairy\",\"Fruits and Vegetables\",\"Others\",\"Household\",\"Snack Foods\",\"Baking Goods\",\"Frozen Foods\",\"Health and Hygiene\",\"Fruits and Vegetables\",\"Soft Drinks\",\"Fruits and Vegetables\",\"Meat\",\"Meat\",\"Fruits and Vegetables\",\"Canned\",\"Fruits and Vegetables\",\"Dairy\",\"Canned\",\"Baking Goods\",\"Hard Drinks\",\"Soft Drinks\",\"Household\",\"Hard Drinks\",\"Soft Drinks\",\"Snack Foods\",\"Breads\",\"Household\",\"Baking Goods\",\"Baking Goods\",\"Snack Foods\",\"Meat\",\"Baking Goods\",\"Snack Foods\",\"Fruits and Vegetables\",\"Household\",\"Snack Foods\",\"Snack Foods\",\"Dairy\",\"Frozen Foods\",\"Breads\",\"Soft Drinks\",\"Baking Goods\",\"Snack Foods\",\"Others\",\"Frozen Foods\",\"Frozen Foods\",\"Fruits and Vegetables\",\"Snack Foods\",\"Meat\",\"Household\",\"Dairy\",\"Dairy\",\"Soft Drinks\",\"Household\",\"Meat\",\"Meat\",\"Household\",\"Fruits and Vegetables\",\"Others\",\"Snack Foods\",\"Canned\",\"Baking Goods\",\"Snack Foods\",\"Meat\",\"Household\",\"Frozen Foods\",\"Baking Goods\",\"Household\",\"Breads\",\"Breads\",\"Dairy\",\"Fruits and Vegetables\",\"Hard Drinks\",\"Household\",\"Meat\",\"Canned\",\"Dairy\",\"Fruits and Vegetables\",\"Snack Foods\",\"Fruits and Vegetables\",\"Snack Foods\",\"Soft Drinks\",\"Frozen Foods\",\"Frozen Foods\",\"Starchy Foods\",\"Fruits and Vegetables\",\"Fruits and Vegetables\",\"Household\",\"Baking Goods\",\"Frozen Foods\",\"Household\",\"Soft Drinks\",\"Meat\",\"Fruits and Vegetables\",\"Starchy Foods\",\"Health and Hygiene\",\"Frozen Foods\",\"Fruits and Vegetables\",\"Breakfast\",\"Snack Foods\",\"Household\",\"Hard Drinks\",\"Soft Drinks\",\"Canned\",\"Frozen Foods\",\"Frozen Foods\",\"Dairy\",\"Dairy\",\"Frozen Foods\",\"Fruits and Vegetables\",\"Frozen Foods\",\"Health and Hygiene\",\"Household\",\"Starchy Foods\",\"Frozen Foods\",\"Others\",\"Breads\",\"Fruits and Vegetables\",\"Dairy\",\"Frozen Foods\",\"Soft Drinks\",\"Snack Foods\",\"Household\",\"Frozen Foods\",\"Frozen Foods\",\"Soft Drinks\",\"Frozen Foods\",\"Breakfast\",\"Household\",\"Health and Hygiene\",\"Fruits and Vegetables\",\"Baking Goods\",\"Frozen Foods\",\"Fruits and Vegetables\",\"Starchy Foods\",\"Frozen Foods\",\"Fruits and Vegetables\",\"Fruits and Vegetables\",\"Canned\",\"Baking Goods\",\"Fruits and Vegetables\",\"Frozen Foods\",\"Soft Drinks\",\"Household\",\"Soft Drinks\",\"Fruits and Vegetables\",\"Frozen Foods\",\"Others\",\"Canned\",\"Hard Drinks\",\"Seafood\",\"Household\",\"Snack Foods\",\"Canned\",\"Household\",\"Canned\",\"Fruits and Vegetables\",\"Frozen Foods\",\"Fruits and Vegetables\",\"Health and Hygiene\",\"Fruits and Vegetables\",\"Dairy\",\"Household\",\"Frozen Foods\",\"Fruits and Vegetables\",\"Fruits and Vegetables\",\"Breakfast\",\"Dairy\",\"Dairy\",\"Fruits and Vegetables\",\"Household\",\"Baking Goods\",\"Household\",\"Snack Foods\",\"Soft Drinks\",\"Frozen Foods\",\"Snack Foods\",\"Canned\",\"Frozen Foods\",\"Meat\",\"Snack Foods\",\"Soft Drinks\",\"Canned\",\"Household\",\"Soft Drinks\",\"Starchy Foods\",\"Snack Foods\",\"Starchy Foods\",\"Canned\",\"Starchy Foods\",\"Breads\",\"Fruits and Vegetables\",\"Baking Goods\",\"Frozen Foods\",\"Fruits and Vegetables\",\"Snack Foods\",\"Snack Foods\",\"Fruits and Vegetables\",\"Hard Drinks\",\"Fruits and Vegetables\",\"Health and Hygiene\",\"Frozen Foods\",\"Soft Drinks\",\"Household\",\"Dairy\",\"Baking Goods\",\"Household\",\"Seafood\",\"Others\",\"Soft Drinks\",\"Breakfast\",\"Dairy\",\"Fruits and Vegetables\",\"Fruits and Vegetables\",\"Fruits and Vegetables\",\"Frozen Foods\",\"Dairy\",\"Starchy Foods\",\"Soft Drinks\",\"Fruits and Vegetables\",\"Breads\",\"Fruits and Vegetables\",\"Health and Hygiene\",\"Snack Foods\",\"Meat\",\"Snack Foods\",\"Canned\",\"Breads\",\"Fruits and Vegetables\",\"Hard Drinks\",\"Canned\",\"Baking Goods\",\"Health and Hygiene\",\"Snack Foods\",\"Breads\",\"Baking Goods\",\"Frozen Foods\",\"Dairy\",\"Health and Hygiene\",\"Soft Drinks\",\"Frozen Foods\",\"Health and Hygiene\",\"Meat\",\"Fruits and Vegetables\",\"Frozen Foods\",\"Canned\",\"Fruits and Vegetables\",\"Frozen Foods\",\"Starchy Foods\",\"Baking Goods\",\"Snack Foods\",\"Household\",\"Fruits and Vegetables\",\"Snack Foods\",\"Others\",\"Soft Drinks\",\"Snack Foods\",\"Frozen Foods\",\"Frozen Foods\",\"Baking Goods\",\"Fruits and Vegetables\",\"Health and Hygiene\",\"Fruits and Vegetables\",\"Snack Foods\",\"Frozen Foods\",\"Soft Drinks\",\"Fruits and Vegetables\",\"Frozen Foods\",\"Hard Drinks\",\"Snack Foods\",\"Canned\",\"Frozen Foods\",\"Baking Goods\",\"Baking Goods\",\"Household\",\"Household\",\"Canned\",\"Household\",\"Snack Foods\",\"Frozen Foods\",\"Baking Goods\",\"Health and Hygiene\",\"Snack Foods\",\"Starchy Foods\",\"Soft Drinks\",\"Fruits and Vegetables\",\"Hard Drinks\",\"Frozen Foods\",\"Fruits and Vegetables\",\"Meat\",\"Baking Goods\",\"Snack Foods\",\"Frozen Foods\",\"Dairy\",\"Frozen Foods\",\"Fruits and Vegetables\",\"Meat\",\"Others\",\"Baking Goods\",\"Baking Goods\",\"Frozen Foods\",\"Breads\",\"Frozen Foods\",\"Frozen Foods\",\"Frozen Foods\",\"Snack Foods\",\"Dairy\",\"Health and Hygiene\",\"Soft Drinks\",\"Health and Hygiene\",\"Frozen Foods\",\"Dairy\",\"Household\",\"Dairy\",\"Snack Foods\",\"Household\",\"Fruits and Vegetables\",\"Household\",\"Household\",\"Snack Foods\",\"Frozen Foods\",\"Frozen Foods\",\"Canned\",\"Canned\",\"Dairy\",\"Health and Hygiene\",\"Baking Goods\",\"Household\",\"Baking Goods\",\"Breakfast\",\"Soft Drinks\",\"Frozen Foods\",\"Household\",\"Frozen Foods\",\"Household\",\"Dairy\",\"Health and Hygiene\",\"Dairy\",\"Snack Foods\",\"Snack Foods\",\"Others\",\"Canned\",\"Soft Drinks\",\"Frozen Foods\",\"Meat\",\"Soft Drinks\",\"Hard Drinks\",\"Canned\",\"Breads\",\"Household\",\"Frozen Foods\",\"Canned\",\"Household\",\"Snack Foods\",\"Baking Goods\",\"Fruits and Vegetables\",\"Soft Drinks\",\"Fruits and Vegetables\",\"Snack Foods\",\"Dairy\",\"Canned\",\"Dairy\",\"Canned\",\"Fruits and Vegetables\",\"Frozen Foods\",\"Frozen Foods\",\"Frozen Foods\",\"Canned\",\"Household\",\"Fruits and Vegetables\",\"Soft Drinks\",\"Breads\",\"Snack Foods\",\"Snack Foods\",\"Soft Drinks\",\"Soft Drinks\",\"Health and Hygiene\",\"Fruits and Vegetables\",\"Fruits and Vegetables\",\"Fruits and Vegetables\",\"Fruits and Vegetables\",\"Soft Drinks\",\"Household\",\"Fruits and Vegetables\",\"Frozen Foods\",\"Canned\",\"Meat\",\"Baking Goods\",\"Meat\",\"Starchy Foods\",\"Canned\",\"Fruits and Vegetables\",\"Baking Goods\",\"Fruits and Vegetables\",\"Dairy\",\"Seafood\",\"Frozen Foods\",\"Household\",\"Health and Hygiene\",\"Dairy\",\"Household\",\"Frozen Foods\",\"Hard Drinks\",\"Snack Foods\",\"Fruits and Vegetables\",\"Household\",\"Canned\",\"Canned\",\"Breakfast\",\"Household\",\"Snack Foods\",\"Snack Foods\",\"Baking Goods\",\"Fruits and Vegetables\",\"Canned\",\"Soft Drinks\",\"Dairy\",\"Baking Goods\",\"Snack Foods\",\"Fruits and Vegetables\",\"Fruits and Vegetables\",\"Baking Goods\",\"Snack Foods\",\"Breakfast\",\"Fruits and Vegetables\",\"Health and Hygiene\",\"Breads\",\"Soft Drinks\",\"Snack Foods\",\"Meat\",\"Household\",\"Dairy\",\"Dairy\",\"Soft Drinks\",\"Fruits and Vegetables\",\"Breads\",\"Baking Goods\",\"Canned\",\"Frozen Foods\",\"Fruits and Vegetables\",\"Canned\",\"Baking Goods\",\"Baking Goods\",\"Canned\",\"Household\",\"Others\",\"Canned\",\"Baking Goods\",\"Frozen Foods\",\"Baking Goods\",\"Baking Goods\",\"Health and Hygiene\",\"Fruits and Vegetables\",\"Frozen Foods\",\"Frozen Foods\",\"Baking Goods\",\"Meat\",\"Health and Hygiene\",\"Fruits and Vegetables\",\"Snack Foods\",\"Dairy\",\"Fruits and Vegetables\",\"Canned\",\"Frozen Foods\",\"Dairy\",\"Frozen Foods\",\"Frozen Foods\",\"Snack Foods\",\"Meat\",\"Meat\",\"Frozen Foods\",\"Baking Goods\",\"Starchy Foods\",\"Canned\",\"Baking Goods\",\"Fruits and Vegetables\",\"Fruits and Vegetables\",\"Snack Foods\",\"Fruits and Vegetables\",\"Fruits and Vegetables\",\"Canned\",\"Fruits and Vegetables\",\"Household\",\"Frozen Foods\",\"Household\",\"Canned\",\"Snack Foods\",\"Baking Goods\",\"Meat\",\"Frozen Foods\",\"Household\",\"Snack Foods\",\"Snack Foods\",\"Canned\",\"Baking Goods\",\"Starchy Foods\",\"Frozen Foods\",\"Fruits and Vegetables\",\"Snack Foods\",\"Dairy\",\"Hard Drinks\",\"Fruits and Vegetables\",\"Baking Goods\",\"Snack Foods\",\"Breads\",\"Others\",\"Fruits and Vegetables\",\"Household\",\"Snack Foods\",\"Breads\",\"Baking Goods\",\"Dairy\",\"Household\",\"Frozen Foods\",\"Fruits and Vegetables\",\"Canned\",\"Snack Foods\",\"Frozen Foods\",\"Fruits and Vegetables\",\"Household\",\"Dairy\",\"Snack Foods\",\"Health and Hygiene\",\"Frozen Foods\",\"Health and Hygiene\",\"Frozen Foods\",\"Household\",\"Dairy\",\"Fruits and Vegetables\",\"Frozen Foods\",\"Snack Foods\",\"Dairy\",\"Health and Hygiene\",\"Frozen Foods\",\"Snack Foods\",\"Household\",\"Meat\",\"Frozen Foods\",\"Household\",\"Health and Hygiene\",\"Baking Goods\",\"Canned\",\"Fruits and Vegetables\",\"Soft Drinks\",\"Fruits and Vegetables\",\"Baking Goods\",\"Household\",\"Canned\",\"Meat\",\"Meat\",\"Baking Goods\",\"Snack Foods\",\"Snack Foods\",\"Snack Foods\",\"Canned\",\"Household\",\"Meat\",\"Household\",\"Canned\",\"Dairy\",\"Snack Foods\",\"Fruits and Vegetables\",\"Meat\",\"Fruits and Vegetables\",\"Others\",\"Fruits and Vegetables\",\"Others\",\"Dairy\",\"Fruits and Vegetables\",\"Baking Goods\",\"Fruits and Vegetables\",\"Fruits and Vegetables\",\"Baking Goods\",\"Health and Hygiene\",\"Fruits and Vegetables\",\"Snack Foods\",\"Snack Foods\",\"Starchy Foods\",\"Fruits and Vegetables\",\"Frozen Foods\",\"Snack Foods\",\"Snack Foods\",\"Snack Foods\",\"Household\",\"Household\",\"Meat\",\"Meat\",\"Snack Foods\",\"Frozen Foods\",\"Canned\",\"Frozen Foods\",\"Fruits and Vegetables\",\"Household\",\"Breakfast\",\"Household\",\"Seafood\",\"Snack Foods\",\"Snack Foods\",\"Frozen Foods\",\"Fruits and Vegetables\",\"Frozen Foods\",\"Snack Foods\",\"Snack Foods\",\"Frozen Foods\",\"Soft Drinks\",\"Fruits and Vegetables\",\"Household\",\"Snack Foods\",\"Health and Hygiene\",\"Canned\",\"Household\",\"Household\",\"Frozen Foods\",\"Frozen Foods\",\"Snack Foods\",\"Hard Drinks\",\"Health and Hygiene\",\"Baking Goods\",\"Canned\",\"Health and Hygiene\",\"Snack Foods\",\"Soft Drinks\",\"Canned\",\"Fruits and Vegetables\",\"Fruits and Vegetables\",\"Snack Foods\",\"Hard Drinks\",\"Household\",\"Health and Hygiene\",\"Fruits and Vegetables\",\"Snack Foods\",\"Frozen Foods\",\"Soft Drinks\",\"Household\",\"Frozen Foods\",\"Breads\",\"Hard Drinks\",\"Dairy\",\"Frozen Foods\",\"Baking Goods\",\"Seafood\",\"Canned\",\"Fruits and Vegetables\",\"Soft Drinks\",\"Canned\",\"Fruits and Vegetables\",\"Snack Foods\",\"Snack Foods\",\"Household\",\"Soft Drinks\",\"Fruits and Vegetables\",\"Household\",\"Meat\",\"Frozen Foods\",\"Snack Foods\",\"Baking Goods\",\"Canned\",\"Frozen Foods\",\"Breads\",\"Snack Foods\",\"Dairy\",\"Snack Foods\",\"Canned\",\"Baking Goods\",\"Dairy\",\"Snack Foods\",\"Frozen Foods\",\"Frozen Foods\",\"Fruits and Vegetables\",\"Soft Drinks\",\"Frozen Foods\",\"Household\",\"Health and Hygiene\",\"Breads\",\"Health and Hygiene\",\"Canned\",\"Fruits and Vegetables\",\"Snack Foods\",\"Dairy\",\"Frozen Foods\",\"Fruits and Vegetables\",\"Fruits and Vegetables\",\"Soft Drinks\",\"Baking Goods\",\"Snack Foods\",\"Household\",\"Baking Goods\",\"Snack Foods\",\"Starchy Foods\",\"Frozen Foods\",\"Snack Foods\",\"Soft Drinks\",\"Household\",\"Baking Goods\",\"Frozen Foods\",\"Hard Drinks\",\"Canned\",\"Household\",\"Household\",\"Household\",\"Canned\",\"Canned\",\"Snack Foods\",\"Dairy\",\"Household\",\"Health and Hygiene\",\"Household\",\"Dairy\",\"Health and Hygiene\",\"Household\",\"Soft Drinks\",\"Soft Drinks\",\"Fruits and Vegetables\",\"Household\",\"Breads\",\"Fruits and Vegetables\",\"Hard Drinks\",\"Snack Foods\",\"Frozen Foods\",\"Household\",\"Fruits and Vegetables\",\"Household\",\"Fruits and Vegetables\",\"Snack Foods\",\"Canned\",\"Snack Foods\",\"Dairy\",\"Fruits and Vegetables\",\"Breads\",\"Snack Foods\",\"Soft Drinks\",\"Meat\",\"Frozen Foods\",\"Baking Goods\",\"Household\",\"Starchy Foods\",\"Soft Drinks\",\"Meat\",\"Household\",\"Starchy Foods\",\"Snack Foods\",\"Meat\",\"Meat\",\"Fruits and Vegetables\",\"Fruits and Vegetables\",\"Breads\",\"Household\",\"Baking Goods\",\"Canned\",\"Snack Foods\",\"Household\",\"Baking Goods\",\"Household\",\"Canned\",\"Frozen Foods\",\"Frozen Foods\",\"Household\",\"Dairy\",\"Seafood\",\"Household\",\"Fruits and Vegetables\",\"Fruits and Vegetables\",\"Soft Drinks\",\"Dairy\",\"Household\",\"Fruits and Vegetables\",\"Health and Hygiene\",\"Dairy\",\"Health and Hygiene\",\"Frozen Foods\",\"Household\",\"Fruits and Vegetables\",\"Snack Foods\",\"Soft Drinks\",\"Canned\",\"Soft Drinks\",\"Household\",\"Household\",\"Others\",\"Frozen Foods\",\"Soft Drinks\",\"Household\",\"Starchy Foods\",\"Canned\",\"Household\",\"Baking Goods\",\"Health and Hygiene\",\"Household\",\"Frozen Foods\",\"Hard Drinks\",\"Baking Goods\",\"Canned\",\"Baking Goods\",\"Health and Hygiene\",\"Dairy\",\"Dairy\",\"Fruits and Vegetables\",\"Fruits and Vegetables\",\"Household\",\"Baking Goods\",\"Fruits and Vegetables\",\"Fruits and Vegetables\",\"Fruits and Vegetables\",\"Health and Hygiene\",\"Baking Goods\",\"Frozen Foods\",\"Baking Goods\",\"Breads\",\"Fruits and Vegetables\",\"Household\",\"Breakfast\",\"Frozen Foods\",\"Frozen Foods\",\"Frozen Foods\",\"Health and Hygiene\",\"Frozen Foods\",\"Snack Foods\",\"Fruits and Vegetables\",\"Seafood\",\"Health and Hygiene\",\"Breakfast\",\"Snack Foods\",\"Fruits and Vegetables\",\"Fruits and Vegetables\",\"Baking Goods\",\"Frozen Foods\",\"Fruits and Vegetables\",\"Meat\",\"Fruits and Vegetables\",\"Snack Foods\",\"Fruits and Vegetables\",\"Health and Hygiene\",\"Health and Hygiene\",\"Baking Goods\",\"Baking Goods\",\"Fruits and Vegetables\",\"Soft Drinks\",\"Frozen Foods\",\"Soft Drinks\",\"Dairy\",\"Frozen Foods\",\"Meat\",\"Fruits and Vegetables\",\"Hard Drinks\",\"Health and Hygiene\",\"Snack Foods\",\"Fruits and Vegetables\",\"Baking Goods\",\"Household\",\"Household\",\"Canned\",\"Household\",\"Frozen Foods\",\"Starchy Foods\",\"Health and Hygiene\",\"Household\",\"Fruits and Vegetables\",\"Fruits and Vegetables\",\"Canned\",\"Household\",\"Dairy\",\"Canned\",\"Snack Foods\",\"Household\",\"Soft Drinks\",\"Baking Goods\",\"Meat\",\"Meat\",\"Meat\",\"Fruits and Vegetables\",\"Household\",\"Fruits and Vegetables\",\"Fruits and Vegetables\",\"Fruits and Vegetables\",\"Household\",\"Household\",\"Baking Goods\",\"Fruits and Vegetables\",\"Baking Goods\",\"Soft Drinks\",\"Fruits and Vegetables\",\"Frozen Foods\",\"Frozen Foods\",\"Canned\",\"Health and Hygiene\",\"Soft Drinks\",\"Household\",\"Dairy\",\"Fruits and Vegetables\",\"Canned\",\"Fruits and Vegetables\",\"Soft Drinks\",\"Baking Goods\",\"Snack Foods\",\"Household\",\"Fruits and Vegetables\",\"Health and Hygiene\",\"Dairy\",\"Baking Goods\",\"Frozen Foods\",\"Baking Goods\",\"Household\",\"Frozen Foods\",\"Snack Foods\",\"Snack Foods\",\"Snack Foods\",\"Others\",\"Baking Goods\",\"Frozen Foods\",\"Baking Goods\",\"Snack Foods\",\"Soft Drinks\",\"Canned\",\"Snack Foods\",\"Breads\",\"Canned\",\"Canned\",\"Baking Goods\",\"Health and Hygiene\",\"Frozen Foods\",\"Household\",\"Snack Foods\",\"Soft Drinks\",\"Snack Foods\",\"Frozen Foods\",\"Health and Hygiene\",\"Health and Hygiene\",\"Soft Drinks\",\"Snack Foods\",\"Household\",\"Fruits and Vegetables\",\"Frozen Foods\",\"Frozen Foods\",\"Soft Drinks\",\"Health and Hygiene\",\"Canned\",\"Snack Foods\",\"Dairy\",\"Frozen Foods\",\"Dairy\",\"Snack Foods\",\"Hard Drinks\",\"Dairy\",\"Canned\",\"Canned\",\"Household\",\"Canned\",\"Baking Goods\",\"Health and Hygiene\",\"Snack Foods\",\"Snack Foods\",\"Baking Goods\",\"Soft Drinks\",\"Snack Foods\",\"Frozen Foods\",\"Baking Goods\",\"Dairy\",\"Baking Goods\",\"Soft Drinks\",\"Baking Goods\",\"Hard Drinks\",\"Dairy\",\"Meat\",\"Dairy\",\"Breakfast\",\"Health and Hygiene\",\"Household\",\"Baking Goods\",\"Meat\",\"Household\",\"Snack Foods\",\"Health and Hygiene\",\"Hard Drinks\",\"Soft Drinks\",\"Starchy Foods\",\"Frozen Foods\",\"Baking Goods\",\"Soft Drinks\",\"Breads\",\"Hard Drinks\",\"Soft Drinks\",\"Meat\",\"Others\",\"Dairy\",\"Dairy\",\"Frozen Foods\",\"Household\",\"Hard Drinks\",\"Baking Goods\",\"Canned\",\"Household\",\"Snack Foods\",\"Canned\",\"Others\",\"Canned\",\"Meat\",\"Canned\",\"Fruits and Vegetables\",\"Frozen Foods\",\"Others\",\"Breakfast\",\"Frozen Foods\",\"Fruits and Vegetables\",\"Dairy\",\"Fruits and Vegetables\",\"Dairy\",\"Household\",\"Snack Foods\",\"Household\",\"Baking Goods\",\"Baking Goods\",\"Soft Drinks\",\"Meat\",\"Meat\",\"Snack Foods\",\"Dairy\",\"Health and Hygiene\",\"Meat\",\"Snack Foods\",\"Canned\",\"Starchy Foods\",\"Snack Foods\",\"Canned\",\"Frozen Foods\",\"Canned\",\"Dairy\",\"Snack Foods\",\"Hard Drinks\",\"Snack Foods\",\"Meat\",\"Hard Drinks\",\"Baking Goods\",\"Snack Foods\",\"Breads\",\"Snack Foods\",\"Fruits and Vegetables\",\"Dairy\",\"Canned\",\"Fruits and Vegetables\",\"Dairy\",\"Snack Foods\",\"Snack Foods\",\"Snack Foods\",\"Starchy Foods\",\"Frozen Foods\",\"Household\",\"Household\",\"Household\",\"Frozen Foods\",\"Meat\",\"Canned\",\"Fruits and Vegetables\",\"Fruits and Vegetables\",\"Fruits and Vegetables\",\"Frozen Foods\",\"Canned\",\"Health and Hygiene\",\"Baking Goods\",\"Baking Goods\",\"Fruits and Vegetables\",\"Snack Foods\",\"Baking Goods\",\"Health and Hygiene\",\"Canned\",\"Starchy Foods\",\"Canned\",\"Dairy\",\"Canned\",\"Health and Hygiene\",\"Household\",\"Others\",\"Frozen Foods\",\"Frozen Foods\",\"Snack Foods\",\"Frozen Foods\",\"Snack Foods\",\"Snack Foods\",\"Meat\",\"Breads\",\"Hard Drinks\",\"Meat\",\"Health and Hygiene\",\"Dairy\",\"Meat\",\"Fruits and Vegetables\",\"Household\",\"Soft Drinks\",\"Starchy Foods\",\"Snack Foods\",\"Fruits and Vegetables\",\"Soft Drinks\",\"Household\",\"Fruits and Vegetables\",\"Household\",\"Frozen Foods\",\"Hard Drinks\",\"Health and Hygiene\",\"Breads\",\"Soft Drinks\",\"Health and Hygiene\",\"Snack Foods\",\"Starchy Foods\",\"Soft Drinks\",\"Household\",\"Dairy\",\"Soft Drinks\",\"Household\",\"Canned\",\"Fruits and Vegetables\",\"Fruits and Vegetables\",\"Fruits and Vegetables\",\"Fruits and Vegetables\",\"Fruits and Vegetables\",\"Starchy Foods\",\"Snack Foods\",\"Dairy\",\"Canned\",\"Snack Foods\",\"Snack Foods\",\"Breakfast\",\"Fruits and Vegetables\",\"Frozen Foods\",\"Household\",\"Fruits and Vegetables\",\"Fruits and Vegetables\",\"Soft Drinks\",\"Soft Drinks\",\"Fruits and Vegetables\",\"Fruits and Vegetables\",\"Fruits and Vegetables\",\"Others\",\"Snack Foods\",\"Meat\",\"Fruits and Vegetables\",\"Starchy Foods\",\"Baking Goods\",\"Fruits and Vegetables\",\"Snack Foods\",\"Breads\",\"Snack Foods\",\"Health and Hygiene\",\"Fruits and Vegetables\",\"Household\",\"Soft Drinks\",\"Snack Foods\",\"Frozen Foods\",\"Canned\",\"Fruits and Vegetables\",\"Frozen Foods\",\"Snack Foods\",\"Snack Foods\",\"Health and Hygiene\",\"Frozen Foods\",\"Fruits and Vegetables\",\"Canned\",\"Frozen Foods\",\"Baking Goods\",\"Fruits and Vegetables\",\"Frozen Foods\",\"Household\",\"Meat\",\"Meat\",\"Frozen Foods\",\"Baking Goods\",\"Breads\",\"Frozen Foods\",\"Breads\",\"Household\",\"Snack Foods\",\"Dairy\",\"Soft Drinks\",\"Meat\",\"Snack Foods\",\"Health and Hygiene\",\"Health and Hygiene\",\"Fruits and Vegetables\",\"Household\",\"Frozen Foods\",\"Fruits and Vegetables\",\"Health and Hygiene\",\"Soft Drinks\",\"Meat\",\"Canned\",\"Baking Goods\",\"Fruits and Vegetables\",\"Snack Foods\",\"Frozen Foods\",\"Meat\",\"Household\",\"Household\",\"Snack Foods\",\"Snack Foods\",\"Baking Goods\",\"Household\",\"Dairy\",\"Health and Hygiene\",\"Fruits and Vegetables\",\"Canned\",\"Frozen Foods\",\"Snack Foods\",\"Snack Foods\",\"Snack Foods\",\"Dairy\",\"Dairy\",\"Snack Foods\",\"Fruits and Vegetables\",\"Snack Foods\",\"Soft Drinks\",\"Baking Goods\",\"Health and Hygiene\",\"Baking Goods\",\"Health and Hygiene\",\"Fruits and Vegetables\",\"Household\",\"Snack Foods\",\"Canned\",\"Household\",\"Snack Foods\",\"Canned\",\"Household\",\"Others\",\"Hard Drinks\",\"Frozen Foods\",\"Frozen Foods\",\"Others\",\"Seafood\",\"Dairy\",\"Snack Foods\",\"Fruits and Vegetables\",\"Health and Hygiene\",\"Fruits and Vegetables\",\"Household\",\"Snack Foods\",\"Snack Foods\",\"Health and Hygiene\",\"Fruits and Vegetables\",\"Starchy Foods\",\"Frozen Foods\",\"Snack Foods\",\"Dairy\",\"Snack Foods\",\"Fruits and Vegetables\",\"Baking Goods\",\"Baking Goods\",\"Seafood\",\"Baking Goods\",\"Frozen Foods\",\"Household\",\"Canned\",\"Dairy\",\"Breads\",\"Household\",\"Baking Goods\",\"Soft Drinks\",\"Fruits and Vegetables\",\"Health and Hygiene\",\"Household\",\"Others\",\"Fruits and Vegetables\",\"Household\",\"Breads\",\"Fruits and Vegetables\",\"Canned\",\"Baking Goods\",\"Frozen Foods\",\"Snack Foods\",\"Household\",\"Frozen Foods\",\"Household\",\"Fruits and Vegetables\",\"Fruits and Vegetables\",\"Frozen Foods\",\"Snack Foods\",\"Breads\",\"Soft Drinks\",\"Meat\",\"Baking Goods\",\"Canned\",\"Frozen Foods\",\"Canned\",\"Health and Hygiene\",\"Fruits and Vegetables\",\"Baking Goods\",\"Household\",\"Hard Drinks\",\"Frozen Foods\",\"Snack Foods\",\"Dairy\",\"Soft Drinks\",\"Soft Drinks\",\"Breakfast\",\"Soft Drinks\",\"Household\",\"Starchy Foods\",\"Fruits and Vegetables\",\"Fruits and Vegetables\",\"Fruits and Vegetables\",\"Frozen Foods\",\"Frozen Foods\",\"Canned\",\"Fruits and Vegetables\",\"Household\",\"Household\",\"Frozen Foods\",\"Frozen Foods\",\"Fruits and Vegetables\",\"Fruits and Vegetables\",\"Fruits and Vegetables\",\"Household\",\"Fruits and Vegetables\",\"Meat\",\"Canned\",\"Soft Drinks\",\"Frozen Foods\",\"Meat\",\"Dairy\",\"Baking Goods\",\"Canned\",\"Dairy\",\"Baking Goods\",\"Baking Goods\",\"Seafood\",\"Baking Goods\",\"Snack Foods\",\"Baking Goods\",\"Health and Hygiene\",\"Baking Goods\",\"Meat\",\"Meat\",\"Breads\",\"Frozen Foods\",\"Fruits and Vegetables\",\"Baking Goods\",\"Household\",\"Baking Goods\",\"Household\",\"Breads\",\"Dairy\",\"Health and Hygiene\",\"Health and Hygiene\",\"Household\",\"Hard Drinks\",\"Hard Drinks\",\"Breakfast\",\"Snack Foods\",\"Dairy\",\"Meat\",\"Fruits and Vegetables\",\"Meat\",\"Baking Goods\",\"Snack Foods\",\"Breakfast\",\"Dairy\",\"Household\",\"Snack Foods\",\"Soft Drinks\",\"Health and Hygiene\",\"Canned\",\"Snack Foods\",\"Household\",\"Dairy\",\"Others\",\"Fruits and Vegetables\",\"Frozen Foods\",\"Canned\",\"Snack Foods\",\"Meat\",\"Canned\",\"Fruits and Vegetables\",\"Fruits and Vegetables\",\"Fruits and Vegetables\",\"Baking Goods\",\"Dairy\",\"Canned\",\"Snack Foods\",\"Canned\",\"Dairy\",\"Snack Foods\",\"Dairy\",\"Canned\",\"Snack Foods\",\"Dairy\",\"Meat\",\"Dairy\",\"Hard Drinks\",\"Fruits and Vegetables\",\"Health and Hygiene\",\"Household\",\"Household\",\"Meat\",\"Frozen Foods\",\"Household\",\"Fruits and Vegetables\",\"Fruits and Vegetables\",\"Health and Hygiene\",\"Fruits and Vegetables\",\"Frozen Foods\",\"Fruits and Vegetables\",\"Fruits and Vegetables\",\"Dairy\",\"Hard Drinks\",\"Snack Foods\",\"Snack Foods\",\"Meat\",\"Snack Foods\",\"Health and Hygiene\",\"Health and Hygiene\",\"Dairy\",\"Health and Hygiene\",\"Household\",\"Snack Foods\",\"Dairy\",\"Frozen Foods\",\"Fruits and Vegetables\",\"Snack Foods\",\"Health and Hygiene\",\"Fruits and Vegetables\",\"Snack Foods\",\"Baking Goods\",\"Frozen Foods\",\"Snack Foods\",\"Snack Foods\",\"Baking Goods\",\"Meat\",\"Soft Drinks\",\"Snack Foods\",\"Household\",\"Frozen Foods\",\"Snack Foods\",\"Meat\",\"Household\",\"Canned\",\"Baking Goods\",\"Dairy\",\"Frozen Foods\",\"Household\",\"Canned\",\"Canned\",\"Soft Drinks\",\"Fruits and Vegetables\",\"Canned\",\"Canned\",\"Dairy\",\"Canned\",\"Health and Hygiene\",\"Snack Foods\",\"Snack Foods\",\"Snack Foods\",\"Canned\",\"Breads\",\"Dairy\",\"Canned\",\"Household\",\"Baking Goods\",\"Dairy\",\"Snack Foods\",\"Baking Goods\",\"Household\",\"Breads\",\"Health and Hygiene\",\"Canned\",\"Dairy\",\"Soft Drinks\",\"Frozen Foods\",\"Breakfast\",\"Frozen Foods\",\"Meat\",\"Fruits and Vegetables\",\"Dairy\",\"Frozen Foods\",\"Soft Drinks\",\"Fruits and Vegetables\",\"Hard Drinks\",\"Dairy\",\"Breakfast\",\"Others\",\"Fruits and Vegetables\",\"Fruits and Vegetables\",\"Snack Foods\",\"Dairy\",\"Household\",\"Fruits and Vegetables\",\"Dairy\",\"Fruits and Vegetables\",\"Frozen Foods\",\"Breads\",\"Dairy\",\"Frozen Foods\",\"Health and Hygiene\",\"Fruits and Vegetables\",\"Frozen Foods\",\"Meat\",\"Snack Foods\",\"Others\",\"Hard Drinks\",\"Fruits and Vegetables\",\"Snack Foods\",\"Snack Foods\",\"Breakfast\",\"Snack Foods\",\"Starchy Foods\",\"Fruits and Vegetables\",\"Breads\",\"Fruits and Vegetables\",\"Fruits and Vegetables\",\"Starchy Foods\",\"Dairy\",\"Household\",\"Meat\",\"Snack Foods\",\"Others\",\"Soft Drinks\",\"Dairy\",\"Baking Goods\",\"Dairy\",\"Fruits and Vegetables\",\"Health and Hygiene\",\"Dairy\",\"Frozen Foods\",\"Canned\",\"Breakfast\",\"Baking Goods\",\"Health and Hygiene\",\"Dairy\",\"Soft Drinks\",\"Fruits and Vegetables\",\"Household\",\"Household\",\"Frozen Foods\",\"Fruits and Vegetables\",\"Health and Hygiene\",\"Soft Drinks\",\"Soft Drinks\",\"Meat\",\"Hard Drinks\",\"Fruits and Vegetables\",\"Breads\",\"Fruits and Vegetables\",\"Baking Goods\",\"Soft Drinks\",\"Dairy\",\"Snack Foods\",\"Canned\",\"Fruits and Vegetables\",\"Hard Drinks\",\"Soft Drinks\",\"Dairy\",\"Household\",\"Canned\",\"Hard Drinks\",\"Fruits and Vegetables\",\"Snack Foods\",\"Household\",\"Snack Foods\",\"Health and Hygiene\",\"Snack Foods\",\"Hard Drinks\",\"Canned\",\"Snack Foods\",\"Frozen Foods\",\"Snack Foods\",\"Frozen Foods\",\"Snack Foods\",\"Breads\",\"Canned\",\"Fruits and Vegetables\",\"Canned\",\"Household\",\"Health and Hygiene\",\"Household\",\"Canned\",\"Hard Drinks\",\"Snack Foods\",\"Frozen Foods\",\"Breads\",\"Fruits and Vegetables\",\"Household\",\"Fruits and Vegetables\",\"Frozen Foods\",\"Meat\",\"Frozen Foods\",\"Baking Goods\",\"Fruits and Vegetables\",\"Household\",\"Health and Hygiene\",\"Breads\",\"Baking Goods\",\"Baking Goods\",\"Breads\",\"Hard Drinks\",\"Dairy\",\"Baking Goods\",\"Snack Foods\",\"Frozen Foods\",\"Frozen Foods\",\"Frozen Foods\",\"Snack Foods\",\"Dairy\",\"Frozen Foods\",\"Baking Goods\",\"Snack Foods\",\"Frozen Foods\",\"Breads\",\"Frozen Foods\",\"Snack Foods\",\"Starchy Foods\",\"Fruits and Vegetables\",\"Fruits and Vegetables\",\"Dairy\",\"Fruits and Vegetables\",\"Meat\",\"Fruits and Vegetables\",\"Meat\",\"Hard Drinks\",\"Others\",\"Health and Hygiene\",\"Health and Hygiene\",\"Canned\",\"Fruits and Vegetables\",\"Household\",\"Snack Foods\",\"Canned\",\"Household\",\"Dairy\",\"Dairy\",\"Starchy Foods\",\"Health and Hygiene\",\"Frozen Foods\",\"Dairy\",\"Household\",\"Meat\",\"Household\",\"Soft Drinks\",\"Breads\",\"Canned\",\"Baking Goods\",\"Fruits and Vegetables\",\"Dairy\",\"Frozen Foods\",\"Soft Drinks\",\"Snack Foods\",\"Seafood\",\"Meat\",\"Dairy\",\"Starchy Foods\",\"Frozen Foods\",\"Frozen Foods\",\"Frozen Foods\",\"Hard Drinks\",\"Snack Foods\",\"Snack Foods\",\"Household\",\"Canned\",\"Frozen Foods\",\"Canned\",\"Hard Drinks\",\"Snack Foods\",\"Household\",\"Household\",\"Baking Goods\",\"Canned\",\"Breads\",\"Fruits and Vegetables\",\"Canned\",\"Snack Foods\",\"Dairy\",\"Breakfast\",\"Health and Hygiene\",\"Frozen Foods\",\"Fruits and Vegetables\",\"Household\",\"Hard Drinks\",\"Canned\",\"Dairy\",\"Frozen Foods\",\"Snack Foods\",\"Household\",\"Canned\",\"Meat\",\"Snack Foods\",\"Seafood\",\"Fruits and Vegetables\",\"Dairy\",\"Snack Foods\",\"Household\",\"Meat\",\"Fruits and Vegetables\",\"Frozen Foods\",\"Dairy\",\"Fruits and Vegetables\",\"Canned\",\"Hard Drinks\",\"Soft Drinks\",\"Breads\",\"Snack Foods\",\"Household\",\"Dairy\",\"Fruits and Vegetables\",\"Snack Foods\",\"Hard Drinks\",\"Snack Foods\",\"Meat\",\"Canned\",\"Dairy\",\"Snack Foods\",\"Meat\",\"Household\",\"Others\",\"Soft Drinks\",\"Fruits and Vegetables\",\"Others\",\"Snack Foods\",\"Snack Foods\",\"Household\",\"Meat\",\"Frozen Foods\",\"Meat\",\"Others\",\"Fruits and Vegetables\",\"Health and Hygiene\",\"Others\",\"Canned\",\"Breads\",\"Snack Foods\",\"Baking Goods\",\"Fruits and Vegetables\",\"Others\",\"Canned\",\"Household\",\"Household\",\"Household\",\"Baking Goods\",\"Seafood\",\"Soft Drinks\",\"Soft Drinks\",\"Household\",\"Dairy\",\"Soft Drinks\",\"Health and Hygiene\",\"Fruits and Vegetables\",\"Soft Drinks\",\"Frozen Foods\",\"Breakfast\",\"Soft Drinks\",\"Household\",\"Household\",\"Baking Goods\",\"Frozen Foods\",\"Fruits and Vegetables\",\"Household\",\"Soft Drinks\",\"Soft Drinks\",\"Fruits and Vegetables\",\"Hard Drinks\",\"Others\",\"Snack Foods\",\"Snack Foods\",\"Baking Goods\",\"Canned\",\"Baking Goods\",\"Fruits and Vegetables\",\"Soft Drinks\",\"Breads\",\"Canned\",\"Frozen Foods\",\"Baking Goods\",\"Dairy\",\"Fruits and Vegetables\",\"Fruits and Vegetables\",\"Canned\",\"Breads\",\"Snack Foods\",\"Soft Drinks\",\"Household\",\"Dairy\",\"Household\",\"Baking Goods\",\"Fruits and Vegetables\",\"Fruits and Vegetables\",\"Meat\",\"Canned\",\"Soft Drinks\",\"Snack Foods\",\"Hard Drinks\",\"Health and Hygiene\",\"Frozen Foods\",\"Hard Drinks\",\"Snack Foods\",\"Frozen Foods\",\"Snack Foods\",\"Snack Foods\",\"Soft Drinks\",\"Dairy\",\"Snack Foods\",\"Baking Goods\",\"Snack Foods\",\"Frozen Foods\",\"Fruits and Vegetables\",\"Dairy\",\"Hard Drinks\",\"Fruits and Vegetables\",\"Baking Goods\",\"Others\",\"Health and Hygiene\",\"Frozen Foods\",\"Household\",\"Fruits and Vegetables\",\"Starchy Foods\",\"Fruits and Vegetables\",\"Health and Hygiene\",\"Fruits and Vegetables\",\"Frozen Foods\",\"Health and Hygiene\",\"Breakfast\",\"Others\",\"Dairy\",\"Fruits and Vegetables\",\"Canned\",\"Baking Goods\",\"Fruits and Vegetables\",\"Dairy\",\"Canned\",\"Frozen Foods\",\"Household\",\"Canned\",\"Frozen Foods\",\"Household\",\"Health and Hygiene\",\"Canned\",\"Fruits and Vegetables\",\"Frozen Foods\",\"Household\",\"Frozen Foods\",\"Frozen Foods\",\"Hard Drinks\",\"Fruits and Vegetables\",\"Canned\",\"Snack Foods\",\"Household\",\"Dairy\",\"Snack Foods\",\"Starchy Foods\",\"Soft Drinks\",\"Fruits and Vegetables\",\"Soft Drinks\",\"Breads\",\"Soft Drinks\",\"Meat\",\"Snack Foods\",\"Meat\",\"Baking Goods\",\"Snack Foods\",\"Snack Foods\",\"Frozen Foods\",\"Household\",\"Health and Hygiene\",\"Breakfast\",\"Frozen Foods\",\"Health and Hygiene\",\"Fruits and Vegetables\",\"Breads\",\"Fruits and Vegetables\",\"Snack Foods\",\"Fruits and Vegetables\",\"Fruits and Vegetables\",\"Household\",\"Breads\",\"Frozen Foods\",\"Baking Goods\",\"Health and Hygiene\",\"Baking Goods\",\"Meat\",\"Breads\",\"Canned\",\"Baking Goods\",\"Breads\",\"Canned\",\"Household\",\"Hard Drinks\",\"Canned\",\"Household\",\"Hard Drinks\",\"Health and Hygiene\",\"Baking Goods\",\"Frozen Foods\",\"Frozen Foods\",\"Breads\",\"Breads\",\"Meat\",\"Baking Goods\",\"Fruits and Vegetables\",\"Snack Foods\",\"Baking Goods\",\"Snack Foods\",\"Frozen Foods\",\"Hard Drinks\",\"Baking Goods\",\"Health and Hygiene\",\"Soft Drinks\",\"Snack Foods\",\"Snack Foods\",\"Frozen Foods\",\"Soft Drinks\",\"Household\",\"Canned\",\"Baking Goods\",\"Soft Drinks\",\"Fruits and Vegetables\",\"Fruits and Vegetables\",\"Dairy\",\"Fruits and Vegetables\",\"Canned\",\"Fruits and Vegetables\",\"Dairy\",\"Household\",\"Hard Drinks\",\"Soft Drinks\",\"Meat\",\"Frozen Foods\",\"Fruits and Vegetables\",\"Hard Drinks\",\"Starchy Foods\",\"Snack Foods\",\"Health and Hygiene\",\"Household\",\"Fruits and Vegetables\",\"Baking Goods\",\"Dairy\",\"Snack Foods\",\"Canned\",\"Frozen Foods\",\"Canned\",\"Snack Foods\",\"Canned\",\"Dairy\",\"Meat\",\"Baking Goods\",\"Household\",\"Snack Foods\",\"Fruits and Vegetables\",\"Baking Goods\",\"Canned\",\"Health and Hygiene\",\"Breakfast\",\"Fruits and Vegetables\",\"Snack Foods\",\"Health and Hygiene\",\"Snack Foods\",\"Meat\",\"Soft Drinks\",\"Canned\",\"Snack Foods\",\"Fruits and Vegetables\",\"Snack Foods\",\"Snack Foods\",\"Dairy\",\"Snack Foods\",\"Hard Drinks\",\"Household\",\"Canned\",\"Snack Foods\",\"Snack Foods\",\"Fruits and Vegetables\",\"Baking Goods\",\"Breads\",\"Baking Goods\",\"Dairy\",\"Baking Goods\",\"Health and Hygiene\",\"Snack Foods\",\"Canned\",\"Household\",\"Baking Goods\",\"Baking Goods\",\"Dairy\",\"Snack Foods\",\"Snack Foods\",\"Household\",\"Frozen Foods\",\"Baking Goods\",\"Canned\",\"Frozen Foods\",\"Meat\",\"Dairy\",\"Breads\",\"Fruits and Vegetables\",\"Snack Foods\",\"Dairy\",\"Baking Goods\",\"Canned\",\"Snack Foods\",\"Fruits and Vegetables\",\"Others\",\"Baking Goods\",\"Household\",\"Baking Goods\",\"Dairy\",\"Baking Goods\",\"Household\",\"Fruits and Vegetables\",\"Snack Foods\",\"Frozen Foods\",\"Frozen Foods\",\"Household\",\"Frozen Foods\",\"Fruits and Vegetables\",\"Fruits and Vegetables\",\"Dairy\",\"Baking Goods\",\"Household\",\"Household\",\"Snack Foods\",\"Fruits and Vegetables\",\"Snack Foods\",\"Fruits and Vegetables\",\"Health and Hygiene\",\"Frozen Foods\",\"Snack Foods\",\"Fruits and Vegetables\",\"Dairy\",\"Fruits and Vegetables\",\"Others\",\"Fruits and Vegetables\",\"Fruits and Vegetables\",\"Others\",\"Dairy\",\"Baking Goods\",\"Breads\",\"Starchy Foods\",\"Canned\",\"Household\",\"Health and Hygiene\",\"Breads\",\"Baking Goods\",\"Snack Foods\",\"Meat\",\"Meat\",\"Seafood\",\"Frozen Foods\",\"Canned\",\"Meat\",\"Dairy\",\"Frozen Foods\",\"Canned\",\"Baking Goods\",\"Baking Goods\",\"Breakfast\",\"Dairy\",\"Others\",\"Dairy\",\"Meat\",\"Snack Foods\",\"Canned\",\"Snack Foods\",\"Fruits and Vegetables\",\"Hard Drinks\",\"Baking Goods\",\"Household\",\"Frozen Foods\",\"Baking Goods\",\"Snack Foods\",\"Fruits and Vegetables\",\"Household\",\"Dairy\",\"Health and Hygiene\",\"Snack Foods\",\"Canned\",\"Breads\",\"Breakfast\",\"Canned\",\"Hard Drinks\",\"Household\",\"Snack Foods\",\"Health and Hygiene\",\"Canned\",\"Fruits and Vegetables\",\"Canned\",\"Canned\",\"Meat\",\"Fruits and Vegetables\",\"Hard Drinks\",\"Frozen Foods\",\"Frozen Foods\",\"Meat\",\"Snack Foods\",\"Meat\",\"Dairy\",\"Snack Foods\",\"Snack Foods\",\"Snack Foods\",\"Fruits and Vegetables\",\"Frozen Foods\",\"Dairy\",\"Fruits and Vegetables\",\"Others\",\"Household\",\"Fruits and Vegetables\",\"Dairy\",\"Frozen Foods\",\"Snack Foods\",\"Health and Hygiene\",\"Household\",\"Household\",\"Snack Foods\",\"Snack Foods\",\"Frozen Foods\",\"Canned\",\"Household\",\"Snack Foods\",\"Seafood\",\"Fruits and Vegetables\",\"Fruits and Vegetables\",\"Fruits and Vegetables\",\"Soft Drinks\",\"Snack Foods\",\"Snack Foods\",\"Snack Foods\",\"Household\",\"Frozen Foods\",\"Fruits and Vegetables\",\"Snack Foods\",\"Meat\",\"Canned\",\"Health and Hygiene\",\"Health and Hygiene\",\"Baking Goods\",\"Breads\",\"Canned\",\"Household\",\"Canned\",\"Soft Drinks\",\"Breakfast\",\"Snack Foods\",\"Seafood\",\"Fruits and Vegetables\",\"Snack Foods\",\"Fruits and Vegetables\",\"Soft Drinks\",\"Others\",\"Snack Foods\",\"Snack Foods\",\"Health and Hygiene\",\"Dairy\",\"Snack Foods\",\"Dairy\",\"Canned\",\"Fruits and Vegetables\",\"Snack Foods\",\"Household\",\"Breads\",\"Health and Hygiene\",\"Dairy\",\"Household\",\"Health and Hygiene\",\"Hard Drinks\",\"Soft Drinks\",\"Household\",\"Dairy\",\"Household\",\"Fruits and Vegetables\",\"Starchy Foods\",\"Frozen Foods\",\"Baking Goods\",\"Dairy\",\"Household\",\"Household\",\"Fruits and Vegetables\",\"Seafood\",\"Soft Drinks\",\"Starchy Foods\",\"Dairy\",\"Fruits and Vegetables\",\"Frozen Foods\",\"Canned\",\"Breads\",\"Health and Hygiene\",\"Others\",\"Dairy\",\"Frozen Foods\",\"Snack Foods\",\"Dairy\",\"Fruits and Vegetables\",\"Meat\",\"Household\",\"Dairy\",\"Dairy\",\"Snack Foods\",\"Fruits and Vegetables\",\"Health and Hygiene\",\"Canned\",\"Dairy\",\"Baking Goods\",\"Frozen Foods\",\"Canned\",\"Snack Foods\",\"Hard Drinks\",\"Household\",\"Fruits and Vegetables\",\"Soft Drinks\",\"Fruits and Vegetables\",\"Household\",\"Starchy Foods\",\"Frozen Foods\",\"Baking Goods\",\"Household\",\"Household\",\"Snack Foods\",\"Fruits and Vegetables\",\"Snack Foods\",\"Canned\",\"Soft Drinks\",\"Fruits and Vegetables\",\"Starchy Foods\",\"Canned\",\"Soft Drinks\",\"Dairy\",\"Baking Goods\",\"Snack Foods\",\"Meat\",\"Meat\",\"Health and Hygiene\",\"Health and Hygiene\",\"Snack Foods\",\"Soft Drinks\",\"Snack Foods\",\"Canned\",\"Snack Foods\",\"Baking Goods\",\"Snack Foods\",\"Frozen Foods\",\"Fruits and Vegetables\",\"Fruits and Vegetables\",\"Frozen Foods\",\"Baking Goods\",\"Dairy\",\"Fruits and Vegetables\",\"Fruits and Vegetables\",\"Hard Drinks\",\"Frozen Foods\",\"Household\",\"Breads\",\"Others\",\"Frozen Foods\",\"Household\",\"Baking Goods\",\"Baking Goods\",\"Fruits and Vegetables\",\"Frozen Foods\",\"Breads\",\"Fruits and Vegetables\",\"Fruits and Vegetables\",\"Snack Foods\",\"Canned\",\"Health and Hygiene\",\"Soft Drinks\",\"Dairy\",\"Health and Hygiene\",\"Soft Drinks\",\"Dairy\",\"Canned\",\"Snack Foods\",\"Fruits and Vegetables\",\"Frozen Foods\",\"Breads\",\"Household\",\"Snack Foods\",\"Fruits and Vegetables\",\"Snack Foods\",\"Fruits and Vegetables\",\"Household\",\"Starchy Foods\",\"Snack Foods\",\"Hard Drinks\",\"Canned\",\"Household\",\"Household\",\"Canned\",\"Snack Foods\",\"Fruits and Vegetables\",\"Health and Hygiene\",\"Baking Goods\",\"Dairy\",\"Health and Hygiene\",\"Fruits and Vegetables\",\"Frozen Foods\",\"Baking Goods\",\"Snack Foods\",\"Household\",\"Snack Foods\",\"Fruits and Vegetables\",\"Dairy\",\"Frozen Foods\",\"Meat\",\"Canned\",\"Baking Goods\",\"Starchy Foods\",\"Snack Foods\",\"Soft Drinks\",\"Snack Foods\",\"Health and Hygiene\",\"Snack Foods\",\"Fruits and Vegetables\",\"Snack Foods\",\"Seafood\",\"Starchy Foods\",\"Dairy\",\"Snack Foods\",\"Health and Hygiene\",\"Snack Foods\",\"Fruits and Vegetables\",\"Canned\",\"Frozen Foods\",\"Meat\",\"Baking Goods\",\"Breakfast\",\"Snack Foods\",\"Canned\",\"Snack Foods\",\"Snack Foods\",\"Dairy\",\"Frozen Foods\",\"Frozen Foods\",\"Household\",\"Meat\",\"Snack Foods\",\"Snack Foods\",\"Household\",\"Frozen Foods\",\"Health and Hygiene\",\"Dairy\",\"Soft Drinks\",\"Frozen Foods\",\"Frozen Foods\",\"Dairy\",\"Frozen Foods\",\"Household\",\"Soft Drinks\",\"Household\",\"Dairy\",\"Soft Drinks\",\"Frozen Foods\",\"Frozen Foods\",\"Frozen Foods\",\"Frozen Foods\",\"Dairy\",\"Baking Goods\",\"Snack Foods\",\"Household\",\"Household\",\"Canned\",\"Fruits and Vegetables\",\"Starchy Foods\",\"Snack Foods\",\"Household\",\"Fruits and Vegetables\",\"Household\",\"Household\",\"Canned\",\"Frozen Foods\",\"Household\",\"Soft Drinks\",\"Canned\",\"Dairy\",\"Health and Hygiene\",\"Fruits and Vegetables\",\"Fruits and Vegetables\",\"Fruits and Vegetables\",\"Snack Foods\",\"Fruits and Vegetables\",\"Fruits and Vegetables\",\"Baking Goods\",\"Hard Drinks\",\"Household\",\"Health and Hygiene\",\"Household\",\"Snack Foods\",\"Household\",\"Frozen Foods\",\"Fruits and Vegetables\",\"Breads\",\"Canned\",\"Fruits and Vegetables\",\"Fruits and Vegetables\",\"Frozen Foods\",\"Hard Drinks\",\"Household\",\"Fruits and Vegetables\",\"Health and Hygiene\",\"Fruits and Vegetables\",\"Health and Hygiene\",\"Household\",\"Household\",\"Dairy\",\"Fruits and Vegetables\",\"Soft Drinks\",\"Breads\",\"Dairy\",\"Meat\",\"Starchy Foods\",\"Health and Hygiene\",\"Baking Goods\",\"Baking Goods\",\"Fruits and Vegetables\",\"Baking Goods\",\"Fruits and Vegetables\",\"Household\",\"Fruits and Vegetables\",\"Baking Goods\",\"Frozen Foods\",\"Baking Goods\",\"Fruits and Vegetables\",\"Fruits and Vegetables\",\"Frozen Foods\",\"Health and Hygiene\",\"Others\",\"Meat\",\"Frozen Foods\",\"Frozen Foods\",\"Household\",\"Fruits and Vegetables\",\"Soft Drinks\",\"Snack Foods\",\"Snack Foods\",\"Baking Goods\",\"Snack Foods\",\"Snack Foods\",\"Fruits and Vegetables\",\"Fruits and Vegetables\",\"Household\",\"Snack Foods\",\"Baking Goods\",\"Baking Goods\",\"Frozen Foods\",\"Frozen Foods\",\"Meat\",\"Fruits and Vegetables\",\"Fruits and Vegetables\",\"Fruits and Vegetables\",\"Others\",\"Household\",\"Canned\",\"Frozen Foods\",\"Frozen Foods\",\"Health and Hygiene\",\"Meat\",\"Snack Foods\",\"Fruits and Vegetables\",\"Frozen Foods\",\"Frozen Foods\",\"Soft Drinks\",\"Baking Goods\",\"Health and Hygiene\",\"Snack Foods\",\"Breads\",\"Household\",\"Fruits and Vegetables\",\"Fruits and Vegetables\",\"Dairy\",\"Fruits and Vegetables\",\"Soft Drinks\",\"Household\",\"Canned\",\"Dairy\",\"Canned\",\"Canned\",\"Breads\",\"Snack Foods\",\"Dairy\",\"Canned\",\"Snack Foods\",\"Health and Hygiene\",\"Meat\",\"Canned\",\"Canned\",\"Canned\",\"Baking Goods\",\"Soft Drinks\",\"Seafood\",\"Baking Goods\",\"Fruits and Vegetables\",\"Canned\",\"Household\",\"Snack Foods\",\"Household\",\"Snack Foods\",\"Canned\",\"Snack Foods\",\"Household\",\"Snack Foods\",\"Health and Hygiene\",\"Canned\",\"Soft Drinks\",\"Soft Drinks\",\"Fruits and Vegetables\",\"Household\",\"Health and Hygiene\",\"Others\",\"Health and Hygiene\",\"Baking Goods\",\"Frozen Foods\",\"Canned\",\"Snack Foods\",\"Hard Drinks\",\"Snack Foods\",\"Health and Hygiene\",\"Dairy\",\"Others\",\"Health and Hygiene\",\"Baking Goods\",\"Dairy\",\"Dairy\",\"Health and Hygiene\",\"Fruits and Vegetables\",\"Fruits and Vegetables\",\"Starchy Foods\",\"Dairy\",\"Health and Hygiene\",\"Starchy Foods\",\"Frozen Foods\",\"Snack Foods\",\"Frozen Foods\",\"Snack Foods\",\"Fruits and Vegetables\",\"Seafood\",\"Snack Foods\",\"Soft Drinks\",\"Soft Drinks\",\"Snack Foods\",\"Dairy\",\"Dairy\",\"Fruits and Vegetables\",\"Snack Foods\",\"Household\",\"Baking Goods\",\"Soft Drinks\",\"Snack Foods\",\"Frozen Foods\",\"Household\",\"Fruits and Vegetables\",\"Breads\",\"Fruits and Vegetables\",\"Frozen Foods\",\"Dairy\",\"Dairy\",\"Canned\",\"Breads\",\"Dairy\",\"Meat\",\"Hard Drinks\",\"Fruits and Vegetables\",\"Dairy\",\"Hard Drinks\",\"Baking Goods\",\"Frozen Foods\",\"Frozen Foods\",\"Fruits and Vegetables\",\"Snack Foods\",\"Health and Hygiene\",\"Meat\",\"Household\",\"Snack Foods\",\"Meat\",\"Canned\",\"Baking Goods\",\"Health and Hygiene\",\"Soft Drinks\",\"Canned\",\"Dairy\",\"Health and Hygiene\",\"Canned\",\"Fruits and Vegetables\",\"Snack Foods\",\"Dairy\",\"Frozen Foods\",\"Snack Foods\",\"Fruits and Vegetables\",\"Frozen Foods\",\"Frozen Foods\",\"Snack Foods\",\"Soft Drinks\",\"Starchy Foods\",\"Fruits and Vegetables\",\"Fruits and Vegetables\",\"Snack Foods\",\"Meat\",\"Fruits and Vegetables\",\"Baking Goods\",\"Others\",\"Snack Foods\",\"Snack Foods\",\"Frozen Foods\",\"Snack Foods\",\"Fruits and Vegetables\",\"Soft Drinks\",\"Health and Hygiene\",\"Frozen Foods\",\"Breakfast\",\"Breads\",\"Baking Goods\",\"Soft Drinks\",\"Snack Foods\",\"Frozen Foods\",\"Canned\",\"Household\",\"Starchy Foods\",\"Snack Foods\",\"Dairy\",\"Canned\",\"Breakfast\",\"Frozen Foods\",\"Snack Foods\",\"Household\",\"Snack Foods\",\"Household\",\"Canned\",\"Hard Drinks\",\"Fruits and Vegetables\",\"Canned\",\"Health and Hygiene\",\"Dairy\",\"Snack Foods\",\"Baking Goods\",\"Starchy Foods\",\"Starchy Foods\",\"Frozen Foods\",\"Snack Foods\",\"Frozen Foods\",\"Others\",\"Frozen Foods\",\"Snack Foods\",\"Frozen Foods\",\"Hard Drinks\",\"Frozen Foods\",\"Health and Hygiene\",\"Baking Goods\",\"Frozen Foods\",\"Snack Foods\",\"Household\",\"Snack Foods\",\"Canned\",\"Breads\",\"Fruits and Vegetables\",\"Hard Drinks\",\"Canned\",\"Fruits and Vegetables\",\"Baking Goods\",\"Frozen Foods\",\"Baking Goods\",\"Baking Goods\",\"Snack Foods\",\"Frozen Foods\",\"Snack Foods\",\"Snack Foods\",\"Household\",\"Health and Hygiene\",\"Snack Foods\",\"Household\",\"Health and Hygiene\",\"Household\",\"Snack Foods\",\"Frozen Foods\",\"Meat\",\"Health and Hygiene\",\"Dairy\",\"Snack Foods\",\"Dairy\",\"Canned\",\"Dairy\",\"Dairy\",\"Household\",\"Others\",\"Frozen Foods\",\"Canned\",\"Fruits and Vegetables\",\"Dairy\",\"Soft Drinks\",\"Meat\",\"Starchy Foods\",\"Household\",\"Hard Drinks\",\"Dairy\",\"Household\",\"Baking Goods\",\"Fruits and Vegetables\",\"Health and Hygiene\",\"Breads\",\"Dairy\",\"Dairy\",\"Dairy\",\"Frozen Foods\",\"Baking Goods\",\"Fruits and Vegetables\",\"Fruits and Vegetables\",\"Fruits and Vegetables\",\"Snack Foods\",\"Meat\",\"Seafood\",\"Soft Drinks\",\"Household\",\"Fruits and Vegetables\",\"Household\",\"Health and Hygiene\",\"Frozen Foods\",\"Baking Goods\",\"Seafood\",\"Starchy Foods\",\"Dairy\",\"Dairy\",\"Baking Goods\",\"Health and Hygiene\",\"Baking Goods\",\"Snack Foods\",\"Frozen Foods\",\"Fruits and Vegetables\",\"Frozen Foods\",\"Snack Foods\",\"Snack Foods\",\"Soft Drinks\",\"Others\",\"Canned\",\"Soft Drinks\",\"Breads\",\"Household\",\"Snack Foods\",\"Meat\",\"Health and Hygiene\",\"Dairy\",\"Soft Drinks\",\"Snack Foods\",\"Health and Hygiene\",\"Health and Hygiene\",\"Household\",\"Baking Goods\",\"Baking Goods\",\"Meat\",\"Health and Hygiene\",\"Snack Foods\",\"Others\",\"Fruits and Vegetables\",\"Meat\",\"Fruits and Vegetables\",\"Dairy\",\"Baking Goods\",\"Dairy\",\"Canned\",\"Meat\",\"Soft Drinks\",\"Canned\",\"Snack Foods\",\"Others\",\"Fruits and Vegetables\",\"Canned\",\"Household\",\"Frozen Foods\",\"Baking Goods\",\"Household\",\"Fruits and Vegetables\",\"Meat\",\"Household\",\"Dairy\",\"Fruits and Vegetables\",\"Frozen Foods\",\"Breakfast\",\"Soft Drinks\",\"Fruits and Vegetables\",\"Starchy Foods\",\"Frozen Foods\",\"Household\",\"Frozen Foods\",\"Fruits and Vegetables\",\"Dairy\",\"Baking Goods\",\"Snack Foods\",\"Household\",\"Household\",\"Snack Foods\",\"Snack Foods\",\"Fruits and Vegetables\",\"Fruits and Vegetables\",\"Breads\",\"Household\",\"Dairy\",\"Snack Foods\",\"Health and Hygiene\",\"Frozen Foods\",\"Household\",\"Household\",\"Frozen Foods\",\"Canned\",\"Household\",\"Health and Hygiene\",\"Frozen Foods\",\"Baking Goods\",\"Snack Foods\",\"Fruits and Vegetables\",\"Dairy\",\"Fruits and Vegetables\",\"Household\",\"Frozen Foods\",\"Household\",\"Household\",\"Meat\",\"Breakfast\",\"Snack Foods\",\"Frozen Foods\",\"Snack Foods\",\"Canned\",\"Canned\",\"Frozen Foods\",\"Health and Hygiene\",\"Frozen Foods\",\"Snack Foods\",\"Breads\",\"Fruits and Vegetables\",\"Hard Drinks\",\"Fruits and Vegetables\",\"Dairy\",\"Snack Foods\",\"Household\",\"Health and Hygiene\",\"Fruits and Vegetables\",\"Health and Hygiene\",\"Dairy\",\"Household\",\"Fruits and Vegetables\",\"Frozen Foods\",\"Fruits and Vegetables\",\"Baking Goods\",\"Household\",\"Canned\",\"Baking Goods\",\"Fruits and Vegetables\",\"Snack Foods\",\"Breakfast\",\"Canned\",\"Canned\",\"Fruits and Vegetables\",\"Household\",\"Fruits and Vegetables\",\"Health and Hygiene\",\"Canned\",\"Soft Drinks\",\"Fruits and Vegetables\",\"Snack Foods\",\"Baking Goods\",\"Baking Goods\",\"Household\",\"Frozen Foods\",\"Frozen Foods\",\"Canned\",\"Household\",\"Breakfast\",\"Fruits and Vegetables\",\"Dairy\",\"Health and Hygiene\",\"Household\",\"Household\",\"Dairy\",\"Household\",\"Snack Foods\",\"Household\",\"Snack Foods\",\"Snack Foods\",\"Breads\",\"Frozen Foods\",\"Canned\",\"Baking Goods\",\"Household\",\"Dairy\",\"Frozen Foods\",\"Meat\",\"Household\",\"Snack Foods\",\"Frozen Foods\",\"Fruits and Vegetables\",\"Frozen Foods\",\"Soft Drinks\",\"Fruits and Vegetables\",\"Snack Foods\",\"Baking Goods\",\"Fruits and Vegetables\",\"Snack Foods\",\"Fruits and Vegetables\",\"Canned\",\"Meat\",\"Snack Foods\",\"Soft Drinks\",\"Snack Foods\",\"Soft Drinks\",\"Hard Drinks\",\"Canned\",\"Fruits and Vegetables\",\"Household\",\"Frozen Foods\",\"Frozen Foods\",\"Dairy\",\"Seafood\",\"Canned\",\"Starchy Foods\",\"Breads\",\"Household\",\"Meat\",\"Health and Hygiene\",\"Household\",\"Baking Goods\",\"Others\",\"Fruits and Vegetables\",\"Fruits and Vegetables\",\"Snack Foods\",\"Soft Drinks\",\"Fruits and Vegetables\",\"Baking Goods\",\"Dairy\",\"Fruits and Vegetables\",\"Dairy\",\"Snack Foods\",\"Canned\",\"Baking Goods\",\"Others\",\"Health and Hygiene\",\"Household\",\"Snack Foods\",\"Baking Goods\",\"Frozen Foods\",\"Frozen Foods\",\"Fruits and Vegetables\",\"Dairy\",\"Household\",\"Frozen Foods\",\"Fruits and Vegetables\",\"Meat\",\"Others\",\"Canned\",\"Soft Drinks\",\"Breakfast\",\"Fruits and Vegetables\",\"Dairy\",\"Baking Goods\",\"Household\",\"Canned\",\"Fruits and Vegetables\",\"Canned\",\"Fruits and Vegetables\",\"Frozen Foods\",\"Frozen Foods\",\"Health and Hygiene\",\"Soft Drinks\",\"Snack Foods\",\"Frozen Foods\",\"Canned\",\"Fruits and Vegetables\",\"Household\",\"Canned\",\"Frozen Foods\",\"Frozen Foods\",\"Household\",\"Breakfast\",\"Snack Foods\",\"Household\",\"Fruits and Vegetables\",\"Hard Drinks\",\"Snack Foods\",\"Fruits and Vegetables\",\"Health and Hygiene\",\"Household\",\"Household\",\"Snack Foods\",\"Household\",\"Baking Goods\",\"Household\",\"Others\",\"Health and Hygiene\",\"Household\",\"Frozen Foods\",\"Soft Drinks\",\"Meat\",\"Breads\",\"Household\",\"Snack Foods\",\"Dairy\",\"Dairy\",\"Others\",\"Snack Foods\",\"Frozen Foods\",\"Snack Foods\",\"Baking Goods\",\"Health and Hygiene\",\"Fruits and Vegetables\",\"Snack Foods\",\"Frozen Foods\",\"Dairy\",\"Soft Drinks\",\"Household\",\"Frozen Foods\",\"Starchy Foods\",\"Snack Foods\",\"Dairy\",\"Fruits and Vegetables\",\"Baking Goods\",\"Fruits and Vegetables\",\"Canned\",\"Household\",\"Soft Drinks\",\"Snack Foods\",\"Household\",\"Baking Goods\",\"Health and Hygiene\",\"Health and Hygiene\",\"Dairy\",\"Canned\",\"Household\",\"Snack Foods\",\"Meat\",\"Snack Foods\",\"Frozen Foods\",\"Meat\",\"Canned\",\"Snack Foods\",\"Baking Goods\",\"Meat\",\"Canned\",\"Soft Drinks\",\"Seafood\",\"Household\",\"Meat\",\"Meat\",\"Snack Foods\",\"Snack Foods\",\"Baking Goods\",\"Soft Drinks\",\"Baking Goods\",\"Snack Foods\",\"Fruits and Vegetables\",\"Household\",\"Snack Foods\",\"Baking Goods\",\"Frozen Foods\",\"Baking Goods\",\"Snack Foods\",\"Fruits and Vegetables\",\"Fruits and Vegetables\",\"Frozen Foods\",\"Fruits and Vegetables\",\"Fruits and Vegetables\",\"Snack Foods\",\"Dairy\",\"Dairy\",\"Dairy\",\"Household\",\"Fruits and Vegetables\",\"Hard Drinks\",\"Household\",\"Frozen Foods\",\"Health and Hygiene\",\"Household\",\"Others\",\"Frozen Foods\",\"Canned\",\"Baking Goods\",\"Canned\",\"Others\",\"Snack Foods\",\"Household\",\"Dairy\",\"Snack Foods\",\"Dairy\",\"Snack Foods\",\"Meat\",\"Frozen Foods\",\"Meat\",\"Household\",\"Fruits and Vegetables\",\"Fruits and Vegetables\",\"Fruits and Vegetables\",\"Frozen Foods\",\"Dairy\",\"Starchy Foods\",\"Snack Foods\",\"Fruits and Vegetables\",\"Meat\",\"Snack Foods\",\"Canned\",\"Fruits and Vegetables\",\"Hard Drinks\",\"Snack Foods\",\"Frozen Foods\",\"Dairy\",\"Canned\",\"Snack Foods\",\"Dairy\",\"Meat\",\"Dairy\",\"Household\",\"Snack Foods\",\"Household\",\"Meat\",\"Snack Foods\",\"Fruits and Vegetables\",\"Household\",\"Household\",\"Soft Drinks\",\"Seafood\",\"Meat\",\"Snack Foods\",\"Soft Drinks\",\"Fruits and Vegetables\",\"Fruits and Vegetables\",\"Fruits and Vegetables\",\"Soft Drinks\",\"Canned\",\"Frozen Foods\",\"Frozen Foods\",\"Canned\",\"Frozen Foods\",\"Health and Hygiene\",\"Baking Goods\",\"Snack Foods\",\"Fruits and Vegetables\",\"Canned\",\"Frozen Foods\",\"Frozen Foods\",\"Hard Drinks\",\"Baking Goods\",\"Soft Drinks\",\"Snack Foods\",\"Household\",\"Dairy\",\"Frozen Foods\",\"Seafood\",\"Canned\",\"Dairy\",\"Frozen Foods\",\"Meat\",\"Fruits and Vegetables\",\"Dairy\",\"Snack Foods\",\"Canned\",\"Fruits and Vegetables\",\"Canned\",\"Dairy\",\"Health and Hygiene\",\"Fruits and Vegetables\",\"Canned\",\"Household\",\"Canned\",\"Meat\",\"Fruits and Vegetables\",\"Starchy Foods\",\"Soft Drinks\",\"Household\",\"Canned\",\"Baking Goods\",\"Canned\",\"Fruits and Vegetables\",\"Snack Foods\",\"Frozen Foods\",\"Canned\",\"Breads\",\"Snack Foods\",\"Soft Drinks\",\"Soft Drinks\",\"Breakfast\",\"Health and Hygiene\",\"Household\",\"Fruits and Vegetables\",\"Canned\",\"Baking Goods\",\"Meat\",\"Dairy\",\"Hard Drinks\",\"Dairy\",\"Fruits and Vegetables\",\"Dairy\",\"Baking Goods\",\"Health and Hygiene\",\"Snack Foods\",\"Fruits and Vegetables\",\"Frozen Foods\",\"Baking Goods\",\"Fruits and Vegetables\",\"Health and Hygiene\",\"Fruits and Vegetables\",\"Fruits and Vegetables\",\"Canned\",\"Fruits and Vegetables\",\"Snack Foods\",\"Fruits and Vegetables\",\"Snack Foods\",\"Fruits and Vegetables\",\"Hard Drinks\",\"Health and Hygiene\",\"Baking Goods\",\"Fruits and Vegetables\",\"Canned\",\"Soft Drinks\",\"Baking Goods\",\"Dairy\",\"Health and Hygiene\",\"Snack Foods\",\"Health and Hygiene\",\"Baking Goods\",\"Household\",\"Soft Drinks\",\"Baking Goods\",\"Baking Goods\",\"Fruits and Vegetables\",\"Baking Goods\",\"Snack Foods\",\"Snack Foods\",\"Meat\",\"Frozen Foods\",\"Dairy\",\"Health and Hygiene\",\"Snack Foods\",\"Dairy\",\"Frozen Foods\",\"Household\",\"Frozen Foods\",\"Hard Drinks\",\"Soft Drinks\",\"Meat\",\"Fruits and Vegetables\",\"Health and Hygiene\",\"Dairy\",\"Snack Foods\",\"Baking Goods\",\"Breads\",\"Canned\",\"Baking Goods\",\"Health and Hygiene\",\"Household\",\"Soft Drinks\",\"Household\",\"Fruits and Vegetables\",\"Soft Drinks\",\"Meat\",\"Snack Foods\",\"Hard Drinks\",\"Meat\",\"Canned\",\"Fruits and Vegetables\",\"Health and Hygiene\",\"Soft Drinks\",\"Snack Foods\",\"Fruits and Vegetables\",\"Hard Drinks\",\"Starchy Foods\",\"Baking Goods\",\"Dairy\",\"Fruits and Vegetables\",\"Canned\",\"Snack Foods\",\"Canned\",\"Snack Foods\",\"Snack Foods\",\"Fruits and Vegetables\",\"Breads\",\"Snack Foods\",\"Meat\",\"Snack Foods\",\"Hard Drinks\",\"Frozen Foods\",\"Snack Foods\",\"Starchy Foods\",\"Baking Goods\",\"Frozen Foods\",\"Fruits and Vegetables\",\"Fruits and Vegetables\",\"Dairy\",\"Soft Drinks\",\"Snack Foods\",\"Canned\",\"Baking Goods\",\"Snack Foods\",\"Frozen Foods\",\"Baking Goods\",\"Household\",\"Dairy\",\"Fruits and Vegetables\",\"Fruits and Vegetables\",\"Frozen Foods\",\"Health and Hygiene\",\"Fruits and Vegetables\",\"Health and Hygiene\",\"Breads\",\"Baking Goods\",\"Canned\",\"Starchy Foods\",\"Snack Foods\",\"Snack Foods\",\"Baking Goods\",\"Baking Goods\",\"Fruits and Vegetables\",\"Health and Hygiene\",\"Snack Foods\",\"Meat\",\"Baking Goods\",\"Snack Foods\",\"Baking Goods\",\"Household\",\"Canned\",\"Canned\",\"Breads\",\"Health and Hygiene\",\"Hard Drinks\",\"Breakfast\",\"Snack Foods\",\"Snack Foods\",\"Baking Goods\",\"Fruits and Vegetables\",\"Health and Hygiene\",\"Canned\",\"Baking Goods\",\"Baking Goods\",\"Breakfast\",\"Soft Drinks\",\"Household\",\"Fruits and Vegetables\",\"Canned\",\"Breads\",\"Dairy\",\"Others\",\"Baking Goods\",\"Dairy\",\"Dairy\",\"Snack Foods\",\"Breakfast\",\"Canned\",\"Dairy\",\"Fruits and Vegetables\",\"Snack Foods\",\"Meat\",\"Household\",\"Snack Foods\",\"Health and Hygiene\",\"Fruits and Vegetables\",\"Canned\",\"Fruits and Vegetables\",\"Dairy\",\"Snack Foods\",\"Meat\",\"Canned\",\"Dairy\",\"Fruits and Vegetables\",\"Starchy Foods\",\"Others\",\"Fruits and Vegetables\",\"Soft Drinks\",\"Soft Drinks\",\"Household\",\"Household\",\"Household\",\"Snack Foods\",\"Household\",\"Canned\",\"Baking Goods\",\"Snack Foods\",\"Health and Hygiene\",\"Baking Goods\",\"Soft Drinks\",\"Meat\",\"Snack Foods\",\"Soft Drinks\",\"Others\",\"Starchy Foods\",\"Dairy\",\"Starchy Foods\",\"Fruits and Vegetables\",\"Canned\",\"Hard Drinks\",\"Health and Hygiene\",\"Health and Hygiene\",\"Household\",\"Dairy\",\"Baking Goods\",\"Fruits and Vegetables\",\"Canned\",\"Household\",\"Soft Drinks\",\"Fruits and Vegetables\",\"Baking Goods\",\"Fruits and Vegetables\",\"Hard Drinks\",\"Frozen Foods\",\"Snack Foods\",\"Snack Foods\",\"Meat\",\"Fruits and Vegetables\",\"Health and Hygiene\",\"Frozen Foods\",\"Frozen Foods\",\"Breads\",\"Fruits and Vegetables\",\"Snack Foods\",\"Meat\",\"Snack Foods\",\"Household\",\"Baking Goods\",\"Snack Foods\",\"Fruits and Vegetables\",\"Canned\",\"Fruits and Vegetables\",\"Dairy\",\"Frozen Foods\",\"Hard Drinks\",\"Snack Foods\",\"Snack Foods\",\"Snack Foods\",\"Fruits and Vegetables\",\"Dairy\",\"Fruits and Vegetables\",\"Fruits and Vegetables\",\"Meat\",\"Snack Foods\",\"Fruits and Vegetables\",\"Health and Hygiene\",\"Meat\",\"Snack Foods\",\"Household\",\"Health and Hygiene\",\"Hard Drinks\",\"Hard Drinks\",\"Snack Foods\",\"Canned\",\"Breads\",\"Soft Drinks\",\"Hard Drinks\",\"Breads\",\"Fruits and Vegetables\",\"Snack Foods\",\"Frozen Foods\",\"Canned\",\"Snack Foods\",\"Others\",\"Breads\",\"Fruits and Vegetables\",\"Snack Foods\",\"Canned\",\"Others\",\"Fruits and Vegetables\",\"Soft Drinks\",\"Soft Drinks\",\"Fruits and Vegetables\",\"Dairy\",\"Others\",\"Fruits and Vegetables\",\"Fruits and Vegetables\",\"Fruits and Vegetables\",\"Breads\",\"Household\",\"Soft Drinks\",\"Breads\",\"Snack Foods\",\"Household\",\"Snack Foods\",\"Baking Goods\",\"Dairy\",\"Dairy\",\"Frozen Foods\",\"Fruits and Vegetables\",\"Dairy\",\"Others\",\"Frozen Foods\",\"Household\",\"Hard Drinks\",\"Canned\",\"Soft Drinks\",\"Meat\",\"Baking Goods\",\"Frozen Foods\",\"Dairy\",\"Frozen Foods\",\"Breads\",\"Frozen Foods\",\"Fruits and Vegetables\",\"Snack Foods\",\"Snack Foods\",\"Breads\",\"Soft Drinks\",\"Others\",\"Hard Drinks\",\"Household\",\"Fruits and Vegetables\",\"Others\",\"Frozen Foods\",\"Canned\",\"Canned\",\"Canned\",\"Fruits and Vegetables\",\"Fruits and Vegetables\",\"Baking Goods\",\"Snack Foods\",\"Fruits and Vegetables\",\"Household\",\"Fruits and Vegetables\",\"Starchy Foods\",\"Health and Hygiene\",\"Health and Hygiene\",\"Baking Goods\",\"Snack Foods\",\"Hard Drinks\",\"Frozen Foods\",\"Health and Hygiene\",\"Soft Drinks\",\"Dairy\",\"Baking Goods\",\"Snack Foods\",\"Dairy\",\"Fruits and Vegetables\",\"Fruits and Vegetables\",\"Soft Drinks\",\"Household\",\"Meat\",\"Health and Hygiene\",\"Household\",\"Dairy\",\"Household\",\"Fruits and Vegetables\",\"Canned\",\"Snack Foods\",\"Frozen Foods\",\"Fruits and Vegetables\",\"Hard Drinks\",\"Baking Goods\",\"Fruits and Vegetables\",\"Health and Hygiene\",\"Snack Foods\",\"Baking Goods\",\"Soft Drinks\",\"Health and Hygiene\",\"Seafood\",\"Meat\",\"Household\",\"Meat\",\"Snack Foods\",\"Household\",\"Frozen Foods\",\"Health and Hygiene\",\"Fruits and Vegetables\",\"Canned\",\"Health and Hygiene\",\"Snack Foods\",\"Soft Drinks\",\"Snack Foods\",\"Snack Foods\",\"Baking Goods\",\"Snack Foods\",\"Fruits and Vegetables\",\"Health and Hygiene\",\"Canned\",\"Canned\",\"Household\",\"Frozen Foods\",\"Hard Drinks\",\"Baking Goods\",\"Snack Foods\",\"Starchy Foods\",\"Frozen Foods\",\"Fruits and Vegetables\",\"Snack Foods\",\"Others\",\"Baking Goods\",\"Meat\",\"Breads\",\"Dairy\",\"Baking Goods\",\"Dairy\",\"Fruits and Vegetables\",\"Breads\",\"Frozen Foods\",\"Frozen Foods\",\"Breads\",\"Household\",\"Meat\",\"Dairy\",\"Household\",\"Snack Foods\",\"Hard Drinks\",\"Dairy\",\"Meat\",\"Health and Hygiene\",\"Fruits and Vegetables\",\"Dairy\",\"Baking Goods\",\"Soft Drinks\",\"Baking Goods\",\"Fruits and Vegetables\",\"Health and Hygiene\",\"Health and Hygiene\",\"Others\",\"Fruits and Vegetables\",\"Health and Hygiene\",\"Fruits and Vegetables\",\"Others\",\"Snack Foods\",\"Canned\",\"Canned\",\"Baking Goods\",\"Fruits and Vegetables\",\"Dairy\",\"Baking Goods\",\"Frozen Foods\",\"Household\",\"Meat\",\"Soft Drinks\",\"Frozen Foods\",\"Household\",\"Breads\",\"Snack Foods\",\"Fruits and Vegetables\",\"Fruits and Vegetables\",\"Dairy\",\"Meat\",\"Fruits and Vegetables\",\"Household\",\"Baking Goods\",\"Baking Goods\",\"Snack Foods\",\"Meat\",\"Dairy\",\"Snack Foods\",\"Others\",\"Snack Foods\",\"Canned\",\"Fruits and Vegetables\",\"Frozen Foods\",\"Household\",\"Baking Goods\",\"Soft Drinks\",\"Snack Foods\",\"Fruits and Vegetables\",\"Hard Drinks\",\"Health and Hygiene\",\"Frozen Foods\",\"Others\",\"Household\",\"Snack Foods\",\"Frozen Foods\",\"Snack Foods\",\"Health and Hygiene\",\"Household\",\"Baking Goods\",\"Health and Hygiene\",\"Soft Drinks\",\"Meat\",\"Dairy\",\"Canned\",\"Health and Hygiene\",\"Baking Goods\",\"Snack Foods\",\"Fruits and Vegetables\",\"Health and Hygiene\",\"Health and Hygiene\",\"Breads\",\"Snack Foods\",\"Baking Goods\",\"Household\",\"Snack Foods\",\"Dairy\",\"Dairy\",\"Frozen Foods\",\"Snack Foods\",\"Frozen Foods\",\"Household\",\"Household\",\"Dairy\",\"Baking Goods\",\"Baking Goods\",\"Fruits and Vegetables\",\"Frozen Foods\",\"Fruits and Vegetables\",\"Snack Foods\",\"Household\",\"Dairy\",\"Snack Foods\",\"Health and Hygiene\",\"Household\",\"Household\",\"Health and Hygiene\",\"Household\",\"Fruits and Vegetables\",\"Dairy\",\"Frozen Foods\",\"Health and Hygiene\",\"Baking Goods\",\"Health and Hygiene\",\"Dairy\",\"Fruits and Vegetables\",\"Soft Drinks\",\"Snack Foods\",\"Snack Foods\",\"Fruits and Vegetables\",\"Frozen Foods\",\"Household\",\"Canned\",\"Fruits and Vegetables\",\"Starchy Foods\",\"Canned\",\"Dairy\",\"Frozen Foods\",\"Baking Goods\",\"Fruits and Vegetables\",\"Meat\",\"Snack Foods\",\"Canned\",\"Snack Foods\",\"Baking Goods\",\"Dairy\",\"Dairy\",\"Frozen Foods\",\"Snack Foods\",\"Fruits and Vegetables\",\"Frozen Foods\",\"Snack Foods\",\"Fruits and Vegetables\",\"Health and Hygiene\",\"Fruits and Vegetables\",\"Snack Foods\",\"Fruits and Vegetables\",\"Dairy\",\"Snack Foods\",\"Fruits and Vegetables\",\"Seafood\",\"Soft Drinks\",\"Fruits and Vegetables\",\"Fruits and Vegetables\",\"Dairy\",\"Health and Hygiene\",\"Canned\",\"Snack Foods\",\"Breads\",\"Household\",\"Snack Foods\",\"Hard Drinks\",\"Household\",\"Snack Foods\",\"Dairy\",\"Fruits and Vegetables\",\"Frozen Foods\",\"Dairy\",\"Snack Foods\",\"Health and Hygiene\",\"Frozen Foods\",\"Fruits and Vegetables\",\"Health and Hygiene\",\"Health and Hygiene\",\"Health and Hygiene\",\"Household\",\"Dairy\",\"Fruits and Vegetables\",\"Soft Drinks\",\"Snack Foods\",\"Canned\",\"Meat\",\"Hard Drinks\",\"Health and Hygiene\",\"Dairy\",\"Breads\",\"Household\",\"Soft Drinks\",\"Snack Foods\",\"Health and Hygiene\",\"Breads\",\"Dairy\",\"Dairy\",\"Frozen Foods\",\"Fruits and Vegetables\",\"Snack Foods\",\"Dairy\",\"Baking Goods\",\"Fruits and Vegetables\",\"Baking Goods\",\"Fruits and Vegetables\",\"Breads\",\"Dairy\",\"Baking Goods\",\"Others\",\"Frozen Foods\",\"Snack Foods\",\"Dairy\",\"Fruits and Vegetables\",\"Baking Goods\",\"Snack Foods\",\"Fruits and Vegetables\",\"Canned\",\"Snack Foods\",\"Canned\",\"Baking Goods\",\"Snack Foods\",\"Soft Drinks\",\"Baking Goods\",\"Baking Goods\",\"Frozen Foods\",\"Fruits and Vegetables\",\"Household\",\"Health and Hygiene\",\"Snack Foods\",\"Snack Foods\",\"Snack Foods\",\"Snack Foods\",\"Fruits and Vegetables\",\"Snack Foods\",\"Baking Goods\",\"Dairy\",\"Meat\",\"Frozen Foods\",\"Health and Hygiene\",\"Health and Hygiene\",\"Household\",\"Baking Goods\",\"Fruits and Vegetables\",\"Dairy\",\"Health and Hygiene\",\"Soft Drinks\",\"Breads\",\"Baking Goods\",\"Health and Hygiene\",\"Hard Drinks\",\"Health and Hygiene\",\"Breads\",\"Canned\",\"Household\",\"Dairy\",\"Household\",\"Fruits and Vegetables\",\"Snack Foods\",\"Health and Hygiene\",\"Breads\",\"Breads\",\"Hard Drinks\",\"Meat\",\"Baking Goods\",\"Baking Goods\",\"Snack Foods\",\"Frozen Foods\",\"Frozen Foods\",\"Fruits and Vegetables\",\"Frozen Foods\",\"Baking Goods\",\"Canned\",\"Household\",\"Canned\",\"Meat\",\"Meat\",\"Fruits and Vegetables\",\"Soft Drinks\",\"Baking Goods\",\"Meat\",\"Frozen Foods\",\"Dairy\",\"Frozen Foods\",\"Dairy\",\"Household\",\"Health and Hygiene\",\"Fruits and Vegetables\",\"Hard Drinks\",\"Breakfast\",\"Household\",\"Meat\",\"Hard Drinks\",\"Frozen Foods\",\"Canned\",\"Dairy\",\"Fruits and Vegetables\",\"Meat\",\"Fruits and Vegetables\",\"Dairy\",\"Fruits and Vegetables\",\"Household\",\"Frozen Foods\",\"Snack Foods\",\"Snack Foods\",\"Fruits and Vegetables\",\"Frozen Foods\",\"Household\",\"Frozen Foods\",\"Fruits and Vegetables\",\"Dairy\",\"Household\",\"Others\",\"Canned\",\"Starchy Foods\",\"Snack Foods\",\"Household\",\"Snack Foods\",\"Snack Foods\",\"Canned\",\"Canned\",\"Others\",\"Dairy\",\"Dairy\",\"Frozen Foods\",\"Snack Foods\",\"Baking Goods\",\"Baking Goods\",\"Baking Goods\",\"Meat\",\"Snack Foods\",\"Snack Foods\",\"Frozen Foods\",\"Soft Drinks\",\"Canned\",\"Health and Hygiene\",\"Health and Hygiene\",\"Snack Foods\",\"Baking Goods\",\"Health and Hygiene\",\"Dairy\",\"Snack Foods\",\"Dairy\",\"Household\",\"Meat\",\"Baking Goods\",\"Dairy\",\"Household\",\"Household\",\"Dairy\",\"Frozen Foods\",\"Snack Foods\",\"Fruits and Vegetables\",\"Baking Goods\",\"Soft Drinks\",\"Seafood\",\"Frozen Foods\",\"Frozen Foods\",\"Frozen Foods\",\"Frozen Foods\",\"Household\",\"Frozen Foods\",\"Fruits and Vegetables\",\"Canned\",\"Household\",\"Starchy Foods\",\"Snack Foods\",\"Frozen Foods\",\"Fruits and Vegetables\",\"Health and Hygiene\",\"Household\",\"Frozen Foods\",\"Frozen Foods\",\"Snack Foods\",\"Fruits and Vegetables\",\"Snack Foods\",\"Fruits and Vegetables\",\"Meat\",\"Health and Hygiene\",\"Dairy\",\"Snack Foods\",\"Household\",\"Meat\",\"Household\",\"Health and Hygiene\",\"Frozen Foods\",\"Fruits and Vegetables\",\"Fruits and Vegetables\",\"Household\",\"Starchy Foods\",\"Fruits and Vegetables\",\"Meat\",\"Dairy\",\"Baking Goods\",\"Frozen Foods\",\"Breads\",\"Frozen Foods\",\"Health and Hygiene\",\"Household\",\"Meat\",\"Fruits and Vegetables\",\"Frozen Foods\",\"Soft Drinks\",\"Snack Foods\",\"Health and Hygiene\",\"Fruits and Vegetables\",\"Frozen Foods\",\"Frozen Foods\",\"Soft Drinks\",\"Baking Goods\",\"Frozen Foods\",\"Meat\",\"Fruits and Vegetables\",\"Health and Hygiene\",\"Frozen Foods\",\"Breads\",\"Canned\",\"Dairy\",\"Snack Foods\",\"Canned\",\"Household\",\"Fruits and Vegetables\",\"Hard Drinks\",\"Soft Drinks\",\"Dairy\",\"Canned\",\"Household\",\"Household\",\"Household\",\"Household\",\"Frozen Foods\",\"Canned\",\"Snack Foods\",\"Health and Hygiene\",\"Meat\",\"Fruits and Vegetables\",\"Canned\",\"Snack Foods\",\"Snack Foods\",\"Snack Foods\",\"Canned\",\"Fruits and Vegetables\",\"Frozen Foods\",\"Soft Drinks\",\"Fruits and Vegetables\",\"Household\",\"Household\",\"Household\",\"Snack Foods\",\"Baking Goods\",\"Snack Foods\",\"Snack Foods\",\"Snack Foods\",\"Canned\",\"Household\",\"Dairy\",\"Baking Goods\",\"Canned\",\"Frozen Foods\",\"Breakfast\",\"Breads\",\"Breads\",\"Frozen Foods\",\"Soft Drinks\",\"Fruits and Vegetables\",\"Snack Foods\",\"Snack Foods\",\"Canned\",\"Household\",\"Snack Foods\",\"Baking Goods\",\"Fruits and Vegetables\",\"Household\",\"Snack Foods\",\"Breads\",\"Health and Hygiene\",\"Dairy\",\"Breads\",\"Household\",\"Soft Drinks\",\"Fruits and Vegetables\",\"Snack Foods\",\"Fruits and Vegetables\",\"Snack Foods\",\"Dairy\",\"Health and Hygiene\",\"Fruits and Vegetables\",\"Breakfast\",\"Canned\",\"Fruits and Vegetables\",\"Hard Drinks\",\"Dairy\",\"Frozen Foods\",\"Snack Foods\",\"Hard Drinks\",\"Hard Drinks\",\"Starchy Foods\",\"Fruits and Vegetables\",\"Baking Goods\",\"Household\",\"Fruits and Vegetables\",\"Fruits and Vegetables\",\"Fruits and Vegetables\",\"Frozen Foods\",\"Canned\",\"Snack Foods\",\"Frozen Foods\",\"Breads\",\"Snack Foods\",\"Soft Drinks\",\"Breads\",\"Fruits and Vegetables\",\"Soft Drinks\",\"Soft Drinks\",\"Health and Hygiene\",\"Canned\",\"Soft Drinks\",\"Baking Goods\",\"Snack Foods\",\"Starchy Foods\",\"Household\",\"Fruits and Vegetables\",\"Breads\",\"Fruits and Vegetables\",\"Snack Foods\",\"Household\",\"Snack Foods\",\"Fruits and Vegetables\",\"Frozen Foods\",\"Health and Hygiene\",\"Fruits and Vegetables\",\"Dairy\",\"Others\",\"Snack Foods\",\"Dairy\",\"Snack Foods\",\"Fruits and Vegetables\",\"Meat\",\"Dairy\",\"Household\",\"Frozen Foods\",\"Others\",\"Health and Hygiene\",\"Dairy\",\"Soft Drinks\",\"Snack Foods\",\"Canned\",\"Dairy\",\"Baking Goods\",\"Fruits and Vegetables\",\"Snack Foods\",\"Soft Drinks\",\"Starchy Foods\",\"Snack Foods\",\"Fruits and Vegetables\",\"Soft Drinks\",\"Soft Drinks\",\"Dairy\",\"Meat\",\"Household\",\"Baking Goods\",\"Canned\",\"Snack Foods\",\"Fruits and Vegetables\",\"Breads\",\"Fruits and Vegetables\",\"Fruits and Vegetables\",\"Health and Hygiene\",\"Household\",\"Fruits and Vegetables\",\"Soft Drinks\",\"Breakfast\",\"Canned\",\"Dairy\",\"Seafood\",\"Household\",\"Fruits and Vegetables\",\"Household\",\"Snack Foods\",\"Snack Foods\",\"Frozen Foods\",\"Frozen Foods\",\"Canned\",\"Snack Foods\",\"Fruits and Vegetables\",\"Household\",\"Hard Drinks\",\"Meat\",\"Household\",\"Canned\",\"Frozen Foods\",\"Soft Drinks\",\"Baking Goods\",\"Fruits and Vegetables\",\"Hard Drinks\",\"Health and Hygiene\",\"Household\",\"Baking Goods\",\"Fruits and Vegetables\",\"Hard Drinks\",\"Household\",\"Health and Hygiene\",\"Starchy Foods\",\"Canned\",\"Baking Goods\",\"Fruits and Vegetables\",\"Frozen Foods\",\"Fruits and Vegetables\",\"Dairy\",\"Household\",\"Breakfast\",\"Snack Foods\",\"Canned\",\"Soft Drinks\",\"Fruits and Vegetables\",\"Frozen Foods\",\"Fruits and Vegetables\",\"Snack Foods\",\"Snack Foods\",\"Soft Drinks\",\"Breads\",\"Meat\",\"Frozen Foods\",\"Soft Drinks\",\"Health and Hygiene\",\"Meat\",\"Snack Foods\",\"Snack Foods\",\"Hard Drinks\",\"Dairy\",\"Baking Goods\",\"Dairy\",\"Fruits and Vegetables\",\"Fruits and Vegetables\",\"Snack Foods\",\"Fruits and Vegetables\",\"Household\",\"Meat\",\"Health and Hygiene\",\"Household\",\"Dairy\",\"Frozen Foods\",\"Baking Goods\",\"Snack Foods\",\"Dairy\",\"Breads\",\"Snack Foods\",\"Snack Foods\",\"Soft Drinks\",\"Canned\",\"Snack Foods\",\"Frozen Foods\",\"Fruits and Vegetables\",\"Frozen Foods\",\"Frozen Foods\",\"Fruits and Vegetables\",\"Household\",\"Dairy\",\"Household\",\"Snack Foods\",\"Health and Hygiene\",\"Fruits and Vegetables\",\"Household\",\"Snack Foods\",\"Breakfast\",\"Canned\",\"Canned\",\"Snack Foods\",\"Canned\",\"Snack Foods\",\"Canned\",\"Snack Foods\",\"Household\",\"Canned\",\"Baking Goods\",\"Household\",\"Breads\",\"Baking Goods\",\"Snack Foods\",\"Health and Hygiene\",\"Baking Goods\",\"Fruits and Vegetables\",\"Baking Goods\",\"Snack Foods\",\"Dairy\",\"Canned\",\"Frozen Foods\",\"Fruits and Vegetables\",\"Frozen Foods\",\"Frozen Foods\",\"Household\",\"Health and Hygiene\",\"Dairy\",\"Snack Foods\",\"Frozen Foods\",\"Household\",\"Soft Drinks\",\"Household\",\"Frozen Foods\",\"Baking Goods\",\"Snack Foods\",\"Fruits and Vegetables\",\"Fruits and Vegetables\",\"Household\",\"Frozen Foods\",\"Soft Drinks\",\"Household\",\"Household\",\"Snack Foods\",\"Hard Drinks\",\"Canned\",\"Snack Foods\",\"Fruits and Vegetables\",\"Breakfast\",\"Fruits and Vegetables\",\"Dairy\",\"Household\",\"Meat\",\"Meat\",\"Fruits and Vegetables\",\"Fruits and Vegetables\",\"Canned\",\"Baking Goods\",\"Breakfast\",\"Household\",\"Snack Foods\",\"Household\",\"Seafood\",\"Soft Drinks\",\"Others\",\"Dairy\",\"Fruits and Vegetables\",\"Frozen Foods\",\"Breads\",\"Breakfast\",\"Household\",\"Others\",\"Snack Foods\",\"Frozen Foods\",\"Baking Goods\",\"Hard Drinks\",\"Snack Foods\",\"Baking Goods\",\"Frozen Foods\",\"Snack Foods\",\"Canned\",\"Frozen Foods\",\"Starchy Foods\",\"Baking Goods\",\"Snack Foods\",\"Frozen Foods\",\"Others\",\"Household\",\"Breads\",\"Canned\",\"Household\",\"Health and Hygiene\",\"Meat\",\"Meat\",\"Baking Goods\",\"Baking Goods\",\"Snack Foods\",\"Dairy\",\"Snack Foods\",\"Health and Hygiene\",\"Frozen Foods\",\"Meat\",\"Frozen Foods\",\"Fruits and Vegetables\",\"Fruits and Vegetables\",\"Seafood\",\"Soft Drinks\",\"Household\",\"Canned\",\"Soft Drinks\",\"Canned\",\"Snack Foods\",\"Baking Goods\",\"Health and Hygiene\",\"Household\",\"Starchy Foods\",\"Canned\",\"Breads\",\"Hard Drinks\",\"Snack Foods\",\"Baking Goods\",\"Health and Hygiene\",\"Frozen Foods\",\"Canned\",\"Dairy\",\"Snack Foods\",\"Starchy Foods\",\"Meat\",\"Fruits and Vegetables\",\"Frozen Foods\",\"Household\",\"Fruits and Vegetables\",\"Meat\",\"Soft Drinks\",\"Snack Foods\",\"Canned\",\"Canned\",\"Baking Goods\",\"Meat\",\"Frozen Foods\",\"Frozen Foods\",\"Snack Foods\",\"Household\",\"Snack Foods\",\"Canned\",\"Household\",\"Dairy\",\"Snack Foods\",\"Meat\",\"Frozen Foods\",\"Fruits and Vegetables\",\"Fruits and Vegetables\",\"Baking Goods\",\"Fruits and Vegetables\",\"Fruits and Vegetables\",\"Fruits and Vegetables\",\"Meat\",\"Health and Hygiene\",\"Household\",\"Health and Hygiene\",\"Health and Hygiene\",\"Frozen Foods\",\"Snack Foods\",\"Snack Foods\",\"Fruits and Vegetables\",\"Hard Drinks\",\"Soft Drinks\",\"Snack Foods\",\"Snack Foods\",\"Household\",\"Snack Foods\",\"Seafood\",\"Fruits and Vegetables\",\"Health and Hygiene\",\"Household\",\"Snack Foods\",\"Household\",\"Fruits and Vegetables\",\"Frozen Foods\",\"Fruits and Vegetables\",\"Dairy\",\"Meat\",\"Canned\",\"Frozen Foods\",\"Snack Foods\",\"Baking Goods\",\"Health and Hygiene\",\"Soft Drinks\"],\"xaxis\":\"x\",\"y\":[3735.138,2097.27,994.7052,343.5528,1076.5986,4710.535,1516.0266,2187.153,1589.2646,2145.2076,1977.426,1547.3192,718.3982,2748.4224,3775.086,1587.2672,4078.025,838.908,1065.28,308.9312,2174.5028,2085.2856,3791.0652,3435.528,2150.534,2527.3768,373.5138,2428.8384,5815.0972,2576.646,3134.5864,850.8924,810.9444,3121.2704,4815.0656,2117.244,796.9626,4910.275,1062.6168,4865.6664,1118.544,2302.3364,2027.361,3435.528,599.22,4604.6728,2285.0256,5580.7356,2290.352,1207.0954,1587.933,5305.0944,1697.79,1427.4752,2479.4392,2716.464,661.8052,1523.3504,690.4346,1381.535,622.523,1274.3412,1231.73,3755.112,1314.2892,1805.6496,3896.2616,667.7974,2247.7408,1794.331,2530.7058,812.276,699.09,2732.4432,3151.8972,5942.265,4843.695,2542.0244,2552.6772,680.4476,2085.9514,3036.048,866.8716,868.869,1137.1864,928.1252,762.341,707.0796,1438.128,1969.4364,1314.2892,535.3032,1402.1748,1693.7952,2143.876,2676.516,905.488,6301.1312,1597.92,529.311,1969.4364,1034.6532,3169.208,1910.1802,1701.7848,2471.4496,1331.6,2618.5914,2769.728,5375.0034,2838.9712,2120.573,3823.0236,1360.2294,3969.4996,1010.6844,3010.7476,988.713,1374.2112,778.986,2336.958,2233.0932,1661.8368,4745.8224,3124.5994,540.6296,992.7078,6008.845,745.696,3275.736,1701.7848,4119.9704,780.9834,3630.6074,133.16,5650.6446,2636.568,1272.3438,3690.5294,1139.1838,1995.4026,1416.8224,265.6542,3552.7088,2406.867,2956.152,1649.8524,1133.8574,2603.278,605.878,1929.4884,639.168,3248.4382,3225.1352,3755.112,3440.8544,974.7312,535.969,5259.82,759.012,1877.556,3779.0808,259.662,193.082,1687.803,4655.9394,4950.8888,1418.154,1225.072,5359.69,1764.37,2553.343,1006.6896,1081.925,308.9312,2516.724,1428.141,2093.2752,1929.4884,5829.7448,2082.6224,450.0808,6088.0752,2277.036,2267.049,5559.43,1237.7222,569.259,1379.5376,925.462,583.2408,1418.154,942.7728,2364.9216,5895.659,2775.7202,5317.0788,1039.9796,3038.0454,3848.324,527.3136,2390.8878,801.6232,1267.0174,886.8456,3877.6192,4950.8888,958.752,1956.1204,2404.2038,994.7052,1754.383,3918.8988,306.268,4425.5726,3339.6528,6410.3224,1992.0736,2870.9296,539.298,4377.635,2716.464,703.0848,1937.478,3307.6944,3142.576,5494.8474,6093.4016,2586.633,1255.6988,4093.3384,3163.8816,1137.1864,2756.412,878.856,659.142,3610.6334,5153.292,2588.6304,1230.3984,3969.4996,809.6128,5715.2272,1464.76,3251.1014,4274.436,1176.4686,3523.4136,610.5386,1237.7222,2580.6408,2552.6772,3914.904,796.9626,3259.7568,1677.816,3707.1744,2954.1546,1037.3164,426.112,3811.0392,5770.4886,690.4346,1890.2062,1504.708,521.3214,829.5868,1571.288,2403.538,844.2344,2940.1728,3259.7568,3415.554,5642.655,796.9626,848.895,4997.4948,588.5672,3038.7112,1587.2672,687.1056,1929.4884,3600.6464,2181.1608,3428.2042,623.1888,2133.2232,1289.6546,790.9704,3147.9024,1139.8496,1816.3024,978.726,2683.174,2897.5616,1957.452,2528.7084,284.2966,759.012,1787.673,2431.5016,2048.6666,1940.807,2067.309,2663.2,3448.844,1665.8316,1713.7692,810.9444,1193.1136,856.8846,1057.9562,2205.1296,2940.1728,3046.7008,3327.6684,2999.429,942.7728,1581.9408,4262.4516,1398.8458,2336.958,2348.9424,1054.6272,1298.31,2330.3,4584.6988,1869.5664,1603.9122,2013.3792,2403.538,219.714,729.051,1393.5194,5262.4832,303.6048,721.0614,3467.4864,5416.9488,5206.556,2503.408,1960.781,3299.7048,2684.5056,2085.2856,2210.456,1049.9666,2719.793,231.6984,1398.18,1531.34,633.8416,2094.6068,2386.2272,780.9834,1693.7952,1342.2528,4916.2672,1757.712,2876.256,1966.7732,1238.388,4418.2488,2863.6058,1845.5976,1561.9668,3848.324,2097.27,639.168,2770.3938,353.5398,1118.544,4655.2736,1547.3192,1045.306,275.6412,347.5476,3817.0314,1905.5196,665.8,2324.9736,2101.9306,1821.6288,3643.2576,2942.836,587.2356,2886.243,2223.772,5770.4886,5502.837,2181.8266,1565.9616,1667.829,2812.3392,489.363,2865.6032,1665.8316,2694.4926,1555.9746,543.2928,1950.794,177.7686,1035.319,949.4308,1283.6624,484.7024,934.7832,534.6374,878.856,1332.9316,4993.5,1691.7978,4042.7376,1640.5312,2334.9606,2370.248,4697.8848,2406.867,5736.5328,3246.4408,4672.5844,3775.086,2478.7734,3067.3406,3281.7282,1086.5856,1528.011,868.869,1230.3984,1166.4816,5764.4964,113.8518,3057.3536,3579.3408,450.0808,607.2096,1325.6078,1270.3464,1308.297,1471.418,3896.2616,3460.8284,1259.6936,798.96,3185.853,1488.063,5159.2842,4500.808,4318.3788,3456.1678,1659.8394,759.012,1707.777,2816.334,2954.1546,593.2278,1150.5024,3072.667,3259.7568,2756.412,2930.1858,1544.656,3165.879,1619.2256,387.4956,415.4592,1267.6832,1593.9252,2358.2636,145.8102,1780.3492,1230.3984,744.3644,716.4008,5113.344,886.8456,1039.9796,4554.072,1807.647,2665.8632,1751.054,2626.581,1470.0864,4362.3216,2241.0828,4733.838,3174.5344,2924.8594,960.7494,2041.3428,996.0368,1757.712,1842.9344,3435.528,1221.0772,669.129,1061.951,2874.9244,5163.9448,323.5788,622.523,1125.202,5198.5664,379.506,2432.8332,1657.842,3006.087,3237.1196,2746.425,857.5504,4287.752,1773.6912,597.2226,1431.47,2860.2768,1757.712,966.7416,1958.1178,365.5242,1783.6782,2790.3678,2328.3026,2822.992,505.3422,5141.3076,2665.8632,2588.6304,1108.557,1304.968,331.5684,3089.312,1867.569,898.83,2848.2924,3617.9572,5243.8408,2109.2544,721.0614,1203.1006,322.2472,3942.8676,3195.84,3338.3212,4086.0146,1267.0174,5367.6796,5976.2208,5443.5808,1547.3192,3067.3406,2857.6136,1406.1696,1470.0864,948.0992,1178.466,2137.8838,2691.8294,978.726,2356.932,2696.49,1649.8524,2014.7108,1707.777,932.12,2157.192,4643.955,2366.919,886.8456,958.752,1150.5024,2641.8944,1547.985,2808.3444,1929.4884,1054.6272,1155.8288,1174.4712,4098.6648,452.744,2620.5888,1414.1592,1565.9616,729.051,2956.152,527.3136,1058.622,3047.3666,1725.7536,6331.758,1853.5872,2247.075,445.4202,727.0536,2665.8632,2311.6576,4655.2736,451.4124,876.1928,2454.1388,4102.6596,2696.49,3099.9648,743.0328,1611.9018,1215.7508,2954.8204,643.1628,4940.236,735.709,1170.4764,1135.189,1549.9824,2133.2232,2892.2352,1323.6104,1547.3192,647.1576,1798.9916,1973.4312,1737.738,1516.0266,5060.08,2157.192,5400.9696,1278.336,1917.504,1017.3424,1998.7316,615.1992,314.2576,1020.6714,1222.4088,1506.0396,3547.3824,1478.076,1418.154,5061.4116,2888.2404,741.0354,1857.582,2836.308,2982.784,1150.5024,5038.1086,703.0848,713.0718,1691.7978,2157.192,2561.9984,2059.9852,1334.2632,692.432,3139.9128,585.904,703.0848,3131.9232,4027.4242,2418.1856,2061.3168,4207.856,1960.781,2929.52,2190.482,1693.7952,3661.9,862.8768,6048.793,2187.153,1451.444,958.752,1808.3128,1099.2358,2311.6576,1418.154,2874.9244,2345.6134,3912.2408,5712.564,5390.3168,1160.4894,5510.8266,2633.9048,6183.9504,2702.4822,4843.695,952.7598,1985.4156,2061.3168,1025.332,3013.4108,809.6128,623.1888,1088.583,2931.5174,490.6946,1584.604,782.9808,4420.912,1522.0188,1765.7016,2503.408,2684.5056,2163.1842,3383.5956,2241.0828,5259.82,1957.452,1450.1124,2934.8464,708.4112,2220.443,1606.5754,868.869,2237.088,705.748,1078.596,4029.4216,1018.674,3700.5164,2024.032,593.2278,1125.202,1570.6222,2141.2128,2157.192,3428.2042,1901.5248,2684.5056,1966.7732,1637.868,1350.2424,1593.9252,4889.6352,805.618,1438.128,1146.5076,3038.7112,2277.036,2008.0528,708.4112,3048.6982,1443.4544,3486.1288,4819.0604,759.012,659.142,1737.738,2519.3872,1537.998,2251.7356,2265.0516,990.7104,796.2968,303.6048,2190.482,2444.8176,366.19,792.302,1713.7692,1488.063,2336.958,1605.9096,3717.8272,1571.288,1166.4816,3661.9,3829.0158,1177.1344,519.324,1151.1682,3383.5956,2233.0932,2631.2416,571.2564,6040.1376,1358.232,1238.388,169.779,2832.979,2624.5836,3257.7594,1796.3284,1713.7692,2982.784,1303.6364,2897.5616,918.804,2884.2456,221.0456,296.9468,426.112,2647.2208,2812.3392,372.848,2612.5992,4845.0266,872.198,3235.788,841.5712,1379.5376,3559.3668,4244.475,3115.944,3769.7596,1186.4556,1540.6612,2552.6772,1619.2256,829.5868,1166.4816,1665.8316,2876.256,2956.152,4346.3424,466.06,5851.0504,2681.8424,3828.35,2373.577,1845.5976,3425.541,1853.5872,540.6296,2732.4432,1162.4868,1228.401,874.8612,1917.504,731.0484,4264.449,1480.0734,1581.275,3014.7424,438.0964,282.965,1834.9448,1065.28,3327.6684,2925.5252,5382.993,1571.288,1427.4752,2695.1584,314.2576,2960.1468,1158.492,3502.108,3008.0844,1151.1682,2768.3964,3364.9532,343.5528,2546.685,1127.8652,739.038,2993.4368,1721.093,2864.2716,3582.004,575.2512,3149.234,3374.2744,288.9572,3358.2952,3663.2316,5321.0736,1744.396,2536.698,1911.5118,4098.6648,2380.9008,1850.924,5909.6408,2207.127,2021.3688,5345.7082,2931.5174,2874.9244,6353.0636,4567.388,2356.932,2463.46,1921.4988,1066.6116,644.4944,2428.8384,2516.724,965.41,4563.3932,2700.4848,476.047,2450.144,1853.5872,4471.5128,1985.4156,5954.2494,2269.0464,5426.27,958.752,1151.1682,2432.8332,1647.855,792.302,639.168,2988.1104,1989.4104,2087.283,2501.4106,1034.6532,1964.11,1946.7992,5191.2426,1808.9786,3395.58,5201.2296,768.999,2348.9424,1597.92,2492.7552,796.2968,4500.808,3078.6592,679.116,928.791,3663.2316,1304.968,3844.995,2768.3964,4570.0512,3020.0688,958.752,2375.5744,852.224,270.3148,251.6724,1142.5128,1347.5792,5366.348,1661.8368,3415.554,1655.1788,843.5686,1347.5792,6018.1662,1885.5456,2246.4092,4436.8912,2181.1608,1491.392,141.1496,1346.2476,773.6596,3731.809,351.5424,2826.321,5954.9152,2332.9632,4247.804,3914.904,788.973,1923.4962,4074.696,2817.6656,2863.6058,2213.1192,1274.3412,1593.9252,4823.721,540.6296,1188.453,4138.6128,3579.3408,3848.324,5383.6588,2241.0828,671.1264,2380.235,201.0716,3968.168,4187.2162,3078.6592,2577.9776,2628.5784,1278.336,4013.4424,3078.6592,1713.7692,1492.7236,4006.7844,1245.046,2388.8904,575.2512,3755.112,1182.4608,262.3252,1342.2528,1644.526,1258.362,729.7168,3749.7856,236.359,1641.8628,1943.4702,4923.591,2554.0088,2320.9788,808.947,1330.2684,3410.2276,2050.664,1229.0668,2727.7826,2330.3,4153.9262,1462.0968,3554.7062,446.7518,3101.2964,1898.8616,6179.9556,1342.2528,3095.97,2173.1712,5285.1204,2804.3496,4660.6,1603.2464,2133.2232,4221.172,1031.99,1808.3128,1099.9016,1102.5648,2696.49,1235.059,4950.8888,3110.6176,4514.124,1288.9888,1893.5352,1225.072,1043.9744,2404.2038,972.068,1904.188,419.454,4809.7392,1787.0072,2656.542,4288.4178,990.7104,3511.4292,571.2564,1537.998,3755.112,1581.9408,657.8104,5528.1374,718.3982,1052.6298,263.6568,628.5152,1975.4286,3861.64,2816.334,3131.9232,4122.6336,3056.022,1478.076,2626.581,793.6336,1198.44,1537.998,4257.1252,498.0184,490.6946,5522.811,1657.842,3455.502,988.713,918.804,3399.5748,1142.5128,3560.6984,2759.0752,3653.9104,5608.6992,6201.927,1322.2788,830.9184,577.9144,2203.798,545.2902,5536.7928,990.7104,1474.0812,2055.3246,792.302,1294.3152,1869.5664,992.7078,2972.797,2587.9646,3910.9092,2113.2492,5326.4,1845.5976,982.055,6426.3016,3340.3186,1491.392,3795.06,563.9326,3129.26,3261.7542,2111.2518,2055.9904,1193.1136,1761.7068,2636.568,790.9704,2980.1208,3419.5488,834.9132,3779.0808,814.9392,1114.5492,866.8716,2396.88,1999.3974,468.7232,1342.2528,614.5334,1426.1436,1537.998,939.4438,3418.883,404.8064,974.0654,2406.867,5626.01,5956.9126,6404.996,1158.492,2976.7918,3131.9232,4448.2098,1442.1228,2841.6344,2876.256,3125.931,3142.576,1398.18,1956.1204,3078.6592,1018.674,2609.936,4516.7872,1557.972,2364.9216,4138.6128,2243.746,724.3904,4111.9808,1022.6688,194.4136,2808.3444,852.224,828.921,323.5788,2942.836,359.532,2360.9268,2735.1064,3677.2134,171.7764,628.5152,2946.165,1789.6704,468.7232,1597.92,3681.874,1977.426,1230.3984,4410.2592,1496.0526,1012.016,2862.94,1404.838,2812.3392,5191.2426,1148.505,2909.546,1468.089,1733.7432,1985.4156,4175.8976,569.259,2631.2416,1037.3164,3283.7256,1468.089,1138.518,339.558,6006.1818,2988.1104,1761.7068,3560.6984,2874.9244,503.3448,1853.5872,2885.5772,1017.3424,2530.7058,1328.271,1244.3802,1518.024,1685.8056,3078.6592,2866.269,2069.3064,4442.2176,1930.1542,1780.3492,3415.554,5241.1776,1025.332,473.3838,2912.875,5976.2208,2984.1156,3695.19,1068.609,1583.9382,958.752,2836.308,972.068,3002.0922,1198.44,4566.0564,4402.9354,6033.4796,1537.998,801.6232,1474.0812,3605.307,873.5296,575.2512,860.2136,2133.2232,2253.0672,746.3618,1272.3438,719.064,6114.7072,2167.8448,942.7728,1897.53,2978.1234,1989.4104,2372.9112,1607.2412,958.752,1198.44,2277.036,796.2968,3105.957,2826.9868,3153.2288,3448.844,1446.1176,1078.596,554.6114,731.0484,4250.4672,4054.722,3067.3406,2343.616,852.224,5350.3688,2133.2232,5145.3024,3547.3824,2274.3728,5033.448,1120.5414,2612.5992,4548.0798,5863.0348,447.4176,5331.7264,3563.3616,1603.2464,2709.806,4086.0146,1402.1748,1764.37,1701.7848,4357.661,3207.8244,732.38,306.268,193.082,1209.7586,3878.285,2693.8268,649.155,4777.7808,1416.8224,2422.1804,2380.9008,373.5138,539.298,763.0068,181.0976,3083.9856,2087.9488,2535.3664,1789.6704,4687.232,3425.541,1657.842,3101.2964,1347.5792,2270.378,2556.672,3779.0808,1505.3738,782.9808,1911.5118,642.497,1470.0864,6309.7866,633.8416,1637.868,805.618,3767.0964,529.311,645.1602,849.5608,4364.9848,792.302,4290.4152,5406.296,930.1226,1826.9552,1145.176,3150.5656,1779.0176,1414.1592,1518.024,3034.0506,666.4658,181.0976,210.3928,1662.5026,402.809,749.025,2516.724,5556.7668,1022.6688,1576.6144,5257.1568,3033.3848,780.9834,2474.7786,3929.5516,564.5984,1245.046,825.592,1231.73,2090.612,2801.6864,2343.616,1808.9786,5768.4912,970.7364,3568.688,3533.4006,6157.3184,1949.4624,4633.968,4211.185,1970.768,3372.9428,934.7832,3375.606,2388.2246,780.3176,1605.9096,1076.5986,2931.5174,4211.185,1830.95,939.4438,1856.2504,1431.47,490.0288,611.2044,2163.85,575.2512,661.8052,1208.427,838.908,660.4736,3928.22,782.315,2580.6408,1687.1372,2348.9424,3542.7218,4701.8796,1768.3648,519.324,1108.557,659.142,2648.5524,1065.28,798.96,3062.0142,4958.8784,2768.3964,2591.2936,755.0172,354.2056,1607.2412,1053.2956,1922.8304,1677.1502,1113.2176,2406.2012,2069.3064,4969.5312,5243.8408,521.9872,4578.0408,1062.6168,2579.975,1504.0422,5126.66,2616.594,1223.0746,755.683,2675.1844,755.0172,3635.268,1323.6104,2942.836,4379.6324,2936.178,600.5516,2428.8384,3813.7024,2556.672,1255.033,2769.728,1571.288,1022.6688,3744.4592,2749.754,969.4048,2720.4588,4527.44,3123.9336,2857.6136,1454.773,1992.0736,1728.4168,452.744,856.8846,2037.348,149.805,473.3838,293.6178,5105.3544,3010.7476,986.7156,458.0704,1935.4806,1569.9564,1717.764,1304.968,784.3124,1816.3024,2070.638,2184.4898,1922.8304,633.8416,1205.098,3338.987,227.7036,695.0952,1478.076,694.4294,703.0848,4514.124,3169.208,2490.092,1151.1682,3900.9222,1845.5976,934.7832,3202.498,2684.5056,2439.4912,596.5568,5159.2842,1061.951,609.207,3558.0352,2025.3636,1907.517,5660.6316,607.2096,3169.208,2740.4328,640.4996,1960.1152,2067.309,231.6984,2153.1972,1724.422,3615.294,2999.429,1134.5232,2696.49,1120.5414,719.064,437.4306,2050.664,2059.9852,3089.312,1278.336,1528.011,1301.639,1844.9318,5068.7354,1095.241,1295.6468,2607.2728,3455.502,2345.6134,1761.7068,1905.5196,3086.6488,1060.6194,4653.942,3339.6528,1379.5376,897.4984,1404.838,1069.2748,4101.328,4793.76,1138.518,2771.7254,1948.1308,5206.556,173.7738,73.238,3415.554,3803.0496,3961.51,1251.704,1821.6288,5141.3076,1720.4272,3418.883,4374.306,782.315,1685.8056,4101.328,1179.1318,419.454,3845.6608,2024.032,1956.1204,1168.479,3073.9986,1884.8798,1364.89,3193.1768,2336.958,3078.6592,2109.2544,3243.7776,2579.975,1486.0656,312.2602,4845.0266,171.7764,1834.279,2082.6224,2705.1454,3731.809,1592.5936,2125.2336,998.7,3673.8844,2099.9332,1225.072,4278.4308,631.1784,602.549,2797.6916,2006.7212,908.817,1379.5376,2045.3376,1278.336,1491.392,1186.4556,3621.952,1761.041,1325.6078,3942.8676,3506.7686,5099.3622,2570.6538,2563.33,2187.153,2348.9424,1682.4766,4274.436,3185.1872,4580.704,1800.3232,517.3266,5668.6212,2125.2336,1948.1308,367.5216,601.2174,4042.7376,1356.2346,1192.4478,1701.7848,633.8416,3142.576,1696.4584,639.168,4687.232,3036.048,2372.9112,770.3306,663.1368,2167.8448,2749.754,1904.188,512.666,605.878,2826.321,3846.9924,557.2746,3542.056,490.0288,3611.2992,3119.9388,2013.3792,4761.8016,1326.2736,982.055,2119.9072,4234.488,5757.8384,1303.6364,599.22,3954.852,1641.8628,2087.9488,3339.6528,2535.3664,1018.674,1789.6704,1382.2008,5259.82,1512.6976,2090.612,1211.756,1230.3984,1657.842,739.038,2619.2572,2721.7904,6381.693,1120.5414,1869.5664,1411.496,1941.4728,4301.068,585.904,535.3032,1609.9044,649.155,2223.1062,4060.7142,3844.995,1832.2816,659.142,4402.2696,3643.2576,4247.804,2607.2728,1372.2138,2648.5524,1584.604,3629.2758,1611.236,2402.2064,1277.0044,1584.604,1685.8056,3574.0144,1186.4556,6474.2392,1853.5872,3006.087,736.3748,3956.8494,1807.647,467.3916,3542.056,1949.4624,3344.9792,592.562,736.3748,3103.9596,2101.9306,2972.1312,433.4358,4920.9278,1164.4842,846.8976,2812.3392,2946.165,3137.2496,1657.1762,3113.2808,1510.0344,1629.8784,690.4346,4447.544,2673.8528,3339.6528,502.0132,3038.7112,1288.9888,884.1824,3006.087,3282.394,1038.648,2693.8268,2524.0478,3643.2576,1438.128,4195.8716,1263.6884,2066.6432,1281.665,4016.1056,3672.5528,1258.362,4267.1122,291.6204,1540.6612,1724.422,645.1602,1611.236,1116.5466,1203.7664,2999.429,3425.541,4134.618,3384.2614,2097.27,1486.7314,3531.4032,1448.7808,1335.5948,2367.5848,1860.2452,3440.8544,1070.6064,1422.1488,3139.9128,3704.5112,2656.542,1395.5168,3621.952,778.986,2465.4574,966.7416,922.7988,1219.7456,747.0276,539.298,4460.1942,2816.334,101.8674,2553.343,343.5528,365.5242,4224.501,4063.3774,3411.5592,2698.4874,2588.6304,511.3344,2812.3392,3504.1054,2470.118,525.982,4544.085,743.0328,4848.3556,2656.542,2840.9686,2956.152,1861.5768,4364.319,2797.6916,2759.0752,2530.7058,4761.8016,647.1576,261.6594,1686.4714,2996.1,2239.7512,2712.4692,2163.85,3275.736,679.116,1540.6612,2588.6304,3020.0688,2858.9452,934.7832,1765.7016,4563.3932,1494.0552,1419.4856,1291.652,595.2252,2026.0294,2603.278,2117.244,2680.5108,3487.4604,2816.334,1288.9888,3688.532,1644.526,5298.4364,2117.244,327.5736,1837.608,1496.7184,3928.8858,2636.568,3644.5892,2316.984,3302.368,2127.231,2862.94,1022.6688,466.06,617.8624,3075.996,2067.309,4769.1254,243.6828,945.436,1306.2996,1230.3984,1887.543,1318.284,995.371,905.488,1874.8928,6231.888,1837.608,2133.2232,1480.7392,503.3448,1113.2176,4711.2008,2796.36,611.2044,3390.2536,1669.8264,927.4594,744.3644,466.06,4137.2812,207.7296,2463.46,1095.241,2258.3936,663.1368,2103.2622,4863.0032,6048.793,2239.0854,1629.8784,2840.3028,1407.5012,589.233,796.9626,1657.842,1518.024,885.514,3165.879,1847.595,1808.9786,1705.7796,3113.2808,1779.0176,1185.124,2167.179,6114.7072,1576.6144,373.5138,1384.1982,892.172,2376.906,2709.1402,1997.4,2566.659,596.5568,2297.01,340.2238,828.921,3731.809,905.488,1411.496,173.108,2390.222,5382.993,2536.698,2093.2752,2428.8384,3828.35,1733.7432,4604.6728,2820.9946,5715.2272,2471.4496,1261.691,2285.0256,798.96,2125.2336,1990.742,3103.9596,805.618,2548.6824,2406.867,1537.998,739.038,2063.98,1454.773,356.8688,3350.3056,3731.809,3068.0064,1366.2216,1198.44,1757.712,4767.128,870.8664,2025.3636,4902.9512,2543.356,479.376,3101.2964,1707.777,1257.0304,243.017,4314.384,843.5686,2073.3012,1230.3984,1693.7952,639.168,4745.8224,3079.9908,2651.2156,2103.928,1090.5804,2141.2128,2145.2076,591.8962,2501.4106,4762.4674,265.6542,735.709,1151.1682,2223.1062,1185.124,1697.79,2721.7904,4920.9278,856.8846,838.908,5920.2936,651.8182,2103.928,2458.1336,6411.654,1655.1788,894.8352,2852.2872,1987.413,2137.218,1569.9564,2224.4378,4578.0408,3761.77,2616.594,3709.8376,2736.438,1310.2944,1203.7664,1552.6456,3110.6176,1608.5728,1705.1138,3103.9596,982.7208,1736.4064,2293.0152,3691.1952,378.1744,279.636,6093.4016,792.302,2233.0932,497.3526,1239.7196,774.9912,607.2096,2541.3586,2886.243,3315.0182,5681.2714,3896.2616,3427.5384,1618.5598,978.726,952.094,501.3474,1004.0264,3103.9596,886.8456,479.376,2746.425,4159.9184,1171.808,1829.6184,3415.554,3361.6242,663.1368,1437.4622,2603.278,2073.3012,3844.995,2147.205,1577.946,1966.7732,3292.381,2719.793,5496.8448,3858.9768,2306.997,1757.712,808.947,1845.5976,2863.6058,852.224,256.333,2034.019,1278.336,1366.2216,2940.1728,2847.6266,1725.7536,5800.4496,3448.844,2036.6822,683.1108,2348.9424,2090.612,3430.2016,2885.5772,2889.572,1498.05,3528.74,3861.64,353.5398,4756.4752,801.6232,4414.254,1142.5128,1035.9848,3280.3966,780.9834,2553.343,834.9132,2748.4224,1761.7068,4789.7652,2024.032,1603.9122,4146.6024,2040.0112,3554.7062,3901.588,2606.607,642.497,5386.9878,4073.3644,2255.7304,1486.7314,2414.1908,2530.7058,852.224,4604.6728,1528.011,1813.6392,1416.8224,1274.3412,1388.8588,818.934,4950.8888,3693.8584,805.618,4349.0056,1597.92,777.6544,722.393,6291.81,3365.619,3974.826,671.1264,2745.0934,1231.73,2931.5174,1105.228,942.7728,960.7494,3318.3472,3185.1872,1659.1736,5752.512,4586.0304,2646.555,1150.5024,4925.5884,759.012,2091.2778,3219.8088,3532.7348,3440.8544,3453.5046,428.7752,801.6232,1416.8224,715.0692,3206.4928,2770.3938,1780.3492,1794.331,308.9312,4097.3332,5396.9748,894.8352,3515.424,2306.997,1618.5598,2069.3064,4647.284,1917.504,284.9624,1346.2476,2252.4014,6033.4796,2336.958,1547.3192,291.6204,2797.6916,2614.5966,3495.45,4578.0408,998.7,3478.805,2013.3792,1398.18,632.51,1543.3244,1017.3424,2821.6604,1662.5026,1661.8368,527.9794,1651.184,1277.0044,1890.2062,1006.6896,3281.0624,3046.7008,1315.6208,2157.192,2460.7968,1583.9382,2241.0828,3048.6982,355.5372,1198.44,275.6412,199.74,3739.1328,2684.5056,1354.2372,1757.712,727.0536,527.3136,838.908,1164.4842,1312.2918,834.9132,3962.8416,4845.0266,1127.8652,1458.102,3403.5696,441.4254,2059.9852,1001.3632,2679.845,2878.2534,340.2238,2050.664,4207.856,1947.465,1717.764,1566.6274,3179.8608,562.601,2466.789,1174.4712,2684.5056,2535.3664,2918.8672,552.614,3418.883,1467.4232,679.116,427.4436,3778.415,5069.4012,1757.712,1238.388,2050.664,1150.5024,802.9548,3202.498,4619.9862,2153.1972,715.0692,1964.7758,1262.3568,2302.3364,1109.2228,2561.9984,4426.2384,2246.4092,4133.2864,3978.155,918.804,1965.4416,1022.6688,4492.8184,1523.3504,1414.1592,1518.024,506.008,1761.7068,3187.8504,2153.1972,824.9262,772.328,4633.968,2956.152,1964.11,3150.5656,645.1602,1821.6288,666.4658,1337.5922,1158.492,1789.6704,1687.1372,3894.93,2918.8672,6458.26,3205.1612,1042.6428,5145.3024,948.765,4122.6336,459.402,4579.3724,3983.4814,599.22,1071.938,2087.283,1208.427,4649.9472,1707.777,2388.8904,410.1328,473.3838,932.12,3872.9586,755.0172,2220.443,1090.5804,1877.556,5452.902,857.5504,1238.388,5522.811,5512.824,4414.9198,1054.6272,1780.3492,2352.9372,731.0484,1050.6324,2432.8332,3739.1328,1977.426,5728.5432,1398.8458,801.6232,1667.1632,3323.0078,3350.3056,540.6296,2006.0554,1298.31,2466.789,2407.5328,1518.024,1867.569,2725.7852,2528.7084,758.3462,1402.1748,1006.6896,99.87,986.7156,527.3136,2510.066,3678.545,1926.1594,5331.7264,2826.9868,2759.0752,1808.3128,2527.3768,1458.102,4456.1994,4673.916,1924.162,302.939,209.727,1904.188,2004.058,3149.234,1488.7288,460.7336,2897.5616,591.2304,1808.9786,2812.3392,1165.15,711.0744,1605.9096,1323.6104,2197.14,2105.2596,3068.0064,5400.9696,2956.152,1601.249,6338.416,1166.4816,4595.3516,2544.6876,4474.176,3289.052,2059.9852,4258.4568,1534.0032,3257.7594,1765.0358,2854.9504,1238.388,2749.754,2739.1012,972.068,3621.2862,774.9912,1318.284,918.804,1390.1904,1312.9576,2036.6822,3595.32,2460.7968,543.2928,2384.8956,3135.918,2695.1584,1007.3554,1518.024,2556.672,3528.74,163.7868,2712.4692,1058.622,4933.578,1454.1072,4757.8068,3529.4058,2390.8878,438.0964,439.428,2529.3742,209.727,3795.06,820.2656,1235.059,810.9444,683.1108,2451.4756,1619.2256,423.4488,1984.7498,5299.768,320.9156,2548.6824,1950.794,2492.7552,1038.648,1837.608,4580.704,4781.7756,1896.1984,2281.6966,1822.2946,515.3292,173.108,2878.2534,669.129,2326.971,4769.1254,964.0784,2277.036,2570.6538,1677.1502,4334.358,822.263,1569.9564,4233.1564,938.778,2490.092,2010.716,2886.243,3036.048,3006.087,1346.9134,2642.5602,5267.8096,3271.0754,5451.5704,4349.0056,1571.288,2988.1104,4074.696,3109.9518,2281.6966,3663.2316,3271.7412,1128.531,2109.2544,968.739,3091.9752,3133.2548,2037.348,1304.968,483.3708,2805.0154,1060.6194,1325.6078,4502.1396,2889.572,2476.776,2182.4924,1895.5326,3185.1872,2972.1312,2649.884,745.696,1436.7964,3558.0352,2807.0128,2776.386,1686.4714,1524.682,2969.468,1787.0072,1086.5856,3568.688,255.6672,1560.6352,5053.422,1158.492,2692.4952,1435.4648,671.1264,1559.9694,1773.6912,4364.319,2101.2648,1657.842,1525.3478,1464.76,1073.2696,2010.716,2189.1504,4540.756,2014.045,1230.3984,1454.1072,308.9312,639.168,2908.2144,1691.7978,2330.3,1386.1956,1545.9876,2556.672,2028.6926,2450.144,1906.8512,5033.448,3677.2134,3307.6944,1779.0176,343.5528,3302.368,4250.4672,759.012,1561.9668,2821.6604,6199.9296,2749.754,1472.7496,2446.815,569.259,4794.4258,1438.128,1304.968,2184.4898,5033.448,3036.048,1545.9876,1023.3346,4613.994,1505.3738,585.904,2900.2248,3415.554,1896.1984,2936.178,2450.144,1295.6468,2603.278,3159.8868,1154.4972,2278.3676,1901.5248,1133.8574,1330.2684,3705.177,1151.1682,4725.8484,3327.6684,3485.463,1749.7224,1895.5326,3994.8,2693.8268,1414.825,2085.9514,3203.1638,1182.4608,555.2772,785.644,755.0172,747.0276,3483.4656,1886.8772,1211.756,1895.5326,1201.769,892.8378,882.8508,6471.576,1609.9044,585.904,4602.0096,4250.4672,1342.2528,3020.0688,980.0576,3098.6332,529.311,703.0848,1315.6208,1947.465,1810.976,5070.7328,3353.6346,1640.5312,1749.7224,3374.2744,2269.0464,1406.1696,539.298,3392.9168,2563.33,4586.0304,635.1732,637.1706,4623.3152,579.246,4068.038,1794.331,700.4216,1239.7196,2150.534,2239.0854,3089.312,2090.612,3094.6384,5089.3752,1960.781,1310.9602,2708.4744,1097.9042,534.6374,1989.4104,1845.5976,2467.4548,1761.7068,2871.5954,2117.244,739.038,625.852,4207.856,1135.189,3950.1914,1123.2046,1686.4714,2543.356,2120.573,1038.648,3916.2356,2649.2182,986.7156,1263.0226,1445.4518,1182.4608,2071.3038,5141.3076,1104.5622,2912.2092,2775.7202,2297.01,2976.126,1115.215,309.597,2694.4926,476.047,1076.5986,633.8416,1549.9824,4082.6856,3448.844,1159.8236,2428.8384,3215.814,856.8846,3169.208,1406.1696,744.3644,3605.307,2966.139,383.5008,534.6374,2439.4912,5034.7796,2087.9488,2157.192,1725.7536,1970.768,5274.4676,5725.88,5238.5144,2141.2128,796.9626,1938.8096,1444.1202,2992.771,1150.5024,1491.392,1904.188,508.6712,4396.9432,1604.578,894.8352,3271.0754,764.3384,126.502,2628.5784,653.1498,2406.867,1976.0944,1368.219,355.5372,1644.526,1619.2256,1411.496,3238.4512,2316.984,1240.3854,639.168,2649.884,852.224,2303.668,1263.0226,2277.7018,322.913,1295.6468,2396.88,5487.5236,4637.9628,175.7712,1962.7784,2025.3636,1874.8928,2348.9424,3020.7346,4655.2736,1747.0592,2812.3392,1850.924,1571.288,2783.044,2316.984,491.3604,476.047,3173.8686,3369.6138,2348.9424,2002.0606,3379.6008,494.0236,5759.17,1404.1722,624.5204,1518.024,1379.5376,857.5504,982.7208,958.752,1693.7952,1874.8928,2016.7082,1358.232,1031.99,774.9912,1267.6832,323.5788,1837.608,2865.6032,1596.5884,2125.2336,1537.998,1255.033,1208.427,1022.6688,2666.529,718.3982,4266.4464,2360.9268,934.7832,1733.0774,1803.6522,1145.176,3723.8194,1895.5326,3630.6074,3560.6984,773.6596,878.856,2098.6016,3782.4098,425.4462,1947.465,2796.36,1765.0358,3295.71,3338.987,1166.4816,865.54,5153.292,4138.6128,2694.4926,1342.2528,4541.4218,5106.686,1853.5872,1090.5804,2892.2352,978.726,2992.771,1480.0734,681.7792,5690.5926,1416.8224,5580.0698,905.488,2856.282,3962.8416,6040.1376,1114.5492,1006.6896,690.4346,2516.724,1038.648,1208.427,522.653,2482.1024,1635.8706,3383.5956,4327.7,3579.3408,2693.8268,1957.452,2931.5174,5438.9202,1201.769,2564.6616,1411.496,1291.652,4042.7376,5201.2296,1078.596,1846.9292,476.047,2696.49,535.3032,605.878,2976.7918,1110.5544,2586.633,2586.633,1378.206,683.1108,1348.245,4514.124,2458.1336,2503.408,3089.9778,1342.2528,2021.3688,1927.491,873.5296,587.2356,878.856,1779.6834,492.692,3900.9222,3435.528,5219.872,4149.9314,2530.7058,1837.608,2131.2258,2916.204,2934.8464,3171.8712,998.7,1105.8938,3739.1328,2684.5056,2712.4692,4567.388,5480.8656,2581.9724,2456.802,2120.573,407.4696,230.3668,1286.3256,2189.1504,1859.5794,1744.396,2246.4092,4106.6544,181.0976,778.986,2947.4966,3705.177,1283.6624,1284.994,785.644,2245.0776,4427.57,1230.3984,2570.6538,980.0576,1395.5168,1402.1748,2085.9514,1091.2462,3395.58,1797.66,2804.3496,3797.7232,3235.788,1901.5248,4621.9836,782.9808,755.0172,1406.1696,1194.4452,402.809,2436.828,1246.3776,5233.188,3075.996,1332.2658,2526.711,1697.79,1743.0644,340.2238,508.6712,1617.894,5773.1518,1090.5804,1283.6624,3338.987,2302.3364,3111.9492,2011.3818,2013.3792,1895.5326,1853.5872,2693.8268,1384.1982,865.54,479.376,5469.547,3877.6192,624.5204,652.484,1406.1696,2105.2596,3835.008,5195.2374,194.4136,6079.4198,1669.8264,815.605,1328.271,679.116,3593.3226,1887.543,2162.5184,666.4658,2183.824,2065.3116,4697.8848,1846.9292,1665.8316,591.2304,6201.927,972.068,679.116,1104.5622,1777.686,2303.668,1965.4416,1955.4546,407.4696,1384.864,1504.0422,2570.6538,1245.046,3495.45,1376.2086,2053.3272,3159.8868,1029.9926,1800.3232,399.48,2916.204,5273.136,3354.3004,3428.2042,1787.0072,2285.0256,4660.6,679.116,1864.24,2406.867,1826.2894,3453.5046,3685.8688,1038.648,3551.3772,3149.234,4727.18,5000.8238,2554.0088,540.6296,4326.3684,2221.1088,1225.072,1438.128,890.8404,2696.49,4530.1032,2117.244,2048.6666,3215.814,1225.072,1378.206,543.2928,2586.633,952.7598,1211.756,2342.9502,1691.132,2432.8332,2890.9036,167.7816,1382.2008,2659.871,1599.9174,1797.66,1459.4336,708.4112,1186.4556,3225.801,2251.0698,1946.7992,2313.655,3355.632,1619.2256,2463.46,3815.034,4119.9704,2856.282,4262.4516,2534.0348,2371.5796,782.9808,2759.0752,2220.443,2106.5912,1901.5248,1514.695,4306.3944,3486.1288,2892.2352,2830.3158,2782.3782,1905.5196,2508.7344,3182.524,4326.3684,2093.941,319.584,1725.7536,3044.7034,1917.504,5896.3248,4086.0146,968.739,1618.5598,1713.7692,1896.1984,2759.0752,1006.6896,2153.1972,4460.1942,1605.9096,3361.6242,3263.7516,908.1512,1198.44,756.3488,3793.7284,353.5398,1557.972,2553.343,2812.3392,1105.8938,2519.3872,2024.032,4207.856,2756.412,3167.8764,1765.7016,529.311,4206.5244,3057.3536,3131.9232,2283.0282,5896.3248,3375.606,3559.3668,1669.8264,2784.3756,306.268,2548.6824,2061.3168,3331.6632,3467.4864,3003.4238,4333.6922,2444.8176,4488.1578,1382.2008,3795.06,814.9392,454.0756,3237.1196,1059.9536,3523.4136,2105.2596,1874.8928,3440.8544,1687.1372,2063.98,4483.4972,419.454,4434.228,1965.4416,2109.2544,2290.352,2376.906,5683.2688,1544.656,2165.1816,1528.6768,858.882,279.636,902.8248,2410.8618,2098.6016,509.337,3036.048,2876.256,2078.6276,3266.4148,671.1264,3146.5708,3251.1014,1923.4962,2852.2872,4380.2982,3934.878,5313.084,1607.2412,1438.128,722.393,4029.4216,1640.5312,3924.891,2055.9904,2059.9852,2940.1728,2220.443,2914.8724,2752.4172,335.5632,2792.3652,1032.6558,5635.3312,1697.79,1018.674,1829.6184,2828.3184,830.9184,4570.0512,1413.4934,5727.2116,3439.5228,2290.352,1794.331,4673.916,735.0432,5267.1438,4853.682,2087.283,778.986,2524.0478,3175.866,341.5554,2326.971,3515.424,743.0328,1500.7132,1426.1436,5888.3352,828.921,2569.3222,529.311,3658.571,1265.02,2221.1088,2175.8344,1403.5064,2143.876,296.281,1981.4208,2906.217,452.744,2428.8384,4566.7222,5359.69,111.8544,5834.4054,1422.1488,2285.0256,1508.037,3146.5708,4096.6674,1444.786,5410.9566,1342.2528,2077.296,3630.6074,2446.815,1784.344,1569.9564,4811.7366,3367.6164,1464.76,667.1316,3475.476,2306.997,615.1992,1569.9564,453.4098,331.5684,2292.3494,4870.327,914.8092,1810.976,1973.4312,1438.128,4221.8378,950.7624,1621.8888,1701.7848,2302.3364,3095.97,4146.6024,2596.62,3155.892,3579.3408,1342.2528,2864.9374,3813.7024,1589.2646,619.8598,1491.392,2546.685,1328.271,519.324,703.0848,2079.9592,1133.1916,4908.2776,1550.6482,3052.0272,3954.852,4094.67,721.0614,4795.0916,1843.6002,2659.871,593.2278,1414.825,1471.418,524.6504,502.0132,2946.165,3338.987,623.1888,1030.6584,1805.6496,3451.5072,2492.7552,402.809,2600.6148,2386.2272,4136.6154,3004.0896,2656.542,2631.2416,2557.3378,319.584,492.692,2796.36,669.129,980.0576,1342.2528,2782.3782,2916.204,3022.732,792.302,3225.1352,3155.892,894.8352,1174.4712,1864.24,1733.0774,1037.3164,1442.1228,1230.3984,1829.6184,2745.0934,4211.185,2916.204,984.7182,351.5424,631.8442,1752.3856,656.4788,3845.6608,732.38,539.298,2450.144,1845.5976,3427.5384,4837.7028,639.168,2587.9646,3745.125,2519.3872,1510.0344,337.5606,2909.546,761.6752,809.6128,1459.4336,2746.425,1506.0396,1800.3232,1325.6078,1534.0032,3263.7516,2954.1546,2106.5912,683.1108,282.2992,1701.7848,1358.232,607.2096,1685.8056,2302.3364,981.3892,1442.7886,4242.4776,2354.2688,2127.231,2799.689,2700.4848,1301.639,3652.5788,3621.2862,2804.3496,3894.93,388.1614,583.2408,3476.1418,388.1614,1298.31,3418.883,2153.1972,3251.7672,1150.5024,980.0576,1228.401,591.2304,133.8258,578.5802,3769.7596,1672.4896,490.0288,2106.5912,866.8716,2759.0752,1921.4988,703.0848,3751.783,1504.708,2648.5524,6358.39,4725.8484,3199.8348,1257.0304,531.3084,1038.648,850.8924,5355.0294,2924.1936,1245.046,1713.7692,3709.8376,3599.3148,3974.826,2334.9606,2299.6732,1202.4348,2900.2248,810.9444,6189.2768,1069.2748,1323.6104,183.095,2127.8968,1444.786,5424.9384,1859.5794,2055.3246,1332.9316,2514.0608,1428.141,1537.998,2376.906,768.999,3962.8416,701.7532,652.484,2884.2456,3520.0846,639.168,3162.55,2633.9048,1054.6272,3781.744,638.5022,1959.4494,1840.937,750.3566,750.3566,1768.3648,540.6296,1596.5884,1024.6662,205.0664,6096.0648,699.09,3950.1914,1331.6,3062.0142,4294.41,739.038,2764.4016,339.558,3089.9778,1231.73,892.172,5049.4272,1018.674,3215.814,3089.9778,2836.308,703.0848,2527.3768,282.2992,679.116,1091.912,1158.492,4288.4178,4119.9704,1750.3882,1006.6896,1435.4648,4685.9004,1999.3974,2707.1428,3819.0288,1444.786,5275.7992,1065.28,2841.6344,5797.7864,4012.7766,2848.9582,6145.334,367.5216,1821.6288,1737.738,3681.874,2802.3522,649.155,1390.1904,2929.52,1665.8316,1571.288,3904.917,2316.984,3705.8428,6474.2392,2045.3376,4729.8432,866.8716,2149.2024,4604.6728,2581.9724,2484.7656,2332.9632,1118.544,1576.6144,2852.2872,3372.9428,2127.231,767.0016,1038.648,1581.9408,3444.8492,545.2902,162.4552,4532.7664,447.4176,1134.5232,2189.1504,1603.9122,2181.1608,3247.7724,3972.8286,778.986,3815.034,1436.7964,3846.9924,2085.2856,996.0368,3124.5994,4377.635,3567.3564,1048.635,2816.334,3946.8624,1366.2216,1090.5804,607.2096,1304.968,2328.9684,1221.0772,2950.8256,3961.51,758.3462,1644.526,3901.588,1617.894,711.0744,3335.658,2580.6408,1597.92,4656.6052,2885.5772,3880.2824,2024.032,3238.4512,4146.6024,3301.7022,3914.904,703.0848,663.1368,830.9184,2365.5874,2237.088,2609.936,2182.4924,690.4346,1300.3074,1406.1696,857.5504,2490.092,1065.28,4344.345,1794.331,1687.1372,2456.802,1347.5792,1557.972,2001.3948,2237.088,2731.1116,1300.3074,1657.1762,361.5294,751.0224,3555.372,986.7156,946.7676,2492.7552,4165.2448,3844.995,2566.659,2330.9658,2759.0752,885.514,1677.1502,6002.8528,1340.2554,3691.1952,3831.0132,3520.0846,5077.3908,894.8352,1231.73,2854.9504,958.752,317.5866,3435.528,1123.8704,2708.4744,3001.4264,1882.2166,1565.9616,3113.2808,5179.924,3691.1952,1565.9616,2406.2012,605.878,4233.1564,3942.8676,1574.617,2375.5744,2780.3808,1379.5376,1065.28,5369.0112,2097.9358,1165.15,3645.255,1821.6288,589.233,3022.0662,5759.17,386.8298,441.4254,2852.2872,1225.7378,2440.8228,2153.1972,1860.2452,1612.5676,2077.296,1208.427,5193.24,1274.3412,1235.059,1340.2554,852.224,3769.7596,1230.3984,516.6608,818.934,1272.3438,5375.0034,1777.686,1062.6168,1174.4712,5086.712,2966.139,2530.04,2530.04,985.384,4027.4242,3243.7776,1288.9888,6088.0752,2025.3636,1257.0304,3781.744,4643.955,3463.4916,2226.4352,856.8846,2773.057,3910.9092,4869.6612,3254.4304,1340.2554,1435.4648,1436.7964,1281.665,1334.2632,4660.6,1128.531,1883.5482,1118.544,1282.3308,701.7532,2013.3792,1877.556,4247.804,533.3058,2703.148,2324.9736,3029.39,2664.5316,4351.6688,458.0704,1488.063,830.9184,1904.188,1342.2528,1108.557,2097.27,5321.0736,2668.5264,3419.5488,4807.076,3920.2304,4379.6324,2241.0828,1607.2412,490.6946,1662.5026,1944.136,1047.3034,3628.61,2519.3872,3315.0182,4180.5582,2049.3324,2708.4744,2388.2246,1895.5326,3346.3108,2516.724,335.5632,2559.3352,3355.632,1379.5376,2998.0974,2117.244,2708.4744,1584.604,3342.316,3866.9664,642.497,553.9456,2524.0478,1022.6688,3588.662,2636.568,1605.9096,2563.33,3179.8608,1388.193,259.662,1561.9668,2460.7968,1039.9796,3471.4812,1844.266,283.6308,4740.496,596.5568,2576.646,729.7168,1090.5804,1860.2452,1416.8224,3595.32,1577.946,1695.7926,3029.39,732.38,3112.615,2833.6448,1249.0408,3379.6008,1118.544,427.4436,1587.2672,3615.294,3554.7062,3488.1262,1369.5506,3364.9532,1201.769,878.856,439.428,2696.49,1794.331,2059.9852,2422.1804,1864.24,4915.6014,1637.868,1214.4192,5034.7796,2993.4368,1390.1904,1086.5856,1965.4416,1587.933,4933.578,4210.5192,2404.8696,4082.6856,948.0992,1372.2138,1751.054,3994.8,2277.036,1470.0864,517.9924,5608.6992,4028.09,647.1576,2285.0256,719.064,1890.872,2343.616,1264.3542,1709.1086,5369.0112,926.7936,3048.6982,2586.633,418.1224,3137.2496,1488.063,980.0576,2609.936,1737.738,1312.9576,2490.092,1549.3166,4040.7402,1029.9926,1211.756,2125.2336,1034.6532,1607.907,1384.864,1091.912,3954.852,3383.5956,305.6022,620.5256,679.116,3271.7412,4836.3712,1641.197,988.0472,4396.9432,4996.829,2308.9944,808.947,1348.245,2646.555,447.4176,3970.8312,1727.751,1252.3698,1627.881,143.8128,2572.6512,2759.0752,2956.152,2217.114,4074.696,1314.2892,868.869,183.7608,4893.63,1416.8224,703.0848,1516.0266,1667.829,1693.7952,4195.8716,1278.336,1531.34,1264.3542,3078.6592,1438.128,1187.7872,798.96,1492.0578,1320.9472,615.1992,3325.0052,2390.8878,1511.366,709.077,1100.5674,3749.7856,1384.1982,442.0912,848.895,1488.063,2281.6966,6303.7944,4020.7662,2570.6538,579.246,3504.1054,4266.4464,759.012,1326.2736,419.454,3954.852,2197.14,1134.5232,1565.9616,1334.2632,1267.6832,2326.971,1583.9382,882.8508,5960.2416,1737.738,341.5554,713.7376,1874.8928,1787.0072,401.4774,2404.8696,1482.0708,5946.9256,6474.2392,1747.725,4022.7636,2804.3496,2999.429,3935.5438,1510.0344,1516.6924,555.2772,5033.448,1655.1788,1146.5076,1668.4948,858.882,2818.3314,5452.902,2612.5992,2093.941,2940.1728,2261.0568,4566.0564,4287.752,1258.362,1810.976,1062.6168,1225.072,2162.5184,3115.944,3277.0676,2731.1116,3635.268,1842.9344,2619.2572,4460.86,2579.975,787.6414,986.7156,709.077,2599.2832,2740.4328,5890.9984,4165.2448,3874.956,4996.829,2550.014,583.2408,1981.4208,1957.452,4866.998,406.138,2961.4784,679.116,3225.801,873.5296,2553.343,922.7988,3089.9778,495.3552,612.536,1182.4608,295.6152,4844.3608,3340.9844,3509.4318,5346.374,2404.8696,1011.3502,6371.706,1551.9798,922.7988,3475.476,2527.3768,604.5464,343.5528,3214.4824,3422.212,1057.9562,3025.3952,1549.9824,2022.7004,4727.18,154.4656,4267.1122,4492.8184,4807.7418,2143.876,1030.6584,4649.9472,4363.6532,2482.7682,2740.4328,1282.3308,551.2824,761.0094,1416.8224,5226.53,4961.5416,1414.1592,4174.566,2846.295,1685.8056,2572.6512,4860.34,1657.842,3397.5774,4181.224,656.4788,2021.3688,1895.5326,1303.6364,527.3136,719.064,1944.136,3178.5292,2246.4092,2976.126,1629.8784,3735.138,873.5296,1771.028,2397.5458,2631.2416,2808.3444,311.5944,1584.604,3463.4916,1707.777,552.614,3231.1274,1938.8096,3884.943,2614.5966,1091.2462,1743.0644,5175.9292,2902.888,2929.52,5747.1856,958.752,2247.075,2314.9866,1457.4362,1162.4868,2227.101,316.9208,2966.139,2013.3792,1789.6704,5163.9448,1017.3424,3010.7476,2117.244,1278.336,3433.5306,705.748,4466.1864,413.4618,3064.0116,623.1888,2988.1104,940.7754,1310.2944,1351.574,2143.876,3124.5994,589.233,1208.427,2616.594,1254.3672,976.7286,3123.9336,4587.362,1593.9252,292.952,629.181,1015.345,3332.329,2277.036,1800.3232,1845.5976,3579.3408,1737.738,1378.206,3010.7476,1651.184,4470.1812,1677.816,1970.768,2631.2416,2846.295,2669.1922,2651.2156,587.2356,1846.9292,2013.3792,3755.112,575.2512,5005.4844,3739.1328,1298.31,2586.633,1070.6064,2871.5954,1864.24,2766.399,2106.5912,1191.782,3085.3172,649.8208,3293.7126,447.4176,365.5242,1162.4868,2858.2794,6056.1168,1488.7288,1310.2944,1808.9786,4138.6128,1370.2164,852.224,1471.418,2354.2688,4374.306,3563.3616,3506.7686,1653.8472,1113.2176,1341.587,3994.8,1182.4608,3795.06,2535.3664,1098.57,910.8144,2014.7108,6024.1584,1458.102,2423.512,1767.699,1677.1502,1258.362,2195.8084,2659.871,689.7688,2603.278,4152.5946,1534.0032,3202.498,353.5398,1547.985,3475.476,2822.992,1216.4166,3570.6854,3263.0858,3558.0352,2664.5316,1724.422,1308.297,4740.496,2388.8904,1868.2348,4459.5284,253.004,1025.9978,592.562,675.1212,1970.768,2950.1598,568.5932,1255.6988,5834.4054,493.3578,1860.2452,2433.499,3251.1014,2841.6344,6385.022,2376.906,2259.0594,2504.7396,2069.3064,1701.7848,710.4086,703.0848,331.5684,1165.15,1324.2762,356.8688,3600.6464,243.6828,1821.6288,4165.2448,5742.525,263.6568,2237.088,932.12,3139.9128,447.4176,2063.98,2082.6224,3775.086,713.7376,2263.72,837.5764,1635.8706,5841.0634,1030.6584,3690.5294,898.83,1596.5884,1696.4584,1384.864,1390.1904,1788.3388,761.6752,1418.154,3803.0496,767.0016,1669.8264,1922.8304,1713.7692,1364.89,2002.7264,3691.1952,820.2656,4275.7676,1304.968,1705.1138,1480.7392,1338.258,6251.862,588.5672,319.584,1491.392,958.752,2966.139,691.1004,758.3462,1350.2424,1366.2216,406.138,2111.9176,1338.258,1677.816,1158.492,2681.8424,1609.9044,2626.581,1138.518,3605.307,2418.1856,3880.2824,552.614,2006.7212,547.2876,2354.2688,680.4476,3773.7544,4653.2762,1159.8236,3243.7776,1086.5856,1973.4312,715.0692,4527.44,5383.6588,3004.0896,4035.4138,3111.9492,4440.886,4695.2216,1670.4922,2993.4368,371.5164,4119.9704,1938.8096,2283.0282,1677.816,2057.9878,2247.075,1567.959,4813.734,1957.452,1105.228,2061.3168,5890.9984,999.3658,2572.6512,1298.31,1179.1318,1922.8304,1506.0396,4681.9056,3563.3616,2600.6148,2266.3832,645.1602,2863.6058,2649.884,1268.349,1573.9512,5865.0322,4984.1788,1454.1072,396.8168,1211.756,3338.987,2045.3376,437.4306,2446.815,2030.69,539.298,703.0848,2376.906,1744.396,871.5322,1171.808,4572.0486,2503.408,6050.7904,2441.4886,1797.66,1926.1594,3094.6384,882.8508,4229.1616,1318.284,1720.4272,2807.0128,1508.037,1366.2216,1393.5194,2213.1192,1155.8288,3942.8676,3894.93,2290.352,892.8378,4566.7222,498.0184,3020.0688,4649.9472,610.5386,862.8768,4625.9784,3387.5904,1018.674,3124.5994,1704.448,2884.2456,1133.8574,1238.388,459.402,932.12,916.1408,1964.7758,3570.0196,4474.176,4731.1748,3589.9936,3516.7556,1765.7016,2395.5484,3338.3212,6041.4692,4262.4516,1258.362,3175.866,2773.057,1211.756,1238.388,5540.7876,2540.6928,458.7362,1624.552,996.0368,2217.114,1576.6144,2433.499,4725.8484,601.8832,583.2408,1689.8004,4804.4128,3537.3954,3016.7398,1278.336,2093.941,3098.6332,2526.711,1627.881,2241.7486,4293.0784,982.7208,3020.0688,647.8234,284.2966,3235.788,1765.7016,1540.6612,2591.2936,3313.6866,2588.6304,3956.8494,3277.0676,1315.6208,5816.4288,1556.6404,1587.933,952.094,1537.998,247.0118,1845.5976,2080.625,1158.492,4610.665,3261.7542,1151.834,3861.64,4314.384,2988.1104,4713.864,4011.445,2759.0752,5564.7564,2450.144,1406.1696,4005.4528,325.5762,1340.2554,1797.66,802.9548,1962.7784,3193.8426,777.6544,826.9236,2209.1244,1938.8096,3149.234,2002.0606,5634.6654,6308.455,2616.594,1211.756,2864.2716,886.8456,3504.7712,325.5762,4777.7808,4026.7584,1116.5466,1470.0864,2450.144,2125.2336,6231.888,466.06,1159.8236,1498.05,2356.932,3946.8624,923.4646,2799.689,2390.8878,755.0172,331.5684,1416.8224,597.2226,1944.136,2332.9632,5424.9384,2199.8032,533.3058,2005.3896,5073.396,5007.4818,1556.6404,1049.9666,1655.1788,2502.7422,1701.7848,3235.788,2094.6068,3799.0548,870.8664,3904.917,1731.08,1805.6496,1927.491,5591.3884,6424.97,1575.2828,1336.2606,2466.789,1315.6208,286.294,2073.3012,5020.132,6076.0908,4048.064,2848.2924,2024.032,882.8508,377.5086,1404.838,1436.7964,2826.321,3555.372,539.298,4402.9354,1717.764,1644.526,1398.18,992.7078,3966.1706,3523.4136,3715.164,871.5322,1619.2256,3628.61,503.3448,3219.8088,1967.439,4103.9912,3874.956,5842.395,2475.4444,2380.9008,2749.754,1948.1308,2410.196,3954.852,5070.7328,5313.084,736.3748,3583.3356,2936.178,2801.6864,2277.036,4482.1656,872.8638,2885.5772,1454.1072,1037.3164,255.6672,3635.268,2748.4224,1823.6262,1298.31,4777.115,1036.6506,768.999,948.0992,3020.0688,910.8144,2644.5576,1982.0866,3174.5344,1398.18,713.0718,247.0118,539.298,2908.2144,1454.773,2449.4782,852.224,5688.5952,2496.75,822.263,652.484,1896.1984,2364.9216,885.514,1374.2112,1868.2348,4407.596,2466.789,5779.144,3835.008,1581.9408,2908.8802,878.856,1318.284,2061.3168,4781.7756,3079.325,810.9444,1166.4816,3155.892,1662.5026,2174.5028,2037.348,1697.79,2836.308,2042.6744,2384.8956,2116.5782,1669.8264,1225.072,4154.592,1211.756,1948.1308,1830.95,1701.7848,2247.7408,3981.484,1462.0968,1065.28,4225.1668,5287.7836,3004.0896,1274.3412,3199.8348,1208.427,3523.4136,3436.1938,745.696,886.8456,1720.4272,589.233,2544.6876,3415.554,4194.54,848.895,1573.9512,259.662,1174.4712,627.1836,1125.8678,2416.1882,916.1408,2591.2936,2050.664,1205.098,287.6256,1725.7536,1289.6546,2163.1842,1258.362,1844.266,517.3266,5536.7928,2358.2636,3483.4656,5375.6692,4380.964,952.094,1829.6184,1480.0734,2157.192,3325.671,965.41,2659.871,1627.881,1537.998,423.4488,2501.4106,1743.0644,958.752,3848.324,4697.8848,1102.5648,1651.184,1354.903,5492.85,1930.82,2544.6876,1969.4364,2787.0388,3352.303,2516.724,3728.48,1540.6612,717.7324,1062.6168,588.5672,1428.141,1494.0552,1183.7924,1788.3388,1018.0082,3316.3498,3535.398,1651.184,452.744,1188.453,796.9626,2816.334,2684.5056,423.4488,1034.6532,2285.0256,651.8182,3952.1888,1134.5232,5865.0322,1618.5598,1593.9252,271.6464,3545.385,4008.116,767.0016,485.3682,3950.1914,559.272,1644.526,974.0654,1549.9824,2856.282,3900.9222,2748.4224,3151.8972,1071.938,3894.93,2498.0816,950.7624,2693.8268,1711.106,1294.3152,759.012,2399.5432,1254.3672,4234.488,1169.8106,1494.0552,1713.7692,671.1264,1640.5312,4996.829,1398.18,3255.762,3545.385,2828.3184,2462.7942,4466.1864,2026.0294,4390.2852,994.7052,5015.4714,2444.8176,1551.9798,3575.346,868.869,1836.2764,1510.0344,1406.1696,1845.5976,1749.7224,3896.2616,3056.022,3384.2614,2816.334,1869.5664,1808.9786,1348.245,499.35,1215.7508,2693.8268,490.0288,4231.8248,2407.5328,511.3344,509.337,2496.75,2926.191,777.6544,6311.784,3705.8428,759.6778,3731.809,2922.1962,2302.3364,2302.3364,1798.9916,2004.058,1838.2738,1458.102,1685.8056,1494.0552,1186.4556,572.588,4303.0654,671.1264,503.3448,614.5334,3175.866,788.3072,695.0952,2271.0438,1860.2452,2868.2664,1956.1204,1318.284,1743.0644,1797.66,2736.438,2451.4756,352.874,3111.9492,2082.6224,3570.0196,391.4904,1382.2008,2577.9776,996.0368,1134.5232,1761.7068,4097.3332,2609.936,3295.71,3775.086,1565.9616,2908.2144,5509.495,2572.6512,3916.2356,587.2356,5097.3648,785.644,5976.2208,4847.024,4277.765,1970.768,1534.0032,832.9158,2773.057,1177.1344,2045.3376,2914.8724,952.094,388.1614,1098.57,802.9548,539.298,872.8638,1052.6298,2681.8424,3435.528,4291.7468,4364.319,2163.1842,5937.6044,1388.8588,4291.7468,1867.569,4567.388,1731.7458,1845.5976,1960.1152,4339.0186,1965.4416,937.4464,1086.5856,922.7988,2013.3792,2641.8944,2257.062,1619.2256,904.1564,1994.7368,974.7312,1853.5872,3137.2496,739.038,1772.3596,605.878,1120.5414,2163.85,772.328,2167.8448,495.3552,834.9132,2636.568,2848.9582,575.2512,1366.2216,412.796,697.7584,1977.426,396.8168,790.9704,2741.7644,1070.6064,834.9132,3610.6334,5944.2624,1062.6168,1717.764,2051.9956,788.3072,1693.7952,5410.9566,1118.544,2253.0672,4819.7262,2120.573,1278.336,1078.596,474.0496,1724.422,3185.853,2045.3376,2876.256,1438.128,419.454,575.2512,1072.6038,5343.045,942.7728,2069.3064,4687.232,849.5608,2251.0698,3119.9388,1035.9848,778.3202,3453.5046,239.688,1188.453,970.7364,4673.916,922.7988,709.077,2143.876,577.2486,2220.443,1151.1682,1241.0512,2985.4472,1797.66,2676.516,4942.8992,1414.825,885.514,1593.9252,2766.399,1491.392,854.8872,4637.9628,2432.1674,1944.136,2189.1504,1076.5986,5635.3312,826.9236,3765.099,2078.6276,952.7598,4431.5648,1901.5248,2972.797,1118.544,1480.0734,3103.9596,1414.1592,1403.5064,778.986,918.804,1707.777,1743.0644,1986.0814,2780.3808,3645.255,1869.5664,1631.8758,3757.1094,2366.919,2463.46,1258.362,4925.5884,2345.6134,2681.8424,3146.5708,837.5764,2652.5472,5829.7448,838.908,2906.217,1775.6886,1947.465,605.878,383.5008,633.8416,3197.1716,335.5632,2432.8332,1444.1202,5543.4508,1539.9954,1230.3984,2003.3922,4170.5712,1311.626,1174.4712,649.8208,820.2656,703.0848,838.908,671.1264,2406.2012,1133.8574,2255.7304,1844.266,5073.396,428.7752,3209.156,386.8298,3418.883,1704.448,1120.5414,4211.185,1120.5414,567.2616,3505.437,3528.74,1342.2528,3644.5892,2352.9372,5022.7952,2796.36,6471.576,2984.1156,461.3994,2542.0244,1480.0734,988.713,2732.4432,2137.8838,503.3448,4287.752,3962.8416,1869.5664,1438.128,1270.3464,2218.4456,1857.582,5193.9058,2554.0088,3066.6748,2556.672,1593.9252,3327.6684,4211.185,1498.05,995.371,4040.7402,1211.756,3169.208,2407.5328,2450.144,1958.1178,677.1186,2442.1544,1544.656,743.0328,1965.4416,2988.1104,2394.8826,276.9728,4477.505,4837.7028,1874.8928,552.614,1419.4856,307.5996,4074.696,2362.9242,985.384,2241.0828,3237.1196,961.4152,3795.06,1556.6404,2848.2924,4218.5088,1384.1982,3124.5994,894.8352,3307.6944,1393.5194,639.168,565.2642,2006.7212,1118.544,3103.9596,5432.928,1267.6832,1471.418,1830.95,922.7988,2504.7396,798.96,3350.3056,3782.4098,2059.9852,2552.6772,1245.046,2916.204,1587.933,732.38,2833.6448,2440.8228,5642.655,3593.3226,838.908,2878.2534,4454.202,4233.1564,5033.448,1342.2528,2446.1492,1910.846,2167.8448,2743.7618,4229.1616,3605.307,3146.5708,848.895,1693.7952,784.3124,765.67,3593.3226,1214.4192,5812.434,1772.3596,2218.4456,4921.5936,1584.604,751.0224,1194.4452,1831.6158,416.125,3499.4448,1977.426,432.77,326.242,3515.424,392.822,1890.872,1098.57,731.0484,4175.8976,3006.087,2852.2872,3060.0168,2073.3012,5309.755,4136.6154,4171.9028,2261.0568,1989.4104,3592.6568,868.869,2376.906,4379.6324,1031.99,2416.854,316.9208,1696.4584,5145.3024,3617.9572,612.536,2920.1988,3528.74,6199.9296,1929.4884,2014.7108,1163.8184,1235.7248,3775.086,2189.1504,1789.6704,1470.0864,1155.8288,549.9508,1731.08,3153.2288,363.5268,1105.8938,223.7088,579.246,1225.072,735.709,2371.5796,2648.5524,3520.0846,6008.1792,2964.1416,659.142,2111.2518,1102.5648,1240.3854,1235.059,2006.7212,1182.4608,3568.0222,623.1888,2348.9424,1569.9564,1691.7978,3142.576,202.4032,958.752,2396.88,1719.7614,687.1056,2109.2544,1406.1696,4594.02,615.1992,679.116,1857.582,764.3384,1651.184,1653.8472,222.3772,2396.88,1686.4714,809.6128,1869.5664,4013.4424,3174.5344,1416.8224,4731.1748,1084.5882,864.2084,2423.512,865.54,1286.3256,2908.2144,2656.542,4422.2436,1186.4556,973.3996,4961.5416,1230.3984,3209.156,2410.196,3354.3004,3075.996,2741.0986,1981.4208,1917.504,3016.7398,3825.6868,605.878,2621.9204,3029.39,491.3604,3984.1472,366.19,341.5554,1813.6392,3466.1548,703.0848,2693.8268,2171.8396,1025.332,4637.9628,882.185,605.878,2362.9242,3964.839,4673.916,1577.946,423.4488,1823.6262,1985.4156,2696.49,3881.614,2336.958,410.1328,3271.7412,3705.177,4026.7584,269.649,2567.3248,1215.7508,772.328,958.752,314.2576,3430.2016,3185.853,2366.919,1845.5976,1604.578,3325.0052,341.5554,2358.2636,371.5164,850.8924,4028.09,1607.907,2889.572,3414.8882,1086.5856,5313.7498,1917.504,2093.941,1201.769,2117.244,3523.4136,2467.4548,5849.7188,1438.128,2363.59,1306.9654,4210.5192,4363.6532,3271.7412,2049.3324,771.6622,3099.9648,610.5386,2223.772,1684.474,1099.2358,708.4112,3914.904,5296.439,2423.512,2841.6344,2822.992,1596.5884,3072.667,822.263,1539.9954,2795.6942,1528.011,645.1602,3635.268,1390.1904,3355.632,459.402,1800.3232,1054.6272,871.5322,1789.6704,3717.8272,810.9444,2372.9112,3635.268,4739.8302,3103.9596,633.8416,813.6076,533.3058,2155.1946,2402.2064,3219.8088,836.2448,772.328,309.597,5992.2,2972.1312,1367.5532,1395.5168,1679.1476,999.3658,575.2512,2563.33,4090.6752,788.973,4431.5648,2203.798,1691.132,2263.72,2490.092,925.462,2336.2922,942.107,1867.569,3739.1328,2756.412,4512.1266,1090.5804,2094.6068,2876.256,4042.7376,848.895,1813.6392,4332.3606,527.3136,2596.62,3034.0506,777.6544,2888.2404,510.6686,1844.9318,3254.4304,3791.0652,3387.5904,4206.5244,487.3656,1516.6924,741.0354,2852.2872,4165.2448,1494.0552,468.7232,2726.451,673.7896,3881.614,467.3916,1551.314,2302.3364,2153.1972,378.1744,1280.9992,1970.768,4820.392,2579.3092,695.0952,1612.5676,2324.9736,2419.5172,4727.18,1637.868,4314.384,3715.164,2247.075,2976.126,1907.517,1508.037,3020.0688,3392.9168,515.995,2587.9646,2479.4392,595.2252,468.7232,3608.636,2778.3834,549.285,1193.1136,765.67],\"yaxis\":\"y\",\"type\":\"histogram\"},{\"alignmentgroup\":\"True\",\"bingroup\":\"x\",\"histfunc\":\"sum\",\"hovertemplate\":\"Outlet Type=Supermarket Type2<br>Item Type=%{x}<br>sum of Total Sales=%{y}<extra></extra>\",\"legendgroup\":\"Supermarket Type2\",\"marker\":{\"color\":\"#EF553B\",\"pattern\":{\"shape\":\"\"}},\"name\":\"Supermarket Type2\",\"offsetgroup\":\"Supermarket Type2\",\"orientation\":\"v\",\"showlegend\":true,\"x\":[\"Soft Drinks\",\"Baking Goods\",\"Health and Hygiene\",\"Health and Hygiene\",\"Snack Foods\",\"Soft Drinks\",\"Snack Foods\",\"Fruits and Vegetables\",\"Snack Foods\",\"Snack Foods\",\"Snack Foods\",\"Canned\",\"Frozen Foods\",\"Frozen Foods\",\"Household\",\"Baking Goods\",\"Canned\",\"Canned\",\"Breads\",\"Snack Foods\",\"Fruits and Vegetables\",\"Fruits and Vegetables\",\"Fruits and Vegetables\",\"Household\",\"Dairy\",\"Breads\",\"Frozen Foods\",\"Canned\",\"Breads\",\"Hard Drinks\",\"Dairy\",\"Canned\",\"Meat\",\"Snack Foods\",\"Dairy\",\"Dairy\",\"Meat\",\"Fruits and Vegetables\",\"Frozen Foods\",\"Canned\",\"Dairy\",\"Frozen Foods\",\"Baking Goods\",\"Fruits and Vegetables\",\"Frozen Foods\",\"Soft Drinks\",\"Health and Hygiene\",\"Soft Drinks\",\"Health and Hygiene\",\"Frozen Foods\",\"Snack Foods\",\"Frozen Foods\",\"Frozen Foods\",\"Meat\",\"Household\",\"Baking Goods\",\"Fruits and Vegetables\",\"Canned\",\"Dairy\",\"Household\",\"Dairy\",\"Fruits and Vegetables\",\"Dairy\",\"Frozen Foods\",\"Hard Drinks\",\"Meat\",\"Household\",\"Frozen Foods\",\"Fruits and Vegetables\",\"Seafood\",\"Others\",\"Frozen Foods\",\"Meat\",\"Household\",\"Fruits and Vegetables\",\"Household\",\"Household\",\"Snack Foods\",\"Health and Hygiene\",\"Snack Foods\",\"Snack Foods\",\"Meat\",\"Dairy\",\"Snack Foods\",\"Baking Goods\",\"Others\",\"Household\",\"Fruits and Vegetables\",\"Snack Foods\",\"Fruits and Vegetables\",\"Snack Foods\",\"Frozen Foods\",\"Canned\",\"Snack Foods\",\"Snack Foods\",\"Frozen Foods\",\"Canned\",\"Health and Hygiene\",\"Canned\",\"Household\",\"Snack Foods\",\"Snack Foods\",\"Dairy\",\"Household\",\"Soft Drinks\",\"Canned\",\"Frozen Foods\",\"Snack Foods\",\"Snack Foods\",\"Snack Foods\",\"Health and Hygiene\",\"Breads\",\"Fruits and Vegetables\",\"Canned\",\"Dairy\",\"Dairy\",\"Frozen Foods\",\"Household\",\"Fruits and Vegetables\",\"Health and Hygiene\",\"Fruits and Vegetables\",\"Fruits and Vegetables\",\"Snack Foods\",\"Others\",\"Canned\",\"Fruits and Vegetables\",\"Baking Goods\",\"Snack Foods\",\"Dairy\",\"Baking Goods\",\"Snack Foods\",\"Snack Foods\",\"Fruits and Vegetables\",\"Soft Drinks\",\"Snack Foods\",\"Household\",\"Snack Foods\",\"Household\",\"Baking Goods\",\"Fruits and Vegetables\",\"Baking Goods\",\"Health and Hygiene\",\"Snack Foods\",\"Frozen Foods\",\"Meat\",\"Fruits and Vegetables\",\"Snack Foods\",\"Meat\",\"Household\",\"Fruits and Vegetables\",\"Fruits and Vegetables\",\"Household\",\"Household\",\"Frozen Foods\",\"Fruits and Vegetables\",\"Soft Drinks\",\"Fruits and Vegetables\",\"Fruits and Vegetables\",\"Household\",\"Snack Foods\",\"Household\",\"Meat\",\"Dairy\",\"Dairy\",\"Frozen Foods\",\"Frozen Foods\",\"Fruits and Vegetables\",\"Health and Hygiene\",\"Meat\",\"Frozen Foods\",\"Fruits and Vegetables\",\"Snack Foods\",\"Snack Foods\",\"Household\",\"Fruits and Vegetables\",\"Fruits and Vegetables\",\"Snack Foods\",\"Snack Foods\",\"Snack Foods\",\"Household\",\"Snack Foods\",\"Hard Drinks\",\"Frozen Foods\",\"Canned\",\"Frozen Foods\",\"Fruits and Vegetables\",\"Fruits and Vegetables\",\"Baking Goods\",\"Canned\",\"Health and Hygiene\",\"Snack Foods\",\"Snack Foods\",\"Fruits and Vegetables\",\"Snack Foods\",\"Soft Drinks\",\"Household\",\"Health and Hygiene\",\"Canned\",\"Meat\",\"Fruits and Vegetables\",\"Snack Foods\",\"Canned\",\"Fruits and Vegetables\",\"Household\",\"Others\",\"Snack Foods\",\"Canned\",\"Frozen Foods\",\"Frozen Foods\",\"Fruits and Vegetables\",\"Frozen Foods\",\"Household\",\"Soft Drinks\",\"Hard Drinks\",\"Household\",\"Dairy\",\"Snack Foods\",\"Baking Goods\",\"Dairy\",\"Dairy\",\"Fruits and Vegetables\",\"Canned\",\"Frozen Foods\",\"Snack Foods\",\"Fruits and Vegetables\",\"Dairy\",\"Breads\",\"Household\",\"Household\",\"Snack Foods\",\"Soft Drinks\",\"Dairy\",\"Baking Goods\",\"Meat\",\"Snack Foods\",\"Snack Foods\",\"Hard Drinks\",\"Baking Goods\",\"Household\",\"Health and Hygiene\",\"Snack Foods\",\"Fruits and Vegetables\",\"Health and Hygiene\",\"Frozen Foods\",\"Frozen Foods\",\"Snack Foods\",\"Snack Foods\",\"Dairy\",\"Frozen Foods\",\"Canned\",\"Household\",\"Snack Foods\",\"Household\",\"Frozen Foods\",\"Health and Hygiene\",\"Frozen Foods\",\"Canned\",\"Dairy\",\"Dairy\",\"Snack Foods\",\"Fruits and Vegetables\",\"Dairy\",\"Canned\",\"Frozen Foods\",\"Baking Goods\",\"Baking Goods\",\"Snack Foods\",\"Meat\",\"Soft Drinks\",\"Canned\",\"Snack Foods\",\"Frozen Foods\",\"Fruits and Vegetables\",\"Baking Goods\",\"Household\",\"Dairy\",\"Canned\",\"Canned\",\"Canned\",\"Fruits and Vegetables\",\"Fruits and Vegetables\",\"Hard Drinks\",\"Fruits and Vegetables\",\"Snack Foods\",\"Household\",\"Health and Hygiene\",\"Canned\",\"Snack Foods\",\"Snack Foods\",\"Fruits and Vegetables\",\"Frozen Foods\",\"Snack Foods\",\"Meat\",\"Canned\",\"Snack Foods\",\"Seafood\",\"Baking Goods\",\"Snack Foods\",\"Frozen Foods\",\"Canned\",\"Snack Foods\",\"Fruits and Vegetables\",\"Canned\",\"Baking Goods\",\"Baking Goods\",\"Baking Goods\",\"Soft Drinks\",\"Frozen Foods\",\"Frozen Foods\",\"Canned\",\"Household\",\"Starchy Foods\",\"Household\",\"Frozen Foods\",\"Baking Goods\",\"Fruits and Vegetables\",\"Canned\",\"Fruits and Vegetables\",\"Fruits and Vegetables\",\"Starchy Foods\",\"Meat\",\"Fruits and Vegetables\",\"Household\",\"Household\",\"Dairy\",\"Fruits and Vegetables\",\"Dairy\",\"Household\",\"Canned\",\"Fruits and Vegetables\",\"Snack Foods\",\"Fruits and Vegetables\",\"Health and Hygiene\",\"Frozen Foods\",\"Soft Drinks\",\"Household\",\"Fruits and Vegetables\",\"Meat\",\"Dairy\",\"Others\",\"Frozen Foods\",\"Health and Hygiene\",\"Baking Goods\",\"Canned\",\"Household\",\"Soft Drinks\",\"Soft Drinks\",\"Snack Foods\",\"Fruits and Vegetables\",\"Breads\",\"Meat\",\"Dairy\",\"Frozen Foods\",\"Fruits and Vegetables\",\"Fruits and Vegetables\",\"Fruits and Vegetables\",\"Starchy Foods\",\"Breads\",\"Breakfast\",\"Others\",\"Snack Foods\",\"Canned\",\"Fruits and Vegetables\",\"Dairy\",\"Fruits and Vegetables\",\"Breads\",\"Baking Goods\",\"Fruits and Vegetables\",\"Fruits and Vegetables\",\"Baking Goods\",\"Household\",\"Dairy\",\"Meat\",\"Baking Goods\",\"Fruits and Vegetables\",\"Frozen Foods\",\"Snack Foods\",\"Seafood\",\"Health and Hygiene\",\"Snack Foods\",\"Snack Foods\",\"Snack Foods\",\"Fruits and Vegetables\",\"Snack Foods\",\"Meat\",\"Baking Goods\",\"Canned\",\"Fruits and Vegetables\",\"Snack Foods\",\"Soft Drinks\",\"Snack Foods\",\"Fruits and Vegetables\",\"Household\",\"Baking Goods\",\"Dairy\",\"Baking Goods\",\"Household\",\"Frozen Foods\",\"Fruits and Vegetables\",\"Snack Foods\",\"Fruits and Vegetables\",\"Others\",\"Breakfast\",\"Frozen Foods\",\"Breads\",\"Household\",\"Health and Hygiene\",\"Breakfast\",\"Starchy Foods\",\"Dairy\",\"Dairy\",\"Hard Drinks\",\"Hard Drinks\",\"Snack Foods\",\"Fruits and Vegetables\",\"Fruits and Vegetables\",\"Snack Foods\",\"Starchy Foods\",\"Fruits and Vegetables\",\"Fruits and Vegetables\",\"Snack Foods\",\"Fruits and Vegetables\",\"Canned\",\"Household\",\"Snack Foods\",\"Snack Foods\",\"Meat\",\"Household\",\"Fruits and Vegetables\",\"Dairy\",\"Baking Goods\",\"Canned\",\"Snack Foods\",\"Dairy\",\"Health and Hygiene\",\"Canned\",\"Frozen Foods\",\"Frozen Foods\",\"Frozen Foods\",\"Household\",\"Starchy Foods\",\"Dairy\",\"Snack Foods\",\"Breads\",\"Snack Foods\",\"Dairy\",\"Household\",\"Baking Goods\",\"Baking Goods\",\"Snack Foods\",\"Breads\",\"Snack Foods\",\"Hard Drinks\",\"Dairy\",\"Breads\",\"Canned\",\"Household\",\"Starchy Foods\",\"Baking Goods\",\"Frozen Foods\",\"Household\",\"Soft Drinks\",\"Fruits and Vegetables\",\"Snack Foods\",\"Health and Hygiene\",\"Fruits and Vegetables\",\"Health and Hygiene\",\"Meat\",\"Canned\",\"Fruits and Vegetables\",\"Soft Drinks\",\"Fruits and Vegetables\",\"Fruits and Vegetables\",\"Household\",\"Household\",\"Frozen Foods\",\"Dairy\",\"Canned\",\"Dairy\",\"Baking Goods\",\"Canned\",\"Canned\",\"Fruits and Vegetables\",\"Snack Foods\",\"Meat\",\"Fruits and Vegetables\",\"Frozen Foods\",\"Snack Foods\",\"Household\",\"Soft Drinks\",\"Canned\",\"Snack Foods\",\"Household\",\"Fruits and Vegetables\",\"Meat\",\"Snack Foods\",\"Household\",\"Fruits and Vegetables\",\"Frozen Foods\",\"Soft Drinks\",\"Breakfast\",\"Dairy\",\"Fruits and Vegetables\",\"Hard Drinks\",\"Meat\",\"Breads\",\"Fruits and Vegetables\",\"Frozen Foods\",\"Starchy Foods\",\"Soft Drinks\",\"Snack Foods\",\"Health and Hygiene\",\"Baking Goods\",\"Fruits and Vegetables\",\"Household\",\"Health and Hygiene\",\"Canned\",\"Snack Foods\",\"Frozen Foods\",\"Meat\",\"Household\",\"Fruits and Vegetables\",\"Snack Foods\",\"Dairy\",\"Fruits and Vegetables\",\"Frozen Foods\",\"Seafood\",\"Health and Hygiene\",\"Fruits and Vegetables\",\"Meat\",\"Others\",\"Health and Hygiene\",\"Canned\",\"Canned\",\"Household\",\"Baking Goods\",\"Frozen Foods\",\"Starchy Foods\",\"Others\",\"Fruits and Vegetables\",\"Household\",\"Canned\",\"Household\",\"Snack Foods\",\"Canned\",\"Baking Goods\",\"Breakfast\",\"Fruits and Vegetables\",\"Meat\",\"Baking Goods\",\"Breads\",\"Canned\",\"Breads\",\"Frozen Foods\",\"Snack Foods\",\"Canned\",\"Frozen Foods\",\"Soft Drinks\",\"Meat\",\"Dairy\",\"Household\",\"Fruits and Vegetables\",\"Hard Drinks\",\"Starchy Foods\",\"Soft Drinks\",\"Frozen Foods\",\"Meat\",\"Baking Goods\",\"Frozen Foods\",\"Frozen Foods\",\"Hard Drinks\",\"Household\",\"Baking Goods\",\"Dairy\",\"Fruits and Vegetables\",\"Meat\",\"Snack Foods\",\"Household\",\"Dairy\",\"Dairy\",\"Breakfast\",\"Fruits and Vegetables\",\"Health and Hygiene\",\"Meat\",\"Breads\",\"Baking Goods\",\"Baking Goods\",\"Health and Hygiene\",\"Fruits and Vegetables\",\"Canned\",\"Breads\",\"Fruits and Vegetables\",\"Household\",\"Dairy\",\"Dairy\",\"Fruits and Vegetables\",\"Baking Goods\",\"Frozen Foods\",\"Others\",\"Soft Drinks\",\"Baking Goods\",\"Baking Goods\",\"Canned\",\"Breads\",\"Household\",\"Fruits and Vegetables\",\"Meat\",\"Dairy\",\"Snack Foods\",\"Canned\",\"Starchy Foods\",\"Baking Goods\",\"Snack Foods\",\"Frozen Foods\",\"Frozen Foods\",\"Snack Foods\",\"Snack Foods\",\"Snack Foods\",\"Baking Goods\",\"Breads\",\"Snack Foods\",\"Household\",\"Soft Drinks\",\"Hard Drinks\",\"Breads\",\"Health and Hygiene\",\"Household\",\"Snack Foods\",\"Household\",\"Dairy\",\"Household\",\"Household\",\"Baking Goods\",\"Household\",\"Soft Drinks\",\"Canned\",\"Soft Drinks\",\"Others\",\"Baking Goods\",\"Breads\",\"Household\",\"Soft Drinks\",\"Hard Drinks\",\"Soft Drinks\",\"Health and Hygiene\",\"Frozen Foods\",\"Snack Foods\",\"Canned\",\"Household\",\"Household\",\"Household\",\"Canned\",\"Household\",\"Snack Foods\",\"Frozen Foods\",\"Snack Foods\",\"Breads\",\"Household\",\"Fruits and Vegetables\",\"Dairy\",\"Baking Goods\",\"Baking Goods\",\"Baking Goods\",\"Fruits and Vegetables\",\"Dairy\",\"Canned\",\"Snack Foods\",\"Baking Goods\",\"Baking Goods\",\"Snack Foods\",\"Soft Drinks\",\"Baking Goods\",\"Canned\",\"Meat\",\"Snack Foods\",\"Household\",\"Frozen Foods\",\"Canned\",\"Fruits and Vegetables\",\"Frozen Foods\",\"Frozen Foods\",\"Dairy\",\"Health and Hygiene\",\"Dairy\",\"Frozen Foods\",\"Household\",\"Others\",\"Meat\",\"Breads\",\"Fruits and Vegetables\",\"Fruits and Vegetables\",\"Dairy\",\"Health and Hygiene\",\"Canned\",\"Fruits and Vegetables\",\"Snack Foods\",\"Soft Drinks\",\"Snack Foods\",\"Household\",\"Frozen Foods\",\"Baking Goods\",\"Fruits and Vegetables\",\"Breakfast\",\"Dairy\",\"Dairy\",\"Frozen Foods\",\"Baking Goods\",\"Soft Drinks\",\"Snack Foods\",\"Frozen Foods\",\"Frozen Foods\",\"Household\",\"Soft Drinks\",\"Breakfast\",\"Snack Foods\",\"Household\",\"Soft Drinks\",\"Soft Drinks\",\"Snack Foods\",\"Baking Goods\",\"Starchy Foods\",\"Health and Hygiene\",\"Others\",\"Dairy\",\"Breads\",\"Fruits and Vegetables\",\"Household\",\"Baking Goods\",\"Snack Foods\",\"Snack Foods\",\"Fruits and Vegetables\",\"Health and Hygiene\",\"Meat\",\"Baking Goods\",\"Hard Drinks\",\"Dairy\",\"Health and Hygiene\",\"Frozen Foods\",\"Starchy Foods\",\"Fruits and Vegetables\",\"Health and Hygiene\",\"Frozen Foods\",\"Starchy Foods\",\"Dairy\",\"Snack Foods\",\"Baking Goods\",\"Health and Hygiene\",\"Health and Hygiene\",\"Others\",\"Fruits and Vegetables\",\"Fruits and Vegetables\",\"Seafood\",\"Others\",\"Canned\",\"Frozen Foods\",\"Breads\",\"Frozen Foods\",\"Snack Foods\",\"Meat\",\"Breakfast\",\"Health and Hygiene\",\"Frozen Foods\",\"Fruits and Vegetables\",\"Fruits and Vegetables\",\"Health and Hygiene\",\"Household\",\"Health and Hygiene\",\"Household\",\"Canned\",\"Hard Drinks\",\"Health and Hygiene\",\"Canned\",\"Fruits and Vegetables\",\"Frozen Foods\",\"Health and Hygiene\",\"Canned\",\"Dairy\",\"Canned\",\"Meat\",\"Hard Drinks\",\"Soft Drinks\",\"Fruits and Vegetables\",\"Frozen Foods\",\"Breakfast\",\"Fruits and Vegetables\",\"Baking Goods\",\"Canned\",\"Others\",\"Meat\",\"Canned\",\"Snack Foods\",\"Fruits and Vegetables\",\"Health and Hygiene\",\"Breakfast\",\"Frozen Foods\",\"Breads\",\"Frozen Foods\",\"Breakfast\",\"Frozen Foods\",\"Fruits and Vegetables\",\"Snack Foods\",\"Snack Foods\",\"Frozen Foods\",\"Others\",\"Fruits and Vegetables\",\"Soft Drinks\",\"Hard Drinks\",\"Snack Foods\",\"Fruits and Vegetables\",\"Snack Foods\",\"Soft Drinks\",\"Snack Foods\",\"Dairy\",\"Fruits and Vegetables\",\"Soft Drinks\",\"Starchy Foods\",\"Fruits and Vegetables\",\"Hard Drinks\",\"Others\",\"Soft Drinks\",\"Canned\",\"Fruits and Vegetables\",\"Fruits and Vegetables\",\"Frozen Foods\",\"Health and Hygiene\",\"Breads\",\"Baking Goods\",\"Canned\",\"Baking Goods\",\"Dairy\",\"Household\",\"Baking Goods\",\"Hard Drinks\",\"Household\",\"Meat\",\"Snack Foods\",\"Canned\",\"Meat\",\"Fruits and Vegetables\",\"Canned\",\"Soft Drinks\",\"Health and Hygiene\",\"Fruits and Vegetables\",\"Household\",\"Household\",\"Household\",\"Dairy\",\"Household\",\"Fruits and Vegetables\",\"Fruits and Vegetables\",\"Frozen Foods\",\"Snack Foods\",\"Soft Drinks\",\"Frozen Foods\",\"Fruits and Vegetables\",\"Snack Foods\",\"Fruits and Vegetables\",\"Baking Goods\",\"Health and Hygiene\",\"Fruits and Vegetables\",\"Snack Foods\",\"Fruits and Vegetables\",\"Household\",\"Household\",\"Health and Hygiene\",\"Dairy\",\"Baking Goods\",\"Dairy\",\"Fruits and Vegetables\",\"Dairy\",\"Dairy\",\"Fruits and Vegetables\",\"Baking Goods\",\"Canned\",\"Health and Hygiene\",\"Household\",\"Dairy\",\"Health and Hygiene\",\"Dairy\",\"Starchy Foods\",\"Snack Foods\",\"Canned\",\"Health and Hygiene\",\"Snack Foods\",\"Household\",\"Hard Drinks\",\"Meat\",\"Hard Drinks\",\"Snack Foods\",\"Health and Hygiene\",\"Fruits and Vegetables\",\"Frozen Foods\",\"Dairy\",\"Meat\",\"Snack Foods\",\"Frozen Foods\",\"Snack Foods\",\"Health and Hygiene\",\"Snack Foods\",\"Seafood\",\"Soft Drinks\",\"Meat\",\"Health and Hygiene\",\"Soft Drinks\",\"Others\",\"Health and Hygiene\",\"Starchy Foods\",\"Canned\",\"Soft Drinks\",\"Fruits and Vegetables\",\"Seafood\",\"Fruits and Vegetables\",\"Health and Hygiene\",\"Health and Hygiene\",\"Dairy\",\"Frozen Foods\",\"Canned\",\"Meat\",\"Household\",\"Snack Foods\",\"Soft Drinks\",\"Frozen Foods\",\"Baking Goods\",\"Others\",\"Snack Foods\"],\"xaxis\":\"x\",\"y\":[443.4228,556.6088,1621.8888,2741.7644,3068.0064,1609.9044,6258.52,3185.1872,4693.89,3185.853,1141.847,952.094,1794.331,2768.3964,3589.9936,262.3252,3315.684,1743.0644,619.194,1012.016,467.3916,1779.0176,736.3748,559.272,1869.5664,1134.5232,874.8612,2554.0088,1869.5664,898.83,1286.3256,1253.7014,2251.7356,2652.5472,4311.055,5624.6784,4943.565,3135.2522,3401.5722,199.74,4466.1864,1146.5076,407.4696,2189.8162,4380.2982,372.848,283.6308,958.752,559.272,295.6152,1267.0174,2735.1064,487.3656,1054.6272,3560.6984,647.8234,1695.7926,2207.127,1262.3568,1758.3778,1990.742,938.778,4194.54,1522.0188,3542.056,1534.0032,1239.7196,1496.0526,2870.9296,3745.125,1810.976,554.6114,1265.02,441.4254,808.947,2037.348,1856.2504,5182.5872,2896.23,996.0368,619.194,3412.8908,3211.8192,1043.9744,446.7518,585.904,223.7088,615.1992,3150.5656,3823.0236,1482.7366,1277.0044,1223.0746,2182.4924,2656.542,1488.7288,1012.6818,830.9184,1198.44,3611.2992,1330.2684,1274.3412,568.5932,1006.6896,5350.3688,1506.0396,1139.8496,649.155,1821.6288,3129.26,509.337,1341.587,2250.404,778.986,2328.3026,866.8716,2503.408,2702.4822,1541.9928,1884.214,673.7896,866.8716,1413.4934,1957.452,1653.8472,1981.4208,1454.1072,1581.9408,1867.569,1747.725,2410.8618,829.5868,1358.232,1323.6104,2647.2208,2625.9152,4492.8184,651.8182,4394.28,1707.777,1768.3648,5626.01,3874.956,2220.443,2475.4444,3091.9752,1605.9096,78.5644,829.5868,1304.968,1765.0358,126.502,372.848,319.584,1733.0774,1679.1476,2375.5744,549.285,2267.049,491.3604,3306.3628,3057.3536,360.8636,513.3318,75.9012,512.666,1426.1436,1231.73,1277.0044,649.8208,1384.1982,4677.245,2490.092,1230.3984,1197.7742,2342.9502,1001.3632,982.7208,4427.57,687.1056,2748.4224,3629.2758,2087.9488,3171.8712,5785.802,2759.0752,874.8612,2181.1608,644.4944,1617.894,661.1394,2181.1608,2181.1608,1482.0708,2332.9632,5369.0112,1567.2932,1514.695,1162.4868,1631.8758,1705.7796,2914.8724,1612.5676,3091.9752,1328.271,2659.871,1185.7898,2696.49,939.4438,4729.8432,1713.7692,1381.535,366.19,452.744,1537.998,3115.944,1677.816,1312.9576,2409.5302,1518.024,1245.046,934.7832,459.402,1953.4572,2976.7918,480.7076,2311.6576,4680.574,6439.6176,2227.101,1366.2216,711.0744,1004.0264,1864.24,1214.4192,615.1992,1384.1982,3453.5046,1004.0264,1332.9316,2848.9582,1133.8574,2836.308,3560.6984,3153.2288,2960.1468,1378.206,1105.228,343.5528,846.8976,4517.453,1573.9512,842.237,447.4176,2684.5056,1279.0018,1522.0188,865.54,5976.2208,2011.3818,1018.674,425.4462,2556.672,535.3032,1229.0668,988.713,3968.168,1651.184,247.6776,2050.664,525.982,186.424,2250.404,5851.0504,492.692,527.9794,4506.1344,6359.7216,2846.295,2886.9088,982.055,1941.4728,1448.115,1058.622,431.4384,3835.008,2423.512,3276.4018,1031.99,4910.275,5001.4896,850.8924,727.0536,1857.582,2956.152,1833.6132,1749.7224,1018.0082,4274.436,2336.958,1686.4714,3844.995,2365.5874,1146.5076,1139.8496,564.5984,3941.536,2316.984,1488.7288,663.1368,1821.6288,3199.8348,2283.0282,2828.3184,539.298,181.0976,814.9392,3677.2134,2873.5928,3605.307,774.9912,890.8404,1544.656,1025.332,1314.2892,1938.8096,1491.392,472.718,1528.011,2330.3,1470.0864,857.5504,2886.243,628.5152,1336.9264,463.3968,913.4776,2257.062,2277.036,1416.8224,2376.906,2580.6408,2546.685,1168.479,1843.6002,3571.3512,1701.7848,2816.334,186.424,1428.141,535.969,2366.919,1384.1982,2460.7968,1113.2176,545.956,1771.028,2994.7684,1284.994,1977.426,2101.2648,199.74,644.4944,3835.008,918.804,5660.6316,1733.7432,265.6542,3271.7412,856.8846,2972.1312,804.9522,1102.5648,778.986,2763.07,1928.1568,543.2928,415.4592,1970.768,3408.896,1162.4868,1984.084,5552.1062,1324.2762,770.3306,2050.664,3563.3616,1621.8888,2703.148,703.0848,249.0092,383.5008,2348.9424,1777.686,945.436,1675.1528,1358.232,958.752,1444.1202,615.1992,3020.0688,1201.1032,1145.176,1347.5792,237.6906,2931.5174,2077.296,552.614,3795.06,591.8962,4500.808,1278.336,3197.1716,2960.1468,591.2304,6331.758,918.804,2619.2572,1318.284,1771.028,517.3266,2233.0932,1861.5768,1749.7224,1725.7536,3815.034,1629.8784,3874.2902,647.1576,1605.9096,1505.3738,619.194,2621.9204,790.9704,3089.9778,299.61,394.1536,1667.829,1817.634,1629.8784,3516.7556,1018.674,1180.4634,1755.7146,561.9352,1246.3776,3099.9648,1794.331,1625.8836,2862.94,2048.6666,1906.8512,937.4464,4745.8224,421.4514,1528.6768,575.2512,3410.2276,1174.4712,2609.936,4607.336,5690.5926,1579.9434,2770.3938,383.5008,2706.477,966.7416,1854.9188,982.7208,377.5086,1049.9666,123.8388,3323.0078,2103.928,447.4176,1151.1682,3364.9532,3984.813,2187.153,3169.208,3235.788,1047.3034,487.3656,6327.7632,2025.3636,455.4072,602.549,592.562,1398.18,2277.036,2805.0154,2817.6656,515.3292,1148.505,1884.8798,2628.5784,1617.894,2323.642,1547.3192,1161.1552,6291.81,3585.333,722.393,1043.9744,335.5632,856.8846,2354.2688,2246.4092,1211.756,1749.7224,1181.795,1565.9616,1006.6896,729.051,3588.662,4579.3724,2460.7968,974.0654,355.5372,1104.5622,1177.1344,1239.7196,2324.9736,1201.1032,3848.324,978.726,5992.2,2940.1728,1314.2892,2376.906,1071.938,1061.951,2388.8904,4138.6128,2892.901,1635.8706,5084.0488,1470.0864,2516.724,1757.712,1518.024,2750.4198,1539.9954,2458.1336,2460.7968,4026.7584,529.311,3630.6074,1404.1722,1948.1308,670.4606,652.484,5645.984,614.5334,878.856,612.536,593.2278,3289.052,4042.7376,2540.6928,5327.0658,4566.7222,2596.62,1427.4752,985.384,926.7936,2929.52,2157.192,4965.5364,1960.781,2241.7486,1917.504,685.1082,3629.9416,4141.276,1695.1268,675.787,3094.6384,1791.6678,1797.66,524.6504,1178.466,777.6544,309.597,3265.749,2463.46,2293.0152,1704.448,3781.744,1659.8394,167.7816,559.272,69.2432,1840.937,1000.6974,5772.486,4761.8016,1607.907,3621.952,1094.5752,1278.336,4436.8912,910.8144,3412.8908,2103.2622,3249.104,2087.283,2731.1116,484.7024,545.2902,1656.5104,5339.0502,1807.647,804.2864,2687.8346,1627.2152,3271.7412,3105.2912,1446.1176,1014.6792,4287.752,1265.02,2387.5588,1114.5492,1102.5648,1193.1136,2404.2038,824.9262,3745.125,1549.3166,1326.2736,2500.7448,3398.2432,1298.31,962.7468,2241.0828,1218.414,5287.7836,677.1186,3237.1196,923.4646,1715.1008,4586.0304,3214.4824,894.8352,5438.9202,239.688,3705.177,1607.907,3145.905,2526.711,539.298,1428.141,1105.228,531.3084,1125.202,4399.6064,619.194,5592.72,959.4178,401.4774,1138.518,2576.646,2239.0854,788.3072,1133.8574,2013.3792,3448.844,253.004,2628.5784,4442.2176,1030.6584,745.696,1662.5026,2217.114,1258.362,2059.9852,303.6048,380.8376,4434.228,4277.765,4287.752,1222.4088,1557.972,1695.7926,569.259,131.8284,3301.7022,968.739,3844.995,1448.115,1504.0422,1278.336,282.2992,2277.036,2716.464,370.1848,1677.816,1937.478,4502.1396,2138.5496,1149.8366,2184.4898,527.3136,6275.165,1870.898,1418.154,1829.6184,2109.2544,2316.984,1012.016,1132.5258,173.108,199.74,1838.2738,3367.6164,2199.1374,1288.323,2822.992,644.4944,1911.5118,1442.7886,1342.2528,265.6542,1428.141,1470.0864,3453.5046,2356.932,5932.278,3225.1352,1406.1696,980.0576,1492.0578,1259.6936,4165.2448,1416.8224,2182.4924,1581.9408,251.6724,6042.135,1070.6064,203.7348,699.09,4600.0122,5024.1268,1102.5648,2441.4886,1877.556,966.7416,1406.1696,651.1524,2061.3168,1843.6002,1422.1488,3675.216,3083.9856,898.83,2856.282,2556.672,1332.9316,1416.8224,732.38,567.2616,753.0198,346.216,1270.3464,5592.72,2293.681,639.168,1267.0174,2037.348,1571.288,3448.844,3616.6256,579.246,1278.336,1228.401,1842.9344,1829.6184,3592.6568,2922.1962,1544.656,101.8674,4570.0512,2458.1336,1830.95,2408.8644,4068.7038,1557.972,1923.4962,1611.236,2173.1712,227.7036,3696.5216,4495.4816,2587.9646,1629.8784,183.7608,1733.7432,1120.5414,343.5528,755.0172,4165.2448,820.2656,1973.4312,850.8924,3530.0716,3467.4864,1249.0408,607.2096,644.4944,3056.022,2175.1686,1640.5312,1817.634,154.4656,1635.8706,2093.2752,2290.352,2263.72,1290.9862,2492.7552,1362.2268,2083.2882,4026.7584,938.778,2109.2544,1249.0408,1821.6288,4832.3764,255.6672,1155.8288,467.3916,2599.2832,1411.496,1263.6884,926.7936,2388.8904,719.064,2572.6512,1246.3776,493.3578,559.272,2626.581,5100.028,1880.885,377.5086,3805.047,4693.89,1398.8458,2247.075,1897.53,5243.8408,6208.585,1593.9252,1390.1904,4037.4112,1414.1592,2380.235,2988.1104,2350.9398,2175.8344,1731.7458,4391.6168,2117.244,1691.7978,1872.2296,2346.945,1171.808,1358.8978,105.8622,1071.938,431.4384,787.6414,452.744,4211.185,1571.288,904.8222,1225.072,1579.9434,2748.4224,3435.528,4857.6768,2726.451,1603.9122,2588.6304,340.8896,2896.8958,1358.232,552.614,694.4294,1937.478,4326.3684,1925.4936,2460.7968,3193.8426,4853.682,2926.191,1842.9344,5518.1504,575.2512,2160.521,635.1732,4138.6128,1973.4312,2678.5134,830.9184,3984.1472,443.4228,2340.9528,2600.6148,1296.3126,2960.1468,432.77,2093.941,763.0068,2109.2544,4809.7392,1601.249,2117.244,3944.865,4207.856,1571.288,858.882,1845.5976],\"yaxis\":\"y\",\"type\":\"histogram\"},{\"alignmentgroup\":\"True\",\"bingroup\":\"x\",\"histfunc\":\"sum\",\"hovertemplate\":\"Outlet Type=Supermarket Type3<br>Item Type=%{x}<br>sum of Total Sales=%{y}<extra></extra>\",\"legendgroup\":\"Supermarket Type3\",\"marker\":{\"color\":\"#00cc96\",\"pattern\":{\"shape\":\"\"}},\"name\":\"Supermarket Type3\",\"offsetgroup\":\"Supermarket Type3\",\"orientation\":\"v\",\"showlegend\":true,\"x\":[\"Snack Foods\",\"Hard Drinks\",\"Baking Goods\",\"Fruits and Vegetables\",\"Snack Foods\",\"Snack Foods\",\"Fruits and Vegetables\",\"Snack Foods\",\"Baking Goods\",\"Breakfast\",\"Household\",\"Snack Foods\",\"Snack Foods\",\"Starchy Foods\",\"Soft Drinks\",\"Fruits and Vegetables\",\"Household\",\"Frozen Foods\",\"Baking Goods\",\"Household\",\"Dairy\",\"Canned\",\"Canned\",\"Household\",\"Seafood\",\"Hard Drinks\",\"Snack Foods\",\"Health and Hygiene\",\"Snack Foods\",\"Household\",\"Breakfast\",\"Baking Goods\",\"Canned\",\"Canned\",\"Fruits and Vegetables\",\"Hard Drinks\",\"Health and Hygiene\",\"Baking Goods\",\"Breakfast\",\"Canned\",\"Meat\",\"Fruits and Vegetables\",\"Fruits and Vegetables\",\"Fruits and Vegetables\",\"Fruits and Vegetables\",\"Snack Foods\",\"Others\",\"Snack Foods\",\"Hard Drinks\",\"Household\",\"Soft Drinks\",\"Baking Goods\",\"Breads\",\"Frozen Foods\",\"Baking Goods\",\"Household\",\"Fruits and Vegetables\",\"Canned\",\"Others\",\"Snack Foods\",\"Fruits and Vegetables\",\"Snack Foods\",\"Starchy Foods\",\"Snack Foods\",\"Soft Drinks\",\"Fruits and Vegetables\",\"Meat\",\"Snack Foods\",\"Snack Foods\",\"Household\",\"Soft Drinks\",\"Dairy\",\"Frozen Foods\",\"Canned\",\"Dairy\",\"Canned\",\"Fruits and Vegetables\",\"Dairy\",\"Canned\",\"Snack Foods\",\"Baking Goods\",\"Frozen Foods\",\"Snack Foods\",\"Health and Hygiene\",\"Canned\",\"Baking Goods\",\"Baking Goods\",\"Snack Foods\",\"Meat\",\"Frozen Foods\",\"Health and Hygiene\",\"Baking Goods\",\"Others\",\"Frozen Foods\",\"Fruits and Vegetables\",\"Seafood\",\"Fruits and Vegetables\",\"Soft Drinks\",\"Health and Hygiene\",\"Fruits and Vegetables\",\"Frozen Foods\",\"Breads\",\"Frozen Foods\",\"Snack Foods\",\"Breads\",\"Household\",\"Snack Foods\",\"Baking Goods\",\"Baking Goods\",\"Household\",\"Fruits and Vegetables\",\"Meat\",\"Canned\",\"Canned\",\"Household\",\"Breads\",\"Frozen Foods\",\"Fruits and Vegetables\",\"Starchy Foods\",\"Soft Drinks\",\"Dairy\",\"Snack Foods\",\"Fruits and Vegetables\",\"Household\",\"Fruits and Vegetables\",\"Snack Foods\",\"Canned\",\"Frozen Foods\",\"Baking Goods\",\"Fruits and Vegetables\",\"Snack Foods\",\"Fruits and Vegetables\",\"Snack Foods\",\"Snack Foods\",\"Dairy\",\"Health and Hygiene\",\"Dairy\",\"Health and Hygiene\",\"Fruits and Vegetables\",\"Health and Hygiene\",\"Baking Goods\",\"Canned\",\"Health and Hygiene\",\"Fruits and Vegetables\",\"Fruits and Vegetables\",\"Meat\",\"Meat\",\"Fruits and Vegetables\",\"Health and Hygiene\",\"Frozen Foods\",\"Soft Drinks\",\"Meat\",\"Breads\",\"Snack Foods\",\"Dairy\",\"Dairy\",\"Fruits and Vegetables\",\"Meat\",\"Household\",\"Snack Foods\",\"Fruits and Vegetables\",\"Health and Hygiene\",\"Household\",\"Baking Goods\",\"Snack Foods\",\"Frozen Foods\",\"Dairy\",\"Fruits and Vegetables\",\"Canned\",\"Fruits and Vegetables\",\"Frozen Foods\",\"Frozen Foods\",\"Health and Hygiene\",\"Baking Goods\",\"Breads\",\"Snack Foods\",\"Health and Hygiene\",\"Seafood\",\"Hard Drinks\",\"Canned\",\"Snack Foods\",\"Baking Goods\",\"Health and Hygiene\",\"Household\",\"Frozen Foods\",\"Snack Foods\",\"Snack Foods\",\"Dairy\",\"Fruits and Vegetables\",\"Meat\",\"Canned\",\"Household\",\"Meat\",\"Canned\",\"Soft Drinks\",\"Dairy\",\"Health and Hygiene\",\"Snack Foods\",\"Fruits and Vegetables\",\"Household\",\"Fruits and Vegetables\",\"Health and Hygiene\",\"Household\",\"Canned\",\"Fruits and Vegetables\",\"Snack Foods\",\"Frozen Foods\",\"Canned\",\"Others\",\"Breads\",\"Frozen Foods\",\"Breads\",\"Seafood\",\"Fruits and Vegetables\",\"Canned\",\"Canned\",\"Hard Drinks\",\"Health and Hygiene\",\"Snack Foods\",\"Hard Drinks\",\"Fruits and Vegetables\",\"Dairy\",\"Dairy\",\"Soft Drinks\",\"Canned\",\"Others\",\"Breads\",\"Frozen Foods\",\"Baking Goods\",\"Household\",\"Household\",\"Hard Drinks\",\"Hard Drinks\",\"Household\",\"Frozen Foods\",\"Snack Foods\",\"Soft Drinks\",\"Baking Goods\",\"Soft Drinks\",\"Meat\",\"Canned\",\"Snack Foods\",\"Fruits and Vegetables\",\"Soft Drinks\",\"Frozen Foods\",\"Baking Goods\",\"Meat\",\"Breads\",\"Others\",\"Fruits and Vegetables\",\"Household\",\"Frozen Foods\",\"Snack Foods\",\"Baking Goods\",\"Others\",\"Fruits and Vegetables\",\"Canned\",\"Health and Hygiene\",\"Baking Goods\",\"Fruits and Vegetables\",\"Canned\",\"Fruits and Vegetables\",\"Canned\",\"Soft Drinks\",\"Frozen Foods\",\"Others\",\"Meat\",\"Frozen Foods\",\"Dairy\",\"Frozen Foods\",\"Dairy\",\"Snack Foods\",\"Fruits and Vegetables\",\"Snack Foods\",\"Soft Drinks\",\"Frozen Foods\",\"Snack Foods\",\"Fruits and Vegetables\",\"Fruits and Vegetables\",\"Snack Foods\",\"Soft Drinks\",\"Snack Foods\",\"Fruits and Vegetables\",\"Snack Foods\",\"Frozen Foods\",\"Soft Drinks\",\"Snack Foods\",\"Baking Goods\",\"Dairy\",\"Dairy\",\"Household\",\"Hard Drinks\",\"Soft Drinks\",\"Fruits and Vegetables\",\"Meat\",\"Frozen Foods\",\"Frozen Foods\",\"Fruits and Vegetables\",\"Others\",\"Fruits and Vegetables\",\"Breads\",\"Baking Goods\",\"Meat\",\"Household\",\"Starchy Foods\",\"Meat\",\"Snack Foods\",\"Others\",\"Snack Foods\",\"Baking Goods\",\"Fruits and Vegetables\",\"Health and Hygiene\",\"Snack Foods\",\"Meat\",\"Frozen Foods\",\"Health and Hygiene\",\"Fruits and Vegetables\",\"Snack Foods\",\"Fruits and Vegetables\",\"Breads\",\"Dairy\",\"Snack Foods\",\"Canned\",\"Breakfast\",\"Fruits and Vegetables\",\"Dairy\",\"Snack Foods\",\"Meat\",\"Household\",\"Household\",\"Others\",\"Snack Foods\",\"Hard Drinks\",\"Dairy\",\"Household\",\"Canned\",\"Household\",\"Snack Foods\",\"Baking Goods\",\"Canned\",\"Canned\",\"Soft Drinks\",\"Snack Foods\",\"Frozen Foods\",\"Frozen Foods\",\"Snack Foods\",\"Hard Drinks\",\"Snack Foods\",\"Snack Foods\",\"Snack Foods\",\"Soft Drinks\",\"Dairy\",\"Snack Foods\",\"Breads\",\"Household\",\"Snack Foods\",\"Meat\",\"Household\",\"Household\",\"Fruits and Vegetables\",\"Fruits and Vegetables\",\"Baking Goods\",\"Household\",\"Starchy Foods\",\"Frozen Foods\",\"Health and Hygiene\",\"Health and Hygiene\",\"Health and Hygiene\",\"Canned\",\"Fruits and Vegetables\",\"Hard Drinks\",\"Canned\",\"Fruits and Vegetables\",\"Frozen Foods\",\"Fruits and Vegetables\",\"Canned\",\"Dairy\",\"Dairy\",\"Household\",\"Baking Goods\",\"Meat\",\"Household\",\"Household\",\"Health and Hygiene\",\"Fruits and Vegetables\",\"Dairy\",\"Snack Foods\",\"Canned\",\"Starchy Foods\",\"Frozen Foods\",\"Fruits and Vegetables\",\"Starchy Foods\",\"Soft Drinks\",\"Snack Foods\",\"Snack Foods\",\"Baking Goods\",\"Dairy\",\"Soft Drinks\",\"Soft Drinks\",\"Fruits and Vegetables\",\"Fruits and Vegetables\",\"Household\",\"Snack Foods\",\"Baking Goods\",\"Dairy\",\"Canned\",\"Meat\",\"Meat\",\"Seafood\",\"Health and Hygiene\",\"Household\",\"Health and Hygiene\",\"Starchy Foods\",\"Meat\",\"Dairy\",\"Fruits and Vegetables\",\"Health and Hygiene\",\"Soft Drinks\",\"Health and Hygiene\",\"Fruits and Vegetables\",\"Canned\",\"Breakfast\",\"Canned\",\"Snack Foods\",\"Fruits and Vegetables\",\"Frozen Foods\",\"Snack Foods\",\"Dairy\",\"Fruits and Vegetables\",\"Household\",\"Breads\",\"Household\",\"Snack Foods\",\"Snack Foods\",\"Breads\",\"Household\",\"Fruits and Vegetables\",\"Dairy\",\"Fruits and Vegetables\",\"Household\",\"Fruits and Vegetables\",\"Breads\",\"Fruits and Vegetables\",\"Frozen Foods\",\"Breads\",\"Baking Goods\",\"Snack Foods\",\"Breads\",\"Fruits and Vegetables\",\"Frozen Foods\",\"Fruits and Vegetables\",\"Health and Hygiene\",\"Household\",\"Health and Hygiene\",\"Health and Hygiene\",\"Seafood\",\"Hard Drinks\",\"Fruits and Vegetables\",\"Household\",\"Fruits and Vegetables\",\"Household\",\"Fruits and Vegetables\",\"Fruits and Vegetables\",\"Frozen Foods\",\"Meat\",\"Canned\",\"Soft Drinks\",\"Baking Goods\",\"Household\",\"Household\",\"Snack Foods\",\"Meat\",\"Baking Goods\",\"Snack Foods\",\"Soft Drinks\",\"Household\",\"Frozen Foods\",\"Frozen Foods\",\"Breads\",\"Snack Foods\",\"Fruits and Vegetables\",\"Soft Drinks\",\"Soft Drinks\",\"Health and Hygiene\",\"Canned\",\"Others\",\"Hard Drinks\",\"Fruits and Vegetables\",\"Soft Drinks\",\"Fruits and Vegetables\",\"Frozen Foods\",\"Dairy\",\"Frozen Foods\",\"Fruits and Vegetables\",\"Snack Foods\",\"Fruits and Vegetables\",\"Baking Goods\",\"Snack Foods\",\"Snack Foods\",\"Dairy\",\"Dairy\",\"Canned\",\"Seafood\",\"Frozen Foods\",\"Frozen Foods\",\"Baking Goods\",\"Breads\",\"Baking Goods\",\"Household\",\"Household\",\"Snack Foods\",\"Baking Goods\",\"Snack Foods\",\"Household\",\"Dairy\",\"Hard Drinks\",\"Snack Foods\",\"Health and Hygiene\",\"Baking Goods\",\"Dairy\",\"Household\",\"Baking Goods\",\"Fruits and Vegetables\",\"Snack Foods\",\"Snack Foods\",\"Health and Hygiene\",\"Snack Foods\",\"Snack Foods\",\"Frozen Foods\",\"Snack Foods\",\"Breads\",\"Dairy\",\"Snack Foods\",\"Household\",\"Snack Foods\",\"Canned\",\"Household\",\"Hard Drinks\",\"Baking Goods\",\"Fruits and Vegetables\",\"Snack Foods\",\"Breads\",\"Household\",\"Household\",\"Breads\",\"Canned\",\"Frozen Foods\",\"Health and Hygiene\",\"Dairy\",\"Fruits and Vegetables\",\"Meat\",\"Canned\",\"Fruits and Vegetables\",\"Frozen Foods\",\"Meat\",\"Baking Goods\",\"Frozen Foods\",\"Soft Drinks\",\"Starchy Foods\",\"Snack Foods\",\"Fruits and Vegetables\",\"Dairy\",\"Fruits and Vegetables\",\"Meat\",\"Frozen Foods\",\"Dairy\",\"Frozen Foods\",\"Fruits and Vegetables\",\"Baking Goods\",\"Fruits and Vegetables\",\"Fruits and Vegetables\",\"Dairy\",\"Dairy\",\"Fruits and Vegetables\",\"Dairy\",\"Household\",\"Household\",\"Fruits and Vegetables\",\"Baking Goods\",\"Health and Hygiene\",\"Dairy\",\"Hard Drinks\",\"Frozen Foods\",\"Others\",\"Fruits and Vegetables\",\"Household\",\"Fruits and Vegetables\",\"Household\",\"Starchy Foods\",\"Health and Hygiene\",\"Fruits and Vegetables\",\"Baking Goods\",\"Fruits and Vegetables\",\"Snack Foods\",\"Breakfast\",\"Health and Hygiene\",\"Frozen Foods\",\"Fruits and Vegetables\",\"Canned\",\"Baking Goods\",\"Meat\",\"Health and Hygiene\",\"Snack Foods\",\"Baking Goods\",\"Fruits and Vegetables\",\"Frozen Foods\",\"Snack Foods\",\"Canned\",\"Meat\",\"Frozen Foods\",\"Baking Goods\",\"Dairy\",\"Fruits and Vegetables\",\"Household\",\"Starchy Foods\",\"Snack Foods\",\"Health and Hygiene\",\"Frozen Foods\",\"Frozen Foods\",\"Fruits and Vegetables\",\"Meat\",\"Snack Foods\",\"Household\",\"Household\",\"Soft Drinks\",\"Fruits and Vegetables\",\"Health and Hygiene\",\"Health and Hygiene\",\"Frozen Foods\",\"Snack Foods\",\"Snack Foods\",\"Frozen Foods\",\"Snack Foods\",\"Canned\",\"Fruits and Vegetables\",\"Household\",\"Canned\",\"Canned\",\"Frozen Foods\",\"Hard Drinks\",\"Snack Foods\",\"Canned\",\"Meat\",\"Soft Drinks\",\"Snack Foods\",\"Snack Foods\",\"Fruits and Vegetables\",\"Meat\",\"Hard Drinks\",\"Dairy\",\"Canned\",\"Health and Hygiene\",\"Soft Drinks\",\"Frozen Foods\",\"Dairy\",\"Canned\",\"Household\",\"Snack Foods\",\"Snack Foods\",\"Household\",\"Snack Foods\",\"Fruits and Vegetables\",\"Frozen Foods\",\"Health and Hygiene\",\"Dairy\",\"Meat\",\"Frozen Foods\",\"Health and Hygiene\",\"Meat\",\"Health and Hygiene\",\"Household\",\"Snack Foods\",\"Snack Foods\",\"Frozen Foods\",\"Meat\",\"Snack Foods\",\"Household\",\"Health and Hygiene\",\"Household\",\"Household\",\"Breads\",\"Breads\",\"Meat\",\"Household\",\"Frozen Foods\",\"Health and Hygiene\",\"Snack Foods\",\"Fruits and Vegetables\",\"Meat\",\"Meat\",\"Household\",\"Snack Foods\",\"Household\",\"Baking Goods\",\"Dairy\",\"Soft Drinks\",\"Frozen Foods\",\"Breads\",\"Fruits and Vegetables\",\"Frozen Foods\",\"Fruits and Vegetables\",\"Meat\",\"Baking Goods\",\"Fruits and Vegetables\",\"Meat\",\"Meat\",\"Dairy\",\"Breakfast\",\"Dairy\",\"Household\",\"Soft Drinks\",\"Dairy\",\"Breads\",\"Meat\",\"Breads\",\"Soft Drinks\",\"Household\",\"Baking Goods\",\"Fruits and Vegetables\",\"Canned\",\"Canned\",\"Frozen Foods\",\"Baking Goods\",\"Baking Goods\",\"Canned\",\"Frozen Foods\",\"Health and Hygiene\",\"Frozen Foods\",\"Baking Goods\",\"Fruits and Vegetables\",\"Snack Foods\",\"Baking Goods\",\"Canned\",\"Hard Drinks\",\"Meat\",\"Baking Goods\",\"Canned\",\"Health and Hygiene\",\"Baking Goods\",\"Frozen Foods\",\"Baking Goods\",\"Snack Foods\",\"Dairy\",\"Canned\",\"Household\",\"Fruits and Vegetables\",\"Soft Drinks\",\"Dairy\",\"Fruits and Vegetables\",\"Health and Hygiene\",\"Fruits and Vegetables\",\"Baking Goods\",\"Canned\",\"Fruits and Vegetables\",\"Baking Goods\",\"Canned\",\"Starchy Foods\",\"Health and Hygiene\",\"Fruits and Vegetables\",\"Snack Foods\",\"Dairy\",\"Meat\",\"Snack Foods\",\"Household\",\"Dairy\",\"Household\",\"Snack Foods\",\"Snack Foods\",\"Frozen Foods\",\"Snack Foods\",\"Snack Foods\",\"Health and Hygiene\",\"Household\",\"Household\",\"Frozen Foods\",\"Snack Foods\",\"Snack Foods\",\"Dairy\",\"Canned\",\"Household\",\"Household\",\"Frozen Foods\",\"Frozen Foods\",\"Snack Foods\",\"Household\",\"Household\",\"Meat\",\"Canned\",\"Frozen Foods\",\"Health and Hygiene\",\"Meat\",\"Frozen Foods\",\"Canned\",\"Frozen Foods\",\"Meat\",\"Fruits and Vegetables\",\"Baking Goods\",\"Health and Hygiene\",\"Fruits and Vegetables\",\"Snack Foods\",\"Dairy\",\"Snack Foods\",\"Baking Goods\",\"Baking Goods\",\"Soft Drinks\",\"Breads\",\"Others\",\"Fruits and Vegetables\",\"Fruits and Vegetables\",\"Snack Foods\",\"Snack Foods\",\"Frozen Foods\",\"Frozen Foods\",\"Fruits and Vegetables\",\"Snack Foods\",\"Baking Goods\",\"Meat\",\"Household\",\"Snack Foods\",\"Canned\",\"Canned\",\"Fruits and Vegetables\",\"Household\",\"Fruits and Vegetables\",\"Baking Goods\",\"Frozen Foods\",\"Starchy Foods\",\"Health and Hygiene\",\"Soft Drinks\",\"Soft Drinks\",\"Others\",\"Household\"],\"xaxis\":\"x\",\"y\":[4022.7636,2303.668,4064.0432,2797.6916,388.1614,2180.495,484.7024,2543.356,3091.9752,3285.723,4363.6532,2854.9504,4097.3332,5262.4832,898.83,1808.9786,5555.4352,6024.1584,4739.8302,5070.7328,2105.2596,5359.69,3101.2964,4769.1254,3435.528,2293.0152,2074.6328,241.6854,3668.558,2125.2336,3866.9664,5499.508,3251.7672,1677.816,4414.254,5448.9072,3340.9844,4278.4308,2055.9904,2807.0128,5033.448,2696.49,1733.7432,5375.0034,1318.284,717.7324,717.7324,2277.036,3195.84,2486.763,1296.3126,2113.2492,3486.1288,2876.256,3273.7386,5344.3766,2187.153,5734.5354,1637.868,1747.725,3205.1612,1414.1592,3836.3396,4763.799,1288.9888,5087.3778,1107.8912,5954.2494,4974.1918,2488.7604,1298.31,3499.4448,2566.659,918.804,3079.9908,4476.1734,1402.1748,4592.0226,2287.023,1687.1372,1331.6,607.8754,3364.9532,2045.3376,3095.97,3235.788,3355.632,2868.9322,1868.2348,1380.8692,1358.232,2251.7356,5063.409,3057.3536,3086.6488,1280.9992,2266.3832,2942.836,3115.944,1320.9472,1569.9564,1033.3216,4561.3958,2416.854,984.7182,1864.24,5469.547,6042.135,5518.1504,2115.9124,1885.5456,1614.565,5602.707,2253.0672,1850.924,6351.732,3542.056,1810.976,4555.4036,5778.4782,5173.266,3415.554,5353.6978,4832.3764,1544.656,1012.016,2399.5432,3747.1224,1171.808,4364.319,5704.5744,5404.9644,5351.0346,1618.5598,3415.554,3635.268,1096.5726,2167.8448,4965.5364,4189.2136,4402.2696,1901.5248,3511.4292,3374.2744,6165.9738,2518.7214,5816.4288,3691.1952,1480.0734,5697.9164,3420.8804,3761.77,3701.1822,5887.6694,6064.1064,2109.2544,4211.185,4960.21,5522.811,3368.948,5478.2024,4629.9732,2043.3402,3877.6192,1677.816,1773.6912,1867.569,2220.443,3889.6036,2463.46,419.454,1024.6662,2007.387,1078.596,1114.5492,3271.7412,1058.622,3547.3824,3787.0704,2319.6472,3842.9976,2328.9684,1255.033,5523.4768,4819.7262,4916.933,4434.228,1263.0226,2631.2416,1396.1826,4119.3046,1211.756,4763.799,2713.135,1281.665,1556.6404,6029.4848,2010.716,2804.3496,3791.0652,4447.544,5652.642,3364.9532,4613.994,5294.4416,4350.3372,910.8144,3621.2862,842.237,4933.578,984.7182,2269.0464,1209.7586,1024.6662,5383.6588,4165.2448,2888.2404,2287.023,3672.5528,2439.4912,3205.1612,2020.0372,3756.4436,3062.0142,4442.2176,2348.9424,1975.4286,1374.2112,6035.477,585.904,2332.2974,1042.6428,796.9626,3057.3536,2964.1416,713.0718,2396.88,5972.226,2787.0388,769.6648,3998.7948,2127.8968,1310.2944,809.6128,4225.1668,3146.5708,5470.8786,4354.332,3202.498,6306.4576,2127.231,2290.352,2139.2154,3990.8052,4579.3724,3408.896,5901.6512,2431.5016,4458.1968,1768.3648,1737.738,3231.1274,1821.6288,1380.8692,6024.1584,2251.0698,6196.6006,5273.136,5852.382,3020.0688,1737.738,4697.8848,755.0172,759.012,1034.6532,3174.5344,3119.9388,3868.9638,2143.2102,1358.232,3372.9428,1362.2268,2143.876,864.2084,5466.8838,2679.845,3611.2992,3439.5228,5695.2532,1348.245,701.7532,4301.068,2694.4926,2695.1584,2947.4966,2090.612,5772.486,885.514,2175.1686,3981.484,3395.58,1530.6742,3266.4148,5892.33,1677.816,1631.21,5753.8436,759.012,3430.2016,2956.152,4386.2904,6391.68,5033.448,2109.2544,3494.1184,3572.017,3713.1666,4228.4958,2526.0452,6242.5408,1549.3166,1845.5976,5141.3076,3874.2902,5500.8396,2109.2544,4255.7936,3866.9664,4633.968,4202.5296,5546.114,4815.0656,3056.022,5195.2374,4554.072,1448.7808,3297.7074,918.804,5681.2714,2940.1728,5093.37,559.272,4952.8862,4560.73,671.1264,4904.2828,4452.8704,3383.5956,5000.8238,4821.7236,569.259,3998.7948,3523.4136,3567.3564,2069.3064,3368.948,4604.6728,3797.7232,3050.6956,1754.383,5031.4506,1957.452,1743.0644,3837.0054,1733.7432,6072.096,1621.8888,3078.6592,2492.7552,4124.631,3214.4824,5182.5872,1592.5936,2972.797,4327.7,4857.6768,4346.3424,3285.723,3675.216,2516.724,6114.7072,2596.62,5609.365,1722.4246,4828.3816,2450.144,1659.1736,5866.3638,1216.4166,5522.811,2237.088,958.752,5000.8238,1201.769,1737.738,1069.2748,3453.5046,2716.464,1981.4208,872.8638,3200.5006,2101.2648,3648.584,2833.6448,2741.0986,3075.996,3930.8832,1323.6104,5704.5744,1426.1436,2863.6058,2546.685,6478.234,5880.3456,3435.528,3466.1548,3938.8728,4913.604,918.804,5033.448,1918.8356,1518.024,3426.2068,4093.3384,4532.7664,4649.9472,4873.656,5229.1932,5351.0346,4379.6324,3237.1196,3374.2744,2844.2976,5303.097,2476.776,3419.5488,1543.3244,3719.1588,4602.6754,3695.19,3139.9128,3773.7544,1235.7248,1534.0032,3083.9856,1041.3112,2363.59,3207.8244,966.7416,1145.176,3048.6982,2302.3364,4012.1108,4278.4308,2660.5368,1833.6132,1304.968,4314.384,5475.5392,4432.2306,4199.8664,4538.0928,3175.866,3012.745,1125.8678,3998.7948,4026.7584,2492.0894,3691.1952,802.9548,4302.3996,4986.842,2036.0164,3870.9612,2588.6304,1973.4312,1721.093,1687.803,4870.9928,4247.804,3422.212,3339.6528,2645.2234,4504.8028,2716.464,2748.4224,2597.2858,1576.6144,1895.5326,2406.2012,4567.388,3004.0896,1832.2816,847.5634,2428.8384,3185.1872,988.0472,6026.8216,768.999,4374.306,905.488,2267.7148,1797.66,5394.9774,3946.8624,1438.128,1948.1308,1310.2944,2783.044,2588.6304,4261.12,1992.7394,2057.9878,2768.3964,2073.967,1006.6896,3279.065,6021.4952,2783.7098,1071.938,767.0016,3159.8868,4828.3816,906.8196,4376.9692,3472.147,6207.9192,2586.633,3903.5854,2768.3964,3020.0688,1078.596,2624.5836,3179.195,5329.0632,2910.2118,293.6178,6207.9192,1018.0082,2996.1,3448.844,3199.169,1565.9616,2192.4794,1845.5976,1980.755,2956.152,3661.9,978.726,5978.2182,1021.3372,3515.424,4693.89,3859.6426,2596.62,1701.7848,4705.8744,1211.756,3954.852,2404.8696,4157.2552,1078.596,1997.4,5313.084,5976.2208,3112.615,622.523,5752.512,4566.7222,4753.812,4876.985,3515.424,3179.8608,2994.7684,2756.412,4595.3516,6191.94,6338.416,631.8442,2780.3808,1498.05,4474.176,1514.695,2306.997,1547.3192,3243.7776,4012.1108,5056.751,1757.712,2106.5912,5779.144,3704.5112,4474.176,2077.296,3691.1952,4963.539,3728.48,3823.0236,2259.0594,1813.6392,5522.811,1693.7952,3715.164,2067.309,4921.5936,2387.5588,1410.8302,1342.2528,2512.7292,4288.4178,4436.8912,3757.7752,1565.9616,441.4254,4345.0108,4377.635,1024.6662,2526.711,2410.196,2954.1546,1547.985,3705.177,3387.5904,2607.2728,4277.765,4508.1318,5672.616,2960.1468,2255.7304,4166.5764,3914.904,1516.0266,1917.504,4454.202,2145.2076,3281.0624,2609.936,2450.144,4587.362,1125.202,2719.793,1324.942,5487.5236,607.8754,1006.6896,1597.92,4979.5182,3723.1536,5888.3352,6474.2392,3237.1196,2471.4496,1374.2112,3691.1952,5912.304,5289.1152,2150.534,3205.827,1545.9876,2061.3168,1597.92,5892.33,3349.6398,3410.2276,1605.9096,3163.8816,6454.931,2510.066,3047.3666,970.7364,3751.1172,5238.5144,2836.308,814.9392,2777.7176,4976.855,5000.8238,4250.4672,1030.6584,3199.8348,1973.4312,3735.8038,6170.6344,1924.162,5582.733,1278.336,2940.1728,3918.8988,2036.6822,1857.582,5944.2624,6474.2392,942.7728,3728.48,4013.4424,3649.2498,1120.5414,5685.932,3946.8624,3858.9768,2036.6822,2787.0388,4161.25,2972.1312,2189.8162,1298.31,1290.3204,1713.1034,4537.427,4923.591,3068.0064,1293.6494,2306.997,4910.275,3225.1352,2529.3742,4751.8146,3552.7088,6157.3184,1544.656,3691.1952,5872.356,1004.0264,5499.508,1976.0944,1901.5248,4065.3748,2543.356,3415.554,4504.137,2631.2416,624.5204,4915.6014,3229.7958,641.8312,5404.9644,6066.7696,6431.628,3735.8038,2261.0568,1725.7536,2625.9152,6183.9504,721.0614,826.2578,4376.9692,2255.7304,3301.0364,4577.375,4068.038,2291.0178,2563.33,3494.1184,5592.72,2327.6368,4074.696,3036.048,1584.604,5283.123,4482.1656,2510.066,3515.424,3635.268,978.726,6064.1064,1677.816,5522.811,6239.8776,1641.197,5257.1568,801.6232,5704.5744,934.7832,2129.2284,2157.192,615.1992,6465.5838,1222.4088,1833.6132,4165.2448,5926.2858,2985.4472,986.7156,3002.758,1544.656,3825.6868,3307.6944,6171.3002,5219.872,1471.418,3150.5656,3757.1094,4729.8432,2430.17,3292.381,3207.8244,2716.464,1661.8368,4506.1344,973.3996,4327.7,1001.3632,3352.303,3221.1404,1304.968,3401.5722,3578.675,3675.216,4036.7454,2548.0166,4850.353,1640.5312,5806.4418,4354.9978,1884.8798,3012.0792,2936.178,4602.0096,4026.7584,2862.94,1054.6272,2051.9956,5221.8694,417.4566,793.6336,482.0392,810.9444,1653.8472,6261.849,4111.315,2756.412,4138.6128],\"yaxis\":\"y\",\"type\":\"histogram\"},{\"alignmentgroup\":\"True\",\"bingroup\":\"x\",\"histfunc\":\"sum\",\"hovertemplate\":\"Outlet Type=Grocery Store<br>Item Type=%{x}<br>sum of Total Sales=%{y}<extra></extra>\",\"legendgroup\":\"Grocery Store\",\"marker\":{\"color\":\"#ab63fa\",\"pattern\":{\"shape\":\"\"}},\"name\":\"Grocery Store\",\"offsetgroup\":\"Grocery Store\",\"orientation\":\"v\",\"showlegend\":true,\"x\":[\"Fruits and Vegetables\",\"Baking Goods\",\"Dairy\",\"Canned\",\"Dairy\",\"Dairy\",\"Dairy\",\"Canned\",\"Frozen Foods\",\"Snack Foods\",\"Baking Goods\",\"Household\",\"Fruits and Vegetables\",\"Frozen Foods\",\"Soft Drinks\",\"Meat\",\"Canned\",\"Frozen Foods\",\"Others\",\"Fruits and Vegetables\",\"Breads\",\"Health and Hygiene\",\"Soft Drinks\",\"Health and Hygiene\",\"Fruits and Vegetables\",\"Baking Goods\",\"Snack Foods\",\"Frozen Foods\",\"Household\",\"Snack Foods\",\"Fruits and Vegetables\",\"Frozen Foods\",\"Others\",\"Dairy\",\"Snack Foods\",\"Dairy\",\"Frozen Foods\",\"Snack Foods\",\"Fruits and Vegetables\",\"Fruits and Vegetables\",\"Fruits and Vegetables\",\"Fruits and Vegetables\",\"Others\",\"Frozen Foods\",\"Snack Foods\",\"Dairy\",\"Health and Hygiene\",\"Snack Foods\",\"Dairy\",\"Baking Goods\",\"Household\",\"Breads\",\"Frozen Foods\",\"Baking Goods\",\"Dairy\",\"Meat\",\"Snack Foods\",\"Meat\",\"Canned\",\"Dairy\",\"Frozen Foods\",\"Health and Hygiene\",\"Snack Foods\",\"Dairy\",\"Soft Drinks\",\"Breakfast\",\"Dairy\",\"Household\",\"Household\",\"Others\",\"Canned\",\"Fruits and Vegetables\",\"Canned\",\"Frozen Foods\",\"Dairy\",\"Dairy\",\"Snack Foods\",\"Hard Drinks\",\"Frozen Foods\",\"Canned\",\"Fruits and Vegetables\",\"Fruits and Vegetables\",\"Fruits and Vegetables\",\"Household\",\"Snack Foods\",\"Dairy\",\"Dairy\",\"Meat\",\"Hard Drinks\",\"Meat\",\"Meat\",\"Frozen Foods\",\"Starchy Foods\",\"Soft Drinks\",\"Baking Goods\",\"Meat\",\"Fruits and Vegetables\",\"Fruits and Vegetables\",\"Dairy\",\"Canned\",\"Hard Drinks\",\"Household\",\"Health and Hygiene\",\"Frozen Foods\",\"Baking Goods\",\"Soft Drinks\",\"Dairy\",\"Fruits and Vegetables\",\"Soft Drinks\",\"Canned\",\"Meat\",\"Breakfast\",\"Baking Goods\",\"Fruits and Vegetables\",\"Others\",\"Canned\",\"Snack Foods\",\"Baking Goods\",\"Hard Drinks\",\"Others\",\"Snack Foods\",\"Breakfast\",\"Fruits and Vegetables\",\"Snack Foods\",\"Meat\",\"Household\",\"Snack Foods\",\"Health and Hygiene\",\"Canned\",\"Frozen Foods\",\"Soft Drinks\",\"Frozen Foods\",\"Health and Hygiene\",\"Fruits and Vegetables\",\"Breakfast\",\"Household\",\"Household\",\"Health and Hygiene\",\"Canned\",\"Frozen Foods\",\"Canned\",\"Canned\",\"Snack Foods\",\"Snack Foods\",\"Seafood\",\"Soft Drinks\",\"Soft Drinks\",\"Household\",\"Soft Drinks\",\"Household\",\"Fruits and Vegetables\",\"Snack Foods\",\"Soft Drinks\",\"Baking Goods\",\"Snack Foods\",\"Hard Drinks\",\"Frozen Foods\",\"Baking Goods\",\"Meat\",\"Frozen Foods\",\"Snack Foods\",\"Breads\",\"Others\",\"Health and Hygiene\",\"Fruits and Vegetables\",\"Hard Drinks\",\"Meat\",\"Fruits and Vegetables\",\"Household\",\"Meat\",\"Snack Foods\",\"Frozen Foods\",\"Household\",\"Household\",\"Frozen Foods\",\"Dairy\",\"Health and Hygiene\",\"Household\",\"Canned\",\"Fruits and Vegetables\",\"Canned\",\"Snack Foods\",\"Health and Hygiene\",\"Fruits and Vegetables\",\"Fruits and Vegetables\",\"Fruits and Vegetables\",\"Frozen Foods\",\"Household\",\"Dairy\",\"Snack Foods\",\"Snack Foods\",\"Seafood\",\"Frozen Foods\",\"Breads\",\"Household\",\"Canned\",\"Snack Foods\",\"Snack Foods\",\"Fruits and Vegetables\",\"Household\",\"Frozen Foods\",\"Household\",\"Dairy\",\"Baking Goods\",\"Hard Drinks\",\"Soft Drinks\",\"Snack Foods\",\"Frozen Foods\",\"Canned\",\"Health and Hygiene\",\"Fruits and Vegetables\",\"Frozen Foods\",\"Snack Foods\",\"Baking Goods\",\"Snack Foods\",\"Baking Goods\",\"Frozen Foods\",\"Fruits and Vegetables\",\"Snack Foods\",\"Baking Goods\",\"Snack Foods\",\"Snack Foods\",\"Snack Foods\",\"Snack Foods\",\"Household\",\"Dairy\",\"Fruits and Vegetables\",\"Household\",\"Health and Hygiene\",\"Household\",\"Fruits and Vegetables\",\"Breads\",\"Seafood\",\"Baking Goods\",\"Soft Drinks\",\"Fruits and Vegetables\",\"Fruits and Vegetables\",\"Frozen Foods\",\"Dairy\",\"Household\",\"Dairy\",\"Snack Foods\",\"Household\",\"Household\",\"Soft Drinks\",\"Frozen Foods\",\"Baking Goods\",\"Snack Foods\",\"Frozen Foods\",\"Hard Drinks\",\"Health and Hygiene\",\"Dairy\",\"Health and Hygiene\",\"Baking Goods\",\"Frozen Foods\",\"Soft Drinks\",\"Household\",\"Baking Goods\",\"Baking Goods\",\"Soft Drinks\",\"Snack Foods\",\"Fruits and Vegetables\",\"Dairy\",\"Health and Hygiene\",\"Canned\",\"Dairy\",\"Household\",\"Starchy Foods\",\"Snack Foods\",\"Fruits and Vegetables\",\"Canned\",\"Frozen Foods\",\"Canned\",\"Household\",\"Snack Foods\",\"Baking Goods\",\"Snack Foods\",\"Snack Foods\",\"Snack Foods\",\"Frozen Foods\",\"Fruits and Vegetables\",\"Meat\",\"Household\",\"Health and Hygiene\",\"Hard Drinks\",\"Snack Foods\",\"Breakfast\",\"Household\",\"Dairy\",\"Snack Foods\",\"Canned\",\"Fruits and Vegetables\",\"Health and Hygiene\",\"Hard Drinks\",\"Snack Foods\",\"Canned\",\"Canned\",\"Others\",\"Soft Drinks\",\"Snack Foods\",\"Meat\",\"Frozen Foods\",\"Fruits and Vegetables\",\"Breads\",\"Fruits and Vegetables\",\"Dairy\",\"Dairy\",\"Canned\",\"Fruits and Vegetables\",\"Frozen Foods\",\"Soft Drinks\",\"Meat\",\"Soft Drinks\",\"Snack Foods\",\"Household\",\"Fruits and Vegetables\",\"Snack Foods\",\"Snack Foods\",\"Breads\",\"Snack Foods\",\"Frozen Foods\",\"Canned\",\"Dairy\",\"Snack Foods\",\"Dairy\",\"Breads\",\"Meat\",\"Breads\",\"Dairy\",\"Meat\",\"Breads\",\"Frozen Foods\",\"Seafood\",\"Meat\",\"Frozen Foods\",\"Soft Drinks\",\"Seafood\",\"Fruits and Vegetables\",\"Fruits and Vegetables\",\"Soft Drinks\",\"Baking Goods\",\"Soft Drinks\",\"Fruits and Vegetables\",\"Frozen Foods\",\"Hard Drinks\",\"Baking Goods\",\"Frozen Foods\",\"Canned\",\"Household\",\"Dairy\",\"Fruits and Vegetables\",\"Snack Foods\",\"Soft Drinks\",\"Meat\",\"Canned\",\"Household\",\"Fruits and Vegetables\",\"Dairy\",\"Soft Drinks\",\"Meat\",\"Dairy\",\"Snack Foods\",\"Meat\",\"Baking Goods\",\"Household\",\"Canned\",\"Meat\",\"Health and Hygiene\",\"Canned\",\"Dairy\",\"Baking Goods\",\"Snack Foods\",\"Baking Goods\",\"Health and Hygiene\",\"Baking Goods\",\"Dairy\",\"Frozen Foods\",\"Frozen Foods\",\"Health and Hygiene\",\"Frozen Foods\",\"Baking Goods\",\"Fruits and Vegetables\",\"Baking Goods\",\"Snack Foods\",\"Snack Foods\",\"Health and Hygiene\",\"Snack Foods\",\"Canned\",\"Breads\",\"Fruits and Vegetables\",\"Soft Drinks\",\"Fruits and Vegetables\",\"Snack Foods\",\"Breads\",\"Baking Goods\",\"Breads\",\"Household\",\"Meat\",\"Household\",\"Snack Foods\",\"Soft Drinks\",\"Household\",\"Household\",\"Frozen Foods\",\"Baking Goods\",\"Health and Hygiene\",\"Breads\",\"Dairy\",\"Baking Goods\",\"Breads\",\"Snack Foods\",\"Fruits and Vegetables\",\"Dairy\",\"Starchy Foods\",\"Baking Goods\",\"Fruits and Vegetables\",\"Snack Foods\",\"Baking Goods\",\"Baking Goods\",\"Fruits and Vegetables\",\"Baking Goods\",\"Household\",\"Canned\",\"Household\",\"Snack Foods\",\"Snack Foods\",\"Baking Goods\",\"Frozen Foods\",\"Frozen Foods\",\"Baking Goods\",\"Meat\",\"Household\",\"Snack Foods\",\"Health and Hygiene\",\"Dairy\",\"Household\",\"Household\",\"Snack Foods\",\"Hard Drinks\",\"Frozen Foods\",\"Canned\",\"Household\",\"Breads\",\"Household\",\"Others\",\"Health and Hygiene\",\"Fruits and Vegetables\",\"Snack Foods\",\"Baking Goods\",\"Household\",\"Baking Goods\",\"Breads\",\"Household\",\"Meat\",\"Frozen Foods\",\"Meat\",\"Breakfast\",\"Fruits and Vegetables\",\"Fruits and Vegetables\",\"Meat\",\"Fruits and Vegetables\",\"Snack Foods\",\"Household\",\"Baking Goods\",\"Breads\",\"Fruits and Vegetables\",\"Breakfast\",\"Household\",\"Canned\",\"Meat\",\"Frozen Foods\",\"Health and Hygiene\",\"Breads\",\"Fruits and Vegetables\",\"Snack Foods\",\"Household\",\"Dairy\",\"Fruits and Vegetables\",\"Dairy\",\"Breakfast\",\"Fruits and Vegetables\",\"Soft Drinks\",\"Meat\",\"Meat\",\"Dairy\",\"Dairy\",\"Fruits and Vegetables\",\"Baking Goods\",\"Snack Foods\",\"Frozen Foods\",\"Snack Foods\",\"Household\",\"Snack Foods\",\"Meat\",\"Hard Drinks\",\"Starchy Foods\",\"Meat\",\"Others\",\"Household\",\"Dairy\",\"Fruits and Vegetables\",\"Fruits and Vegetables\",\"Soft Drinks\",\"Dairy\",\"Frozen Foods\",\"Baking Goods\",\"Dairy\",\"Snack Foods\",\"Meat\",\"Baking Goods\",\"Baking Goods\",\"Baking Goods\",\"Snack Foods\",\"Breakfast\",\"Dairy\",\"Frozen Foods\",\"Meat\",\"Fruits and Vegetables\",\"Meat\",\"Frozen Foods\",\"Health and Hygiene\",\"Snack Foods\",\"Meat\",\"Canned\",\"Soft Drinks\",\"Canned\",\"Baking Goods\",\"Snack Foods\",\"Fruits and Vegetables\",\"Fruits and Vegetables\",\"Meat\",\"Fruits and Vegetables\",\"Health and Hygiene\",\"Frozen Foods\",\"Breakfast\",\"Household\",\"Health and Hygiene\",\"Dairy\",\"Frozen Foods\",\"Fruits and Vegetables\",\"Snack Foods\",\"Fruits and Vegetables\",\"Canned\",\"Frozen Foods\",\"Fruits and Vegetables\",\"Soft Drinks\",\"Breakfast\",\"Household\",\"Household\",\"Snack Foods\",\"Fruits and Vegetables\",\"Seafood\",\"Household\",\"Snack Foods\",\"Frozen Foods\",\"Frozen Foods\",\"Canned\",\"Snack Foods\",\"Dairy\",\"Frozen Foods\",\"Frozen Foods\",\"Others\",\"Frozen Foods\",\"Frozen Foods\",\"Baking Goods\",\"Baking Goods\",\"Baking Goods\",\"Breads\",\"Fruits and Vegetables\",\"Household\",\"Canned\",\"Meat\",\"Snack Foods\",\"Health and Hygiene\",\"Household\",\"Meat\",\"Health and Hygiene\",\"Frozen Foods\",\"Health and Hygiene\",\"Frozen Foods\",\"Dairy\",\"Snack Foods\",\"Household\",\"Fruits and Vegetables\",\"Fruits and Vegetables\",\"Household\",\"Soft Drinks\",\"Breads\",\"Fruits and Vegetables\",\"Fruits and Vegetables\",\"Soft Drinks\",\"Dairy\",\"Canned\",\"Fruits and Vegetables\",\"Frozen Foods\",\"Frozen Foods\",\"Breads\",\"Health and Hygiene\",\"Dairy\",\"Snack Foods\",\"Household\",\"Frozen Foods\",\"Meat\",\"Breakfast\",\"Frozen Foods\",\"Household\",\"Dairy\",\"Baking Goods\",\"Health and Hygiene\",\"Baking Goods\",\"Household\",\"Canned\",\"Household\",\"Others\",\"Meat\",\"Household\",\"Canned\",\"Soft Drinks\",\"Fruits and Vegetables\",\"Dairy\",\"Snack Foods\",\"Breakfast\",\"Snack Foods\",\"Dairy\",\"Baking Goods\",\"Health and Hygiene\",\"Snack Foods\",\"Frozen Foods\",\"Household\",\"Household\",\"Dairy\",\"Snack Foods\",\"Snack Foods\",\"Baking Goods\",\"Dairy\",\"Baking Goods\",\"Household\",\"Hard Drinks\",\"Canned\",\"Frozen Foods\",\"Others\",\"Frozen Foods\",\"Fruits and Vegetables\",\"Baking Goods\",\"Canned\",\"Frozen Foods\",\"Meat\",\"Meat\",\"Frozen Foods\",\"Baking Goods\",\"Fruits and Vegetables\",\"Fruits and Vegetables\",\"Baking Goods\",\"Dairy\",\"Meat\",\"Starchy Foods\",\"Canned\",\"Snack Foods\",\"Baking Goods\",\"Household\",\"Health and Hygiene\",\"Others\",\"Health and Hygiene\",\"Meat\",\"Frozen Foods\",\"Snack Foods\",\"Frozen Foods\",\"Fruits and Vegetables\",\"Breads\",\"Household\",\"Breakfast\",\"Health and Hygiene\",\"Meat\",\"Household\",\"Snack Foods\",\"Fruits and Vegetables\",\"Snack Foods\",\"Snack Foods\",\"Others\",\"Hard Drinks\",\"Fruits and Vegetables\",\"Snack Foods\",\"Canned\",\"Health and Hygiene\",\"Dairy\",\"Canned\",\"Household\",\"Fruits and Vegetables\",\"Fruits and Vegetables\",\"Breads\",\"Frozen Foods\",\"Snack Foods\",\"Fruits and Vegetables\",\"Household\",\"Snack Foods\",\"Snack Foods\",\"Fruits and Vegetables\",\"Fruits and Vegetables\",\"Dairy\",\"Soft Drinks\",\"Health and Hygiene\",\"Snack Foods\",\"Dairy\",\"Fruits and Vegetables\",\"Baking Goods\",\"Baking Goods\",\"Dairy\",\"Fruits and Vegetables\",\"Health and Hygiene\",\"Frozen Foods\",\"Soft Drinks\",\"Frozen Foods\",\"Household\",\"Household\",\"Fruits and Vegetables\",\"Fruits and Vegetables\",\"Household\",\"Health and Hygiene\",\"Fruits and Vegetables\",\"Fruits and Vegetables\",\"Health and Hygiene\",\"Starchy Foods\",\"Meat\",\"Baking Goods\",\"Others\",\"Fruits and Vegetables\",\"Snack Foods\",\"Snack Foods\",\"Household\",\"Baking Goods\",\"Frozen Foods\",\"Meat\",\"Soft Drinks\",\"Fruits and Vegetables\",\"Fruits and Vegetables\",\"Meat\",\"Health and Hygiene\",\"Frozen Foods\",\"Breads\",\"Starchy Foods\",\"Fruits and Vegetables\",\"Snack Foods\",\"Snack Foods\",\"Household\",\"Fruits and Vegetables\",\"Household\",\"Starchy Foods\",\"Breakfast\",\"Household\",\"Meat\",\"Meat\",\"Fruits and Vegetables\",\"Health and Hygiene\",\"Household\",\"Snack Foods\",\"Meat\",\"Health and Hygiene\",\"Frozen Foods\",\"Others\",\"Health and Hygiene\",\"Snack Foods\",\"Dairy\",\"Household\",\"Fruits and Vegetables\",\"Hard Drinks\",\"Soft Drinks\",\"Fruits and Vegetables\",\"Starchy Foods\",\"Starchy Foods\",\"Soft Drinks\",\"Fruits and Vegetables\",\"Dairy\",\"Baking Goods\",\"Baking Goods\",\"Fruits and Vegetables\",\"Frozen Foods\",\"Household\",\"Fruits and Vegetables\",\"Fruits and Vegetables\",\"Dairy\",\"Fruits and Vegetables\",\"Snack Foods\",\"Frozen Foods\",\"Health and Hygiene\",\"Dairy\",\"Breads\",\"Canned\",\"Fruits and Vegetables\",\"Frozen Foods\",\"Household\",\"Health and Hygiene\",\"Health and Hygiene\",\"Fruits and Vegetables\",\"Breads\",\"Fruits and Vegetables\",\"Household\",\"Baking Goods\",\"Fruits and Vegetables\",\"Dairy\",\"Others\",\"Canned\",\"Baking Goods\",\"Fruits and Vegetables\",\"Dairy\",\"Snack Foods\",\"Fruits and Vegetables\",\"Breakfast\",\"Household\",\"Meat\",\"Breads\",\"Frozen Foods\",\"Canned\",\"Snack Foods\",\"Household\",\"Soft Drinks\",\"Fruits and Vegetables\",\"Dairy\",\"Baking Goods\",\"Household\",\"Household\",\"Snack Foods\",\"Snack Foods\",\"Frozen Foods\",\"Meat\",\"Dairy\",\"Dairy\",\"Soft Drinks\",\"Canned\",\"Dairy\",\"Baking Goods\",\"Household\",\"Fruits and Vegetables\",\"Snack Foods\",\"Canned\",\"Frozen Foods\",\"Household\",\"Fruits and Vegetables\",\"Baking Goods\",\"Household\",\"Household\",\"Baking Goods\",\"Fruits and Vegetables\",\"Snack Foods\",\"Fruits and Vegetables\",\"Snack Foods\",\"Hard Drinks\",\"Seafood\",\"Household\",\"Household\",\"Dairy\",\"Meat\",\"Meat\",\"Soft Drinks\",\"Frozen Foods\",\"Snack Foods\",\"Soft Drinks\",\"Snack Foods\",\"Household\",\"Seafood\",\"Snack Foods\",\"Soft Drinks\",\"Snack Foods\",\"Baking Goods\",\"Breads\",\"Health and Hygiene\",\"Household\",\"Household\",\"Meat\",\"Dairy\",\"Others\",\"Fruits and Vegetables\",\"Canned\",\"Health and Hygiene\",\"Dairy\",\"Seafood\",\"Dairy\",\"Frozen Foods\",\"Snack Foods\",\"Soft Drinks\",\"Meat\",\"Household\",\"Meat\",\"Canned\",\"Household\",\"Fruits and Vegetables\",\"Snack Foods\",\"Baking Goods\",\"Household\",\"Household\",\"Starchy Foods\",\"Canned\",\"Dairy\",\"Frozen Foods\",\"Health and Hygiene\",\"Breads\",\"Dairy\",\"Snack Foods\",\"Fruits and Vegetables\",\"Canned\",\"Snack Foods\",\"Canned\",\"Fruits and Vegetables\",\"Others\",\"Household\",\"Snack Foods\",\"Meat\",\"Snack Foods\",\"Snack Foods\",\"Baking Goods\",\"Snack Foods\",\"Canned\",\"Baking Goods\",\"Fruits and Vegetables\",\"Fruits and Vegetables\",\"Baking Goods\",\"Fruits and Vegetables\",\"Canned\",\"Fruits and Vegetables\",\"Snack Foods\",\"Seafood\",\"Health and Hygiene\",\"Meat\",\"Starchy Foods\",\"Others\",\"Health and Hygiene\",\"Household\",\"Household\",\"Canned\",\"Others\",\"Health and Hygiene\",\"Health and Hygiene\",\"Breads\",\"Snack Foods\",\"Baking Goods\",\"Canned\",\"Household\",\"Baking Goods\",\"Canned\",\"Frozen Foods\",\"Breads\",\"Snack Foods\",\"Fruits and Vegetables\",\"Snack Foods\",\"Hard Drinks\",\"Soft Drinks\",\"Fruits and Vegetables\",\"Fruits and Vegetables\",\"Frozen Foods\",\"Others\",\"Snack Foods\",\"Fruits and Vegetables\",\"Snack Foods\",\"Canned\",\"Snack Foods\",\"Meat\",\"Soft Drinks\",\"Health and Hygiene\",\"Canned\",\"Others\",\"Dairy\",\"Meat\",\"Fruits and Vegetables\",\"Soft Drinks\",\"Dairy\",\"Soft Drinks\",\"Snack Foods\",\"Frozen Foods\",\"Dairy\",\"Household\",\"Household\",\"Health and Hygiene\",\"Dairy\",\"Fruits and Vegetables\",\"Snack Foods\",\"Fruits and Vegetables\",\"Canned\",\"Baking Goods\",\"Fruits and Vegetables\",\"Baking Goods\",\"Baking Goods\",\"Snack Foods\",\"Baking Goods\",\"Meat\",\"Household\",\"Soft Drinks\",\"Household\",\"Snack Foods\",\"Soft Drinks\",\"Meat\",\"Frozen Foods\",\"Hard Drinks\",\"Snack Foods\",\"Fruits and Vegetables\",\"Health and Hygiene\",\"Dairy\",\"Dairy\",\"Dairy\",\"Snack Foods\",\"Snack Foods\",\"Canned\",\"Household\",\"Household\",\"Breakfast\",\"Health and Hygiene\",\"Breakfast\",\"Frozen Foods\",\"Others\",\"Frozen Foods\",\"Snack Foods\",\"Snack Foods\",\"Health and Hygiene\",\"Fruits and Vegetables\",\"Health and Hygiene\",\"Snack Foods\",\"Snack Foods\",\"Breakfast\",\"Frozen Foods\",\"Hard Drinks\",\"Fruits and Vegetables\",\"Household\",\"Breads\",\"Starchy Foods\",\"Canned\",\"Canned\",\"Frozen Foods\",\"Others\",\"Soft Drinks\",\"Health and Hygiene\",\"Dairy\",\"Dairy\",\"Soft Drinks\",\"Hard Drinks\",\"Canned\",\"Frozen Foods\",\"Dairy\",\"Hard Drinks\",\"Household\",\"Baking Goods\",\"Dairy\",\"Snack Foods\",\"Fruits and Vegetables\",\"Frozen Foods\",\"Others\",\"Canned\",\"Snack Foods\",\"Frozen Foods\",\"Hard Drinks\",\"Fruits and Vegetables\",\"Canned\",\"Baking Goods\",\"Canned\",\"Baking Goods\",\"Fruits and Vegetables\",\"Snack Foods\",\"Fruits and Vegetables\",\"Fruits and Vegetables\",\"Household\",\"Fruits and Vegetables\",\"Household\",\"Fruits and Vegetables\",\"Frozen Foods\",\"Health and Hygiene\",\"Meat\",\"Fruits and Vegetables\",\"Fruits and Vegetables\",\"Soft Drinks\",\"Health and Hygiene\",\"Health and Hygiene\",\"Soft Drinks\",\"Household\",\"Dairy\",\"Fruits and Vegetables\",\"Frozen Foods\",\"Frozen Foods\",\"Canned\",\"Household\",\"Fruits and Vegetables\",\"Snack Foods\",\"Hard Drinks\",\"Snack Foods\",\"Fruits and Vegetables\",\"Fruits and Vegetables\",\"Fruits and Vegetables\"],\"xaxis\":\"x\",\"y\":[732.38,214.3876,178.4344,125.8362,163.7868,358.2004,780.3176,892.172,147.8076,184.4266,643.1628,583.2408,369.519,487.3656,679.116,176.437,186.424,101.2016,263.6568,345.5502,585.2382,161.1236,42.6112,239.688,657.8104,327.5736,317.5866,231.6984,324.9104,131.1626,260.9936,260.9936,213.056,153.134,119.1782,306.268,41.2796,500.6816,573.2538,296.9468,254.3356,452.744,387.4956,229.701,383.5008,182.4292,384.8324,474.0496,916.1408,48.6034,711.0744,83.8908,291.6204,38.6164,372.848,155.1314,50.6008,165.7842,520.6556,75.2354,37.9506,151.8024,731.0484,527.3136,95.8752,774.9912,314.2576,276.307,323.5788,370.1848,95.8752,56.593,319.584,1014.6792,334.2316,81.2276,319.584,37.9506,437.4306,103.199,229.701,177.1028,121.8414,761.0094,97.2068,226.372,585.904,258.3304,539.298,419.454,129.1652,147.1418,58.5904,181.7634,145.8102,178.4344,87.2198,565.2642,547.2876,588.5672,461.3994,126.502,300.9416,387.4956,143.147,33.29,657.8104,218.3824,591.2304,895.501,198.4084,50.6008,251.6724,189.753,367.5216,89.2172,114.5176,745.696,174.4396,123.173,474.0496,762.341,384.8324,167.7816,258.3304,352.874,146.476,145.8102,87.2198,75.9012,759.012,179.766,143.8128,217.0508,932.12,360.8636,767.0016,1482.0708,174.4396,122.5072,211.7244,294.2836,261.6594,153.7998,339.558,347.5476,822.263,121.1756,165.1184,241.0196,202.4032,159.792,189.0872,169.1132,147.8076,172.4422,790.9704,161.7894,253.004,67.9116,503.3448,567.2616,146.476,369.519,89.883,345.5502,1575.2828,351.5424,145.8102,711.0744,146.476,833.5816,884.1824,436.7648,149.1392,107.8596,115.8492,205.0664,119.844,175.7712,177.7686,486.034,170.4448,222.3772,95.2094,716.4008,677.1186,660.4736,483.3708,187.0898,167.7816,171.7764,74.5696,435.4332,277.6386,311.5944,211.7244,153.7998,109.857,255.0014,1078.596,495.3552,254.3356,665.8,127.8336,85.8882,481.3734,886.8456,218.3824,216.385,202.4032,108.5254,109.1912,145.1444,175.1054,492.692,719.064,199.74,120.5098,317.5866,992.042,245.0144,122.5072,363.5268,355.5372,189.0872,314.2576,113.186,262.3252,209.727,294.2836,1046.6376,316.9208,687.1056,40.6138,515.3292,117.8466,123.8388,197.0768,525.982,291.6204,425.4462,165.7842,254.3356,962.7468,426.112,689.103,559.272,179.766,756.3488,113.186,480.7076,159.792,37.2848,253.6698,467.3916,525.3162,392.822,101.2016,151.8024,992.042,102.5332,717.0666,215.7192,115.8492,498.0184,262.991,164.4526,774.9912,697.7584,479.376,165.1184,288.9572,410.1328,387.4956,188.4214,593.8936,589.233,283.6308,437.4306,579.246,206.398,589.233,221.0456,378.1744,253.004,131.1626,168.4474,53.9298,113.8518,555.2772,815.605,61.2536,129.831,307.5996,197.7426,153.7998,55.2614,370.1848,175.7712,71.9064,189.0872,445.4202,352.874,171.1106,195.7452,93.212,555.2772,188.4214,361.5294,948.765,782.9808,213.056,312.926,109.1912,1050.6324,33.9558,259.662,529.311,117.8466,139.818,503.3448,745.696,211.7244,149.805,102.5332,453.4098,129.831,193.082,347.5476,169.1132,293.6178,171.7764,592.562,175.7712,452.744,185.7582,291.6204,256.333,934.7832,308.9312,171.7764,161.7894,237.6906,113.186,263.6568,289.623,152.4682,138.4864,250.3408,180.4318,467.3916,491.3604,473.3838,399.48,196.411,508.6712,575.2512,157.1288,196.411,697.0926,774.9912,397.4826,143.8128,149.1392,419.454,852.224,675.1212,155.1314,351.5424,284.9624,147.8076,135.8232,105.8622,118.5124,531.3084,295.6152,382.1692,34.6216,142.4812,572.588,187.7556,223.7088,529.311,109.1912,70.5748,250.3408,87.2198,199.74,459.402,457.4046,420.7856,63.251,455.4072,251.6724,1524.0162,387.4956,311.5944,189.753,219.0482,117.1808,323.5788,985.384,49.2692,519.324,567.2616,471.3864,119.1782,157.1288,207.7296,59.2562,234.3616,47.9376,621.1914,299.61,103.199,418.1224,223.7088,352.874,97.2068,120.5098,141.8154,285.6282,67.9116,296.9468,1102.5648,88.5514,127.1678,460.7336,755.0172,223.7088,303.6048,420.7856,225.0404,288.9572,348.8792,85.8882,542.627,110.5228,1106.5596,203.7348,218.3824,330.2368,351.5424,759.012,390.1588,852.8898,101.2016,146.476,229.701,48.6034,91.8804,761.0094,495.3552,196.411,78.5644,402.1432,207.0638,862.8768,177.1028,563.2668,916.1408,121.8414,215.7192,875.527,316.255,175.7712,296.281,182.4292,311.5944,245.6802,183.7608,622.523,122.5072,210.3928,551.2824,40.6138,467.3916,131.8284,693.0978,225.7062,322.2472,203.7348,466.06,529.9768,110.5228,480.7076,89.883,180.4318,596.5568,123.8388,238.3564,322.2472,221.7114,107.8596,347.5476,183.7608,428.7752,221.0456,575.2512,256.9988,234.3616,327.5736,262.991,374.1796,225.7062,264.9884,228.3694,1001.3632,265.6542,449.415,89.883,45.9402,233.03,790.9704,153.134,671.1264,190.4188,310.2628,36.619,37.9506,259.662,549.285,203.7348,517.3266,41.9454,591.2304,196.411,111.1886,170.4448,551.2824,185.7582,347.5476,525.982,39.948,509.337,194.4136,195.7452,111.8544,889.5088,89.883,111.8544,170.4448,280.9676,227.7036,186.424,493.3578,164.4526,365.5242,517.9924,127.1678,158.4604,210.3928,331.5684,1041.977,1162.4868,1324.942,400.8116,96.541,351.5424,181.0976,143.147,743.0328,191.7504,161.1236,307.5996,527.3136,243.6828,463.3968,215.7192,372.848,94.5436,439.428,97.2068,351.5424,687.1056,197.0768,41.9454,264.9884,37.9506,303.6048,945.436,253.004,585.2382,258.3304,663.1368,488.6972,91.8804,102.5332,405.4722,113.8518,498.0184,398.1484,93.8778,127.1678,1288.323,249.0092,376.8428,47.2718,163.7868,210.3928,229.0352,162.4552,352.874,83.8908,298.2784,432.77,455.4072,425.4462,120.5098,527.3136,592.562,567.2616,114.5176,337.5606,327.5736,229.701,191.0846,331.5684,219.0482,159.1262,229.0352,123.8388,107.8596,205.0664,354.2056,458.0704,243.6828,359.532,44.6086,1314.955,549.285,1126.5336,392.822,222.3772,792.302,316.9208,115.1834,399.48,101.2016,109.857,135.8232,790.9704,272.978,111.1886,41.2796,191.0846,47.9376,191.0846,790.9704,61.9194,447.4176,150.4708,44.6086,1281.665,97.2068,1304.968,858.882,179.766,982.7208,711.0744,218.3824,316.9208,193.7478,120.5098,739.038,181.0976,190.4188,329.571,523.3188,1094.5752,719.064,751.0224,159.792,506.008,371.5164,429.441,169.779,213.056,447.4176,331.5684,53.264,469.389,312.926,444.7544,37.9506,822.263,91.2146,61.2536,435.4332,430.1068,683.1108,170.4448,474.0496,649.8208,311.5944,280.9676,122.5072,784.9782,452.744,243.6828,319.584,423.4488,724.3904,247.0118,93.212,150.4708,104.5306,595.2252,192.4162,141.8154,628.5152,543.2928,165.7842,115.8492,477.3786,1061.951,129.831,219.714,171.7764,191.7504,370.1848,198.4084,126.502,221.0456,234.3616,312.926,45.9402,47.2718,121.1756,96.541,549.285,229.701,194.4136,422.1172,152.4682,633.8416,182.4292,385.4982,852.224,394.1536,213.056,400.8116,171.1106,166.45,88.5514,179.766,110.5228,308.9312,422.1172,190.4188,83.8908,165.7842,316.9208,567.2616,379.506,296.9468,416.125,39.948,264.3226,595.2252,697.0926,645.826,176.437,468.7232,555.2772,677.1186,183.7608,451.4124,197.0768,160.4578,141.8154,89.2172,499.35,247.6776,691.1004,344.8844,256.9988,242.3512,307.5996,108.5254,524.6504,376.8428,874.8612,143.8128,223.7088,1001.3632,155.7972,126.502,185.0924,1041.3112,463.3968,249.0092,563.2668,280.9676,769.6648,555.2772,433.4358,449.415,153.134,296.9468,412.796,88.5514,466.06,202.4032,296.9468,176.437,1034.6532,415.4592,365.5242,151.1366,311.5944,575.917,170.4448,223.7088,460.7336,343.5528,173.108,442.757,1090.5804,604.5464,50.6008,386.164,379.506,245.6802,862.211,51.9324,264.9884,708.4112,125.8362,231.6984,157.1288,515.3292,753.6856,195.7452,356.8688,473.3838,123.8388,1148.505,564.5984,482.0392,123.8388,312.926,175.7712,882.185,75.9012,185.7582,254.3356,251.6724,111.8544,675.1212,135.8232,165.7842,47.2718,42.6112,311.5944,223.7088,150.4708,149.805,913.4776,370.1848,354.2056,344.8844,256.9988,145.8102,386.164,33.29,139.818,90.5488,379.506,223.7088,339.558,79.896,357.5346,173.108,143.8128,312.926,399.48,484.7024,484.7024,249.0092,215.7192,155.1314,105.8622,335.5632,418.1224,392.822,198.4084,392.822,185.0924,436.7648,975.397,230.3668,127.8336,253.6698,209.0612,131.8284,151.1366,117.1808,424.7804,280.9676,82.5592,815.605,162.4552,223.7088,111.8544,517.3266,375.5112,319.584,255.6672,517.3266,154.4656,412.796,326.242,194.4136,217.7166,178.4344,263.6568,193.082,431.4384,585.904,593.2278,127.8336,80.5618,369.519,595.2252,251.6724,555.2772,815.605,369.519,657.8104,35.2874,191.7504,300.9416,303.6048,258.9962,185.0924,884.1824,1046.6376,280.9676,788.973,277.6386,659.142,75.9012,788.973,433.4358,247.6776,98.5384,214.3876,160.4578,561.2694,83.225,79.896,432.77,395.4852,379.506,303.6048,495.3552,167.7816,49.935,99.2042,422.1172,334.2316,198.4084,291.6204,455.4072,36.619,291.6204,144.4786,41.9454,123.173,123.8388,288.9572,338.2264,786.9756,280.9676,617.8624,328.9052,316.9208,176.437,79.896,450.0808,1470.0864,196.411,457.4046,1775.6886,176.437,73.238,90.5488,516.6608,382.1692,65.2484,1342.2528,723.0588,109.1912,175.7712,499.35,892.172,57.2588,188.4214,151.1366,41.2796,385.4982,103.199,469.389,139.818,179.766,377.5086,790.9704,427.4436,888.843,1010.6844,647.1576,79.2302,185.7582,336.8948,271.6464,77.2328,171.7764,379.506,109.857,262.3252,117.1808,207.7296,364.8584,246.346,283.6308,503.3448,667.1316,143.8128,214.3876,161.7894,116.515,149.805,49.2692,71.9064,246.346,94.5436,469.389,195.7452,360.8636,387.4956,551.2824,510.0028,175.1054,67.9116,73.238,228.3694,621.1914,126.502,368.8532,197.0768,361.5294,451.4124,543.2928,122.5072,316.9208,164.4526,193.7478,467.3916,641.1654,1482.0708,121.1756,128.4994,215.7192,185.0924,528.6452,451.4124,284.9624,425.4462,153.134,124.5046,159.792,38.6164,571.2564,159.792,452.744,367.5216,431.4384,459.402,45.2744,487.3656,424.7804],\"yaxis\":\"y\",\"type\":\"histogram\"}],                        {\"template\":{\"data\":{\"bar\":[{\"error_x\":{\"color\":\"#2a3f5f\"},\"error_y\":{\"color\":\"#2a3f5f\"},\"marker\":{\"line\":{\"color\":\"#E5ECF6\",\"width\":0.5},\"pattern\":{\"fillmode\":\"overlay\",\"size\":10,\"solidity\":0.2}},\"type\":\"bar\"}],\"barpolar\":[{\"marker\":{\"line\":{\"color\":\"#E5ECF6\",\"width\":0.5},\"pattern\":{\"fillmode\":\"overlay\",\"size\":10,\"solidity\":0.2}},\"type\":\"barpolar\"}],\"carpet\":[{\"aaxis\":{\"endlinecolor\":\"#2a3f5f\",\"gridcolor\":\"white\",\"linecolor\":\"white\",\"minorgridcolor\":\"white\",\"startlinecolor\":\"#2a3f5f\"},\"baxis\":{\"endlinecolor\":\"#2a3f5f\",\"gridcolor\":\"white\",\"linecolor\":\"white\",\"minorgridcolor\":\"white\",\"startlinecolor\":\"#2a3f5f\"},\"type\":\"carpet\"}],\"choropleth\":[{\"colorbar\":{\"outlinewidth\":0,\"ticks\":\"\"},\"type\":\"choropleth\"}],\"contour\":[{\"colorbar\":{\"outlinewidth\":0,\"ticks\":\"\"},\"colorscale\":[[0.0,\"#0d0887\"],[0.1111111111111111,\"#46039f\"],[0.2222222222222222,\"#7201a8\"],[0.3333333333333333,\"#9c179e\"],[0.4444444444444444,\"#bd3786\"],[0.5555555555555556,\"#d8576b\"],[0.6666666666666666,\"#ed7953\"],[0.7777777777777778,\"#fb9f3a\"],[0.8888888888888888,\"#fdca26\"],[1.0,\"#f0f921\"]],\"type\":\"contour\"}],\"contourcarpet\":[{\"colorbar\":{\"outlinewidth\":0,\"ticks\":\"\"},\"type\":\"contourcarpet\"}],\"heatmap\":[{\"colorbar\":{\"outlinewidth\":0,\"ticks\":\"\"},\"colorscale\":[[0.0,\"#0d0887\"],[0.1111111111111111,\"#46039f\"],[0.2222222222222222,\"#7201a8\"],[0.3333333333333333,\"#9c179e\"],[0.4444444444444444,\"#bd3786\"],[0.5555555555555556,\"#d8576b\"],[0.6666666666666666,\"#ed7953\"],[0.7777777777777778,\"#fb9f3a\"],[0.8888888888888888,\"#fdca26\"],[1.0,\"#f0f921\"]],\"type\":\"heatmap\"}],\"heatmapgl\":[{\"colorbar\":{\"outlinewidth\":0,\"ticks\":\"\"},\"colorscale\":[[0.0,\"#0d0887\"],[0.1111111111111111,\"#46039f\"],[0.2222222222222222,\"#7201a8\"],[0.3333333333333333,\"#9c179e\"],[0.4444444444444444,\"#bd3786\"],[0.5555555555555556,\"#d8576b\"],[0.6666666666666666,\"#ed7953\"],[0.7777777777777778,\"#fb9f3a\"],[0.8888888888888888,\"#fdca26\"],[1.0,\"#f0f921\"]],\"type\":\"heatmapgl\"}],\"histogram\":[{\"marker\":{\"pattern\":{\"fillmode\":\"overlay\",\"size\":10,\"solidity\":0.2}},\"type\":\"histogram\"}],\"histogram2d\":[{\"colorbar\":{\"outlinewidth\":0,\"ticks\":\"\"},\"colorscale\":[[0.0,\"#0d0887\"],[0.1111111111111111,\"#46039f\"],[0.2222222222222222,\"#7201a8\"],[0.3333333333333333,\"#9c179e\"],[0.4444444444444444,\"#bd3786\"],[0.5555555555555556,\"#d8576b\"],[0.6666666666666666,\"#ed7953\"],[0.7777777777777778,\"#fb9f3a\"],[0.8888888888888888,\"#fdca26\"],[1.0,\"#f0f921\"]],\"type\":\"histogram2d\"}],\"histogram2dcontour\":[{\"colorbar\":{\"outlinewidth\":0,\"ticks\":\"\"},\"colorscale\":[[0.0,\"#0d0887\"],[0.1111111111111111,\"#46039f\"],[0.2222222222222222,\"#7201a8\"],[0.3333333333333333,\"#9c179e\"],[0.4444444444444444,\"#bd3786\"],[0.5555555555555556,\"#d8576b\"],[0.6666666666666666,\"#ed7953\"],[0.7777777777777778,\"#fb9f3a\"],[0.8888888888888888,\"#fdca26\"],[1.0,\"#f0f921\"]],\"type\":\"histogram2dcontour\"}],\"mesh3d\":[{\"colorbar\":{\"outlinewidth\":0,\"ticks\":\"\"},\"type\":\"mesh3d\"}],\"parcoords\":[{\"line\":{\"colorbar\":{\"outlinewidth\":0,\"ticks\":\"\"}},\"type\":\"parcoords\"}],\"pie\":[{\"automargin\":true,\"type\":\"pie\"}],\"scatter\":[{\"marker\":{\"colorbar\":{\"outlinewidth\":0,\"ticks\":\"\"}},\"type\":\"scatter\"}],\"scatter3d\":[{\"line\":{\"colorbar\":{\"outlinewidth\":0,\"ticks\":\"\"}},\"marker\":{\"colorbar\":{\"outlinewidth\":0,\"ticks\":\"\"}},\"type\":\"scatter3d\"}],\"scattercarpet\":[{\"marker\":{\"colorbar\":{\"outlinewidth\":0,\"ticks\":\"\"}},\"type\":\"scattercarpet\"}],\"scattergeo\":[{\"marker\":{\"colorbar\":{\"outlinewidth\":0,\"ticks\":\"\"}},\"type\":\"scattergeo\"}],\"scattergl\":[{\"marker\":{\"colorbar\":{\"outlinewidth\":0,\"ticks\":\"\"}},\"type\":\"scattergl\"}],\"scattermapbox\":[{\"marker\":{\"colorbar\":{\"outlinewidth\":0,\"ticks\":\"\"}},\"type\":\"scattermapbox\"}],\"scatterpolar\":[{\"marker\":{\"colorbar\":{\"outlinewidth\":0,\"ticks\":\"\"}},\"type\":\"scatterpolar\"}],\"scatterpolargl\":[{\"marker\":{\"colorbar\":{\"outlinewidth\":0,\"ticks\":\"\"}},\"type\":\"scatterpolargl\"}],\"scatterternary\":[{\"marker\":{\"colorbar\":{\"outlinewidth\":0,\"ticks\":\"\"}},\"type\":\"scatterternary\"}],\"surface\":[{\"colorbar\":{\"outlinewidth\":0,\"ticks\":\"\"},\"colorscale\":[[0.0,\"#0d0887\"],[0.1111111111111111,\"#46039f\"],[0.2222222222222222,\"#7201a8\"],[0.3333333333333333,\"#9c179e\"],[0.4444444444444444,\"#bd3786\"],[0.5555555555555556,\"#d8576b\"],[0.6666666666666666,\"#ed7953\"],[0.7777777777777778,\"#fb9f3a\"],[0.8888888888888888,\"#fdca26\"],[1.0,\"#f0f921\"]],\"type\":\"surface\"}],\"table\":[{\"cells\":{\"fill\":{\"color\":\"#EBF0F8\"},\"line\":{\"color\":\"white\"}},\"header\":{\"fill\":{\"color\":\"#C8D4E3\"},\"line\":{\"color\":\"white\"}},\"type\":\"table\"}]},\"layout\":{\"annotationdefaults\":{\"arrowcolor\":\"#2a3f5f\",\"arrowhead\":0,\"arrowwidth\":1},\"autotypenumbers\":\"strict\",\"coloraxis\":{\"colorbar\":{\"outlinewidth\":0,\"ticks\":\"\"}},\"colorscale\":{\"diverging\":[[0,\"#8e0152\"],[0.1,\"#c51b7d\"],[0.2,\"#de77ae\"],[0.3,\"#f1b6da\"],[0.4,\"#fde0ef\"],[0.5,\"#f7f7f7\"],[0.6,\"#e6f5d0\"],[0.7,\"#b8e186\"],[0.8,\"#7fbc41\"],[0.9,\"#4d9221\"],[1,\"#276419\"]],\"sequential\":[[0.0,\"#0d0887\"],[0.1111111111111111,\"#46039f\"],[0.2222222222222222,\"#7201a8\"],[0.3333333333333333,\"#9c179e\"],[0.4444444444444444,\"#bd3786\"],[0.5555555555555556,\"#d8576b\"],[0.6666666666666666,\"#ed7953\"],[0.7777777777777778,\"#fb9f3a\"],[0.8888888888888888,\"#fdca26\"],[1.0,\"#f0f921\"]],\"sequentialminus\":[[0.0,\"#0d0887\"],[0.1111111111111111,\"#46039f\"],[0.2222222222222222,\"#7201a8\"],[0.3333333333333333,\"#9c179e\"],[0.4444444444444444,\"#bd3786\"],[0.5555555555555556,\"#d8576b\"],[0.6666666666666666,\"#ed7953\"],[0.7777777777777778,\"#fb9f3a\"],[0.8888888888888888,\"#fdca26\"],[1.0,\"#f0f921\"]]},\"colorway\":[\"#636efa\",\"#EF553B\",\"#00cc96\",\"#ab63fa\",\"#FFA15A\",\"#19d3f3\",\"#FF6692\",\"#B6E880\",\"#FF97FF\",\"#FECB52\"],\"font\":{\"color\":\"#2a3f5f\"},\"geo\":{\"bgcolor\":\"white\",\"lakecolor\":\"white\",\"landcolor\":\"#E5ECF6\",\"showlakes\":true,\"showland\":true,\"subunitcolor\":\"white\"},\"hoverlabel\":{\"align\":\"left\"},\"hovermode\":\"closest\",\"mapbox\":{\"style\":\"light\"},\"paper_bgcolor\":\"white\",\"plot_bgcolor\":\"#E5ECF6\",\"polar\":{\"angularaxis\":{\"gridcolor\":\"white\",\"linecolor\":\"white\",\"ticks\":\"\"},\"bgcolor\":\"#E5ECF6\",\"radialaxis\":{\"gridcolor\":\"white\",\"linecolor\":\"white\",\"ticks\":\"\"}},\"scene\":{\"xaxis\":{\"backgroundcolor\":\"#E5ECF6\",\"gridcolor\":\"white\",\"gridwidth\":2,\"linecolor\":\"white\",\"showbackground\":true,\"ticks\":\"\",\"zerolinecolor\":\"white\"},\"yaxis\":{\"backgroundcolor\":\"#E5ECF6\",\"gridcolor\":\"white\",\"gridwidth\":2,\"linecolor\":\"white\",\"showbackground\":true,\"ticks\":\"\",\"zerolinecolor\":\"white\"},\"zaxis\":{\"backgroundcolor\":\"#E5ECF6\",\"gridcolor\":\"white\",\"gridwidth\":2,\"linecolor\":\"white\",\"showbackground\":true,\"ticks\":\"\",\"zerolinecolor\":\"white\"}},\"shapedefaults\":{\"line\":{\"color\":\"#2a3f5f\"}},\"ternary\":{\"aaxis\":{\"gridcolor\":\"white\",\"linecolor\":\"white\",\"ticks\":\"\"},\"baxis\":{\"gridcolor\":\"white\",\"linecolor\":\"white\",\"ticks\":\"\"},\"bgcolor\":\"#E5ECF6\",\"caxis\":{\"gridcolor\":\"white\",\"linecolor\":\"white\",\"ticks\":\"\"}},\"title\":{\"x\":0.05},\"xaxis\":{\"automargin\":true,\"gridcolor\":\"white\",\"linecolor\":\"white\",\"ticks\":\"\",\"title\":{\"standoff\":15},\"zerolinecolor\":\"white\",\"zerolinewidth\":2},\"yaxis\":{\"automargin\":true,\"gridcolor\":\"white\",\"linecolor\":\"white\",\"ticks\":\"\",\"title\":{\"standoff\":15},\"zerolinecolor\":\"white\",\"zerolinewidth\":2}}},\"xaxis\":{\"anchor\":\"y\",\"domain\":[0.0,1.0],\"title\":{\"text\":\"Item Type\"}},\"yaxis\":{\"anchor\":\"x\",\"domain\":[0.0,1.0],\"title\":{\"text\":\"sum of Total Sales\"}},\"legend\":{\"title\":{\"text\":\"Outlet Type\"},\"tracegroupgap\":0},\"title\":{\"text\":\"Total Sales Per Item Type\"},\"barmode\":\"relative\"},                        {\"responsive\": true}                    ).then(function(){\n",
              "                            \n",
              "var gd = document.getElementById('a844e326-078f-49b9-96ef-a1e35828b923');\n",
              "var x = new MutationObserver(function (mutations, observer) {{\n",
              "        var display = window.getComputedStyle(gd).display;\n",
              "        if (!display || display === 'none') {{\n",
              "            console.log([gd, 'removed!']);\n",
              "            Plotly.purge(gd);\n",
              "            observer.disconnect();\n",
              "        }}\n",
              "}});\n",
              "\n",
              "// Listen for the removal of the full notebook cells\n",
              "var notebookContainer = gd.closest('#notebook-container');\n",
              "if (notebookContainer) {{\n",
              "    x.observe(notebookContainer, {childList: true});\n",
              "}}\n",
              "\n",
              "// Listen for the clearing of the current output cell\n",
              "var outputEl = gd.closest('.output');\n",
              "if (outputEl) {{\n",
              "    x.observe(outputEl, {childList: true});\n",
              "}}\n",
              "\n",
              "                        })                };                            </script>        </div>\n",
              "</body>\n",
              "</html>"
            ]
          },
          "metadata": {}
        }
      ]
    },
    {
      "cell_type": "markdown",
      "source": [
        "### With these interactive Graphs the Client can easily look for trends in the data and use them to make business decisions."
      ],
      "metadata": {
        "id": "Z2SeXO696WWw"
      }
    },
    {
      "cell_type": "markdown",
      "source": [
        "## Machine Learning"
      ],
      "metadata": {
        "id": "MF8nB4d265ds"
      }
    },
    {
      "cell_type": "markdown",
      "source": [
        "### With the power of Machine learning, meaningful data analysis can be done automatically, and predictions can be made relatively accurately by the computer\n",
        "\n",
        "### Lets start by importing the modules we will need"
      ],
      "metadata": {
        "id": "z4kzsJDX68Ps"
      }
    },
    {
      "cell_type": "code",
      "source": [
        "from sklearn.ensemble import RandomForestRegressor\n",
        "from sklearn.metrics import mean_absolute_error\n",
        "from sklearn.model_selection import train_test_split\n",
        "from sklearn.preprocessing import OrdinalEncoder"
      ],
      "metadata": {
        "id": "hqb_01xP7TCD"
      },
      "execution_count": 25,
      "outputs": []
    },
    {
      "cell_type": "markdown",
      "source": [
        "### Now we will seperate the data into our prediction's target (Item_Outlet_Sales) and the data used to estimate that target. We will also seperate out test data from validation data to prevent data leaks."
      ],
      "metadata": {
        "id": "n9kDiMfc7qZ_"
      }
    },
    {
      "cell_type": "code",
      "source": [
        "y = df[\"Item_Outlet_Sales\"]\n",
        "\n",
        "numeric_features = [\"Item_Weight\",\n",
        "                    \"Item_Visibility\",\n",
        "                    \"Item_MRP\",\n",
        "                    \"Outlet_Establishment_Year\"]\n",
        "ordinal_encoded_features = [\"Outlet_Size\",\n",
        "                            \"Outlet_Type\",\n",
        "                            \"Outlet_Identifier\",\n",
        "                            \"Item_Type\",\n",
        "                            \"Item_Fat_Content\"]\n",
        "\n",
        "# Include all fatures to be included in the model\n",
        "X = df[numeric_features + ordinal_encoded_features]\n",
        "X.head()"
      ],
      "metadata": {
        "colab": {
          "base_uri": "https://localhost:8080/",
          "height": 206
        },
        "id": "v9NyzuW58Db_",
        "outputId": "13383c2c-4229-4f7a-9c18-ef3864e8157a"
      },
      "execution_count": 26,
      "outputs": [
        {
          "output_type": "execute_result",
          "data": {
            "text/plain": [
              "   Item_Weight  Item_Visibility  Item_MRP  Outlet_Establishment_Year  \\\n",
              "0         9.30         0.016047  249.8092                       1999   \n",
              "1         5.92         0.019278   48.2692                       2009   \n",
              "2        17.50         0.016760  141.6180                       1999   \n",
              "3        19.20         0.000000  182.0950                       1998   \n",
              "4         8.93         0.000000   53.8614                       1987   \n",
              "\n",
              "  Outlet_Size        Outlet_Type Outlet_Identifier              Item_Type  \\\n",
              "0      Medium  Supermarket Type1            OUT049                  Dairy   \n",
              "1      Medium  Supermarket Type2            OUT018            Soft Drinks   \n",
              "2      Medium  Supermarket Type1            OUT049                   Meat   \n",
              "3     Unknown      Grocery Store            OUT010  Fruits and Vegetables   \n",
              "4       Large  Supermarket Type1            OUT013              Household   \n",
              "\n",
              "  Item_Fat_Content  \n",
              "0          Low Fat  \n",
              "1          Regular  \n",
              "2          Low Fat  \n",
              "3          Regular  \n",
              "4          Low Fat  "
            ],
            "text/html": [
              "\n",
              "  <div id=\"df-87af7248-06a2-4aa3-9b7c-6f5d4ff9757f\">\n",
              "    <div class=\"colab-df-container\">\n",
              "      <div>\n",
              "<style scoped>\n",
              "    .dataframe tbody tr th:only-of-type {\n",
              "        vertical-align: middle;\n",
              "    }\n",
              "\n",
              "    .dataframe tbody tr th {\n",
              "        vertical-align: top;\n",
              "    }\n",
              "\n",
              "    .dataframe thead th {\n",
              "        text-align: right;\n",
              "    }\n",
              "</style>\n",
              "<table border=\"1\" class=\"dataframe\">\n",
              "  <thead>\n",
              "    <tr style=\"text-align: right;\">\n",
              "      <th></th>\n",
              "      <th>Item_Weight</th>\n",
              "      <th>Item_Visibility</th>\n",
              "      <th>Item_MRP</th>\n",
              "      <th>Outlet_Establishment_Year</th>\n",
              "      <th>Outlet_Size</th>\n",
              "      <th>Outlet_Type</th>\n",
              "      <th>Outlet_Identifier</th>\n",
              "      <th>Item_Type</th>\n",
              "      <th>Item_Fat_Content</th>\n",
              "    </tr>\n",
              "  </thead>\n",
              "  <tbody>\n",
              "    <tr>\n",
              "      <th>0</th>\n",
              "      <td>9.30</td>\n",
              "      <td>0.016047</td>\n",
              "      <td>249.8092</td>\n",
              "      <td>1999</td>\n",
              "      <td>Medium</td>\n",
              "      <td>Supermarket Type1</td>\n",
              "      <td>OUT049</td>\n",
              "      <td>Dairy</td>\n",
              "      <td>Low Fat</td>\n",
              "    </tr>\n",
              "    <tr>\n",
              "      <th>1</th>\n",
              "      <td>5.92</td>\n",
              "      <td>0.019278</td>\n",
              "      <td>48.2692</td>\n",
              "      <td>2009</td>\n",
              "      <td>Medium</td>\n",
              "      <td>Supermarket Type2</td>\n",
              "      <td>OUT018</td>\n",
              "      <td>Soft Drinks</td>\n",
              "      <td>Regular</td>\n",
              "    </tr>\n",
              "    <tr>\n",
              "      <th>2</th>\n",
              "      <td>17.50</td>\n",
              "      <td>0.016760</td>\n",
              "      <td>141.6180</td>\n",
              "      <td>1999</td>\n",
              "      <td>Medium</td>\n",
              "      <td>Supermarket Type1</td>\n",
              "      <td>OUT049</td>\n",
              "      <td>Meat</td>\n",
              "      <td>Low Fat</td>\n",
              "    </tr>\n",
              "    <tr>\n",
              "      <th>3</th>\n",
              "      <td>19.20</td>\n",
              "      <td>0.000000</td>\n",
              "      <td>182.0950</td>\n",
              "      <td>1998</td>\n",
              "      <td>Unknown</td>\n",
              "      <td>Grocery Store</td>\n",
              "      <td>OUT010</td>\n",
              "      <td>Fruits and Vegetables</td>\n",
              "      <td>Regular</td>\n",
              "    </tr>\n",
              "    <tr>\n",
              "      <th>4</th>\n",
              "      <td>8.93</td>\n",
              "      <td>0.000000</td>\n",
              "      <td>53.8614</td>\n",
              "      <td>1987</td>\n",
              "      <td>Large</td>\n",
              "      <td>Supermarket Type1</td>\n",
              "      <td>OUT013</td>\n",
              "      <td>Household</td>\n",
              "      <td>Low Fat</td>\n",
              "    </tr>\n",
              "  </tbody>\n",
              "</table>\n",
              "</div>\n",
              "      <button class=\"colab-df-convert\" onclick=\"convertToInteractive('df-87af7248-06a2-4aa3-9b7c-6f5d4ff9757f')\"\n",
              "              title=\"Convert this dataframe to an interactive table.\"\n",
              "              style=\"display:none;\">\n",
              "        \n",
              "  <svg xmlns=\"http://www.w3.org/2000/svg\" height=\"24px\"viewBox=\"0 0 24 24\"\n",
              "       width=\"24px\">\n",
              "    <path d=\"M0 0h24v24H0V0z\" fill=\"none\"/>\n",
              "    <path d=\"M18.56 5.44l.94 2.06.94-2.06 2.06-.94-2.06-.94-.94-2.06-.94 2.06-2.06.94zm-11 1L8.5 8.5l.94-2.06 2.06-.94-2.06-.94L8.5 2.5l-.94 2.06-2.06.94zm10 10l.94 2.06.94-2.06 2.06-.94-2.06-.94-.94-2.06-.94 2.06-2.06.94z\"/><path d=\"M17.41 7.96l-1.37-1.37c-.4-.4-.92-.59-1.43-.59-.52 0-1.04.2-1.43.59L10.3 9.45l-7.72 7.72c-.78.78-.78 2.05 0 2.83L4 21.41c.39.39.9.59 1.41.59.51 0 1.02-.2 1.41-.59l7.78-7.78 2.81-2.81c.8-.78.8-2.07 0-2.86zM5.41 20L4 18.59l7.72-7.72 1.47 1.35L5.41 20z\"/>\n",
              "  </svg>\n",
              "      </button>\n",
              "      \n",
              "  <style>\n",
              "    .colab-df-container {\n",
              "      display:flex;\n",
              "      flex-wrap:wrap;\n",
              "      gap: 12px;\n",
              "    }\n",
              "\n",
              "    .colab-df-convert {\n",
              "      background-color: #E8F0FE;\n",
              "      border: none;\n",
              "      border-radius: 50%;\n",
              "      cursor: pointer;\n",
              "      display: none;\n",
              "      fill: #1967D2;\n",
              "      height: 32px;\n",
              "      padding: 0 0 0 0;\n",
              "      width: 32px;\n",
              "    }\n",
              "\n",
              "    .colab-df-convert:hover {\n",
              "      background-color: #E2EBFA;\n",
              "      box-shadow: 0px 1px 2px rgba(60, 64, 67, 0.3), 0px 1px 3px 1px rgba(60, 64, 67, 0.15);\n",
              "      fill: #174EA6;\n",
              "    }\n",
              "\n",
              "    [theme=dark] .colab-df-convert {\n",
              "      background-color: #3B4455;\n",
              "      fill: #D2E3FC;\n",
              "    }\n",
              "\n",
              "    [theme=dark] .colab-df-convert:hover {\n",
              "      background-color: #434B5C;\n",
              "      box-shadow: 0px 1px 3px 1px rgba(0, 0, 0, 0.15);\n",
              "      filter: drop-shadow(0px 1px 2px rgba(0, 0, 0, 0.3));\n",
              "      fill: #FFFFFF;\n",
              "    }\n",
              "  </style>\n",
              "\n",
              "      <script>\n",
              "        const buttonEl =\n",
              "          document.querySelector('#df-87af7248-06a2-4aa3-9b7c-6f5d4ff9757f button.colab-df-convert');\n",
              "        buttonEl.style.display =\n",
              "          google.colab.kernel.accessAllowed ? 'block' : 'none';\n",
              "\n",
              "        async function convertToInteractive(key) {\n",
              "          const element = document.querySelector('#df-87af7248-06a2-4aa3-9b7c-6f5d4ff9757f');\n",
              "          const dataTable =\n",
              "            await google.colab.kernel.invokeFunction('convertToInteractive',\n",
              "                                                     [key], {});\n",
              "          if (!dataTable) return;\n",
              "\n",
              "          const docLinkHtml = 'Like what you see? Visit the ' +\n",
              "            '<a target=\"_blank\" href=https://colab.research.google.com/notebooks/data_table.ipynb>data table notebook</a>'\n",
              "            + ' to learn more about interactive tables.';\n",
              "          element.innerHTML = '';\n",
              "          dataTable['output_type'] = 'display_data';\n",
              "          await google.colab.output.renderOutput(dataTable, element);\n",
              "          const docLink = document.createElement('div');\n",
              "          docLink.innerHTML = docLinkHtml;\n",
              "          element.appendChild(docLink);\n",
              "        }\n",
              "      </script>\n",
              "    </div>\n",
              "  </div>\n",
              "  "
            ]
          },
          "metadata": {},
          "execution_count": 26
        }
      ]
    },
    {
      "cell_type": "markdown",
      "source": [
        "### Lets split the data now to avoid any data leaks"
      ],
      "metadata": {
        "id": "gB-EnvMGCqZS"
      }
    },
    {
      "cell_type": "code",
      "source": [
        "X_train, X_valid, y_train, y_valid = train_test_split(X, y, random_state=1)"
      ],
      "metadata": {
        "id": "RPxmaCFKB45v"
      },
      "execution_count": 27,
      "outputs": []
    },
    {
      "cell_type": "markdown",
      "source": [
        "### Now lets convert the objects into numbers for the model to use"
      ],
      "metadata": {
        "id": "hNpM8hjiAlG_"
      }
    },
    {
      "cell_type": "code",
      "source": [
        "ord_enc = OrdinalEncoder()\n",
        "X_train[ordinal_encoded_features] = ord_enc.fit_transform(X_train[ordinal_encoded_features],y_train)\n",
        "X_valid[ordinal_encoded_features] = ord_enc.transform(X_valid[ordinal_encoded_features])\n",
        "X_train.head()"
      ],
      "metadata": {
        "colab": {
          "base_uri": "https://localhost:8080/",
          "height": 206
        },
        "id": "Of5GIj3PA_6U",
        "outputId": "3f252b47-0d58-49ce-8fde-76fd07635158"
      },
      "execution_count": 28,
      "outputs": [
        {
          "output_type": "execute_result",
          "data": {
            "text/plain": [
              "      Item_Weight  Item_Visibility  Item_MRP  Outlet_Establishment_Year  \\\n",
              "6613     8.630000         0.032961  115.0518                       1999   \n",
              "3895    20.100000         0.000000   61.3536                       1998   \n",
              "5894    12.817344         0.000000   98.2042                       1985   \n",
              "5726    21.100000         0.000000  233.2958                       2009   \n",
              "1771    13.500000         0.021496  180.5976                       1997   \n",
              "\n",
              "      Outlet_Size  Outlet_Type  Outlet_Identifier  Item_Type  Item_Fat_Content  \n",
              "6613          1.0          1.0                9.0       13.0               1.0  \n",
              "3895          3.0          0.0                0.0        8.0               0.0  \n",
              "5894          2.0          0.0                4.0       10.0               1.0  \n",
              "5726          1.0          2.0                3.0        9.0               0.0  \n",
              "1771          2.0          1.0                8.0        6.0               0.0  "
            ],
            "text/html": [
              "\n",
              "  <div id=\"df-7180ad3e-8031-4b41-9c57-d8badb508259\">\n",
              "    <div class=\"colab-df-container\">\n",
              "      <div>\n",
              "<style scoped>\n",
              "    .dataframe tbody tr th:only-of-type {\n",
              "        vertical-align: middle;\n",
              "    }\n",
              "\n",
              "    .dataframe tbody tr th {\n",
              "        vertical-align: top;\n",
              "    }\n",
              "\n",
              "    .dataframe thead th {\n",
              "        text-align: right;\n",
              "    }\n",
              "</style>\n",
              "<table border=\"1\" class=\"dataframe\">\n",
              "  <thead>\n",
              "    <tr style=\"text-align: right;\">\n",
              "      <th></th>\n",
              "      <th>Item_Weight</th>\n",
              "      <th>Item_Visibility</th>\n",
              "      <th>Item_MRP</th>\n",
              "      <th>Outlet_Establishment_Year</th>\n",
              "      <th>Outlet_Size</th>\n",
              "      <th>Outlet_Type</th>\n",
              "      <th>Outlet_Identifier</th>\n",
              "      <th>Item_Type</th>\n",
              "      <th>Item_Fat_Content</th>\n",
              "    </tr>\n",
              "  </thead>\n",
              "  <tbody>\n",
              "    <tr>\n",
              "      <th>6613</th>\n",
              "      <td>8.630000</td>\n",
              "      <td>0.032961</td>\n",
              "      <td>115.0518</td>\n",
              "      <td>1999</td>\n",
              "      <td>1.0</td>\n",
              "      <td>1.0</td>\n",
              "      <td>9.0</td>\n",
              "      <td>13.0</td>\n",
              "      <td>1.0</td>\n",
              "    </tr>\n",
              "    <tr>\n",
              "      <th>3895</th>\n",
              "      <td>20.100000</td>\n",
              "      <td>0.000000</td>\n",
              "      <td>61.3536</td>\n",
              "      <td>1998</td>\n",
              "      <td>3.0</td>\n",
              "      <td>0.0</td>\n",
              "      <td>0.0</td>\n",
              "      <td>8.0</td>\n",
              "      <td>0.0</td>\n",
              "    </tr>\n",
              "    <tr>\n",
              "      <th>5894</th>\n",
              "      <td>12.817344</td>\n",
              "      <td>0.000000</td>\n",
              "      <td>98.2042</td>\n",
              "      <td>1985</td>\n",
              "      <td>2.0</td>\n",
              "      <td>0.0</td>\n",
              "      <td>4.0</td>\n",
              "      <td>10.0</td>\n",
              "      <td>1.0</td>\n",
              "    </tr>\n",
              "    <tr>\n",
              "      <th>5726</th>\n",
              "      <td>21.100000</td>\n",
              "      <td>0.000000</td>\n",
              "      <td>233.2958</td>\n",
              "      <td>2009</td>\n",
              "      <td>1.0</td>\n",
              "      <td>2.0</td>\n",
              "      <td>3.0</td>\n",
              "      <td>9.0</td>\n",
              "      <td>0.0</td>\n",
              "    </tr>\n",
              "    <tr>\n",
              "      <th>1771</th>\n",
              "      <td>13.500000</td>\n",
              "      <td>0.021496</td>\n",
              "      <td>180.5976</td>\n",
              "      <td>1997</td>\n",
              "      <td>2.0</td>\n",
              "      <td>1.0</td>\n",
              "      <td>8.0</td>\n",
              "      <td>6.0</td>\n",
              "      <td>0.0</td>\n",
              "    </tr>\n",
              "  </tbody>\n",
              "</table>\n",
              "</div>\n",
              "      <button class=\"colab-df-convert\" onclick=\"convertToInteractive('df-7180ad3e-8031-4b41-9c57-d8badb508259')\"\n",
              "              title=\"Convert this dataframe to an interactive table.\"\n",
              "              style=\"display:none;\">\n",
              "        \n",
              "  <svg xmlns=\"http://www.w3.org/2000/svg\" height=\"24px\"viewBox=\"0 0 24 24\"\n",
              "       width=\"24px\">\n",
              "    <path d=\"M0 0h24v24H0V0z\" fill=\"none\"/>\n",
              "    <path d=\"M18.56 5.44l.94 2.06.94-2.06 2.06-.94-2.06-.94-.94-2.06-.94 2.06-2.06.94zm-11 1L8.5 8.5l.94-2.06 2.06-.94-2.06-.94L8.5 2.5l-.94 2.06-2.06.94zm10 10l.94 2.06.94-2.06 2.06-.94-2.06-.94-.94-2.06-.94 2.06-2.06.94z\"/><path d=\"M17.41 7.96l-1.37-1.37c-.4-.4-.92-.59-1.43-.59-.52 0-1.04.2-1.43.59L10.3 9.45l-7.72 7.72c-.78.78-.78 2.05 0 2.83L4 21.41c.39.39.9.59 1.41.59.51 0 1.02-.2 1.41-.59l7.78-7.78 2.81-2.81c.8-.78.8-2.07 0-2.86zM5.41 20L4 18.59l7.72-7.72 1.47 1.35L5.41 20z\"/>\n",
              "  </svg>\n",
              "      </button>\n",
              "      \n",
              "  <style>\n",
              "    .colab-df-container {\n",
              "      display:flex;\n",
              "      flex-wrap:wrap;\n",
              "      gap: 12px;\n",
              "    }\n",
              "\n",
              "    .colab-df-convert {\n",
              "      background-color: #E8F0FE;\n",
              "      border: none;\n",
              "      border-radius: 50%;\n",
              "      cursor: pointer;\n",
              "      display: none;\n",
              "      fill: #1967D2;\n",
              "      height: 32px;\n",
              "      padding: 0 0 0 0;\n",
              "      width: 32px;\n",
              "    }\n",
              "\n",
              "    .colab-df-convert:hover {\n",
              "      background-color: #E2EBFA;\n",
              "      box-shadow: 0px 1px 2px rgba(60, 64, 67, 0.3), 0px 1px 3px 1px rgba(60, 64, 67, 0.15);\n",
              "      fill: #174EA6;\n",
              "    }\n",
              "\n",
              "    [theme=dark] .colab-df-convert {\n",
              "      background-color: #3B4455;\n",
              "      fill: #D2E3FC;\n",
              "    }\n",
              "\n",
              "    [theme=dark] .colab-df-convert:hover {\n",
              "      background-color: #434B5C;\n",
              "      box-shadow: 0px 1px 3px 1px rgba(0, 0, 0, 0.15);\n",
              "      filter: drop-shadow(0px 1px 2px rgba(0, 0, 0, 0.3));\n",
              "      fill: #FFFFFF;\n",
              "    }\n",
              "  </style>\n",
              "\n",
              "      <script>\n",
              "        const buttonEl =\n",
              "          document.querySelector('#df-7180ad3e-8031-4b41-9c57-d8badb508259 button.colab-df-convert');\n",
              "        buttonEl.style.display =\n",
              "          google.colab.kernel.accessAllowed ? 'block' : 'none';\n",
              "\n",
              "        async function convertToInteractive(key) {\n",
              "          const element = document.querySelector('#df-7180ad3e-8031-4b41-9c57-d8badb508259');\n",
              "          const dataTable =\n",
              "            await google.colab.kernel.invokeFunction('convertToInteractive',\n",
              "                                                     [key], {});\n",
              "          if (!dataTable) return;\n",
              "\n",
              "          const docLinkHtml = 'Like what you see? Visit the ' +\n",
              "            '<a target=\"_blank\" href=https://colab.research.google.com/notebooks/data_table.ipynb>data table notebook</a>'\n",
              "            + ' to learn more about interactive tables.';\n",
              "          element.innerHTML = '';\n",
              "          dataTable['output_type'] = 'display_data';\n",
              "          await google.colab.output.renderOutput(dataTable, element);\n",
              "          const docLink = document.createElement('div');\n",
              "          docLink.innerHTML = docLinkHtml;\n",
              "          element.appendChild(docLink);\n",
              "        }\n",
              "      </script>\n",
              "    </div>\n",
              "  </div>\n",
              "  "
            ]
          },
          "metadata": {},
          "execution_count": 28
        }
      ]
    },
    {
      "cell_type": "markdown",
      "source": [
        "### Lets make and train the model now"
      ],
      "metadata": {
        "id": "tCZZOtEzDTQU"
      }
    },
    {
      "cell_type": "code",
      "source": [
        "model = RandomForestRegressor(random_state=1) # random state is so that testing can be measured reliably\n",
        "\n",
        "model.fit(X_train,y_train)"
      ],
      "metadata": {
        "colab": {
          "base_uri": "https://localhost:8080/"
        },
        "id": "q7bfSsVIDehE",
        "outputId": "f4890f77-f473-4c77-b7ca-ca2ff42210a9"
      },
      "execution_count": 29,
      "outputs": [
        {
          "output_type": "execute_result",
          "data": {
            "text/plain": [
              "RandomForestRegressor(random_state=1)"
            ]
          },
          "metadata": {},
          "execution_count": 29
        }
      ]
    },
    {
      "cell_type": "markdown",
      "source": [
        "### We need a way to test the effectiveness of the model"
      ],
      "metadata": {
        "id": "ulHLzkmoD4P8"
      }
    },
    {
      "cell_type": "code",
      "source": [
        "def get_MAE(model,X,y):\n",
        "  return mean_absolute_error(model.predict(X),y)\n",
        "\n",
        "def get_percent(model,X,y):\n",
        "  return 1-(get_MAE(model,X,y)/y.mean())\n",
        "def print_stats(model,X,y):\n",
        "  print(\"The MAE for this model is {:.2f}\".format(get_MAE(model,X,y)))\n",
        "  print(\"The accuracy for this model is {:%}\".format(get_percent(model,X,y)))\n",
        "\n",
        "print_stats(model,X_valid,y_valid)"
      ],
      "metadata": {
        "colab": {
          "base_uri": "https://localhost:8080/"
        },
        "id": "M7mbQsQqD-Av",
        "outputId": "dc5b31fa-31e2-462b-9116-1aacdb421ddf"
      },
      "execution_count": 30,
      "outputs": [
        {
          "output_type": "stream",
          "name": "stdout",
          "text": [
            "The MAE for this model is 744.32\n",
            "The accuracy for this model is 63.953409%\n"
          ]
        }
      ]
    },
    {
      "cell_type": "markdown",
      "source": [
        "### Well thats *slightly* better than flipping a coin... Lets try to improve this model a bit. We can start by defining the number of estimators."
      ],
      "metadata": {
        "id": "MKau1kZdGeJJ"
      }
    },
    {
      "cell_type": "code",
      "source": [
        "results = {}\n",
        "for i in range(1,7):\n",
        "  test_model = RandomForestRegressor(n_estimators=i*50,random_state=1)\n",
        "  test_model.fit(X_train,y_train)\n",
        "  results[i*50] = get_MAE(test_model,X_valid,y_valid)\n",
        "  print(f\"{i*50}:\")\n",
        "  print_stats(test_model,X_valid,y_valid)"
      ],
      "metadata": {
        "colab": {
          "base_uri": "https://localhost:8080/"
        },
        "id": "UKDDDJEIHFmH",
        "outputId": "aa0abc5f-c2b6-4919-b2af-f7e591916d99"
      },
      "execution_count": 31,
      "outputs": [
        {
          "output_type": "stream",
          "name": "stdout",
          "text": [
            "50:\n",
            "The MAE for this model is 743.92\n",
            "The accuracy for this model is 63.972851%\n",
            "100:\n",
            "The MAE for this model is 744.32\n",
            "The accuracy for this model is 63.953409%\n",
            "150:\n",
            "The MAE for this model is 743.67\n",
            "The accuracy for this model is 63.984932%\n",
            "200:\n",
            "The MAE for this model is 742.69\n",
            "The accuracy for this model is 64.032610%\n",
            "250:\n",
            "The MAE for this model is 741.80\n",
            "The accuracy for this model is 64.075361%\n",
            "300:\n",
            "The MAE for this model is 741.77\n",
            "The accuracy for this model is 64.077056%\n"
          ]
        }
      ]
    },
    {
      "cell_type": "code",
      "source": [
        "plt.plot([*results.keys()],[*results.values()] )\n",
        "plt.gca().invert_yaxis()\n",
        "plt.show()"
      ],
      "metadata": {
        "colab": {
          "base_uri": "https://localhost:8080/",
          "height": 265
        },
        "id": "QnRADrG9WejV",
        "outputId": "bfe80c8a-b4ed-4c2b-c5d3-a81e5de67516"
      },
      "execution_count": 32,
      "outputs": [
        {
          "output_type": "display_data",
          "data": {
            "text/plain": [
              "<Figure size 432x288 with 1 Axes>"
            ],
            "image/png": "[encoded data removed]"
          },
          "metadata": {
            "needs_background": "light"
          }
        }
      ]
    },
    {
      "cell_type": "markdown",
      "source": [
        "### This isn't helping by much (less than 1% difference), so we should consider using a different algorithm, Lets try a Gradient Boosting Algorithm."
      ],
      "metadata": {
        "id": "UC70Y0Eo78wv"
      }
    },
    {
      "cell_type": "code",
      "source": [
        "from xgboost.sklearn import XGBRegressor"
      ],
      "metadata": {
        "id": "BDb2m2zL8cmA"
      },
      "execution_count": 33,
      "outputs": []
    },
    {
      "cell_type": "code",
      "source": [
        "model2 = XGBRegressor(n_estimators = 2000,\n",
        "                     learning_rate=0.005,\n",
        "                     early_stopping_rounds = 10,\n",
        "                     random_state= 1)\n",
        "\n",
        "model2.fit(X_train,y_train,\n",
        "          eval_set= [(X_valid, y_valid)],\n",
        "          verbose = False)\n",
        "\n",
        "print_stats(model2,X_valid,y_valid)"
      ],
      "metadata": {
        "colab": {
          "base_uri": "https://localhost:8080/"
        },
        "id": "qWxktNw69GOh",
        "outputId": "7fc521fa-eb9f-4b50-ffd3-f55fc3383297"
      },
      "execution_count": 34,
      "outputs": [
        {
          "output_type": "stream",
          "name": "stdout",
          "text": [
            "[14:48:51] WARNING: /workspace/src/objective/regression_obj.cu:152: reg:linear is now deprecated in favor of reg:squarederror.\n",
            "The MAE for this model is 706.50\n",
            "The accuracy for this model is 65.784921%\n"
          ]
        }
      ]
    },
    {
      "cell_type": "markdown",
      "source": [
        "### There is some improvement, however still not enough to accurately predict sales, so lets create a deep nueral network."
      ],
      "metadata": {
        "id": "aP0k8a0yq7ua"
      }
    },
    {
      "cell_type": "code",
      "source": [
        "import tensorflow as tf\n",
        "from tensorflow import keras\n",
        "from tensorflow.keras import layers, callbacks"
      ],
      "metadata": {
        "id": "jG4YZMubrKE5"
      },
      "execution_count": 35,
      "outputs": []
    },
    {
      "cell_type": "code",
      "source": [
        "model3 = keras.Sequential([\n",
        "    layers.BatchNormalization(input_shape = [X_train.shape[1]]),\n",
        "    layers.Dense(256,activation=\"relu\"),\n",
        "    layers.Dropout(0.3),\n",
        "    layers.BatchNormalization(),\n",
        "    layers.Dense(256,activation=\"relu\"),\n",
        "    layers.Dropout(0.3),\n",
        "    layers.Dense(1)\n",
        "])\n",
        "early_stopping = callbacks.EarlyStopping(\n",
        "    min_delta = 0.001,\n",
        "    patience = 20,\n",
        "    restore_best_weights = True\n",
        ")"
      ],
      "metadata": {
        "id": "vbJGb4t_r79C"
      },
      "execution_count": 36,
      "outputs": []
    },
    {
      "cell_type": "code",
      "source": [
        "model3.compile(\n",
        "    optimizer=\"adam\",\n",
        "    loss=\"mae\",\n",
        "    metrics=['mae'],\n",
        ")\n",
        "history = model3.fit(\n",
        "    X_train, y_train,\n",
        "    validation_data=(X_valid, y_valid),\n",
        "    batch_size=128,\n",
        "    callbacks=[early_stopping],\n",
        "    epochs=100,\n",
        "    verbose=0,\n",
        ")\n",
        "history_df = pd.DataFrame(history.history)\n",
        "history_df['val_loss'].plot()\n",
        "best_results = history_df['val_loss'].min()\n",
        "print(\"Minimum Validation Loss: {:0.4f}\".format(best_results))\n",
        "print(\"Highest Accuracy: {:0.4%}\".format(1-(best_results/df['Item_Outlet_Sales'].mean())))"
      ],
      "metadata": {
        "colab": {
          "base_uri": "https://localhost:8080/",
          "height": 300
        },
        "id": "4x8GceUVtz35",
        "outputId": "a26d0fe4-aef8-4e6e-b4b1-1680ee93968c"
      },
      "execution_count": 37,
      "outputs": [
        {
          "output_type": "stream",
          "name": "stdout",
          "text": [
            "Minimum Validation Loss: 699.5413\n",
            "Highest Accuracy: 66.0312%\n"
          ]
        },
        {
          "output_type": "display_data",
          "data": {
            "text/plain": [
              "<Figure size 432x288 with 1 Axes>"
            ],
            "image/png": "[encoded data removed]"
          },
          "metadata": {
            "needs_background": "light"
          }
        }
      ]
    },
    {
      "cell_type": "markdown",
      "source": [
        "### Again we are improving, but not by enough to be useful. We need to improve our data. Lets try using GridSearchCV!"
      ],
      "metadata": {
        "id": "8JGMTyWhpo5d"
      }
    },
    {
      "cell_type": "code",
      "source": [
        "from sklearn.model_selection import GridSearchCV"
      ],
      "metadata": {
        "id": "L91voMzXp_Ew"
      },
      "execution_count": 38,
      "outputs": []
    },
    {
      "cell_type": "markdown",
      "source": [
        "### Lets start by using grid search on our RandomForestRegressor"
      ],
      "metadata": {
        "id": "aAH3NE7tqa5D"
      }
    },
    {
      "cell_type": "code",
      "source": [
        "param_grid = {\n",
        "    \"n_estimators\": [x for x in range(100,251,50)],\n",
        "    \"max_features\": [1.0,\"sqrt\",\"log2\"],\n",
        "    \"min_weight_fraction_leaf\": [0.0, 0.1, 0.01],\n",
        "}\n",
        "\n",
        "\n",
        "grid_search = GridSearchCV( estimator = RandomForestRegressor(),\n",
        "                            param_grid = param_grid,\n",
        "                            scoring = \"neg_mean_absolute_error\",\n",
        "                            n_jobs = 4,\n",
        "                            verbose = 2)"
      ],
      "metadata": {
        "id": "qbUzAb4sqwf8"
      },
      "execution_count": 39,
      "outputs": []
    },
    {
      "cell_type": "code",
      "source": [
        "grid_search.fit(X_train, y_train)"
      ],
      "metadata": {
        "colab": {
          "base_uri": "https://localhost:8080/"
        },
        "id": "ALj0GFGtMy7b",
        "outputId": "91bc5600-9773-455e-bd09-8b7ab652e5ac"
      },
      "execution_count": 40,
      "outputs": [
        {
          "output_type": "stream",
          "name": "stdout",
          "text": [
            "Fitting 5 folds for each of 36 candidates, totalling 180 fits\n"
          ]
        },
        {
          "output_type": "execute_result",
          "data": {
            "text/plain": [
              "GridSearchCV(estimator=RandomForestRegressor(), n_jobs=4,\n",
              "             param_grid={'max_features': [1.0, 'sqrt', 'log2'],\n",
              "                         'min_weight_fraction_leaf': [0.0, 0.1, 0.01],\n",
              "                         'n_estimators': [100, 150, 200, 250]},\n",
              "             scoring='neg_mean_absolute_error', verbose=2)"
            ]
          },
          "metadata": {},
          "execution_count": 40
        }
      ]
    },
    {
      "cell_type": "code",
      "source": [
        "print_stats(grid_search,X_valid,y_valid)"
      ],
      "metadata": {
        "id": "5CCaKHXmVv0c",
        "colab": {
          "base_uri": "https://localhost:8080/"
        },
        "outputId": "dee794d2-cca6-44d3-eeeb-86f7ea9bc82b"
      },
      "execution_count": 41,
      "outputs": [
        {
          "output_type": "stream",
          "name": "stdout",
          "text": [
            "The MAE for this model is 701.75\n",
            "The accuracy for this model is 66.015313%\n"
          ]
        }
      ]
    },
    {
      "cell_type": "code",
      "source": [
        "grid_search.best_params_"
      ],
      "metadata": {
        "id": "qUux68lCdgaU",
        "colab": {
          "base_uri": "https://localhost:8080/"
        },
        "outputId": "9b6a2500-9c59-42e4-d007-6fc60f027e1b"
      },
      "execution_count": 42,
      "outputs": [
        {
          "output_type": "execute_result",
          "data": {
            "text/plain": [
              "{'max_features': 1.0, 'min_weight_fraction_leaf': 0.01, 'n_estimators': 200}"
            ]
          },
          "metadata": {},
          "execution_count": 42
        }
      ]
    }
  ]
}