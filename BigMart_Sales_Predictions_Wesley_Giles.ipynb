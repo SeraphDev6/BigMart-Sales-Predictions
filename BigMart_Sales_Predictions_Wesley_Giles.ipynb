{
  "nbformat": 4,
  "nbformat_minor": 0,
  "metadata": {
    "colab": {
      "name": "BigMart Sales Predictions Wesley Giles.ipynb",
      "provenance": [],
      "toc_visible": true,
      "mount_file_id": "13JhrGt9QQBEJp2uz4eT-TPPCYXxq1gfJ",
      "authorship_tag": "ABX9TyOXsDGAvKeuFtcvYyXzbtZu",
      "include_colab_link": true
    },
    "kernelspec": {
      "name": "python3",
      "display_name": "Python 3"
    },
    "language_info": {
      "name": "python"
    }
  },
  "cells": [
    {
      "cell_type": "markdown",
      "metadata": {
        "id": "view-in-github",
        "colab_type": "text"
      },
      "source": [
        "<a href=\"https://colab.research.google.com/github/SeraphDev6/BigMart-Sales-Predictions/blob/main/BigMart_Sales_Predictions_Wesley_Giles.ipynb\" target=\"_parent\"><img src=\"https://colab.research.google.com/assets/colab-badge.svg\" alt=\"Open In Colab\"/></a>"
      ]
    },
    {
      "cell_type": "code",
      "execution_count": null,
      "metadata": {
        "id": "MuNRU-rfzF9l"
      },
      "outputs": [],
      "source": [
        "import pandas as pd\n"
      ]
    }
  ]
}